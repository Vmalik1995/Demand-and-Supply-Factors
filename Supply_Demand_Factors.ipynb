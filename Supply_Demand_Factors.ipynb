{
  "nbformat": 4,
  "nbformat_minor": 0,
  "metadata": {
    "colab": {
      "provenance": [],
      "authorship_tag": "ABX9TyNG8CKlDBmnEJaAc7Px9tfs",
      "include_colab_link": true
    },
    "kernelspec": {
      "name": "python3",
      "display_name": "Python 3"
    },
    "language_info": {
      "name": "python"
    }
  },
  "cells": [
    {
      "cell_type": "markdown",
      "metadata": {
        "id": "view-in-github",
        "colab_type": "text"
      },
      "source": [
        "<a href=\"https://colab.research.google.com/github/Vmalik1995/Demand-and-Supply-Factors/blob/main/Supply_Demand_Factors.ipynb\" target=\"_parent\"><img src=\"https://colab.research.google.com/assets/colab-badge.svg\" alt=\"Open In Colab\"/></a>"
      ]
    },
    {
      "cell_type": "markdown",
      "source": [
        "# Demand and Supply Factors that have affected US House Prices in the last 20years."
      ],
      "metadata": {
        "id": "8OgCo3qhFB8H"
      }
    },
    {
      "cell_type": "code",
      "execution_count": 172,
      "metadata": {
        "id": "Ae2EIDaGuFQM"
      },
      "outputs": [],
      "source": [
        "!pip install plotly opendatasets  seaborn --quiet --upgrade"
      ]
    },
    {
      "cell_type": "code",
      "source": [
        "import numpy as np\n",
        "import pandas as pd\n",
        "import plotly.express as px\n",
        "import seaborn as sns\n",
        "import matplotlib.pyplot as plt"
      ],
      "metadata": {
        "id": "p9Z8TfXWvVkK"
      },
      "execution_count": 173,
      "outputs": []
    },
    {
      "cell_type": "code",
      "source": [
        "import opendatasets as od"
      ],
      "metadata": {
        "id": "80dJL-O_v6gy"
      },
      "execution_count": 174,
      "outputs": []
    },
    {
      "cell_type": "code",
      "source": [
        "demand_url = 'https://www.kaggle.com/datasets/utkarshx27/factors-influence-house-price-in-us?select=demand.csv'"
      ],
      "metadata": {
        "id": "UpKnHOU7v9Xz"
      },
      "execution_count": 175,
      "outputs": []
    },
    {
      "cell_type": "code",
      "source": [
        "supply_url = 'https://www.kaggle.com/datasets/utkarshx27/factors-influence-house-price-in-us?select=supply.csv'"
      ],
      "metadata": {
        "id": "VyxNh4Zlw3g-"
      },
      "execution_count": 176,
      "outputs": []
    },
    {
      "cell_type": "code",
      "source": [
        "od.download(demand_url)"
      ],
      "metadata": {
        "colab": {
          "base_uri": "https://localhost:8080/"
        },
        "id": "o6ifQ_evxBjA",
        "outputId": "2a7e2973-3556-4f57-d62b-16cbd75acecb"
      },
      "execution_count": 177,
      "outputs": [
        {
          "output_type": "stream",
          "name": "stdout",
          "text": [
            "Skipping, found downloaded files in \"./factors-influence-house-price-in-us\" (use force=True to force download)\n"
          ]
        }
      ]
    },
    {
      "cell_type": "code",
      "source": [
        "!ls -lh factors-influence-house-price-in-us"
      ],
      "metadata": {
        "colab": {
          "base_uri": "https://localhost:8080/"
        },
        "id": "5YtfIio1xFPg",
        "outputId": "fbfc0d13-dac3-47db-a3ae-8cd0ae738c54"
      },
      "execution_count": 178,
      "outputs": [
        {
          "output_type": "stream",
          "name": "stdout",
          "text": [
            "total 16K\n",
            "-rw-r--r-- 1 root root 5.3K Jun  6 16:18 demand.csv\n",
            "-rw-r--r-- 1 root root 4.7K Jun  6 16:18 supply.csv\n"
          ]
        }
      ]
    },
    {
      "cell_type": "code",
      "source": [
        "demand_df = pd.read_csv('factors-influence-house-price-in-us/demand.csv')"
      ],
      "metadata": {
        "id": "pDpjx557x0g3"
      },
      "execution_count": 179,
      "outputs": []
    },
    {
      "cell_type": "code",
      "source": [
        "demand_df"
      ],
      "metadata": {
        "colab": {
          "base_uri": "https://localhost:8080/",
          "height": 424
        },
        "id": "_K53UMOGx9gf",
        "outputId": "d55cacb8-47ef-49a8-b09b-fc3ba22b15de"
      },
      "execution_count": 180,
      "outputs": [
        {
          "output_type": "execute_result",
          "data": {
            "text/plain": [
              "          DATE   CSUSHPISA  MORTGAGE30US    UMCSENT  INTDSRUSM193N   MSPUS  \\\n",
              "0   01-01-2003  129.321000      5.840769  79.966667       2.250000  186000   \n",
              "1   01-04-2003  131.756000      5.506923  89.266667       2.166667  191800   \n",
              "2   01-07-2003  135.013000      6.033846  89.300000       2.000000  191900   \n",
              "3   01-10-2003  138.835667      5.919286  91.966667       2.000000  198800   \n",
              "4   01-01-2004  143.298667      5.597500  98.000000       2.000000  212700   \n",
              "..         ...         ...           ...        ...            ...     ...   \n",
              "76  01-01-2022  290.868000      3.822308  63.133333            NaN  433100   \n",
              "77  01-04-2022  303.422667      5.266154  57.866667            NaN  449300   \n",
              "78  01-07-2022  301.726333      5.623077  56.100000            NaN  468000   \n",
              "79  01-10-2022  297.896667      6.664615  58.800000            NaN  479500   \n",
              "80  01-01-2023         NaN      6.372308  64.633333            NaN  436800   \n",
              "\n",
              "          GDP  \n",
              "0   11174.129  \n",
              "1   11312.766  \n",
              "2   11566.669  \n",
              "3   11772.234  \n",
              "4   11923.447  \n",
              "..        ...  \n",
              "76  24740.480  \n",
              "77  25248.476  \n",
              "78  25723.941  \n",
              "79  26137.992  \n",
              "80  26465.865  \n",
              "\n",
              "[81 rows x 7 columns]"
            ],
            "text/html": [
              "\n",
              "  <div id=\"df-5d507b42-7a00-4688-a1b8-c20621539975\">\n",
              "    <div class=\"colab-df-container\">\n",
              "      <div>\n",
              "<style scoped>\n",
              "    .dataframe tbody tr th:only-of-type {\n",
              "        vertical-align: middle;\n",
              "    }\n",
              "\n",
              "    .dataframe tbody tr th {\n",
              "        vertical-align: top;\n",
              "    }\n",
              "\n",
              "    .dataframe thead th {\n",
              "        text-align: right;\n",
              "    }\n",
              "</style>\n",
              "<table border=\"1\" class=\"dataframe\">\n",
              "  <thead>\n",
              "    <tr style=\"text-align: right;\">\n",
              "      <th></th>\n",
              "      <th>DATE</th>\n",
              "      <th>CSUSHPISA</th>\n",
              "      <th>MORTGAGE30US</th>\n",
              "      <th>UMCSENT</th>\n",
              "      <th>INTDSRUSM193N</th>\n",
              "      <th>MSPUS</th>\n",
              "      <th>GDP</th>\n",
              "    </tr>\n",
              "  </thead>\n",
              "  <tbody>\n",
              "    <tr>\n",
              "      <th>0</th>\n",
              "      <td>01-01-2003</td>\n",
              "      <td>129.321000</td>\n",
              "      <td>5.840769</td>\n",
              "      <td>79.966667</td>\n",
              "      <td>2.250000</td>\n",
              "      <td>186000</td>\n",
              "      <td>11174.129</td>\n",
              "    </tr>\n",
              "    <tr>\n",
              "      <th>1</th>\n",
              "      <td>01-04-2003</td>\n",
              "      <td>131.756000</td>\n",
              "      <td>5.506923</td>\n",
              "      <td>89.266667</td>\n",
              "      <td>2.166667</td>\n",
              "      <td>191800</td>\n",
              "      <td>11312.766</td>\n",
              "    </tr>\n",
              "    <tr>\n",
              "      <th>2</th>\n",
              "      <td>01-07-2003</td>\n",
              "      <td>135.013000</td>\n",
              "      <td>6.033846</td>\n",
              "      <td>89.300000</td>\n",
              "      <td>2.000000</td>\n",
              "      <td>191900</td>\n",
              "      <td>11566.669</td>\n",
              "    </tr>\n",
              "    <tr>\n",
              "      <th>3</th>\n",
              "      <td>01-10-2003</td>\n",
              "      <td>138.835667</td>\n",
              "      <td>5.919286</td>\n",
              "      <td>91.966667</td>\n",
              "      <td>2.000000</td>\n",
              "      <td>198800</td>\n",
              "      <td>11772.234</td>\n",
              "    </tr>\n",
              "    <tr>\n",
              "      <th>4</th>\n",
              "      <td>01-01-2004</td>\n",
              "      <td>143.298667</td>\n",
              "      <td>5.597500</td>\n",
              "      <td>98.000000</td>\n",
              "      <td>2.000000</td>\n",
              "      <td>212700</td>\n",
              "      <td>11923.447</td>\n",
              "    </tr>\n",
              "    <tr>\n",
              "      <th>...</th>\n",
              "      <td>...</td>\n",
              "      <td>...</td>\n",
              "      <td>...</td>\n",
              "      <td>...</td>\n",
              "      <td>...</td>\n",
              "      <td>...</td>\n",
              "      <td>...</td>\n",
              "    </tr>\n",
              "    <tr>\n",
              "      <th>76</th>\n",
              "      <td>01-01-2022</td>\n",
              "      <td>290.868000</td>\n",
              "      <td>3.822308</td>\n",
              "      <td>63.133333</td>\n",
              "      <td>NaN</td>\n",
              "      <td>433100</td>\n",
              "      <td>24740.480</td>\n",
              "    </tr>\n",
              "    <tr>\n",
              "      <th>77</th>\n",
              "      <td>01-04-2022</td>\n",
              "      <td>303.422667</td>\n",
              "      <td>5.266154</td>\n",
              "      <td>57.866667</td>\n",
              "      <td>NaN</td>\n",
              "      <td>449300</td>\n",
              "      <td>25248.476</td>\n",
              "    </tr>\n",
              "    <tr>\n",
              "      <th>78</th>\n",
              "      <td>01-07-2022</td>\n",
              "      <td>301.726333</td>\n",
              "      <td>5.623077</td>\n",
              "      <td>56.100000</td>\n",
              "      <td>NaN</td>\n",
              "      <td>468000</td>\n",
              "      <td>25723.941</td>\n",
              "    </tr>\n",
              "    <tr>\n",
              "      <th>79</th>\n",
              "      <td>01-10-2022</td>\n",
              "      <td>297.896667</td>\n",
              "      <td>6.664615</td>\n",
              "      <td>58.800000</td>\n",
              "      <td>NaN</td>\n",
              "      <td>479500</td>\n",
              "      <td>26137.992</td>\n",
              "    </tr>\n",
              "    <tr>\n",
              "      <th>80</th>\n",
              "      <td>01-01-2023</td>\n",
              "      <td>NaN</td>\n",
              "      <td>6.372308</td>\n",
              "      <td>64.633333</td>\n",
              "      <td>NaN</td>\n",
              "      <td>436800</td>\n",
              "      <td>26465.865</td>\n",
              "    </tr>\n",
              "  </tbody>\n",
              "</table>\n",
              "<p>81 rows × 7 columns</p>\n",
              "</div>\n",
              "      <button class=\"colab-df-convert\" onclick=\"convertToInteractive('df-5d507b42-7a00-4688-a1b8-c20621539975')\"\n",
              "              title=\"Convert this dataframe to an interactive table.\"\n",
              "              style=\"display:none;\">\n",
              "        \n",
              "  <svg xmlns=\"http://www.w3.org/2000/svg\" height=\"24px\"viewBox=\"0 0 24 24\"\n",
              "       width=\"24px\">\n",
              "    <path d=\"M0 0h24v24H0V0z\" fill=\"none\"/>\n",
              "    <path d=\"M18.56 5.44l.94 2.06.94-2.06 2.06-.94-2.06-.94-.94-2.06-.94 2.06-2.06.94zm-11 1L8.5 8.5l.94-2.06 2.06-.94-2.06-.94L8.5 2.5l-.94 2.06-2.06.94zm10 10l.94 2.06.94-2.06 2.06-.94-2.06-.94-.94-2.06-.94 2.06-2.06.94z\"/><path d=\"M17.41 7.96l-1.37-1.37c-.4-.4-.92-.59-1.43-.59-.52 0-1.04.2-1.43.59L10.3 9.45l-7.72 7.72c-.78.78-.78 2.05 0 2.83L4 21.41c.39.39.9.59 1.41.59.51 0 1.02-.2 1.41-.59l7.78-7.78 2.81-2.81c.8-.78.8-2.07 0-2.86zM5.41 20L4 18.59l7.72-7.72 1.47 1.35L5.41 20z\"/>\n",
              "  </svg>\n",
              "      </button>\n",
              "      \n",
              "  <style>\n",
              "    .colab-df-container {\n",
              "      display:flex;\n",
              "      flex-wrap:wrap;\n",
              "      gap: 12px;\n",
              "    }\n",
              "\n",
              "    .colab-df-convert {\n",
              "      background-color: #E8F0FE;\n",
              "      border: none;\n",
              "      border-radius: 50%;\n",
              "      cursor: pointer;\n",
              "      display: none;\n",
              "      fill: #1967D2;\n",
              "      height: 32px;\n",
              "      padding: 0 0 0 0;\n",
              "      width: 32px;\n",
              "    }\n",
              "\n",
              "    .colab-df-convert:hover {\n",
              "      background-color: #E2EBFA;\n",
              "      box-shadow: 0px 1px 2px rgba(60, 64, 67, 0.3), 0px 1px 3px 1px rgba(60, 64, 67, 0.15);\n",
              "      fill: #174EA6;\n",
              "    }\n",
              "\n",
              "    [theme=dark] .colab-df-convert {\n",
              "      background-color: #3B4455;\n",
              "      fill: #D2E3FC;\n",
              "    }\n",
              "\n",
              "    [theme=dark] .colab-df-convert:hover {\n",
              "      background-color: #434B5C;\n",
              "      box-shadow: 0px 1px 3px 1px rgba(0, 0, 0, 0.15);\n",
              "      filter: drop-shadow(0px 1px 2px rgba(0, 0, 0, 0.3));\n",
              "      fill: #FFFFFF;\n",
              "    }\n",
              "  </style>\n",
              "\n",
              "      <script>\n",
              "        const buttonEl =\n",
              "          document.querySelector('#df-5d507b42-7a00-4688-a1b8-c20621539975 button.colab-df-convert');\n",
              "        buttonEl.style.display =\n",
              "          google.colab.kernel.accessAllowed ? 'block' : 'none';\n",
              "\n",
              "        async function convertToInteractive(key) {\n",
              "          const element = document.querySelector('#df-5d507b42-7a00-4688-a1b8-c20621539975');\n",
              "          const dataTable =\n",
              "            await google.colab.kernel.invokeFunction('convertToInteractive',\n",
              "                                                     [key], {});\n",
              "          if (!dataTable) return;\n",
              "\n",
              "          const docLinkHtml = 'Like what you see? Visit the ' +\n",
              "            '<a target=\"_blank\" href=https://colab.research.google.com/notebooks/data_table.ipynb>data table notebook</a>'\n",
              "            + ' to learn more about interactive tables.';\n",
              "          element.innerHTML = '';\n",
              "          dataTable['output_type'] = 'display_data';\n",
              "          await google.colab.output.renderOutput(dataTable, element);\n",
              "          const docLink = document.createElement('div');\n",
              "          docLink.innerHTML = docLinkHtml;\n",
              "          element.appendChild(docLink);\n",
              "        }\n",
              "      </script>\n",
              "    </div>\n",
              "  </div>\n",
              "  "
            ]
          },
          "metadata": {},
          "execution_count": 180
        }
      ]
    },
    {
      "cell_type": "code",
      "source": [
        "demand_df.rename(columns = {'INTDSRUSM193N': 'InterestRates',\n",
        "                            'MORTGAGE30US': 'MortgageRate',\n",
        "                            'MSPUS': 'MedianSalePrice',\n",
        "                            'UMCSENT': 'CustSentiment'}, inplace = True)"
      ],
      "metadata": {
        "id": "93VjuykOHs1e"
      },
      "execution_count": 181,
      "outputs": []
    },
    {
      "cell_type": "code",
      "source": [
        "demand_df.info()"
      ],
      "metadata": {
        "colab": {
          "base_uri": "https://localhost:8080/"
        },
        "id": "NzpH_wXSx_Kn",
        "outputId": "0b476366-4d7f-444e-b174-4d0662dc9115"
      },
      "execution_count": 182,
      "outputs": [
        {
          "output_type": "stream",
          "name": "stdout",
          "text": [
            "<class 'pandas.core.frame.DataFrame'>\n",
            "RangeIndex: 81 entries, 0 to 80\n",
            "Data columns (total 7 columns):\n",
            " #   Column           Non-Null Count  Dtype  \n",
            "---  ------           --------------  -----  \n",
            " 0   DATE             81 non-null     object \n",
            " 1   CSUSHPISA        80 non-null     float64\n",
            " 2   MortgageRate     81 non-null     float64\n",
            " 3   CustSentiment    81 non-null     float64\n",
            " 4   InterestRates    74 non-null     float64\n",
            " 5   MedianSalePrice  81 non-null     int64  \n",
            " 6   GDP              81 non-null     float64\n",
            "dtypes: float64(5), int64(1), object(1)\n",
            "memory usage: 4.6+ KB\n"
          ]
        }
      ]
    },
    {
      "cell_type": "code",
      "source": [
        "demand_df.describe()"
      ],
      "metadata": {
        "colab": {
          "base_uri": "https://localhost:8080/",
          "height": 300
        },
        "id": "w3LzCTnoyLEO",
        "outputId": "75117b82-964c-4001-e13f-99bc48b96f03"
      },
      "execution_count": 183,
      "outputs": [
        {
          "output_type": "execute_result",
          "data": {
            "text/plain": [
              "        CSUSHPISA  MortgageRate  CustSentiment  InterestRates  \\\n",
              "count   80.000000     81.000000      81.000000      74.000000   \n",
              "mean   180.658712      4.705420      82.149794       1.961712   \n",
              "std     41.410501      1.114588      12.408088       1.732885   \n",
              "min    129.321000      2.760714      56.100000       0.250000   \n",
              "25%    148.204500      3.822308      73.866667       0.750000   \n",
              "50%    172.270000      4.440000      82.966667       1.041667   \n",
              "75%    196.770917      5.768462      93.066667       2.562500   \n",
              "max    303.422667      6.664615      98.933333       6.250000   \n",
              "\n",
              "       MedianSalePrice           GDP  \n",
              "count        81.000000     81.000000  \n",
              "mean     281104.938272  17298.487852  \n",
              "std       68121.518078   3851.890323  \n",
              "min      186000.000000  11174.129000  \n",
              "25%      228100.000000  14448.882000  \n",
              "50%      258400.000000  16629.050000  \n",
              "75%      318400.000000  19894.750000  \n",
              "max      479500.000000  26465.865000  "
            ],
            "text/html": [
              "\n",
              "  <div id=\"df-bebecff9-bd7e-4ebc-a697-4285b47a1a04\">\n",
              "    <div class=\"colab-df-container\">\n",
              "      <div>\n",
              "<style scoped>\n",
              "    .dataframe tbody tr th:only-of-type {\n",
              "        vertical-align: middle;\n",
              "    }\n",
              "\n",
              "    .dataframe tbody tr th {\n",
              "        vertical-align: top;\n",
              "    }\n",
              "\n",
              "    .dataframe thead th {\n",
              "        text-align: right;\n",
              "    }\n",
              "</style>\n",
              "<table border=\"1\" class=\"dataframe\">\n",
              "  <thead>\n",
              "    <tr style=\"text-align: right;\">\n",
              "      <th></th>\n",
              "      <th>CSUSHPISA</th>\n",
              "      <th>MortgageRate</th>\n",
              "      <th>CustSentiment</th>\n",
              "      <th>InterestRates</th>\n",
              "      <th>MedianSalePrice</th>\n",
              "      <th>GDP</th>\n",
              "    </tr>\n",
              "  </thead>\n",
              "  <tbody>\n",
              "    <tr>\n",
              "      <th>count</th>\n",
              "      <td>80.000000</td>\n",
              "      <td>81.000000</td>\n",
              "      <td>81.000000</td>\n",
              "      <td>74.000000</td>\n",
              "      <td>81.000000</td>\n",
              "      <td>81.000000</td>\n",
              "    </tr>\n",
              "    <tr>\n",
              "      <th>mean</th>\n",
              "      <td>180.658712</td>\n",
              "      <td>4.705420</td>\n",
              "      <td>82.149794</td>\n",
              "      <td>1.961712</td>\n",
              "      <td>281104.938272</td>\n",
              "      <td>17298.487852</td>\n",
              "    </tr>\n",
              "    <tr>\n",
              "      <th>std</th>\n",
              "      <td>41.410501</td>\n",
              "      <td>1.114588</td>\n",
              "      <td>12.408088</td>\n",
              "      <td>1.732885</td>\n",
              "      <td>68121.518078</td>\n",
              "      <td>3851.890323</td>\n",
              "    </tr>\n",
              "    <tr>\n",
              "      <th>min</th>\n",
              "      <td>129.321000</td>\n",
              "      <td>2.760714</td>\n",
              "      <td>56.100000</td>\n",
              "      <td>0.250000</td>\n",
              "      <td>186000.000000</td>\n",
              "      <td>11174.129000</td>\n",
              "    </tr>\n",
              "    <tr>\n",
              "      <th>25%</th>\n",
              "      <td>148.204500</td>\n",
              "      <td>3.822308</td>\n",
              "      <td>73.866667</td>\n",
              "      <td>0.750000</td>\n",
              "      <td>228100.000000</td>\n",
              "      <td>14448.882000</td>\n",
              "    </tr>\n",
              "    <tr>\n",
              "      <th>50%</th>\n",
              "      <td>172.270000</td>\n",
              "      <td>4.440000</td>\n",
              "      <td>82.966667</td>\n",
              "      <td>1.041667</td>\n",
              "      <td>258400.000000</td>\n",
              "      <td>16629.050000</td>\n",
              "    </tr>\n",
              "    <tr>\n",
              "      <th>75%</th>\n",
              "      <td>196.770917</td>\n",
              "      <td>5.768462</td>\n",
              "      <td>93.066667</td>\n",
              "      <td>2.562500</td>\n",
              "      <td>318400.000000</td>\n",
              "      <td>19894.750000</td>\n",
              "    </tr>\n",
              "    <tr>\n",
              "      <th>max</th>\n",
              "      <td>303.422667</td>\n",
              "      <td>6.664615</td>\n",
              "      <td>98.933333</td>\n",
              "      <td>6.250000</td>\n",
              "      <td>479500.000000</td>\n",
              "      <td>26465.865000</td>\n",
              "    </tr>\n",
              "  </tbody>\n",
              "</table>\n",
              "</div>\n",
              "      <button class=\"colab-df-convert\" onclick=\"convertToInteractive('df-bebecff9-bd7e-4ebc-a697-4285b47a1a04')\"\n",
              "              title=\"Convert this dataframe to an interactive table.\"\n",
              "              style=\"display:none;\">\n",
              "        \n",
              "  <svg xmlns=\"http://www.w3.org/2000/svg\" height=\"24px\"viewBox=\"0 0 24 24\"\n",
              "       width=\"24px\">\n",
              "    <path d=\"M0 0h24v24H0V0z\" fill=\"none\"/>\n",
              "    <path d=\"M18.56 5.44l.94 2.06.94-2.06 2.06-.94-2.06-.94-.94-2.06-.94 2.06-2.06.94zm-11 1L8.5 8.5l.94-2.06 2.06-.94-2.06-.94L8.5 2.5l-.94 2.06-2.06.94zm10 10l.94 2.06.94-2.06 2.06-.94-2.06-.94-.94-2.06-.94 2.06-2.06.94z\"/><path d=\"M17.41 7.96l-1.37-1.37c-.4-.4-.92-.59-1.43-.59-.52 0-1.04.2-1.43.59L10.3 9.45l-7.72 7.72c-.78.78-.78 2.05 0 2.83L4 21.41c.39.39.9.59 1.41.59.51 0 1.02-.2 1.41-.59l7.78-7.78 2.81-2.81c.8-.78.8-2.07 0-2.86zM5.41 20L4 18.59l7.72-7.72 1.47 1.35L5.41 20z\"/>\n",
              "  </svg>\n",
              "      </button>\n",
              "      \n",
              "  <style>\n",
              "    .colab-df-container {\n",
              "      display:flex;\n",
              "      flex-wrap:wrap;\n",
              "      gap: 12px;\n",
              "    }\n",
              "\n",
              "    .colab-df-convert {\n",
              "      background-color: #E8F0FE;\n",
              "      border: none;\n",
              "      border-radius: 50%;\n",
              "      cursor: pointer;\n",
              "      display: none;\n",
              "      fill: #1967D2;\n",
              "      height: 32px;\n",
              "      padding: 0 0 0 0;\n",
              "      width: 32px;\n",
              "    }\n",
              "\n",
              "    .colab-df-convert:hover {\n",
              "      background-color: #E2EBFA;\n",
              "      box-shadow: 0px 1px 2px rgba(60, 64, 67, 0.3), 0px 1px 3px 1px rgba(60, 64, 67, 0.15);\n",
              "      fill: #174EA6;\n",
              "    }\n",
              "\n",
              "    [theme=dark] .colab-df-convert {\n",
              "      background-color: #3B4455;\n",
              "      fill: #D2E3FC;\n",
              "    }\n",
              "\n",
              "    [theme=dark] .colab-df-convert:hover {\n",
              "      background-color: #434B5C;\n",
              "      box-shadow: 0px 1px 3px 1px rgba(0, 0, 0, 0.15);\n",
              "      filter: drop-shadow(0px 1px 2px rgba(0, 0, 0, 0.3));\n",
              "      fill: #FFFFFF;\n",
              "    }\n",
              "  </style>\n",
              "\n",
              "      <script>\n",
              "        const buttonEl =\n",
              "          document.querySelector('#df-bebecff9-bd7e-4ebc-a697-4285b47a1a04 button.colab-df-convert');\n",
              "        buttonEl.style.display =\n",
              "          google.colab.kernel.accessAllowed ? 'block' : 'none';\n",
              "\n",
              "        async function convertToInteractive(key) {\n",
              "          const element = document.querySelector('#df-bebecff9-bd7e-4ebc-a697-4285b47a1a04');\n",
              "          const dataTable =\n",
              "            await google.colab.kernel.invokeFunction('convertToInteractive',\n",
              "                                                     [key], {});\n",
              "          if (!dataTable) return;\n",
              "\n",
              "          const docLinkHtml = 'Like what you see? Visit the ' +\n",
              "            '<a target=\"_blank\" href=https://colab.research.google.com/notebooks/data_table.ipynb>data table notebook</a>'\n",
              "            + ' to learn more about interactive tables.';\n",
              "          element.innerHTML = '';\n",
              "          dataTable['output_type'] = 'display_data';\n",
              "          await google.colab.output.renderOutput(dataTable, element);\n",
              "          const docLink = document.createElement('div');\n",
              "          docLink.innerHTML = docLinkHtml;\n",
              "          element.appendChild(docLink);\n",
              "        }\n",
              "      </script>\n",
              "    </div>\n",
              "  </div>\n",
              "  "
            ]
          },
          "metadata": {},
          "execution_count": 183
        }
      ]
    },
    {
      "cell_type": "code",
      "source": [
        "px.bar(demand_df,\n",
        "       x= 'DATE',\n",
        "       y='CSUSHPISA',\n",
        "       title = 'Quarterly House Prices since 1 JAN 2003 for last 20 years')"
      ],
      "metadata": {
        "colab": {
          "base_uri": "https://localhost:8080/",
          "height": 542
        },
        "id": "zn9fL1Hc8X8a",
        "outputId": "4ec3910f-a374-4b4f-a593-8bb199a9b17a"
      },
      "execution_count": 184,
      "outputs": [
        {
          "output_type": "display_data",
          "data": {
            "text/html": [
              "<html>\n",
              "<head><meta charset=\"utf-8\" /></head>\n",
              "<body>\n",
              "    <div>            <script src=\"https://cdnjs.cloudflare.com/ajax/libs/mathjax/2.7.5/MathJax.js?config=TeX-AMS-MML_SVG\"></script><script type=\"text/javascript\">if (window.MathJax && window.MathJax.Hub && window.MathJax.Hub.Config) {window.MathJax.Hub.Config({SVG: {font: \"STIX-Web\"}});}</script>                <script type=\"text/javascript\">window.PlotlyConfig = {MathJaxConfig: 'local'};</script>\n",
              "        <script charset=\"utf-8\" src=\"https://cdn.plot.ly/plotly-2.20.0.min.js\"></script>                <div id=\"d7fbd0ba-5405-449f-8231-061a4f55e7fb\" class=\"plotly-graph-div\" style=\"height:525px; width:100%;\"></div>            <script type=\"text/javascript\">                                    window.PLOTLYENV=window.PLOTLYENV || {};                                    if (document.getElementById(\"d7fbd0ba-5405-449f-8231-061a4f55e7fb\")) {                    Plotly.newPlot(                        \"d7fbd0ba-5405-449f-8231-061a4f55e7fb\",                        [{\"alignmentgroup\":\"True\",\"hovertemplate\":\"DATE=%{x}<br>CSUSHPISA=%{y}<extra></extra>\",\"legendgroup\":\"\",\"marker\":{\"color\":\"#636efa\",\"pattern\":{\"shape\":\"\"}},\"name\":\"\",\"offsetgroup\":\"\",\"orientation\":\"v\",\"showlegend\":false,\"textposition\":\"auto\",\"x\":[\"01-01-2003\",\"01-04-2003\",\"01-07-2003\",\"01-10-2003\",\"01-01-2004\",\"01-04-2004\",\"01-07-2004\",\"01-10-2004\",\"01-01-2005\",\"01-04-2005\",\"01-07-2005\",\"01-10-2005\",\"01-01-2006\",\"01-04-2006\",\"01-07-2006\",\"01-10-2006\",\"01-01-2007\",\"01-04-2007\",\"01-07-2007\",\"01-10-2007\",\"01-01-2008\",\"01-04-2008\",\"01-07-2008\",\"01-10-2008\",\"01-01-2009\",\"01-04-2009\",\"01-07-2009\",\"01-10-2009\",\"01-01-2010\",\"01-04-2010\",\"01-07-2010\",\"01-10-2010\",\"01-01-2011\",\"01-04-2011\",\"01-07-2011\",\"01-10-2011\",\"01-01-2012\",\"01-04-2012\",\"01-07-2012\",\"01-10-2012\",\"01-01-2013\",\"01-04-2013\",\"01-07-2013\",\"01-10-2013\",\"01-01-2014\",\"01-04-2014\",\"01-07-2014\",\"01-10-2014\",\"01-01-2015\",\"01-04-2015\",\"01-07-2015\",\"01-10-2015\",\"01-01-2016\",\"01-04-2016\",\"01-07-2016\",\"01-10-2016\",\"01-01-2017\",\"01-04-2017\",\"01-07-2017\",\"01-10-2017\",\"01-01-2018\",\"01-04-2018\",\"01-07-2018\",\"01-10-2018\",\"01-01-2019\",\"01-04-2019\",\"01-07-2019\",\"01-10-2019\",\"01-01-2020\",\"01-04-2020\",\"01-07-2020\",\"01-10-2020\",\"01-01-2021\",\"01-04-2021\",\"01-07-2021\",\"01-10-2021\",\"01-01-2022\",\"01-04-2022\",\"01-07-2022\",\"01-10-2022\",\"01-01-2023\"],\"xaxis\":\"x\",\"y\":[129.321,131.756,135.013,138.8356667,143.2986667,148.209,152.7166667,157.5353333,163.4813333,169.3473333,174.58,179.5393333,183.3243333,183.9973333,182.8193333,183.6493333,184.422,181.6213333,178.2613333,175.37,171.5756667,166.6723333,161.9543333,156.0286667,150.06,147.9113333,148.237,147.97,146.295,146.1713333,143.973,142.254,140.618,139.9243333,139.2346667,137.2596667,137.0143333,140.1133333,142.2863333,144.5626667,148.191,152.8543333,156.9313333,160.1023333,162.5143333,163.705,165.2326667,167.3446667,169.1906667,170.8803333,172.9643333,175.695,177.7003333,179.422,181.8356667,184.747,187.3716667,189.6213333,192.6373333,195.9763333,199.1546667,201.4513333,203.6866667,205.6396667,206.772,208.1416667,210.162,212.806,215.638,217.239,222.6413333,233.09,242.267,253.814,266.831,277.317,290.868,303.4226667,301.7263333,297.8966667,null],\"yaxis\":\"y\",\"type\":\"bar\"}],                        {\"template\":{\"data\":{\"histogram2dcontour\":[{\"type\":\"histogram2dcontour\",\"colorbar\":{\"outlinewidth\":0,\"ticks\":\"\"},\"colorscale\":[[0.0,\"#0d0887\"],[0.1111111111111111,\"#46039f\"],[0.2222222222222222,\"#7201a8\"],[0.3333333333333333,\"#9c179e\"],[0.4444444444444444,\"#bd3786\"],[0.5555555555555556,\"#d8576b\"],[0.6666666666666666,\"#ed7953\"],[0.7777777777777778,\"#fb9f3a\"],[0.8888888888888888,\"#fdca26\"],[1.0,\"#f0f921\"]]}],\"choropleth\":[{\"type\":\"choropleth\",\"colorbar\":{\"outlinewidth\":0,\"ticks\":\"\"}}],\"histogram2d\":[{\"type\":\"histogram2d\",\"colorbar\":{\"outlinewidth\":0,\"ticks\":\"\"},\"colorscale\":[[0.0,\"#0d0887\"],[0.1111111111111111,\"#46039f\"],[0.2222222222222222,\"#7201a8\"],[0.3333333333333333,\"#9c179e\"],[0.4444444444444444,\"#bd3786\"],[0.5555555555555556,\"#d8576b\"],[0.6666666666666666,\"#ed7953\"],[0.7777777777777778,\"#fb9f3a\"],[0.8888888888888888,\"#fdca26\"],[1.0,\"#f0f921\"]]}],\"heatmap\":[{\"type\":\"heatmap\",\"colorbar\":{\"outlinewidth\":0,\"ticks\":\"\"},\"colorscale\":[[0.0,\"#0d0887\"],[0.1111111111111111,\"#46039f\"],[0.2222222222222222,\"#7201a8\"],[0.3333333333333333,\"#9c179e\"],[0.4444444444444444,\"#bd3786\"],[0.5555555555555556,\"#d8576b\"],[0.6666666666666666,\"#ed7953\"],[0.7777777777777778,\"#fb9f3a\"],[0.8888888888888888,\"#fdca26\"],[1.0,\"#f0f921\"]]}],\"heatmapgl\":[{\"type\":\"heatmapgl\",\"colorbar\":{\"outlinewidth\":0,\"ticks\":\"\"},\"colorscale\":[[0.0,\"#0d0887\"],[0.1111111111111111,\"#46039f\"],[0.2222222222222222,\"#7201a8\"],[0.3333333333333333,\"#9c179e\"],[0.4444444444444444,\"#bd3786\"],[0.5555555555555556,\"#d8576b\"],[0.6666666666666666,\"#ed7953\"],[0.7777777777777778,\"#fb9f3a\"],[0.8888888888888888,\"#fdca26\"],[1.0,\"#f0f921\"]]}],\"contourcarpet\":[{\"type\":\"contourcarpet\",\"colorbar\":{\"outlinewidth\":0,\"ticks\":\"\"}}],\"contour\":[{\"type\":\"contour\",\"colorbar\":{\"outlinewidth\":0,\"ticks\":\"\"},\"colorscale\":[[0.0,\"#0d0887\"],[0.1111111111111111,\"#46039f\"],[0.2222222222222222,\"#7201a8\"],[0.3333333333333333,\"#9c179e\"],[0.4444444444444444,\"#bd3786\"],[0.5555555555555556,\"#d8576b\"],[0.6666666666666666,\"#ed7953\"],[0.7777777777777778,\"#fb9f3a\"],[0.8888888888888888,\"#fdca26\"],[1.0,\"#f0f921\"]]}],\"surface\":[{\"type\":\"surface\",\"colorbar\":{\"outlinewidth\":0,\"ticks\":\"\"},\"colorscale\":[[0.0,\"#0d0887\"],[0.1111111111111111,\"#46039f\"],[0.2222222222222222,\"#7201a8\"],[0.3333333333333333,\"#9c179e\"],[0.4444444444444444,\"#bd3786\"],[0.5555555555555556,\"#d8576b\"],[0.6666666666666666,\"#ed7953\"],[0.7777777777777778,\"#fb9f3a\"],[0.8888888888888888,\"#fdca26\"],[1.0,\"#f0f921\"]]}],\"mesh3d\":[{\"type\":\"mesh3d\",\"colorbar\":{\"outlinewidth\":0,\"ticks\":\"\"}}],\"scatter\":[{\"fillpattern\":{\"fillmode\":\"overlay\",\"size\":10,\"solidity\":0.2},\"type\":\"scatter\"}],\"parcoords\":[{\"type\":\"parcoords\",\"line\":{\"colorbar\":{\"outlinewidth\":0,\"ticks\":\"\"}}}],\"scatterpolargl\":[{\"type\":\"scatterpolargl\",\"marker\":{\"colorbar\":{\"outlinewidth\":0,\"ticks\":\"\"}}}],\"bar\":[{\"error_x\":{\"color\":\"#2a3f5f\"},\"error_y\":{\"color\":\"#2a3f5f\"},\"marker\":{\"line\":{\"color\":\"#E5ECF6\",\"width\":0.5},\"pattern\":{\"fillmode\":\"overlay\",\"size\":10,\"solidity\":0.2}},\"type\":\"bar\"}],\"scattergeo\":[{\"type\":\"scattergeo\",\"marker\":{\"colorbar\":{\"outlinewidth\":0,\"ticks\":\"\"}}}],\"scatterpolar\":[{\"type\":\"scatterpolar\",\"marker\":{\"colorbar\":{\"outlinewidth\":0,\"ticks\":\"\"}}}],\"histogram\":[{\"marker\":{\"pattern\":{\"fillmode\":\"overlay\",\"size\":10,\"solidity\":0.2}},\"type\":\"histogram\"}],\"scattergl\":[{\"type\":\"scattergl\",\"marker\":{\"colorbar\":{\"outlinewidth\":0,\"ticks\":\"\"}}}],\"scatter3d\":[{\"type\":\"scatter3d\",\"line\":{\"colorbar\":{\"outlinewidth\":0,\"ticks\":\"\"}},\"marker\":{\"colorbar\":{\"outlinewidth\":0,\"ticks\":\"\"}}}],\"scattermapbox\":[{\"type\":\"scattermapbox\",\"marker\":{\"colorbar\":{\"outlinewidth\":0,\"ticks\":\"\"}}}],\"scatterternary\":[{\"type\":\"scatterternary\",\"marker\":{\"colorbar\":{\"outlinewidth\":0,\"ticks\":\"\"}}}],\"scattercarpet\":[{\"type\":\"scattercarpet\",\"marker\":{\"colorbar\":{\"outlinewidth\":0,\"ticks\":\"\"}}}],\"carpet\":[{\"aaxis\":{\"endlinecolor\":\"#2a3f5f\",\"gridcolor\":\"white\",\"linecolor\":\"white\",\"minorgridcolor\":\"white\",\"startlinecolor\":\"#2a3f5f\"},\"baxis\":{\"endlinecolor\":\"#2a3f5f\",\"gridcolor\":\"white\",\"linecolor\":\"white\",\"minorgridcolor\":\"white\",\"startlinecolor\":\"#2a3f5f\"},\"type\":\"carpet\"}],\"table\":[{\"cells\":{\"fill\":{\"color\":\"#EBF0F8\"},\"line\":{\"color\":\"white\"}},\"header\":{\"fill\":{\"color\":\"#C8D4E3\"},\"line\":{\"color\":\"white\"}},\"type\":\"table\"}],\"barpolar\":[{\"marker\":{\"line\":{\"color\":\"#E5ECF6\",\"width\":0.5},\"pattern\":{\"fillmode\":\"overlay\",\"size\":10,\"solidity\":0.2}},\"type\":\"barpolar\"}],\"pie\":[{\"automargin\":true,\"type\":\"pie\"}]},\"layout\":{\"autotypenumbers\":\"strict\",\"colorway\":[\"#636efa\",\"#EF553B\",\"#00cc96\",\"#ab63fa\",\"#FFA15A\",\"#19d3f3\",\"#FF6692\",\"#B6E880\",\"#FF97FF\",\"#FECB52\"],\"font\":{\"color\":\"#2a3f5f\"},\"hovermode\":\"closest\",\"hoverlabel\":{\"align\":\"left\"},\"paper_bgcolor\":\"white\",\"plot_bgcolor\":\"#E5ECF6\",\"polar\":{\"bgcolor\":\"#E5ECF6\",\"angularaxis\":{\"gridcolor\":\"white\",\"linecolor\":\"white\",\"ticks\":\"\"},\"radialaxis\":{\"gridcolor\":\"white\",\"linecolor\":\"white\",\"ticks\":\"\"}},\"ternary\":{\"bgcolor\":\"#E5ECF6\",\"aaxis\":{\"gridcolor\":\"white\",\"linecolor\":\"white\",\"ticks\":\"\"},\"baxis\":{\"gridcolor\":\"white\",\"linecolor\":\"white\",\"ticks\":\"\"},\"caxis\":{\"gridcolor\":\"white\",\"linecolor\":\"white\",\"ticks\":\"\"}},\"coloraxis\":{\"colorbar\":{\"outlinewidth\":0,\"ticks\":\"\"}},\"colorscale\":{\"sequential\":[[0.0,\"#0d0887\"],[0.1111111111111111,\"#46039f\"],[0.2222222222222222,\"#7201a8\"],[0.3333333333333333,\"#9c179e\"],[0.4444444444444444,\"#bd3786\"],[0.5555555555555556,\"#d8576b\"],[0.6666666666666666,\"#ed7953\"],[0.7777777777777778,\"#fb9f3a\"],[0.8888888888888888,\"#fdca26\"],[1.0,\"#f0f921\"]],\"sequentialminus\":[[0.0,\"#0d0887\"],[0.1111111111111111,\"#46039f\"],[0.2222222222222222,\"#7201a8\"],[0.3333333333333333,\"#9c179e\"],[0.4444444444444444,\"#bd3786\"],[0.5555555555555556,\"#d8576b\"],[0.6666666666666666,\"#ed7953\"],[0.7777777777777778,\"#fb9f3a\"],[0.8888888888888888,\"#fdca26\"],[1.0,\"#f0f921\"]],\"diverging\":[[0,\"#8e0152\"],[0.1,\"#c51b7d\"],[0.2,\"#de77ae\"],[0.3,\"#f1b6da\"],[0.4,\"#fde0ef\"],[0.5,\"#f7f7f7\"],[0.6,\"#e6f5d0\"],[0.7,\"#b8e186\"],[0.8,\"#7fbc41\"],[0.9,\"#4d9221\"],[1,\"#276419\"]]},\"xaxis\":{\"gridcolor\":\"white\",\"linecolor\":\"white\",\"ticks\":\"\",\"title\":{\"standoff\":15},\"zerolinecolor\":\"white\",\"automargin\":true,\"zerolinewidth\":2},\"yaxis\":{\"gridcolor\":\"white\",\"linecolor\":\"white\",\"ticks\":\"\",\"title\":{\"standoff\":15},\"zerolinecolor\":\"white\",\"automargin\":true,\"zerolinewidth\":2},\"scene\":{\"xaxis\":{\"backgroundcolor\":\"#E5ECF6\",\"gridcolor\":\"white\",\"linecolor\":\"white\",\"showbackground\":true,\"ticks\":\"\",\"zerolinecolor\":\"white\",\"gridwidth\":2},\"yaxis\":{\"backgroundcolor\":\"#E5ECF6\",\"gridcolor\":\"white\",\"linecolor\":\"white\",\"showbackground\":true,\"ticks\":\"\",\"zerolinecolor\":\"white\",\"gridwidth\":2},\"zaxis\":{\"backgroundcolor\":\"#E5ECF6\",\"gridcolor\":\"white\",\"linecolor\":\"white\",\"showbackground\":true,\"ticks\":\"\",\"zerolinecolor\":\"white\",\"gridwidth\":2}},\"shapedefaults\":{\"line\":{\"color\":\"#2a3f5f\"}},\"annotationdefaults\":{\"arrowcolor\":\"#2a3f5f\",\"arrowhead\":0,\"arrowwidth\":1},\"geo\":{\"bgcolor\":\"white\",\"landcolor\":\"#E5ECF6\",\"subunitcolor\":\"white\",\"showland\":true,\"showlakes\":true,\"lakecolor\":\"white\"},\"title\":{\"x\":0.05},\"mapbox\":{\"style\":\"light\"}}},\"xaxis\":{\"anchor\":\"y\",\"domain\":[0.0,1.0],\"title\":{\"text\":\"DATE\"}},\"yaxis\":{\"anchor\":\"x\",\"domain\":[0.0,1.0],\"title\":{\"text\":\"CSUSHPISA\"}},\"legend\":{\"tracegroupgap\":0},\"title\":{\"text\":\"Quarterly House Prices since 1 JAN 2003 for last 20 years\"},\"barmode\":\"relative\"},                        {\"responsive\": true}                    ).then(function(){\n",
              "                            \n",
              "var gd = document.getElementById('d7fbd0ba-5405-449f-8231-061a4f55e7fb');\n",
              "var x = new MutationObserver(function (mutations, observer) {{\n",
              "        var display = window.getComputedStyle(gd).display;\n",
              "        if (!display || display === 'none') {{\n",
              "            console.log([gd, 'removed!']);\n",
              "            Plotly.purge(gd);\n",
              "            observer.disconnect();\n",
              "        }}\n",
              "}});\n",
              "\n",
              "// Listen for the removal of the full notebook cells\n",
              "var notebookContainer = gd.closest('#notebook-container');\n",
              "if (notebookContainer) {{\n",
              "    x.observe(notebookContainer, {childList: true});\n",
              "}}\n",
              "\n",
              "// Listen for the clearing of the current output cell\n",
              "var outputEl = gd.closest('.output');\n",
              "if (outputEl) {{\n",
              "    x.observe(outputEl, {childList: true});\n",
              "}}\n",
              "\n",
              "                        })                };                            </script>        </div>\n",
              "</body>\n",
              "</html>"
            ]
          },
          "metadata": {}
        }
      ]
    },
    {
      "cell_type": "code",
      "source": [
        "demand_df.DATE = pd.to_datetime(demand_df.DATE)\n",
        "demand_df['Date']= demand_df['DATE'].dt.strftime('%d-%m-%Y')"
      ],
      "metadata": {
        "id": "8YQ1noXO8iTg"
      },
      "execution_count": 185,
      "outputs": []
    },
    {
      "cell_type": "code",
      "source": [
        "demand_df.Date = pd.to_datetime(demand_df.Date)"
      ],
      "metadata": {
        "id": "7BJi91nlEpPj"
      },
      "execution_count": 186,
      "outputs": []
    },
    {
      "cell_type": "code",
      "source": [
        "demand_df['Month'] = demand_df['Date'].dt.month"
      ],
      "metadata": {
        "id": "9Cvm8uEk-A5J"
      },
      "execution_count": 187,
      "outputs": []
    },
    {
      "cell_type": "code",
      "source": [
        "demand_df['Day']= demand_df['Date'].dt.day"
      ],
      "metadata": {
        "id": "BrZ4OP-I_tsy"
      },
      "execution_count": 188,
      "outputs": []
    },
    {
      "cell_type": "code",
      "source": [
        "new_df = demand_df.drop(['DATE'], axis = 1)"
      ],
      "metadata": {
        "id": "DtUvMbeS_9r3"
      },
      "execution_count": 189,
      "outputs": []
    },
    {
      "cell_type": "code",
      "source": [
        "new_df"
      ],
      "metadata": {
        "colab": {
          "base_uri": "https://localhost:8080/",
          "height": 424
        },
        "id": "c6dZQbYAHzbh",
        "outputId": "3ce4262d-bc34-4963-cc17-f31169d43174"
      },
      "execution_count": 190,
      "outputs": [
        {
          "output_type": "execute_result",
          "data": {
            "text/plain": [
              "     CSUSHPISA  MortgageRate  CustSentiment  InterestRates  MedianSalePrice  \\\n",
              "0   129.321000      5.840769      79.966667       2.250000           186000   \n",
              "1   131.756000      5.506923      89.266667       2.166667           191800   \n",
              "2   135.013000      6.033846      89.300000       2.000000           191900   \n",
              "3   138.835667      5.919286      91.966667       2.000000           198800   \n",
              "4   143.298667      5.597500      98.000000       2.000000           212700   \n",
              "..         ...           ...            ...            ...              ...   \n",
              "76  290.868000      3.822308      63.133333            NaN           433100   \n",
              "77  303.422667      5.266154      57.866667            NaN           449300   \n",
              "78  301.726333      5.623077      56.100000            NaN           468000   \n",
              "79  297.896667      6.664615      58.800000            NaN           479500   \n",
              "80         NaN      6.372308      64.633333            NaN           436800   \n",
              "\n",
              "          GDP       Date  Month  Day  \n",
              "0   11174.129 2003-01-01      1    1  \n",
              "1   11312.766 2003-04-01      4    1  \n",
              "2   11566.669 2003-07-01      7    1  \n",
              "3   11772.234 2003-10-01     10    1  \n",
              "4   11923.447 2004-01-01      1    1  \n",
              "..        ...        ...    ...  ...  \n",
              "76  24740.480 2022-01-01      1    1  \n",
              "77  25248.476 2022-04-01      4    1  \n",
              "78  25723.941 2022-07-01      7    1  \n",
              "79  26137.992 2022-10-01     10    1  \n",
              "80  26465.865 2023-01-01      1    1  \n",
              "\n",
              "[81 rows x 9 columns]"
            ],
            "text/html": [
              "\n",
              "  <div id=\"df-43de0210-6484-456c-940a-fbd4c514d360\">\n",
              "    <div class=\"colab-df-container\">\n",
              "      <div>\n",
              "<style scoped>\n",
              "    .dataframe tbody tr th:only-of-type {\n",
              "        vertical-align: middle;\n",
              "    }\n",
              "\n",
              "    .dataframe tbody tr th {\n",
              "        vertical-align: top;\n",
              "    }\n",
              "\n",
              "    .dataframe thead th {\n",
              "        text-align: right;\n",
              "    }\n",
              "</style>\n",
              "<table border=\"1\" class=\"dataframe\">\n",
              "  <thead>\n",
              "    <tr style=\"text-align: right;\">\n",
              "      <th></th>\n",
              "      <th>CSUSHPISA</th>\n",
              "      <th>MortgageRate</th>\n",
              "      <th>CustSentiment</th>\n",
              "      <th>InterestRates</th>\n",
              "      <th>MedianSalePrice</th>\n",
              "      <th>GDP</th>\n",
              "      <th>Date</th>\n",
              "      <th>Month</th>\n",
              "      <th>Day</th>\n",
              "    </tr>\n",
              "  </thead>\n",
              "  <tbody>\n",
              "    <tr>\n",
              "      <th>0</th>\n",
              "      <td>129.321000</td>\n",
              "      <td>5.840769</td>\n",
              "      <td>79.966667</td>\n",
              "      <td>2.250000</td>\n",
              "      <td>186000</td>\n",
              "      <td>11174.129</td>\n",
              "      <td>2003-01-01</td>\n",
              "      <td>1</td>\n",
              "      <td>1</td>\n",
              "    </tr>\n",
              "    <tr>\n",
              "      <th>1</th>\n",
              "      <td>131.756000</td>\n",
              "      <td>5.506923</td>\n",
              "      <td>89.266667</td>\n",
              "      <td>2.166667</td>\n",
              "      <td>191800</td>\n",
              "      <td>11312.766</td>\n",
              "      <td>2003-04-01</td>\n",
              "      <td>4</td>\n",
              "      <td>1</td>\n",
              "    </tr>\n",
              "    <tr>\n",
              "      <th>2</th>\n",
              "      <td>135.013000</td>\n",
              "      <td>6.033846</td>\n",
              "      <td>89.300000</td>\n",
              "      <td>2.000000</td>\n",
              "      <td>191900</td>\n",
              "      <td>11566.669</td>\n",
              "      <td>2003-07-01</td>\n",
              "      <td>7</td>\n",
              "      <td>1</td>\n",
              "    </tr>\n",
              "    <tr>\n",
              "      <th>3</th>\n",
              "      <td>138.835667</td>\n",
              "      <td>5.919286</td>\n",
              "      <td>91.966667</td>\n",
              "      <td>2.000000</td>\n",
              "      <td>198800</td>\n",
              "      <td>11772.234</td>\n",
              "      <td>2003-10-01</td>\n",
              "      <td>10</td>\n",
              "      <td>1</td>\n",
              "    </tr>\n",
              "    <tr>\n",
              "      <th>4</th>\n",
              "      <td>143.298667</td>\n",
              "      <td>5.597500</td>\n",
              "      <td>98.000000</td>\n",
              "      <td>2.000000</td>\n",
              "      <td>212700</td>\n",
              "      <td>11923.447</td>\n",
              "      <td>2004-01-01</td>\n",
              "      <td>1</td>\n",
              "      <td>1</td>\n",
              "    </tr>\n",
              "    <tr>\n",
              "      <th>...</th>\n",
              "      <td>...</td>\n",
              "      <td>...</td>\n",
              "      <td>...</td>\n",
              "      <td>...</td>\n",
              "      <td>...</td>\n",
              "      <td>...</td>\n",
              "      <td>...</td>\n",
              "      <td>...</td>\n",
              "      <td>...</td>\n",
              "    </tr>\n",
              "    <tr>\n",
              "      <th>76</th>\n",
              "      <td>290.868000</td>\n",
              "      <td>3.822308</td>\n",
              "      <td>63.133333</td>\n",
              "      <td>NaN</td>\n",
              "      <td>433100</td>\n",
              "      <td>24740.480</td>\n",
              "      <td>2022-01-01</td>\n",
              "      <td>1</td>\n",
              "      <td>1</td>\n",
              "    </tr>\n",
              "    <tr>\n",
              "      <th>77</th>\n",
              "      <td>303.422667</td>\n",
              "      <td>5.266154</td>\n",
              "      <td>57.866667</td>\n",
              "      <td>NaN</td>\n",
              "      <td>449300</td>\n",
              "      <td>25248.476</td>\n",
              "      <td>2022-04-01</td>\n",
              "      <td>4</td>\n",
              "      <td>1</td>\n",
              "    </tr>\n",
              "    <tr>\n",
              "      <th>78</th>\n",
              "      <td>301.726333</td>\n",
              "      <td>5.623077</td>\n",
              "      <td>56.100000</td>\n",
              "      <td>NaN</td>\n",
              "      <td>468000</td>\n",
              "      <td>25723.941</td>\n",
              "      <td>2022-07-01</td>\n",
              "      <td>7</td>\n",
              "      <td>1</td>\n",
              "    </tr>\n",
              "    <tr>\n",
              "      <th>79</th>\n",
              "      <td>297.896667</td>\n",
              "      <td>6.664615</td>\n",
              "      <td>58.800000</td>\n",
              "      <td>NaN</td>\n",
              "      <td>479500</td>\n",
              "      <td>26137.992</td>\n",
              "      <td>2022-10-01</td>\n",
              "      <td>10</td>\n",
              "      <td>1</td>\n",
              "    </tr>\n",
              "    <tr>\n",
              "      <th>80</th>\n",
              "      <td>NaN</td>\n",
              "      <td>6.372308</td>\n",
              "      <td>64.633333</td>\n",
              "      <td>NaN</td>\n",
              "      <td>436800</td>\n",
              "      <td>26465.865</td>\n",
              "      <td>2023-01-01</td>\n",
              "      <td>1</td>\n",
              "      <td>1</td>\n",
              "    </tr>\n",
              "  </tbody>\n",
              "</table>\n",
              "<p>81 rows × 9 columns</p>\n",
              "</div>\n",
              "      <button class=\"colab-df-convert\" onclick=\"convertToInteractive('df-43de0210-6484-456c-940a-fbd4c514d360')\"\n",
              "              title=\"Convert this dataframe to an interactive table.\"\n",
              "              style=\"display:none;\">\n",
              "        \n",
              "  <svg xmlns=\"http://www.w3.org/2000/svg\" height=\"24px\"viewBox=\"0 0 24 24\"\n",
              "       width=\"24px\">\n",
              "    <path d=\"M0 0h24v24H0V0z\" fill=\"none\"/>\n",
              "    <path d=\"M18.56 5.44l.94 2.06.94-2.06 2.06-.94-2.06-.94-.94-2.06-.94 2.06-2.06.94zm-11 1L8.5 8.5l.94-2.06 2.06-.94-2.06-.94L8.5 2.5l-.94 2.06-2.06.94zm10 10l.94 2.06.94-2.06 2.06-.94-2.06-.94-.94-2.06-.94 2.06-2.06.94z\"/><path d=\"M17.41 7.96l-1.37-1.37c-.4-.4-.92-.59-1.43-.59-.52 0-1.04.2-1.43.59L10.3 9.45l-7.72 7.72c-.78.78-.78 2.05 0 2.83L4 21.41c.39.39.9.59 1.41.59.51 0 1.02-.2 1.41-.59l7.78-7.78 2.81-2.81c.8-.78.8-2.07 0-2.86zM5.41 20L4 18.59l7.72-7.72 1.47 1.35L5.41 20z\"/>\n",
              "  </svg>\n",
              "      </button>\n",
              "      \n",
              "  <style>\n",
              "    .colab-df-container {\n",
              "      display:flex;\n",
              "      flex-wrap:wrap;\n",
              "      gap: 12px;\n",
              "    }\n",
              "\n",
              "    .colab-df-convert {\n",
              "      background-color: #E8F0FE;\n",
              "      border: none;\n",
              "      border-radius: 50%;\n",
              "      cursor: pointer;\n",
              "      display: none;\n",
              "      fill: #1967D2;\n",
              "      height: 32px;\n",
              "      padding: 0 0 0 0;\n",
              "      width: 32px;\n",
              "    }\n",
              "\n",
              "    .colab-df-convert:hover {\n",
              "      background-color: #E2EBFA;\n",
              "      box-shadow: 0px 1px 2px rgba(60, 64, 67, 0.3), 0px 1px 3px 1px rgba(60, 64, 67, 0.15);\n",
              "      fill: #174EA6;\n",
              "    }\n",
              "\n",
              "    [theme=dark] .colab-df-convert {\n",
              "      background-color: #3B4455;\n",
              "      fill: #D2E3FC;\n",
              "    }\n",
              "\n",
              "    [theme=dark] .colab-df-convert:hover {\n",
              "      background-color: #434B5C;\n",
              "      box-shadow: 0px 1px 3px 1px rgba(0, 0, 0, 0.15);\n",
              "      filter: drop-shadow(0px 1px 2px rgba(0, 0, 0, 0.3));\n",
              "      fill: #FFFFFF;\n",
              "    }\n",
              "  </style>\n",
              "\n",
              "      <script>\n",
              "        const buttonEl =\n",
              "          document.querySelector('#df-43de0210-6484-456c-940a-fbd4c514d360 button.colab-df-convert');\n",
              "        buttonEl.style.display =\n",
              "          google.colab.kernel.accessAllowed ? 'block' : 'none';\n",
              "\n",
              "        async function convertToInteractive(key) {\n",
              "          const element = document.querySelector('#df-43de0210-6484-456c-940a-fbd4c514d360');\n",
              "          const dataTable =\n",
              "            await google.colab.kernel.invokeFunction('convertToInteractive',\n",
              "                                                     [key], {});\n",
              "          if (!dataTable) return;\n",
              "\n",
              "          const docLinkHtml = 'Like what you see? Visit the ' +\n",
              "            '<a target=\"_blank\" href=https://colab.research.google.com/notebooks/data_table.ipynb>data table notebook</a>'\n",
              "            + ' to learn more about interactive tables.';\n",
              "          element.innerHTML = '';\n",
              "          dataTable['output_type'] = 'display_data';\n",
              "          await google.colab.output.renderOutput(dataTable, element);\n",
              "          const docLink = document.createElement('div');\n",
              "          docLink.innerHTML = docLinkHtml;\n",
              "          element.appendChild(docLink);\n",
              "        }\n",
              "      </script>\n",
              "    </div>\n",
              "  </div>\n",
              "  "
            ]
          },
          "metadata": {},
          "execution_count": 190
        }
      ]
    },
    {
      "cell_type": "markdown",
      "source": [
        "# Demand factors and their relationship with House prices(index and median )"
      ],
      "metadata": {
        "id": "CzkuSYI8Vj_o"
      }
    },
    {
      "cell_type": "code",
      "source": [
        "px.scatter(new_df,\n",
        "               x='Date',\n",
        "               y='CSUSHPISA',\n",
        "           title='House Price(index) wrt date')"
      ],
      "metadata": {
        "colab": {
          "base_uri": "https://localhost:8080/",
          "height": 542
        },
        "id": "08LRWk_rITlc",
        "outputId": "e2bf898f-4af8-4005-f99b-eb2697b5ecb2"
      },
      "execution_count": 191,
      "outputs": [
        {
          "output_type": "display_data",
          "data": {
            "text/html": [
              "<html>\n",
              "<head><meta charset=\"utf-8\" /></head>\n",
              "<body>\n",
              "    <div>            <script src=\"https://cdnjs.cloudflare.com/ajax/libs/mathjax/2.7.5/MathJax.js?config=TeX-AMS-MML_SVG\"></script><script type=\"text/javascript\">if (window.MathJax && window.MathJax.Hub && window.MathJax.Hub.Config) {window.MathJax.Hub.Config({SVG: {font: \"STIX-Web\"}});}</script>                <script type=\"text/javascript\">window.PlotlyConfig = {MathJaxConfig: 'local'};</script>\n",
              "        <script charset=\"utf-8\" src=\"https://cdn.plot.ly/plotly-2.20.0.min.js\"></script>                <div id=\"6b039ac1-7f89-4905-a551-8bdfe879b0d4\" class=\"plotly-graph-div\" style=\"height:525px; width:100%;\"></div>            <script type=\"text/javascript\">                                    window.PLOTLYENV=window.PLOTLYENV || {};                                    if (document.getElementById(\"6b039ac1-7f89-4905-a551-8bdfe879b0d4\")) {                    Plotly.newPlot(                        \"6b039ac1-7f89-4905-a551-8bdfe879b0d4\",                        [{\"hovertemplate\":\"Date=%{x}<br>CSUSHPISA=%{y}<extra></extra>\",\"legendgroup\":\"\",\"marker\":{\"color\":\"#636efa\",\"symbol\":\"circle\"},\"mode\":\"markers\",\"name\":\"\",\"orientation\":\"v\",\"showlegend\":false,\"x\":[\"2003-01-01T00:00:00\",\"2003-04-01T00:00:00\",\"2003-07-01T00:00:00\",\"2003-10-01T00:00:00\",\"2004-01-01T00:00:00\",\"2004-04-01T00:00:00\",\"2004-07-01T00:00:00\",\"2004-10-01T00:00:00\",\"2005-01-01T00:00:00\",\"2005-04-01T00:00:00\",\"2005-07-01T00:00:00\",\"2005-10-01T00:00:00\",\"2006-01-01T00:00:00\",\"2006-04-01T00:00:00\",\"2006-07-01T00:00:00\",\"2006-10-01T00:00:00\",\"2007-01-01T00:00:00\",\"2007-04-01T00:00:00\",\"2007-07-01T00:00:00\",\"2007-10-01T00:00:00\",\"2008-01-01T00:00:00\",\"2008-04-01T00:00:00\",\"2008-07-01T00:00:00\",\"2008-10-01T00:00:00\",\"2009-01-01T00:00:00\",\"2009-04-01T00:00:00\",\"2009-07-01T00:00:00\",\"2009-10-01T00:00:00\",\"2010-01-01T00:00:00\",\"2010-04-01T00:00:00\",\"2010-07-01T00:00:00\",\"2010-10-01T00:00:00\",\"2011-01-01T00:00:00\",\"2011-04-01T00:00:00\",\"2011-07-01T00:00:00\",\"2011-10-01T00:00:00\",\"2012-01-01T00:00:00\",\"2012-04-01T00:00:00\",\"2012-07-01T00:00:00\",\"2012-10-01T00:00:00\",\"2013-01-01T00:00:00\",\"2013-04-01T00:00:00\",\"2013-07-01T00:00:00\",\"2013-10-01T00:00:00\",\"2014-01-01T00:00:00\",\"2014-04-01T00:00:00\",\"2014-07-01T00:00:00\",\"2014-10-01T00:00:00\",\"2015-01-01T00:00:00\",\"2015-04-01T00:00:00\",\"2015-07-01T00:00:00\",\"2015-10-01T00:00:00\",\"2016-01-01T00:00:00\",\"2016-04-01T00:00:00\",\"2016-07-01T00:00:00\",\"2016-10-01T00:00:00\",\"2017-01-01T00:00:00\",\"2017-04-01T00:00:00\",\"2017-07-01T00:00:00\",\"2017-10-01T00:00:00\",\"2018-01-01T00:00:00\",\"2018-04-01T00:00:00\",\"2018-07-01T00:00:00\",\"2018-10-01T00:00:00\",\"2019-01-01T00:00:00\",\"2019-04-01T00:00:00\",\"2019-07-01T00:00:00\",\"2019-10-01T00:00:00\",\"2020-01-01T00:00:00\",\"2020-04-01T00:00:00\",\"2020-07-01T00:00:00\",\"2020-10-01T00:00:00\",\"2021-01-01T00:00:00\",\"2021-04-01T00:00:00\",\"2021-07-01T00:00:00\",\"2021-10-01T00:00:00\",\"2022-01-01T00:00:00\",\"2022-04-01T00:00:00\",\"2022-07-01T00:00:00\",\"2022-10-01T00:00:00\",\"2023-01-01T00:00:00\"],\"xaxis\":\"x\",\"y\":[129.321,131.756,135.013,138.8356667,143.2986667,148.209,152.7166667,157.5353333,163.4813333,169.3473333,174.58,179.5393333,183.3243333,183.9973333,182.8193333,183.6493333,184.422,181.6213333,178.2613333,175.37,171.5756667,166.6723333,161.9543333,156.0286667,150.06,147.9113333,148.237,147.97,146.295,146.1713333,143.973,142.254,140.618,139.9243333,139.2346667,137.2596667,137.0143333,140.1133333,142.2863333,144.5626667,148.191,152.8543333,156.9313333,160.1023333,162.5143333,163.705,165.2326667,167.3446667,169.1906667,170.8803333,172.9643333,175.695,177.7003333,179.422,181.8356667,184.747,187.3716667,189.6213333,192.6373333,195.9763333,199.1546667,201.4513333,203.6866667,205.6396667,206.772,208.1416667,210.162,212.806,215.638,217.239,222.6413333,233.09,242.267,253.814,266.831,277.317,290.868,303.4226667,301.7263333,297.8966667,null],\"yaxis\":\"y\",\"type\":\"scatter\"}],                        {\"template\":{\"data\":{\"histogram2dcontour\":[{\"type\":\"histogram2dcontour\",\"colorbar\":{\"outlinewidth\":0,\"ticks\":\"\"},\"colorscale\":[[0.0,\"#0d0887\"],[0.1111111111111111,\"#46039f\"],[0.2222222222222222,\"#7201a8\"],[0.3333333333333333,\"#9c179e\"],[0.4444444444444444,\"#bd3786\"],[0.5555555555555556,\"#d8576b\"],[0.6666666666666666,\"#ed7953\"],[0.7777777777777778,\"#fb9f3a\"],[0.8888888888888888,\"#fdca26\"],[1.0,\"#f0f921\"]]}],\"choropleth\":[{\"type\":\"choropleth\",\"colorbar\":{\"outlinewidth\":0,\"ticks\":\"\"}}],\"histogram2d\":[{\"type\":\"histogram2d\",\"colorbar\":{\"outlinewidth\":0,\"ticks\":\"\"},\"colorscale\":[[0.0,\"#0d0887\"],[0.1111111111111111,\"#46039f\"],[0.2222222222222222,\"#7201a8\"],[0.3333333333333333,\"#9c179e\"],[0.4444444444444444,\"#bd3786\"],[0.5555555555555556,\"#d8576b\"],[0.6666666666666666,\"#ed7953\"],[0.7777777777777778,\"#fb9f3a\"],[0.8888888888888888,\"#fdca26\"],[1.0,\"#f0f921\"]]}],\"heatmap\":[{\"type\":\"heatmap\",\"colorbar\":{\"outlinewidth\":0,\"ticks\":\"\"},\"colorscale\":[[0.0,\"#0d0887\"],[0.1111111111111111,\"#46039f\"],[0.2222222222222222,\"#7201a8\"],[0.3333333333333333,\"#9c179e\"],[0.4444444444444444,\"#bd3786\"],[0.5555555555555556,\"#d8576b\"],[0.6666666666666666,\"#ed7953\"],[0.7777777777777778,\"#fb9f3a\"],[0.8888888888888888,\"#fdca26\"],[1.0,\"#f0f921\"]]}],\"heatmapgl\":[{\"type\":\"heatmapgl\",\"colorbar\":{\"outlinewidth\":0,\"ticks\":\"\"},\"colorscale\":[[0.0,\"#0d0887\"],[0.1111111111111111,\"#46039f\"],[0.2222222222222222,\"#7201a8\"],[0.3333333333333333,\"#9c179e\"],[0.4444444444444444,\"#bd3786\"],[0.5555555555555556,\"#d8576b\"],[0.6666666666666666,\"#ed7953\"],[0.7777777777777778,\"#fb9f3a\"],[0.8888888888888888,\"#fdca26\"],[1.0,\"#f0f921\"]]}],\"contourcarpet\":[{\"type\":\"contourcarpet\",\"colorbar\":{\"outlinewidth\":0,\"ticks\":\"\"}}],\"contour\":[{\"type\":\"contour\",\"colorbar\":{\"outlinewidth\":0,\"ticks\":\"\"},\"colorscale\":[[0.0,\"#0d0887\"],[0.1111111111111111,\"#46039f\"],[0.2222222222222222,\"#7201a8\"],[0.3333333333333333,\"#9c179e\"],[0.4444444444444444,\"#bd3786\"],[0.5555555555555556,\"#d8576b\"],[0.6666666666666666,\"#ed7953\"],[0.7777777777777778,\"#fb9f3a\"],[0.8888888888888888,\"#fdca26\"],[1.0,\"#f0f921\"]]}],\"surface\":[{\"type\":\"surface\",\"colorbar\":{\"outlinewidth\":0,\"ticks\":\"\"},\"colorscale\":[[0.0,\"#0d0887\"],[0.1111111111111111,\"#46039f\"],[0.2222222222222222,\"#7201a8\"],[0.3333333333333333,\"#9c179e\"],[0.4444444444444444,\"#bd3786\"],[0.5555555555555556,\"#d8576b\"],[0.6666666666666666,\"#ed7953\"],[0.7777777777777778,\"#fb9f3a\"],[0.8888888888888888,\"#fdca26\"],[1.0,\"#f0f921\"]]}],\"mesh3d\":[{\"type\":\"mesh3d\",\"colorbar\":{\"outlinewidth\":0,\"ticks\":\"\"}}],\"scatter\":[{\"fillpattern\":{\"fillmode\":\"overlay\",\"size\":10,\"solidity\":0.2},\"type\":\"scatter\"}],\"parcoords\":[{\"type\":\"parcoords\",\"line\":{\"colorbar\":{\"outlinewidth\":0,\"ticks\":\"\"}}}],\"scatterpolargl\":[{\"type\":\"scatterpolargl\",\"marker\":{\"colorbar\":{\"outlinewidth\":0,\"ticks\":\"\"}}}],\"bar\":[{\"error_x\":{\"color\":\"#2a3f5f\"},\"error_y\":{\"color\":\"#2a3f5f\"},\"marker\":{\"line\":{\"color\":\"#E5ECF6\",\"width\":0.5},\"pattern\":{\"fillmode\":\"overlay\",\"size\":10,\"solidity\":0.2}},\"type\":\"bar\"}],\"scattergeo\":[{\"type\":\"scattergeo\",\"marker\":{\"colorbar\":{\"outlinewidth\":0,\"ticks\":\"\"}}}],\"scatterpolar\":[{\"type\":\"scatterpolar\",\"marker\":{\"colorbar\":{\"outlinewidth\":0,\"ticks\":\"\"}}}],\"histogram\":[{\"marker\":{\"pattern\":{\"fillmode\":\"overlay\",\"size\":10,\"solidity\":0.2}},\"type\":\"histogram\"}],\"scattergl\":[{\"type\":\"scattergl\",\"marker\":{\"colorbar\":{\"outlinewidth\":0,\"ticks\":\"\"}}}],\"scatter3d\":[{\"type\":\"scatter3d\",\"line\":{\"colorbar\":{\"outlinewidth\":0,\"ticks\":\"\"}},\"marker\":{\"colorbar\":{\"outlinewidth\":0,\"ticks\":\"\"}}}],\"scattermapbox\":[{\"type\":\"scattermapbox\",\"marker\":{\"colorbar\":{\"outlinewidth\":0,\"ticks\":\"\"}}}],\"scatterternary\":[{\"type\":\"scatterternary\",\"marker\":{\"colorbar\":{\"outlinewidth\":0,\"ticks\":\"\"}}}],\"scattercarpet\":[{\"type\":\"scattercarpet\",\"marker\":{\"colorbar\":{\"outlinewidth\":0,\"ticks\":\"\"}}}],\"carpet\":[{\"aaxis\":{\"endlinecolor\":\"#2a3f5f\",\"gridcolor\":\"white\",\"linecolor\":\"white\",\"minorgridcolor\":\"white\",\"startlinecolor\":\"#2a3f5f\"},\"baxis\":{\"endlinecolor\":\"#2a3f5f\",\"gridcolor\":\"white\",\"linecolor\":\"white\",\"minorgridcolor\":\"white\",\"startlinecolor\":\"#2a3f5f\"},\"type\":\"carpet\"}],\"table\":[{\"cells\":{\"fill\":{\"color\":\"#EBF0F8\"},\"line\":{\"color\":\"white\"}},\"header\":{\"fill\":{\"color\":\"#C8D4E3\"},\"line\":{\"color\":\"white\"}},\"type\":\"table\"}],\"barpolar\":[{\"marker\":{\"line\":{\"color\":\"#E5ECF6\",\"width\":0.5},\"pattern\":{\"fillmode\":\"overlay\",\"size\":10,\"solidity\":0.2}},\"type\":\"barpolar\"}],\"pie\":[{\"automargin\":true,\"type\":\"pie\"}]},\"layout\":{\"autotypenumbers\":\"strict\",\"colorway\":[\"#636efa\",\"#EF553B\",\"#00cc96\",\"#ab63fa\",\"#FFA15A\",\"#19d3f3\",\"#FF6692\",\"#B6E880\",\"#FF97FF\",\"#FECB52\"],\"font\":{\"color\":\"#2a3f5f\"},\"hovermode\":\"closest\",\"hoverlabel\":{\"align\":\"left\"},\"paper_bgcolor\":\"white\",\"plot_bgcolor\":\"#E5ECF6\",\"polar\":{\"bgcolor\":\"#E5ECF6\",\"angularaxis\":{\"gridcolor\":\"white\",\"linecolor\":\"white\",\"ticks\":\"\"},\"radialaxis\":{\"gridcolor\":\"white\",\"linecolor\":\"white\",\"ticks\":\"\"}},\"ternary\":{\"bgcolor\":\"#E5ECF6\",\"aaxis\":{\"gridcolor\":\"white\",\"linecolor\":\"white\",\"ticks\":\"\"},\"baxis\":{\"gridcolor\":\"white\",\"linecolor\":\"white\",\"ticks\":\"\"},\"caxis\":{\"gridcolor\":\"white\",\"linecolor\":\"white\",\"ticks\":\"\"}},\"coloraxis\":{\"colorbar\":{\"outlinewidth\":0,\"ticks\":\"\"}},\"colorscale\":{\"sequential\":[[0.0,\"#0d0887\"],[0.1111111111111111,\"#46039f\"],[0.2222222222222222,\"#7201a8\"],[0.3333333333333333,\"#9c179e\"],[0.4444444444444444,\"#bd3786\"],[0.5555555555555556,\"#d8576b\"],[0.6666666666666666,\"#ed7953\"],[0.7777777777777778,\"#fb9f3a\"],[0.8888888888888888,\"#fdca26\"],[1.0,\"#f0f921\"]],\"sequentialminus\":[[0.0,\"#0d0887\"],[0.1111111111111111,\"#46039f\"],[0.2222222222222222,\"#7201a8\"],[0.3333333333333333,\"#9c179e\"],[0.4444444444444444,\"#bd3786\"],[0.5555555555555556,\"#d8576b\"],[0.6666666666666666,\"#ed7953\"],[0.7777777777777778,\"#fb9f3a\"],[0.8888888888888888,\"#fdca26\"],[1.0,\"#f0f921\"]],\"diverging\":[[0,\"#8e0152\"],[0.1,\"#c51b7d\"],[0.2,\"#de77ae\"],[0.3,\"#f1b6da\"],[0.4,\"#fde0ef\"],[0.5,\"#f7f7f7\"],[0.6,\"#e6f5d0\"],[0.7,\"#b8e186\"],[0.8,\"#7fbc41\"],[0.9,\"#4d9221\"],[1,\"#276419\"]]},\"xaxis\":{\"gridcolor\":\"white\",\"linecolor\":\"white\",\"ticks\":\"\",\"title\":{\"standoff\":15},\"zerolinecolor\":\"white\",\"automargin\":true,\"zerolinewidth\":2},\"yaxis\":{\"gridcolor\":\"white\",\"linecolor\":\"white\",\"ticks\":\"\",\"title\":{\"standoff\":15},\"zerolinecolor\":\"white\",\"automargin\":true,\"zerolinewidth\":2},\"scene\":{\"xaxis\":{\"backgroundcolor\":\"#E5ECF6\",\"gridcolor\":\"white\",\"linecolor\":\"white\",\"showbackground\":true,\"ticks\":\"\",\"zerolinecolor\":\"white\",\"gridwidth\":2},\"yaxis\":{\"backgroundcolor\":\"#E5ECF6\",\"gridcolor\":\"white\",\"linecolor\":\"white\",\"showbackground\":true,\"ticks\":\"\",\"zerolinecolor\":\"white\",\"gridwidth\":2},\"zaxis\":{\"backgroundcolor\":\"#E5ECF6\",\"gridcolor\":\"white\",\"linecolor\":\"white\",\"showbackground\":true,\"ticks\":\"\",\"zerolinecolor\":\"white\",\"gridwidth\":2}},\"shapedefaults\":{\"line\":{\"color\":\"#2a3f5f\"}},\"annotationdefaults\":{\"arrowcolor\":\"#2a3f5f\",\"arrowhead\":0,\"arrowwidth\":1},\"geo\":{\"bgcolor\":\"white\",\"landcolor\":\"#E5ECF6\",\"subunitcolor\":\"white\",\"showland\":true,\"showlakes\":true,\"lakecolor\":\"white\"},\"title\":{\"x\":0.05},\"mapbox\":{\"style\":\"light\"}}},\"xaxis\":{\"anchor\":\"y\",\"domain\":[0.0,1.0],\"title\":{\"text\":\"Date\"}},\"yaxis\":{\"anchor\":\"x\",\"domain\":[0.0,1.0],\"title\":{\"text\":\"CSUSHPISA\"}},\"legend\":{\"tracegroupgap\":0},\"title\":{\"text\":\"House Price(index) wrt date\"}},                        {\"responsive\": true}                    ).then(function(){\n",
              "                            \n",
              "var gd = document.getElementById('6b039ac1-7f89-4905-a551-8bdfe879b0d4');\n",
              "var x = new MutationObserver(function (mutations, observer) {{\n",
              "        var display = window.getComputedStyle(gd).display;\n",
              "        if (!display || display === 'none') {{\n",
              "            console.log([gd, 'removed!']);\n",
              "            Plotly.purge(gd);\n",
              "            observer.disconnect();\n",
              "        }}\n",
              "}});\n",
              "\n",
              "// Listen for the removal of the full notebook cells\n",
              "var notebookContainer = gd.closest('#notebook-container');\n",
              "if (notebookContainer) {{\n",
              "    x.observe(notebookContainer, {childList: true});\n",
              "}}\n",
              "\n",
              "// Listen for the clearing of the current output cell\n",
              "var outputEl = gd.closest('.output');\n",
              "if (outputEl) {{\n",
              "    x.observe(outputEl, {childList: true});\n",
              "}}\n",
              "\n",
              "                        })                };                            </script>        </div>\n",
              "</body>\n",
              "</html>"
            ]
          },
          "metadata": {}
        }
      ]
    },
    {
      "cell_type": "code",
      "source": [
        "correlation = new_df.corr()"
      ],
      "metadata": {
        "colab": {
          "base_uri": "https://localhost:8080/"
        },
        "id": "TI2lz5_VIgA8",
        "outputId": "7872d014-b388-4e40-f592-b23f3ddd3768"
      },
      "execution_count": 192,
      "outputs": [
        {
          "output_type": "stream",
          "name": "stderr",
          "text": [
            "<ipython-input-192-542b62a7273d>:1: FutureWarning:\n",
            "\n",
            "The default value of numeric_only in DataFrame.corr is deprecated. In a future version, it will default to False. Select only valid columns or specify the value of numeric_only to silence this warning.\n",
            "\n"
          ]
        }
      ]
    },
    {
      "cell_type": "code",
      "source": [
        "sns.heatmap(correlation)"
      ],
      "metadata": {
        "colab": {
          "base_uri": "https://localhost:8080/",
          "height": 553
        },
        "id": "MVOP4nAaBCMJ",
        "outputId": "ba934bd0-3561-451c-bb84-9bcbe149b22a"
      },
      "execution_count": 193,
      "outputs": [
        {
          "output_type": "execute_result",
          "data": {
            "text/plain": [
              "<Axes: >"
            ]
          },
          "metadata": {},
          "execution_count": 193
        },
        {
          "output_type": "display_data",
          "data": {
            "text/plain": [
              "<Figure size 640x480 with 2 Axes>"
            ],
            "image/png": "[encoded data removed]"
          },
          "metadata": {}
        }
      ]
    },
    {
      "cell_type": "code",
      "source": [
        "\n",
        "sns.displot(data=new_df,\n",
        "            x='GDP',\n",
        "            y='Date',\n",
        "            hue= 'Month').set(title='GDP wrt Months');"
      ],
      "metadata": {
        "colab": {
          "base_uri": "https://localhost:8080/",
          "height": 523
        },
        "id": "czf8BF2pBK96",
        "outputId": "30c05bea-8a1d-40ee-d5bf-6d4048c1ea67"
      },
      "execution_count": 194,
      "outputs": [
        {
          "output_type": "display_data",
          "data": {
            "text/plain": [
              "<Figure size 567.625x500 with 1 Axes>"
            ],
            "image/png": "[encoded data removed]"
          },
          "metadata": {}
        }
      ]
    },
    {
      "cell_type": "code",
      "source": [
        "px.bar(new_df,\n",
        "       x='Date',\n",
        "       y='MedianSalePrice',\n",
        "       title = 'Median Prices recored with time')"
      ],
      "metadata": {
        "colab": {
          "base_uri": "https://localhost:8080/",
          "height": 542
        },
        "id": "yTmeyayuCJ9s",
        "outputId": "ca37ef02-e828-48aa-f5ba-64d7c823890f"
      },
      "execution_count": 195,
      "outputs": [
        {
          "output_type": "display_data",
          "data": {
            "text/html": [
              "<html>\n",
              "<head><meta charset=\"utf-8\" /></head>\n",
              "<body>\n",
              "    <div>            <script src=\"https://cdnjs.cloudflare.com/ajax/libs/mathjax/2.7.5/MathJax.js?config=TeX-AMS-MML_SVG\"></script><script type=\"text/javascript\">if (window.MathJax && window.MathJax.Hub && window.MathJax.Hub.Config) {window.MathJax.Hub.Config({SVG: {font: \"STIX-Web\"}});}</script>                <script type=\"text/javascript\">window.PlotlyConfig = {MathJaxConfig: 'local'};</script>\n",
              "        <script charset=\"utf-8\" src=\"https://cdn.plot.ly/plotly-2.20.0.min.js\"></script>                <div id=\"c0c61021-2208-4749-8bae-28887493a3d9\" class=\"plotly-graph-div\" style=\"height:525px; width:100%;\"></div>            <script type=\"text/javascript\">                                    window.PLOTLYENV=window.PLOTLYENV || {};                                    if (document.getElementById(\"c0c61021-2208-4749-8bae-28887493a3d9\")) {                    Plotly.newPlot(                        \"c0c61021-2208-4749-8bae-28887493a3d9\",                        [{\"alignmentgroup\":\"True\",\"hovertemplate\":\"Date=%{x}<br>MedianSalePrice=%{y}<extra></extra>\",\"legendgroup\":\"\",\"marker\":{\"color\":\"#636efa\",\"pattern\":{\"shape\":\"\"}},\"name\":\"\",\"offsetgroup\":\"\",\"orientation\":\"v\",\"showlegend\":false,\"textposition\":\"auto\",\"x\":[\"2003-01-01T00:00:00\",\"2003-04-01T00:00:00\",\"2003-07-01T00:00:00\",\"2003-10-01T00:00:00\",\"2004-01-01T00:00:00\",\"2004-04-01T00:00:00\",\"2004-07-01T00:00:00\",\"2004-10-01T00:00:00\",\"2005-01-01T00:00:00\",\"2005-04-01T00:00:00\",\"2005-07-01T00:00:00\",\"2005-10-01T00:00:00\",\"2006-01-01T00:00:00\",\"2006-04-01T00:00:00\",\"2006-07-01T00:00:00\",\"2006-10-01T00:00:00\",\"2007-01-01T00:00:00\",\"2007-04-01T00:00:00\",\"2007-07-01T00:00:00\",\"2007-10-01T00:00:00\",\"2008-01-01T00:00:00\",\"2008-04-01T00:00:00\",\"2008-07-01T00:00:00\",\"2008-10-01T00:00:00\",\"2009-01-01T00:00:00\",\"2009-04-01T00:00:00\",\"2009-07-01T00:00:00\",\"2009-10-01T00:00:00\",\"2010-01-01T00:00:00\",\"2010-04-01T00:00:00\",\"2010-07-01T00:00:00\",\"2010-10-01T00:00:00\",\"2011-01-01T00:00:00\",\"2011-04-01T00:00:00\",\"2011-07-01T00:00:00\",\"2011-10-01T00:00:00\",\"2012-01-01T00:00:00\",\"2012-04-01T00:00:00\",\"2012-07-01T00:00:00\",\"2012-10-01T00:00:00\",\"2013-01-01T00:00:00\",\"2013-04-01T00:00:00\",\"2013-07-01T00:00:00\",\"2013-10-01T00:00:00\",\"2014-01-01T00:00:00\",\"2014-04-01T00:00:00\",\"2014-07-01T00:00:00\",\"2014-10-01T00:00:00\",\"2015-01-01T00:00:00\",\"2015-04-01T00:00:00\",\"2015-07-01T00:00:00\",\"2015-10-01T00:00:00\",\"2016-01-01T00:00:00\",\"2016-04-01T00:00:00\",\"2016-07-01T00:00:00\",\"2016-10-01T00:00:00\",\"2017-01-01T00:00:00\",\"2017-04-01T00:00:00\",\"2017-07-01T00:00:00\",\"2017-10-01T00:00:00\",\"2018-01-01T00:00:00\",\"2018-04-01T00:00:00\",\"2018-07-01T00:00:00\",\"2018-10-01T00:00:00\",\"2019-01-01T00:00:00\",\"2019-04-01T00:00:00\",\"2019-07-01T00:00:00\",\"2019-10-01T00:00:00\",\"2020-01-01T00:00:00\",\"2020-04-01T00:00:00\",\"2020-07-01T00:00:00\",\"2020-10-01T00:00:00\",\"2021-01-01T00:00:00\",\"2021-04-01T00:00:00\",\"2021-07-01T00:00:00\",\"2021-10-01T00:00:00\",\"2022-01-01T00:00:00\",\"2022-04-01T00:00:00\",\"2022-07-01T00:00:00\",\"2022-10-01T00:00:00\",\"2023-01-01T00:00:00\"],\"xaxis\":\"x\",\"y\":[186000,191800,191900,198800,212700,217600,213500,228800,232500,233700,236400,243600,247700,246300,235600,245400,257400,242200,241800,238400,233900,235300,226500,222500,208400,220900,214300,219000,222900,219500,224100,224300,226900,228100,223500,221100,238400,238700,248800,251700,258400,268100,264800,273600,275200,288000,281000,298900,289200,289100,295800,302500,299800,306000,303800,310900,313100,318200,320500,337900,331800,315600,330900,322800,313000,322500,318400,327100,329000,322600,337500,358700,369800,382600,411200,423600,433100,449300,468000,479500,436800],\"yaxis\":\"y\",\"type\":\"bar\"}],                        {\"template\":{\"data\":{\"histogram2dcontour\":[{\"type\":\"histogram2dcontour\",\"colorbar\":{\"outlinewidth\":0,\"ticks\":\"\"},\"colorscale\":[[0.0,\"#0d0887\"],[0.1111111111111111,\"#46039f\"],[0.2222222222222222,\"#7201a8\"],[0.3333333333333333,\"#9c179e\"],[0.4444444444444444,\"#bd3786\"],[0.5555555555555556,\"#d8576b\"],[0.6666666666666666,\"#ed7953\"],[0.7777777777777778,\"#fb9f3a\"],[0.8888888888888888,\"#fdca26\"],[1.0,\"#f0f921\"]]}],\"choropleth\":[{\"type\":\"choropleth\",\"colorbar\":{\"outlinewidth\":0,\"ticks\":\"\"}}],\"histogram2d\":[{\"type\":\"histogram2d\",\"colorbar\":{\"outlinewidth\":0,\"ticks\":\"\"},\"colorscale\":[[0.0,\"#0d0887\"],[0.1111111111111111,\"#46039f\"],[0.2222222222222222,\"#7201a8\"],[0.3333333333333333,\"#9c179e\"],[0.4444444444444444,\"#bd3786\"],[0.5555555555555556,\"#d8576b\"],[0.6666666666666666,\"#ed7953\"],[0.7777777777777778,\"#fb9f3a\"],[0.8888888888888888,\"#fdca26\"],[1.0,\"#f0f921\"]]}],\"heatmap\":[{\"type\":\"heatmap\",\"colorbar\":{\"outlinewidth\":0,\"ticks\":\"\"},\"colorscale\":[[0.0,\"#0d0887\"],[0.1111111111111111,\"#46039f\"],[0.2222222222222222,\"#7201a8\"],[0.3333333333333333,\"#9c179e\"],[0.4444444444444444,\"#bd3786\"],[0.5555555555555556,\"#d8576b\"],[0.6666666666666666,\"#ed7953\"],[0.7777777777777778,\"#fb9f3a\"],[0.8888888888888888,\"#fdca26\"],[1.0,\"#f0f921\"]]}],\"heatmapgl\":[{\"type\":\"heatmapgl\",\"colorbar\":{\"outlinewidth\":0,\"ticks\":\"\"},\"colorscale\":[[0.0,\"#0d0887\"],[0.1111111111111111,\"#46039f\"],[0.2222222222222222,\"#7201a8\"],[0.3333333333333333,\"#9c179e\"],[0.4444444444444444,\"#bd3786\"],[0.5555555555555556,\"#d8576b\"],[0.6666666666666666,\"#ed7953\"],[0.7777777777777778,\"#fb9f3a\"],[0.8888888888888888,\"#fdca26\"],[1.0,\"#f0f921\"]]}],\"contourcarpet\":[{\"type\":\"contourcarpet\",\"colorbar\":{\"outlinewidth\":0,\"ticks\":\"\"}}],\"contour\":[{\"type\":\"contour\",\"colorbar\":{\"outlinewidth\":0,\"ticks\":\"\"},\"colorscale\":[[0.0,\"#0d0887\"],[0.1111111111111111,\"#46039f\"],[0.2222222222222222,\"#7201a8\"],[0.3333333333333333,\"#9c179e\"],[0.4444444444444444,\"#bd3786\"],[0.5555555555555556,\"#d8576b\"],[0.6666666666666666,\"#ed7953\"],[0.7777777777777778,\"#fb9f3a\"],[0.8888888888888888,\"#fdca26\"],[1.0,\"#f0f921\"]]}],\"surface\":[{\"type\":\"surface\",\"colorbar\":{\"outlinewidth\":0,\"ticks\":\"\"},\"colorscale\":[[0.0,\"#0d0887\"],[0.1111111111111111,\"#46039f\"],[0.2222222222222222,\"#7201a8\"],[0.3333333333333333,\"#9c179e\"],[0.4444444444444444,\"#bd3786\"],[0.5555555555555556,\"#d8576b\"],[0.6666666666666666,\"#ed7953\"],[0.7777777777777778,\"#fb9f3a\"],[0.8888888888888888,\"#fdca26\"],[1.0,\"#f0f921\"]]}],\"mesh3d\":[{\"type\":\"mesh3d\",\"colorbar\":{\"outlinewidth\":0,\"ticks\":\"\"}}],\"scatter\":[{\"fillpattern\":{\"fillmode\":\"overlay\",\"size\":10,\"solidity\":0.2},\"type\":\"scatter\"}],\"parcoords\":[{\"type\":\"parcoords\",\"line\":{\"colorbar\":{\"outlinewidth\":0,\"ticks\":\"\"}}}],\"scatterpolargl\":[{\"type\":\"scatterpolargl\",\"marker\":{\"colorbar\":{\"outlinewidth\":0,\"ticks\":\"\"}}}],\"bar\":[{\"error_x\":{\"color\":\"#2a3f5f\"},\"error_y\":{\"color\":\"#2a3f5f\"},\"marker\":{\"line\":{\"color\":\"#E5ECF6\",\"width\":0.5},\"pattern\":{\"fillmode\":\"overlay\",\"size\":10,\"solidity\":0.2}},\"type\":\"bar\"}],\"scattergeo\":[{\"type\":\"scattergeo\",\"marker\":{\"colorbar\":{\"outlinewidth\":0,\"ticks\":\"\"}}}],\"scatterpolar\":[{\"type\":\"scatterpolar\",\"marker\":{\"colorbar\":{\"outlinewidth\":0,\"ticks\":\"\"}}}],\"histogram\":[{\"marker\":{\"pattern\":{\"fillmode\":\"overlay\",\"size\":10,\"solidity\":0.2}},\"type\":\"histogram\"}],\"scattergl\":[{\"type\":\"scattergl\",\"marker\":{\"colorbar\":{\"outlinewidth\":0,\"ticks\":\"\"}}}],\"scatter3d\":[{\"type\":\"scatter3d\",\"line\":{\"colorbar\":{\"outlinewidth\":0,\"ticks\":\"\"}},\"marker\":{\"colorbar\":{\"outlinewidth\":0,\"ticks\":\"\"}}}],\"scattermapbox\":[{\"type\":\"scattermapbox\",\"marker\":{\"colorbar\":{\"outlinewidth\":0,\"ticks\":\"\"}}}],\"scatterternary\":[{\"type\":\"scatterternary\",\"marker\":{\"colorbar\":{\"outlinewidth\":0,\"ticks\":\"\"}}}],\"scattercarpet\":[{\"type\":\"scattercarpet\",\"marker\":{\"colorbar\":{\"outlinewidth\":0,\"ticks\":\"\"}}}],\"carpet\":[{\"aaxis\":{\"endlinecolor\":\"#2a3f5f\",\"gridcolor\":\"white\",\"linecolor\":\"white\",\"minorgridcolor\":\"white\",\"startlinecolor\":\"#2a3f5f\"},\"baxis\":{\"endlinecolor\":\"#2a3f5f\",\"gridcolor\":\"white\",\"linecolor\":\"white\",\"minorgridcolor\":\"white\",\"startlinecolor\":\"#2a3f5f\"},\"type\":\"carpet\"}],\"table\":[{\"cells\":{\"fill\":{\"color\":\"#EBF0F8\"},\"line\":{\"color\":\"white\"}},\"header\":{\"fill\":{\"color\":\"#C8D4E3\"},\"line\":{\"color\":\"white\"}},\"type\":\"table\"}],\"barpolar\":[{\"marker\":{\"line\":{\"color\":\"#E5ECF6\",\"width\":0.5},\"pattern\":{\"fillmode\":\"overlay\",\"size\":10,\"solidity\":0.2}},\"type\":\"barpolar\"}],\"pie\":[{\"automargin\":true,\"type\":\"pie\"}]},\"layout\":{\"autotypenumbers\":\"strict\",\"colorway\":[\"#636efa\",\"#EF553B\",\"#00cc96\",\"#ab63fa\",\"#FFA15A\",\"#19d3f3\",\"#FF6692\",\"#B6E880\",\"#FF97FF\",\"#FECB52\"],\"font\":{\"color\":\"#2a3f5f\"},\"hovermode\":\"closest\",\"hoverlabel\":{\"align\":\"left\"},\"paper_bgcolor\":\"white\",\"plot_bgcolor\":\"#E5ECF6\",\"polar\":{\"bgcolor\":\"#E5ECF6\",\"angularaxis\":{\"gridcolor\":\"white\",\"linecolor\":\"white\",\"ticks\":\"\"},\"radialaxis\":{\"gridcolor\":\"white\",\"linecolor\":\"white\",\"ticks\":\"\"}},\"ternary\":{\"bgcolor\":\"#E5ECF6\",\"aaxis\":{\"gridcolor\":\"white\",\"linecolor\":\"white\",\"ticks\":\"\"},\"baxis\":{\"gridcolor\":\"white\",\"linecolor\":\"white\",\"ticks\":\"\"},\"caxis\":{\"gridcolor\":\"white\",\"linecolor\":\"white\",\"ticks\":\"\"}},\"coloraxis\":{\"colorbar\":{\"outlinewidth\":0,\"ticks\":\"\"}},\"colorscale\":{\"sequential\":[[0.0,\"#0d0887\"],[0.1111111111111111,\"#46039f\"],[0.2222222222222222,\"#7201a8\"],[0.3333333333333333,\"#9c179e\"],[0.4444444444444444,\"#bd3786\"],[0.5555555555555556,\"#d8576b\"],[0.6666666666666666,\"#ed7953\"],[0.7777777777777778,\"#fb9f3a\"],[0.8888888888888888,\"#fdca26\"],[1.0,\"#f0f921\"]],\"sequentialminus\":[[0.0,\"#0d0887\"],[0.1111111111111111,\"#46039f\"],[0.2222222222222222,\"#7201a8\"],[0.3333333333333333,\"#9c179e\"],[0.4444444444444444,\"#bd3786\"],[0.5555555555555556,\"#d8576b\"],[0.6666666666666666,\"#ed7953\"],[0.7777777777777778,\"#fb9f3a\"],[0.8888888888888888,\"#fdca26\"],[1.0,\"#f0f921\"]],\"diverging\":[[0,\"#8e0152\"],[0.1,\"#c51b7d\"],[0.2,\"#de77ae\"],[0.3,\"#f1b6da\"],[0.4,\"#fde0ef\"],[0.5,\"#f7f7f7\"],[0.6,\"#e6f5d0\"],[0.7,\"#b8e186\"],[0.8,\"#7fbc41\"],[0.9,\"#4d9221\"],[1,\"#276419\"]]},\"xaxis\":{\"gridcolor\":\"white\",\"linecolor\":\"white\",\"ticks\":\"\",\"title\":{\"standoff\":15},\"zerolinecolor\":\"white\",\"automargin\":true,\"zerolinewidth\":2},\"yaxis\":{\"gridcolor\":\"white\",\"linecolor\":\"white\",\"ticks\":\"\",\"title\":{\"standoff\":15},\"zerolinecolor\":\"white\",\"automargin\":true,\"zerolinewidth\":2},\"scene\":{\"xaxis\":{\"backgroundcolor\":\"#E5ECF6\",\"gridcolor\":\"white\",\"linecolor\":\"white\",\"showbackground\":true,\"ticks\":\"\",\"zerolinecolor\":\"white\",\"gridwidth\":2},\"yaxis\":{\"backgroundcolor\":\"#E5ECF6\",\"gridcolor\":\"white\",\"linecolor\":\"white\",\"showbackground\":true,\"ticks\":\"\",\"zerolinecolor\":\"white\",\"gridwidth\":2},\"zaxis\":{\"backgroundcolor\":\"#E5ECF6\",\"gridcolor\":\"white\",\"linecolor\":\"white\",\"showbackground\":true,\"ticks\":\"\",\"zerolinecolor\":\"white\",\"gridwidth\":2}},\"shapedefaults\":{\"line\":{\"color\":\"#2a3f5f\"}},\"annotationdefaults\":{\"arrowcolor\":\"#2a3f5f\",\"arrowhead\":0,\"arrowwidth\":1},\"geo\":{\"bgcolor\":\"white\",\"landcolor\":\"#E5ECF6\",\"subunitcolor\":\"white\",\"showland\":true,\"showlakes\":true,\"lakecolor\":\"white\"},\"title\":{\"x\":0.05},\"mapbox\":{\"style\":\"light\"}}},\"xaxis\":{\"anchor\":\"y\",\"domain\":[0.0,1.0],\"title\":{\"text\":\"Date\"}},\"yaxis\":{\"anchor\":\"x\",\"domain\":[0.0,1.0],\"title\":{\"text\":\"MedianSalePrice\"}},\"legend\":{\"tracegroupgap\":0},\"title\":{\"text\":\"Median Prices recored with time\"},\"barmode\":\"relative\"},                        {\"responsive\": true}                    ).then(function(){\n",
              "                            \n",
              "var gd = document.getElementById('c0c61021-2208-4749-8bae-28887493a3d9');\n",
              "var x = new MutationObserver(function (mutations, observer) {{\n",
              "        var display = window.getComputedStyle(gd).display;\n",
              "        if (!display || display === 'none') {{\n",
              "            console.log([gd, 'removed!']);\n",
              "            Plotly.purge(gd);\n",
              "            observer.disconnect();\n",
              "        }}\n",
              "}});\n",
              "\n",
              "// Listen for the removal of the full notebook cells\n",
              "var notebookContainer = gd.closest('#notebook-container');\n",
              "if (notebookContainer) {{\n",
              "    x.observe(notebookContainer, {childList: true});\n",
              "}}\n",
              "\n",
              "// Listen for the clearing of the current output cell\n",
              "var outputEl = gd.closest('.output');\n",
              "if (outputEl) {{\n",
              "    x.observe(outputEl, {childList: true});\n",
              "}}\n",
              "\n",
              "                        })                };                            </script>        </div>\n",
              "</body>\n",
              "</html>"
            ]
          },
          "metadata": {}
        }
      ]
    },
    {
      "cell_type": "code",
      "source": [
        "sns.relplot(data = new_df,\n",
        "            x='Date',\n",
        "            y='MortgageRate').set(title = 'Mortgage Rate wrt Time')"
      ],
      "metadata": {
        "colab": {
          "base_uri": "https://localhost:8080/",
          "height": 546
        },
        "id": "nAfDFCdHGDte",
        "outputId": "74b4cbf3-5415-471f-906b-c342c2d16c65"
      },
      "execution_count": 196,
      "outputs": [
        {
          "output_type": "execute_result",
          "data": {
            "text/plain": [
              "<seaborn.axisgrid.FacetGrid at 0x7f7ba959ff70>"
            ]
          },
          "metadata": {},
          "execution_count": 196
        },
        {
          "output_type": "display_data",
          "data": {
            "text/plain": [
              "<Figure size 500x500 with 1 Axes>"
            ],
            "image/png": "[encoded data removed]"
          },
          "metadata": {}
        }
      ]
    },
    {
      "cell_type": "code",
      "source": [
        "px.line(new_df,\n",
        "        x='Date',\n",
        "        y=['GDP','MortgageRate'],\n",
        "        title='GDP vs Mortgage Rate for the last 20 years')"
      ],
      "metadata": {
        "colab": {
          "base_uri": "https://localhost:8080/",
          "height": 542
        },
        "id": "ki3l0EQXHN_s",
        "outputId": "96858363-5be9-4c64-e489-fbd897f48376"
      },
      "execution_count": 197,
      "outputs": [
        {
          "output_type": "display_data",
          "data": {
            "text/html": [
              "<html>\n",
              "<head><meta charset=\"utf-8\" /></head>\n",
              "<body>\n",
              "    <div>            <script src=\"https://cdnjs.cloudflare.com/ajax/libs/mathjax/2.7.5/MathJax.js?config=TeX-AMS-MML_SVG\"></script><script type=\"text/javascript\">if (window.MathJax && window.MathJax.Hub && window.MathJax.Hub.Config) {window.MathJax.Hub.Config({SVG: {font: \"STIX-Web\"}});}</script>                <script type=\"text/javascript\">window.PlotlyConfig = {MathJaxConfig: 'local'};</script>\n",
              "        <script charset=\"utf-8\" src=\"https://cdn.plot.ly/plotly-2.20.0.min.js\"></script>                <div id=\"04b72304-f117-42ce-bad1-2330b075cfbe\" class=\"plotly-graph-div\" style=\"height:525px; width:100%;\"></div>            <script type=\"text/javascript\">                                    window.PLOTLYENV=window.PLOTLYENV || {};                                    if (document.getElementById(\"04b72304-f117-42ce-bad1-2330b075cfbe\")) {                    Plotly.newPlot(                        \"04b72304-f117-42ce-bad1-2330b075cfbe\",                        [{\"hovertemplate\":\"variable=GDP<br>Date=%{x}<br>value=%{y}<extra></extra>\",\"legendgroup\":\"GDP\",\"line\":{\"color\":\"#636efa\",\"dash\":\"solid\"},\"marker\":{\"symbol\":\"circle\"},\"mode\":\"lines\",\"name\":\"GDP\",\"orientation\":\"v\",\"showlegend\":true,\"x\":[\"2003-01-01T00:00:00\",\"2003-04-01T00:00:00\",\"2003-07-01T00:00:00\",\"2003-10-01T00:00:00\",\"2004-01-01T00:00:00\",\"2004-04-01T00:00:00\",\"2004-07-01T00:00:00\",\"2004-10-01T00:00:00\",\"2005-01-01T00:00:00\",\"2005-04-01T00:00:00\",\"2005-07-01T00:00:00\",\"2005-10-01T00:00:00\",\"2006-01-01T00:00:00\",\"2006-04-01T00:00:00\",\"2006-07-01T00:00:00\",\"2006-10-01T00:00:00\",\"2007-01-01T00:00:00\",\"2007-04-01T00:00:00\",\"2007-07-01T00:00:00\",\"2007-10-01T00:00:00\",\"2008-01-01T00:00:00\",\"2008-04-01T00:00:00\",\"2008-07-01T00:00:00\",\"2008-10-01T00:00:00\",\"2009-01-01T00:00:00\",\"2009-04-01T00:00:00\",\"2009-07-01T00:00:00\",\"2009-10-01T00:00:00\",\"2010-01-01T00:00:00\",\"2010-04-01T00:00:00\",\"2010-07-01T00:00:00\",\"2010-10-01T00:00:00\",\"2011-01-01T00:00:00\",\"2011-04-01T00:00:00\",\"2011-07-01T00:00:00\",\"2011-10-01T00:00:00\",\"2012-01-01T00:00:00\",\"2012-04-01T00:00:00\",\"2012-07-01T00:00:00\",\"2012-10-01T00:00:00\",\"2013-01-01T00:00:00\",\"2013-04-01T00:00:00\",\"2013-07-01T00:00:00\",\"2013-10-01T00:00:00\",\"2014-01-01T00:00:00\",\"2014-04-01T00:00:00\",\"2014-07-01T00:00:00\",\"2014-10-01T00:00:00\",\"2015-01-01T00:00:00\",\"2015-04-01T00:00:00\",\"2015-07-01T00:00:00\",\"2015-10-01T00:00:00\",\"2016-01-01T00:00:00\",\"2016-04-01T00:00:00\",\"2016-07-01T00:00:00\",\"2016-10-01T00:00:00\",\"2017-01-01T00:00:00\",\"2017-04-01T00:00:00\",\"2017-07-01T00:00:00\",\"2017-10-01T00:00:00\",\"2018-01-01T00:00:00\",\"2018-04-01T00:00:00\",\"2018-07-01T00:00:00\",\"2018-10-01T00:00:00\",\"2019-01-01T00:00:00\",\"2019-04-01T00:00:00\",\"2019-07-01T00:00:00\",\"2019-10-01T00:00:00\",\"2020-01-01T00:00:00\",\"2020-04-01T00:00:00\",\"2020-07-01T00:00:00\",\"2020-10-01T00:00:00\",\"2021-01-01T00:00:00\",\"2021-04-01T00:00:00\",\"2021-07-01T00:00:00\",\"2021-10-01T00:00:00\",\"2022-01-01T00:00:00\",\"2022-04-01T00:00:00\",\"2022-07-01T00:00:00\",\"2022-10-01T00:00:00\",\"2023-01-01T00:00:00\"],\"xaxis\":\"x\",\"y\":[11174.129,11312.766,11566.669,11772.234,11923.447,12112.815,12305.307,12527.214,12767.286,12922.656,13142.642,13324.204,13599.16,13753.424,13870.188,14039.56,14215.651,14402.082,14564.117,14715.058,14706.538,14865.701,14898.999,14608.208,14430.901,14381.236,14448.882,14651.248,14764.611,14980.193,15141.605,15309.471,15351.444,15557.535,15647.681,15842.267,16068.824,16207.13,16319.54,16420.386,16629.05,16699.551,16911.068,17133.114,17144.281,17462.703,17743.227,17852.54,17991.348,18193.707,18306.96,18332.079,18425.306,18611.617,18775.459,18968.041,19148.194,19304.506,19561.896,19894.75,20155.486,20470.197,20687.278,20819.269,21013.085,21272.448,21531.839,21706.532,21538.032,19636.731,21362.428,21704.706,22313.85,23046.934,23550.42,24349.121,24740.48,25248.476,25723.941,26137.992,26465.865],\"yaxis\":\"y\",\"type\":\"scatter\"},{\"hovertemplate\":\"variable=MortgageRate<br>Date=%{x}<br>value=%{y}<extra></extra>\",\"legendgroup\":\"MortgageRate\",\"line\":{\"color\":\"#EF553B\",\"dash\":\"solid\"},\"marker\":{\"symbol\":\"circle\"},\"mode\":\"lines\",\"name\":\"MortgageRate\",\"orientation\":\"v\",\"showlegend\":true,\"x\":[\"2003-01-01T00:00:00\",\"2003-04-01T00:00:00\",\"2003-07-01T00:00:00\",\"2003-10-01T00:00:00\",\"2004-01-01T00:00:00\",\"2004-04-01T00:00:00\",\"2004-07-01T00:00:00\",\"2004-10-01T00:00:00\",\"2005-01-01T00:00:00\",\"2005-04-01T00:00:00\",\"2005-07-01T00:00:00\",\"2005-10-01T00:00:00\",\"2006-01-01T00:00:00\",\"2006-04-01T00:00:00\",\"2006-07-01T00:00:00\",\"2006-10-01T00:00:00\",\"2007-01-01T00:00:00\",\"2007-04-01T00:00:00\",\"2007-07-01T00:00:00\",\"2007-10-01T00:00:00\",\"2008-01-01T00:00:00\",\"2008-04-01T00:00:00\",\"2008-07-01T00:00:00\",\"2008-10-01T00:00:00\",\"2009-01-01T00:00:00\",\"2009-04-01T00:00:00\",\"2009-07-01T00:00:00\",\"2009-10-01T00:00:00\",\"2010-01-01T00:00:00\",\"2010-04-01T00:00:00\",\"2010-07-01T00:00:00\",\"2010-10-01T00:00:00\",\"2011-01-01T00:00:00\",\"2011-04-01T00:00:00\",\"2011-07-01T00:00:00\",\"2011-10-01T00:00:00\",\"2012-01-01T00:00:00\",\"2012-04-01T00:00:00\",\"2012-07-01T00:00:00\",\"2012-10-01T00:00:00\",\"2013-01-01T00:00:00\",\"2013-04-01T00:00:00\",\"2013-07-01T00:00:00\",\"2013-10-01T00:00:00\",\"2014-01-01T00:00:00\",\"2014-04-01T00:00:00\",\"2014-07-01T00:00:00\",\"2014-10-01T00:00:00\",\"2015-01-01T00:00:00\",\"2015-04-01T00:00:00\",\"2015-07-01T00:00:00\",\"2015-10-01T00:00:00\",\"2016-01-01T00:00:00\",\"2016-04-01T00:00:00\",\"2016-07-01T00:00:00\",\"2016-10-01T00:00:00\",\"2017-01-01T00:00:00\",\"2017-04-01T00:00:00\",\"2017-07-01T00:00:00\",\"2017-10-01T00:00:00\",\"2018-01-01T00:00:00\",\"2018-04-01T00:00:00\",\"2018-07-01T00:00:00\",\"2018-10-01T00:00:00\",\"2019-01-01T00:00:00\",\"2019-04-01T00:00:00\",\"2019-07-01T00:00:00\",\"2019-10-01T00:00:00\",\"2020-01-01T00:00:00\",\"2020-04-01T00:00:00\",\"2020-07-01T00:00:00\",\"2020-10-01T00:00:00\",\"2021-01-01T00:00:00\",\"2021-04-01T00:00:00\",\"2021-07-01T00:00:00\",\"2021-10-01T00:00:00\",\"2022-01-01T00:00:00\",\"2022-04-01T00:00:00\",\"2022-07-01T00:00:00\",\"2022-10-01T00:00:00\",\"2023-01-01T00:00:00\"],\"xaxis\":\"x\",\"y\":[5.840769231,5.506923077,6.033846154,5.919285714,5.5975,6.106153846,5.894285714,5.736153846,5.768461538,5.708461538,5.763846154,6.226153846,6.246923077,6.602307692,6.56,6.243846154,6.214615385,6.358461538,6.551538462,6.224615385,5.872307692,6.086923077,6.322307692,5.841428571,5.06,5.012307692,5.162307692,4.922142857,4.995833333,4.922307692,4.447142857,4.436153846,4.846923077,4.650769231,4.291538462,4.002307692,3.922307692,3.794615385,3.553846154,3.359230769,3.496923077,3.672307692,4.44,4.293076923,4.364615385,4.227692308,4.135384615,3.963571429,3.716666667,3.819230769,3.954615385,3.897857143,3.738461538,3.589230769,3.446153846,3.842307692,4.173076923,3.98,3.883846154,3.922307692,4.282307692,4.544615385,4.566923077,4.784615385,4.373846154,4.010769231,3.658461538,3.7,3.521538462,3.239230769,2.952307692,2.760714286,2.875833333,3.003846154,2.872142857,3.079230769,3.822307692,5.266153846,5.623076923,6.664615385,6.372307692],\"yaxis\":\"y\",\"type\":\"scatter\"}],                        {\"template\":{\"data\":{\"histogram2dcontour\":[{\"type\":\"histogram2dcontour\",\"colorbar\":{\"outlinewidth\":0,\"ticks\":\"\"},\"colorscale\":[[0.0,\"#0d0887\"],[0.1111111111111111,\"#46039f\"],[0.2222222222222222,\"#7201a8\"],[0.3333333333333333,\"#9c179e\"],[0.4444444444444444,\"#bd3786\"],[0.5555555555555556,\"#d8576b\"],[0.6666666666666666,\"#ed7953\"],[0.7777777777777778,\"#fb9f3a\"],[0.8888888888888888,\"#fdca26\"],[1.0,\"#f0f921\"]]}],\"choropleth\":[{\"type\":\"choropleth\",\"colorbar\":{\"outlinewidth\":0,\"ticks\":\"\"}}],\"histogram2d\":[{\"type\":\"histogram2d\",\"colorbar\":{\"outlinewidth\":0,\"ticks\":\"\"},\"colorscale\":[[0.0,\"#0d0887\"],[0.1111111111111111,\"#46039f\"],[0.2222222222222222,\"#7201a8\"],[0.3333333333333333,\"#9c179e\"],[0.4444444444444444,\"#bd3786\"],[0.5555555555555556,\"#d8576b\"],[0.6666666666666666,\"#ed7953\"],[0.7777777777777778,\"#fb9f3a\"],[0.8888888888888888,\"#fdca26\"],[1.0,\"#f0f921\"]]}],\"heatmap\":[{\"type\":\"heatmap\",\"colorbar\":{\"outlinewidth\":0,\"ticks\":\"\"},\"colorscale\":[[0.0,\"#0d0887\"],[0.1111111111111111,\"#46039f\"],[0.2222222222222222,\"#7201a8\"],[0.3333333333333333,\"#9c179e\"],[0.4444444444444444,\"#bd3786\"],[0.5555555555555556,\"#d8576b\"],[0.6666666666666666,\"#ed7953\"],[0.7777777777777778,\"#fb9f3a\"],[0.8888888888888888,\"#fdca26\"],[1.0,\"#f0f921\"]]}],\"heatmapgl\":[{\"type\":\"heatmapgl\",\"colorbar\":{\"outlinewidth\":0,\"ticks\":\"\"},\"colorscale\":[[0.0,\"#0d0887\"],[0.1111111111111111,\"#46039f\"],[0.2222222222222222,\"#7201a8\"],[0.3333333333333333,\"#9c179e\"],[0.4444444444444444,\"#bd3786\"],[0.5555555555555556,\"#d8576b\"],[0.6666666666666666,\"#ed7953\"],[0.7777777777777778,\"#fb9f3a\"],[0.8888888888888888,\"#fdca26\"],[1.0,\"#f0f921\"]]}],\"contourcarpet\":[{\"type\":\"contourcarpet\",\"colorbar\":{\"outlinewidth\":0,\"ticks\":\"\"}}],\"contour\":[{\"type\":\"contour\",\"colorbar\":{\"outlinewidth\":0,\"ticks\":\"\"},\"colorscale\":[[0.0,\"#0d0887\"],[0.1111111111111111,\"#46039f\"],[0.2222222222222222,\"#7201a8\"],[0.3333333333333333,\"#9c179e\"],[0.4444444444444444,\"#bd3786\"],[0.5555555555555556,\"#d8576b\"],[0.6666666666666666,\"#ed7953\"],[0.7777777777777778,\"#fb9f3a\"],[0.8888888888888888,\"#fdca26\"],[1.0,\"#f0f921\"]]}],\"surface\":[{\"type\":\"surface\",\"colorbar\":{\"outlinewidth\":0,\"ticks\":\"\"},\"colorscale\":[[0.0,\"#0d0887\"],[0.1111111111111111,\"#46039f\"],[0.2222222222222222,\"#7201a8\"],[0.3333333333333333,\"#9c179e\"],[0.4444444444444444,\"#bd3786\"],[0.5555555555555556,\"#d8576b\"],[0.6666666666666666,\"#ed7953\"],[0.7777777777777778,\"#fb9f3a\"],[0.8888888888888888,\"#fdca26\"],[1.0,\"#f0f921\"]]}],\"mesh3d\":[{\"type\":\"mesh3d\",\"colorbar\":{\"outlinewidth\":0,\"ticks\":\"\"}}],\"scatter\":[{\"fillpattern\":{\"fillmode\":\"overlay\",\"size\":10,\"solidity\":0.2},\"type\":\"scatter\"}],\"parcoords\":[{\"type\":\"parcoords\",\"line\":{\"colorbar\":{\"outlinewidth\":0,\"ticks\":\"\"}}}],\"scatterpolargl\":[{\"type\":\"scatterpolargl\",\"marker\":{\"colorbar\":{\"outlinewidth\":0,\"ticks\":\"\"}}}],\"bar\":[{\"error_x\":{\"color\":\"#2a3f5f\"},\"error_y\":{\"color\":\"#2a3f5f\"},\"marker\":{\"line\":{\"color\":\"#E5ECF6\",\"width\":0.5},\"pattern\":{\"fillmode\":\"overlay\",\"size\":10,\"solidity\":0.2}},\"type\":\"bar\"}],\"scattergeo\":[{\"type\":\"scattergeo\",\"marker\":{\"colorbar\":{\"outlinewidth\":0,\"ticks\":\"\"}}}],\"scatterpolar\":[{\"type\":\"scatterpolar\",\"marker\":{\"colorbar\":{\"outlinewidth\":0,\"ticks\":\"\"}}}],\"histogram\":[{\"marker\":{\"pattern\":{\"fillmode\":\"overlay\",\"size\":10,\"solidity\":0.2}},\"type\":\"histogram\"}],\"scattergl\":[{\"type\":\"scattergl\",\"marker\":{\"colorbar\":{\"outlinewidth\":0,\"ticks\":\"\"}}}],\"scatter3d\":[{\"type\":\"scatter3d\",\"line\":{\"colorbar\":{\"outlinewidth\":0,\"ticks\":\"\"}},\"marker\":{\"colorbar\":{\"outlinewidth\":0,\"ticks\":\"\"}}}],\"scattermapbox\":[{\"type\":\"scattermapbox\",\"marker\":{\"colorbar\":{\"outlinewidth\":0,\"ticks\":\"\"}}}],\"scatterternary\":[{\"type\":\"scatterternary\",\"marker\":{\"colorbar\":{\"outlinewidth\":0,\"ticks\":\"\"}}}],\"scattercarpet\":[{\"type\":\"scattercarpet\",\"marker\":{\"colorbar\":{\"outlinewidth\":0,\"ticks\":\"\"}}}],\"carpet\":[{\"aaxis\":{\"endlinecolor\":\"#2a3f5f\",\"gridcolor\":\"white\",\"linecolor\":\"white\",\"minorgridcolor\":\"white\",\"startlinecolor\":\"#2a3f5f\"},\"baxis\":{\"endlinecolor\":\"#2a3f5f\",\"gridcolor\":\"white\",\"linecolor\":\"white\",\"minorgridcolor\":\"white\",\"startlinecolor\":\"#2a3f5f\"},\"type\":\"carpet\"}],\"table\":[{\"cells\":{\"fill\":{\"color\":\"#EBF0F8\"},\"line\":{\"color\":\"white\"}},\"header\":{\"fill\":{\"color\":\"#C8D4E3\"},\"line\":{\"color\":\"white\"}},\"type\":\"table\"}],\"barpolar\":[{\"marker\":{\"line\":{\"color\":\"#E5ECF6\",\"width\":0.5},\"pattern\":{\"fillmode\":\"overlay\",\"size\":10,\"solidity\":0.2}},\"type\":\"barpolar\"}],\"pie\":[{\"automargin\":true,\"type\":\"pie\"}]},\"layout\":{\"autotypenumbers\":\"strict\",\"colorway\":[\"#636efa\",\"#EF553B\",\"#00cc96\",\"#ab63fa\",\"#FFA15A\",\"#19d3f3\",\"#FF6692\",\"#B6E880\",\"#FF97FF\",\"#FECB52\"],\"font\":{\"color\":\"#2a3f5f\"},\"hovermode\":\"closest\",\"hoverlabel\":{\"align\":\"left\"},\"paper_bgcolor\":\"white\",\"plot_bgcolor\":\"#E5ECF6\",\"polar\":{\"bgcolor\":\"#E5ECF6\",\"angularaxis\":{\"gridcolor\":\"white\",\"linecolor\":\"white\",\"ticks\":\"\"},\"radialaxis\":{\"gridcolor\":\"white\",\"linecolor\":\"white\",\"ticks\":\"\"}},\"ternary\":{\"bgcolor\":\"#E5ECF6\",\"aaxis\":{\"gridcolor\":\"white\",\"linecolor\":\"white\",\"ticks\":\"\"},\"baxis\":{\"gridcolor\":\"white\",\"linecolor\":\"white\",\"ticks\":\"\"},\"caxis\":{\"gridcolor\":\"white\",\"linecolor\":\"white\",\"ticks\":\"\"}},\"coloraxis\":{\"colorbar\":{\"outlinewidth\":0,\"ticks\":\"\"}},\"colorscale\":{\"sequential\":[[0.0,\"#0d0887\"],[0.1111111111111111,\"#46039f\"],[0.2222222222222222,\"#7201a8\"],[0.3333333333333333,\"#9c179e\"],[0.4444444444444444,\"#bd3786\"],[0.5555555555555556,\"#d8576b\"],[0.6666666666666666,\"#ed7953\"],[0.7777777777777778,\"#fb9f3a\"],[0.8888888888888888,\"#fdca26\"],[1.0,\"#f0f921\"]],\"sequentialminus\":[[0.0,\"#0d0887\"],[0.1111111111111111,\"#46039f\"],[0.2222222222222222,\"#7201a8\"],[0.3333333333333333,\"#9c179e\"],[0.4444444444444444,\"#bd3786\"],[0.5555555555555556,\"#d8576b\"],[0.6666666666666666,\"#ed7953\"],[0.7777777777777778,\"#fb9f3a\"],[0.8888888888888888,\"#fdca26\"],[1.0,\"#f0f921\"]],\"diverging\":[[0,\"#8e0152\"],[0.1,\"#c51b7d\"],[0.2,\"#de77ae\"],[0.3,\"#f1b6da\"],[0.4,\"#fde0ef\"],[0.5,\"#f7f7f7\"],[0.6,\"#e6f5d0\"],[0.7,\"#b8e186\"],[0.8,\"#7fbc41\"],[0.9,\"#4d9221\"],[1,\"#276419\"]]},\"xaxis\":{\"gridcolor\":\"white\",\"linecolor\":\"white\",\"ticks\":\"\",\"title\":{\"standoff\":15},\"zerolinecolor\":\"white\",\"automargin\":true,\"zerolinewidth\":2},\"yaxis\":{\"gridcolor\":\"white\",\"linecolor\":\"white\",\"ticks\":\"\",\"title\":{\"standoff\":15},\"zerolinecolor\":\"white\",\"automargin\":true,\"zerolinewidth\":2},\"scene\":{\"xaxis\":{\"backgroundcolor\":\"#E5ECF6\",\"gridcolor\":\"white\",\"linecolor\":\"white\",\"showbackground\":true,\"ticks\":\"\",\"zerolinecolor\":\"white\",\"gridwidth\":2},\"yaxis\":{\"backgroundcolor\":\"#E5ECF6\",\"gridcolor\":\"white\",\"linecolor\":\"white\",\"showbackground\":true,\"ticks\":\"\",\"zerolinecolor\":\"white\",\"gridwidth\":2},\"zaxis\":{\"backgroundcolor\":\"#E5ECF6\",\"gridcolor\":\"white\",\"linecolor\":\"white\",\"showbackground\":true,\"ticks\":\"\",\"zerolinecolor\":\"white\",\"gridwidth\":2}},\"shapedefaults\":{\"line\":{\"color\":\"#2a3f5f\"}},\"annotationdefaults\":{\"arrowcolor\":\"#2a3f5f\",\"arrowhead\":0,\"arrowwidth\":1},\"geo\":{\"bgcolor\":\"white\",\"landcolor\":\"#E5ECF6\",\"subunitcolor\":\"white\",\"showland\":true,\"showlakes\":true,\"lakecolor\":\"white\"},\"title\":{\"x\":0.05},\"mapbox\":{\"style\":\"light\"}}},\"xaxis\":{\"anchor\":\"y\",\"domain\":[0.0,1.0],\"title\":{\"text\":\"Date\"}},\"yaxis\":{\"anchor\":\"x\",\"domain\":[0.0,1.0],\"title\":{\"text\":\"value\"}},\"legend\":{\"title\":{\"text\":\"variable\"},\"tracegroupgap\":0},\"title\":{\"text\":\"GDP vs Mortgage Rate for the last 20 years\"}},                        {\"responsive\": true}                    ).then(function(){\n",
              "                            \n",
              "var gd = document.getElementById('04b72304-f117-42ce-bad1-2330b075cfbe');\n",
              "var x = new MutationObserver(function (mutations, observer) {{\n",
              "        var display = window.getComputedStyle(gd).display;\n",
              "        if (!display || display === 'none') {{\n",
              "            console.log([gd, 'removed!']);\n",
              "            Plotly.purge(gd);\n",
              "            observer.disconnect();\n",
              "        }}\n",
              "}});\n",
              "\n",
              "// Listen for the removal of the full notebook cells\n",
              "var notebookContainer = gd.closest('#notebook-container');\n",
              "if (notebookContainer) {{\n",
              "    x.observe(notebookContainer, {childList: true});\n",
              "}}\n",
              "\n",
              "// Listen for the clearing of the current output cell\n",
              "var outputEl = gd.closest('.output');\n",
              "if (outputEl) {{\n",
              "    x.observe(outputEl, {childList: true});\n",
              "}}\n",
              "\n",
              "                        })                };                            </script>        </div>\n",
              "</body>\n",
              "</html>"
            ]
          },
          "metadata": {}
        }
      ]
    },
    {
      "cell_type": "code",
      "source": [
        "px.line(new_df,\n",
        "        x='Date',\n",
        "        y=['GDP','MedianSalePrice'],\n",
        "        title='GDP vs Median Sale Prices of Properties')"
      ],
      "metadata": {
        "colab": {
          "base_uri": "https://localhost:8080/",
          "height": 542
        },
        "id": "z7at5UdfIavr",
        "outputId": "bc0ceffd-ce77-41bd-f76b-a1bc3adc2ad3"
      },
      "execution_count": 198,
      "outputs": [
        {
          "output_type": "display_data",
          "data": {
            "text/html": [
              "<html>\n",
              "<head><meta charset=\"utf-8\" /></head>\n",
              "<body>\n",
              "    <div>            <script src=\"https://cdnjs.cloudflare.com/ajax/libs/mathjax/2.7.5/MathJax.js?config=TeX-AMS-MML_SVG\"></script><script type=\"text/javascript\">if (window.MathJax && window.MathJax.Hub && window.MathJax.Hub.Config) {window.MathJax.Hub.Config({SVG: {font: \"STIX-Web\"}});}</script>                <script type=\"text/javascript\">window.PlotlyConfig = {MathJaxConfig: 'local'};</script>\n",
              "        <script charset=\"utf-8\" src=\"https://cdn.plot.ly/plotly-2.20.0.min.js\"></script>                <div id=\"58295908-5531-4b5d-a6e5-7e96add28953\" class=\"plotly-graph-div\" style=\"height:525px; width:100%;\"></div>            <script type=\"text/javascript\">                                    window.PLOTLYENV=window.PLOTLYENV || {};                                    if (document.getElementById(\"58295908-5531-4b5d-a6e5-7e96add28953\")) {                    Plotly.newPlot(                        \"58295908-5531-4b5d-a6e5-7e96add28953\",                        [{\"hovertemplate\":\"variable=GDP<br>Date=%{x}<br>value=%{y}<extra></extra>\",\"legendgroup\":\"GDP\",\"line\":{\"color\":\"#636efa\",\"dash\":\"solid\"},\"marker\":{\"symbol\":\"circle\"},\"mode\":\"lines\",\"name\":\"GDP\",\"orientation\":\"v\",\"showlegend\":true,\"x\":[\"2003-01-01T00:00:00\",\"2003-04-01T00:00:00\",\"2003-07-01T00:00:00\",\"2003-10-01T00:00:00\",\"2004-01-01T00:00:00\",\"2004-04-01T00:00:00\",\"2004-07-01T00:00:00\",\"2004-10-01T00:00:00\",\"2005-01-01T00:00:00\",\"2005-04-01T00:00:00\",\"2005-07-01T00:00:00\",\"2005-10-01T00:00:00\",\"2006-01-01T00:00:00\",\"2006-04-01T00:00:00\",\"2006-07-01T00:00:00\",\"2006-10-01T00:00:00\",\"2007-01-01T00:00:00\",\"2007-04-01T00:00:00\",\"2007-07-01T00:00:00\",\"2007-10-01T00:00:00\",\"2008-01-01T00:00:00\",\"2008-04-01T00:00:00\",\"2008-07-01T00:00:00\",\"2008-10-01T00:00:00\",\"2009-01-01T00:00:00\",\"2009-04-01T00:00:00\",\"2009-07-01T00:00:00\",\"2009-10-01T00:00:00\",\"2010-01-01T00:00:00\",\"2010-04-01T00:00:00\",\"2010-07-01T00:00:00\",\"2010-10-01T00:00:00\",\"2011-01-01T00:00:00\",\"2011-04-01T00:00:00\",\"2011-07-01T00:00:00\",\"2011-10-01T00:00:00\",\"2012-01-01T00:00:00\",\"2012-04-01T00:00:00\",\"2012-07-01T00:00:00\",\"2012-10-01T00:00:00\",\"2013-01-01T00:00:00\",\"2013-04-01T00:00:00\",\"2013-07-01T00:00:00\",\"2013-10-01T00:00:00\",\"2014-01-01T00:00:00\",\"2014-04-01T00:00:00\",\"2014-07-01T00:00:00\",\"2014-10-01T00:00:00\",\"2015-01-01T00:00:00\",\"2015-04-01T00:00:00\",\"2015-07-01T00:00:00\",\"2015-10-01T00:00:00\",\"2016-01-01T00:00:00\",\"2016-04-01T00:00:00\",\"2016-07-01T00:00:00\",\"2016-10-01T00:00:00\",\"2017-01-01T00:00:00\",\"2017-04-01T00:00:00\",\"2017-07-01T00:00:00\",\"2017-10-01T00:00:00\",\"2018-01-01T00:00:00\",\"2018-04-01T00:00:00\",\"2018-07-01T00:00:00\",\"2018-10-01T00:00:00\",\"2019-01-01T00:00:00\",\"2019-04-01T00:00:00\",\"2019-07-01T00:00:00\",\"2019-10-01T00:00:00\",\"2020-01-01T00:00:00\",\"2020-04-01T00:00:00\",\"2020-07-01T00:00:00\",\"2020-10-01T00:00:00\",\"2021-01-01T00:00:00\",\"2021-04-01T00:00:00\",\"2021-07-01T00:00:00\",\"2021-10-01T00:00:00\",\"2022-01-01T00:00:00\",\"2022-04-01T00:00:00\",\"2022-07-01T00:00:00\",\"2022-10-01T00:00:00\",\"2023-01-01T00:00:00\"],\"xaxis\":\"x\",\"y\":[11174.129,11312.766,11566.669,11772.234,11923.447,12112.815,12305.307,12527.214,12767.286,12922.656,13142.642,13324.204,13599.16,13753.424,13870.188,14039.56,14215.651,14402.082,14564.117,14715.058,14706.538,14865.701,14898.999,14608.208,14430.901,14381.236,14448.882,14651.248,14764.611,14980.193,15141.605,15309.471,15351.444,15557.535,15647.681,15842.267,16068.824,16207.13,16319.54,16420.386,16629.05,16699.551,16911.068,17133.114,17144.281,17462.703,17743.227,17852.54,17991.348,18193.707,18306.96,18332.079,18425.306,18611.617,18775.459,18968.041,19148.194,19304.506,19561.896,19894.75,20155.486,20470.197,20687.278,20819.269,21013.085,21272.448,21531.839,21706.532,21538.032,19636.731,21362.428,21704.706,22313.85,23046.934,23550.42,24349.121,24740.48,25248.476,25723.941,26137.992,26465.865],\"yaxis\":\"y\",\"type\":\"scatter\"},{\"hovertemplate\":\"variable=MedianSalePrice<br>Date=%{x}<br>value=%{y}<extra></extra>\",\"legendgroup\":\"MedianSalePrice\",\"line\":{\"color\":\"#EF553B\",\"dash\":\"solid\"},\"marker\":{\"symbol\":\"circle\"},\"mode\":\"lines\",\"name\":\"MedianSalePrice\",\"orientation\":\"v\",\"showlegend\":true,\"x\":[\"2003-01-01T00:00:00\",\"2003-04-01T00:00:00\",\"2003-07-01T00:00:00\",\"2003-10-01T00:00:00\",\"2004-01-01T00:00:00\",\"2004-04-01T00:00:00\",\"2004-07-01T00:00:00\",\"2004-10-01T00:00:00\",\"2005-01-01T00:00:00\",\"2005-04-01T00:00:00\",\"2005-07-01T00:00:00\",\"2005-10-01T00:00:00\",\"2006-01-01T00:00:00\",\"2006-04-01T00:00:00\",\"2006-07-01T00:00:00\",\"2006-10-01T00:00:00\",\"2007-01-01T00:00:00\",\"2007-04-01T00:00:00\",\"2007-07-01T00:00:00\",\"2007-10-01T00:00:00\",\"2008-01-01T00:00:00\",\"2008-04-01T00:00:00\",\"2008-07-01T00:00:00\",\"2008-10-01T00:00:00\",\"2009-01-01T00:00:00\",\"2009-04-01T00:00:00\",\"2009-07-01T00:00:00\",\"2009-10-01T00:00:00\",\"2010-01-01T00:00:00\",\"2010-04-01T00:00:00\",\"2010-07-01T00:00:00\",\"2010-10-01T00:00:00\",\"2011-01-01T00:00:00\",\"2011-04-01T00:00:00\",\"2011-07-01T00:00:00\",\"2011-10-01T00:00:00\",\"2012-01-01T00:00:00\",\"2012-04-01T00:00:00\",\"2012-07-01T00:00:00\",\"2012-10-01T00:00:00\",\"2013-01-01T00:00:00\",\"2013-04-01T00:00:00\",\"2013-07-01T00:00:00\",\"2013-10-01T00:00:00\",\"2014-01-01T00:00:00\",\"2014-04-01T00:00:00\",\"2014-07-01T00:00:00\",\"2014-10-01T00:00:00\",\"2015-01-01T00:00:00\",\"2015-04-01T00:00:00\",\"2015-07-01T00:00:00\",\"2015-10-01T00:00:00\",\"2016-01-01T00:00:00\",\"2016-04-01T00:00:00\",\"2016-07-01T00:00:00\",\"2016-10-01T00:00:00\",\"2017-01-01T00:00:00\",\"2017-04-01T00:00:00\",\"2017-07-01T00:00:00\",\"2017-10-01T00:00:00\",\"2018-01-01T00:00:00\",\"2018-04-01T00:00:00\",\"2018-07-01T00:00:00\",\"2018-10-01T00:00:00\",\"2019-01-01T00:00:00\",\"2019-04-01T00:00:00\",\"2019-07-01T00:00:00\",\"2019-10-01T00:00:00\",\"2020-01-01T00:00:00\",\"2020-04-01T00:00:00\",\"2020-07-01T00:00:00\",\"2020-10-01T00:00:00\",\"2021-01-01T00:00:00\",\"2021-04-01T00:00:00\",\"2021-07-01T00:00:00\",\"2021-10-01T00:00:00\",\"2022-01-01T00:00:00\",\"2022-04-01T00:00:00\",\"2022-07-01T00:00:00\",\"2022-10-01T00:00:00\",\"2023-01-01T00:00:00\"],\"xaxis\":\"x\",\"y\":[186000.0,191800.0,191900.0,198800.0,212700.0,217600.0,213500.0,228800.0,232500.0,233700.0,236400.0,243600.0,247700.0,246300.0,235600.0,245400.0,257400.0,242200.0,241800.0,238400.0,233900.0,235300.0,226500.0,222500.0,208400.0,220900.0,214300.0,219000.0,222900.0,219500.0,224100.0,224300.0,226900.0,228100.0,223500.0,221100.0,238400.0,238700.0,248800.0,251700.0,258400.0,268100.0,264800.0,273600.0,275200.0,288000.0,281000.0,298900.0,289200.0,289100.0,295800.0,302500.0,299800.0,306000.0,303800.0,310900.0,313100.0,318200.0,320500.0,337900.0,331800.0,315600.0,330900.0,322800.0,313000.0,322500.0,318400.0,327100.0,329000.0,322600.0,337500.0,358700.0,369800.0,382600.0,411200.0,423600.0,433100.0,449300.0,468000.0,479500.0,436800.0],\"yaxis\":\"y\",\"type\":\"scatter\"}],                        {\"template\":{\"data\":{\"histogram2dcontour\":[{\"type\":\"histogram2dcontour\",\"colorbar\":{\"outlinewidth\":0,\"ticks\":\"\"},\"colorscale\":[[0.0,\"#0d0887\"],[0.1111111111111111,\"#46039f\"],[0.2222222222222222,\"#7201a8\"],[0.3333333333333333,\"#9c179e\"],[0.4444444444444444,\"#bd3786\"],[0.5555555555555556,\"#d8576b\"],[0.6666666666666666,\"#ed7953\"],[0.7777777777777778,\"#fb9f3a\"],[0.8888888888888888,\"#fdca26\"],[1.0,\"#f0f921\"]]}],\"choropleth\":[{\"type\":\"choropleth\",\"colorbar\":{\"outlinewidth\":0,\"ticks\":\"\"}}],\"histogram2d\":[{\"type\":\"histogram2d\",\"colorbar\":{\"outlinewidth\":0,\"ticks\":\"\"},\"colorscale\":[[0.0,\"#0d0887\"],[0.1111111111111111,\"#46039f\"],[0.2222222222222222,\"#7201a8\"],[0.3333333333333333,\"#9c179e\"],[0.4444444444444444,\"#bd3786\"],[0.5555555555555556,\"#d8576b\"],[0.6666666666666666,\"#ed7953\"],[0.7777777777777778,\"#fb9f3a\"],[0.8888888888888888,\"#fdca26\"],[1.0,\"#f0f921\"]]}],\"heatmap\":[{\"type\":\"heatmap\",\"colorbar\":{\"outlinewidth\":0,\"ticks\":\"\"},\"colorscale\":[[0.0,\"#0d0887\"],[0.1111111111111111,\"#46039f\"],[0.2222222222222222,\"#7201a8\"],[0.3333333333333333,\"#9c179e\"],[0.4444444444444444,\"#bd3786\"],[0.5555555555555556,\"#d8576b\"],[0.6666666666666666,\"#ed7953\"],[0.7777777777777778,\"#fb9f3a\"],[0.8888888888888888,\"#fdca26\"],[1.0,\"#f0f921\"]]}],\"heatmapgl\":[{\"type\":\"heatmapgl\",\"colorbar\":{\"outlinewidth\":0,\"ticks\":\"\"},\"colorscale\":[[0.0,\"#0d0887\"],[0.1111111111111111,\"#46039f\"],[0.2222222222222222,\"#7201a8\"],[0.3333333333333333,\"#9c179e\"],[0.4444444444444444,\"#bd3786\"],[0.5555555555555556,\"#d8576b\"],[0.6666666666666666,\"#ed7953\"],[0.7777777777777778,\"#fb9f3a\"],[0.8888888888888888,\"#fdca26\"],[1.0,\"#f0f921\"]]}],\"contourcarpet\":[{\"type\":\"contourcarpet\",\"colorbar\":{\"outlinewidth\":0,\"ticks\":\"\"}}],\"contour\":[{\"type\":\"contour\",\"colorbar\":{\"outlinewidth\":0,\"ticks\":\"\"},\"colorscale\":[[0.0,\"#0d0887\"],[0.1111111111111111,\"#46039f\"],[0.2222222222222222,\"#7201a8\"],[0.3333333333333333,\"#9c179e\"],[0.4444444444444444,\"#bd3786\"],[0.5555555555555556,\"#d8576b\"],[0.6666666666666666,\"#ed7953\"],[0.7777777777777778,\"#fb9f3a\"],[0.8888888888888888,\"#fdca26\"],[1.0,\"#f0f921\"]]}],\"surface\":[{\"type\":\"surface\",\"colorbar\":{\"outlinewidth\":0,\"ticks\":\"\"},\"colorscale\":[[0.0,\"#0d0887\"],[0.1111111111111111,\"#46039f\"],[0.2222222222222222,\"#7201a8\"],[0.3333333333333333,\"#9c179e\"],[0.4444444444444444,\"#bd3786\"],[0.5555555555555556,\"#d8576b\"],[0.6666666666666666,\"#ed7953\"],[0.7777777777777778,\"#fb9f3a\"],[0.8888888888888888,\"#fdca26\"],[1.0,\"#f0f921\"]]}],\"mesh3d\":[{\"type\":\"mesh3d\",\"colorbar\":{\"outlinewidth\":0,\"ticks\":\"\"}}],\"scatter\":[{\"fillpattern\":{\"fillmode\":\"overlay\",\"size\":10,\"solidity\":0.2},\"type\":\"scatter\"}],\"parcoords\":[{\"type\":\"parcoords\",\"line\":{\"colorbar\":{\"outlinewidth\":0,\"ticks\":\"\"}}}],\"scatterpolargl\":[{\"type\":\"scatterpolargl\",\"marker\":{\"colorbar\":{\"outlinewidth\":0,\"ticks\":\"\"}}}],\"bar\":[{\"error_x\":{\"color\":\"#2a3f5f\"},\"error_y\":{\"color\":\"#2a3f5f\"},\"marker\":{\"line\":{\"color\":\"#E5ECF6\",\"width\":0.5},\"pattern\":{\"fillmode\":\"overlay\",\"size\":10,\"solidity\":0.2}},\"type\":\"bar\"}],\"scattergeo\":[{\"type\":\"scattergeo\",\"marker\":{\"colorbar\":{\"outlinewidth\":0,\"ticks\":\"\"}}}],\"scatterpolar\":[{\"type\":\"scatterpolar\",\"marker\":{\"colorbar\":{\"outlinewidth\":0,\"ticks\":\"\"}}}],\"histogram\":[{\"marker\":{\"pattern\":{\"fillmode\":\"overlay\",\"size\":10,\"solidity\":0.2}},\"type\":\"histogram\"}],\"scattergl\":[{\"type\":\"scattergl\",\"marker\":{\"colorbar\":{\"outlinewidth\":0,\"ticks\":\"\"}}}],\"scatter3d\":[{\"type\":\"scatter3d\",\"line\":{\"colorbar\":{\"outlinewidth\":0,\"ticks\":\"\"}},\"marker\":{\"colorbar\":{\"outlinewidth\":0,\"ticks\":\"\"}}}],\"scattermapbox\":[{\"type\":\"scattermapbox\",\"marker\":{\"colorbar\":{\"outlinewidth\":0,\"ticks\":\"\"}}}],\"scatterternary\":[{\"type\":\"scatterternary\",\"marker\":{\"colorbar\":{\"outlinewidth\":0,\"ticks\":\"\"}}}],\"scattercarpet\":[{\"type\":\"scattercarpet\",\"marker\":{\"colorbar\":{\"outlinewidth\":0,\"ticks\":\"\"}}}],\"carpet\":[{\"aaxis\":{\"endlinecolor\":\"#2a3f5f\",\"gridcolor\":\"white\",\"linecolor\":\"white\",\"minorgridcolor\":\"white\",\"startlinecolor\":\"#2a3f5f\"},\"baxis\":{\"endlinecolor\":\"#2a3f5f\",\"gridcolor\":\"white\",\"linecolor\":\"white\",\"minorgridcolor\":\"white\",\"startlinecolor\":\"#2a3f5f\"},\"type\":\"carpet\"}],\"table\":[{\"cells\":{\"fill\":{\"color\":\"#EBF0F8\"},\"line\":{\"color\":\"white\"}},\"header\":{\"fill\":{\"color\":\"#C8D4E3\"},\"line\":{\"color\":\"white\"}},\"type\":\"table\"}],\"barpolar\":[{\"marker\":{\"line\":{\"color\":\"#E5ECF6\",\"width\":0.5},\"pattern\":{\"fillmode\":\"overlay\",\"size\":10,\"solidity\":0.2}},\"type\":\"barpolar\"}],\"pie\":[{\"automargin\":true,\"type\":\"pie\"}]},\"layout\":{\"autotypenumbers\":\"strict\",\"colorway\":[\"#636efa\",\"#EF553B\",\"#00cc96\",\"#ab63fa\",\"#FFA15A\",\"#19d3f3\",\"#FF6692\",\"#B6E880\",\"#FF97FF\",\"#FECB52\"],\"font\":{\"color\":\"#2a3f5f\"},\"hovermode\":\"closest\",\"hoverlabel\":{\"align\":\"left\"},\"paper_bgcolor\":\"white\",\"plot_bgcolor\":\"#E5ECF6\",\"polar\":{\"bgcolor\":\"#E5ECF6\",\"angularaxis\":{\"gridcolor\":\"white\",\"linecolor\":\"white\",\"ticks\":\"\"},\"radialaxis\":{\"gridcolor\":\"white\",\"linecolor\":\"white\",\"ticks\":\"\"}},\"ternary\":{\"bgcolor\":\"#E5ECF6\",\"aaxis\":{\"gridcolor\":\"white\",\"linecolor\":\"white\",\"ticks\":\"\"},\"baxis\":{\"gridcolor\":\"white\",\"linecolor\":\"white\",\"ticks\":\"\"},\"caxis\":{\"gridcolor\":\"white\",\"linecolor\":\"white\",\"ticks\":\"\"}},\"coloraxis\":{\"colorbar\":{\"outlinewidth\":0,\"ticks\":\"\"}},\"colorscale\":{\"sequential\":[[0.0,\"#0d0887\"],[0.1111111111111111,\"#46039f\"],[0.2222222222222222,\"#7201a8\"],[0.3333333333333333,\"#9c179e\"],[0.4444444444444444,\"#bd3786\"],[0.5555555555555556,\"#d8576b\"],[0.6666666666666666,\"#ed7953\"],[0.7777777777777778,\"#fb9f3a\"],[0.8888888888888888,\"#fdca26\"],[1.0,\"#f0f921\"]],\"sequentialminus\":[[0.0,\"#0d0887\"],[0.1111111111111111,\"#46039f\"],[0.2222222222222222,\"#7201a8\"],[0.3333333333333333,\"#9c179e\"],[0.4444444444444444,\"#bd3786\"],[0.5555555555555556,\"#d8576b\"],[0.6666666666666666,\"#ed7953\"],[0.7777777777777778,\"#fb9f3a\"],[0.8888888888888888,\"#fdca26\"],[1.0,\"#f0f921\"]],\"diverging\":[[0,\"#8e0152\"],[0.1,\"#c51b7d\"],[0.2,\"#de77ae\"],[0.3,\"#f1b6da\"],[0.4,\"#fde0ef\"],[0.5,\"#f7f7f7\"],[0.6,\"#e6f5d0\"],[0.7,\"#b8e186\"],[0.8,\"#7fbc41\"],[0.9,\"#4d9221\"],[1,\"#276419\"]]},\"xaxis\":{\"gridcolor\":\"white\",\"linecolor\":\"white\",\"ticks\":\"\",\"title\":{\"standoff\":15},\"zerolinecolor\":\"white\",\"automargin\":true,\"zerolinewidth\":2},\"yaxis\":{\"gridcolor\":\"white\",\"linecolor\":\"white\",\"ticks\":\"\",\"title\":{\"standoff\":15},\"zerolinecolor\":\"white\",\"automargin\":true,\"zerolinewidth\":2},\"scene\":{\"xaxis\":{\"backgroundcolor\":\"#E5ECF6\",\"gridcolor\":\"white\",\"linecolor\":\"white\",\"showbackground\":true,\"ticks\":\"\",\"zerolinecolor\":\"white\",\"gridwidth\":2},\"yaxis\":{\"backgroundcolor\":\"#E5ECF6\",\"gridcolor\":\"white\",\"linecolor\":\"white\",\"showbackground\":true,\"ticks\":\"\",\"zerolinecolor\":\"white\",\"gridwidth\":2},\"zaxis\":{\"backgroundcolor\":\"#E5ECF6\",\"gridcolor\":\"white\",\"linecolor\":\"white\",\"showbackground\":true,\"ticks\":\"\",\"zerolinecolor\":\"white\",\"gridwidth\":2}},\"shapedefaults\":{\"line\":{\"color\":\"#2a3f5f\"}},\"annotationdefaults\":{\"arrowcolor\":\"#2a3f5f\",\"arrowhead\":0,\"arrowwidth\":1},\"geo\":{\"bgcolor\":\"white\",\"landcolor\":\"#E5ECF6\",\"subunitcolor\":\"white\",\"showland\":true,\"showlakes\":true,\"lakecolor\":\"white\"},\"title\":{\"x\":0.05},\"mapbox\":{\"style\":\"light\"}}},\"xaxis\":{\"anchor\":\"y\",\"domain\":[0.0,1.0],\"title\":{\"text\":\"Date\"}},\"yaxis\":{\"anchor\":\"x\",\"domain\":[0.0,1.0],\"title\":{\"text\":\"value\"}},\"legend\":{\"title\":{\"text\":\"variable\"},\"tracegroupgap\":0},\"title\":{\"text\":\"GDP vs Median Sale Prices of Properties\"}},                        {\"responsive\": true}                    ).then(function(){\n",
              "                            \n",
              "var gd = document.getElementById('58295908-5531-4b5d-a6e5-7e96add28953');\n",
              "var x = new MutationObserver(function (mutations, observer) {{\n",
              "        var display = window.getComputedStyle(gd).display;\n",
              "        if (!display || display === 'none') {{\n",
              "            console.log([gd, 'removed!']);\n",
              "            Plotly.purge(gd);\n",
              "            observer.disconnect();\n",
              "        }}\n",
              "}});\n",
              "\n",
              "// Listen for the removal of the full notebook cells\n",
              "var notebookContainer = gd.closest('#notebook-container');\n",
              "if (notebookContainer) {{\n",
              "    x.observe(notebookContainer, {childList: true});\n",
              "}}\n",
              "\n",
              "// Listen for the clearing of the current output cell\n",
              "var outputEl = gd.closest('.output');\n",
              "if (outputEl) {{\n",
              "    x.observe(outputEl, {childList: true});\n",
              "}}\n",
              "\n",
              "                        })                };                            </script>        </div>\n",
              "</body>\n",
              "</html>"
            ]
          },
          "metadata": {}
        }
      ]
    },
    {
      "cell_type": "code",
      "source": [
        "px.bar(new_df,\n",
        "       x='Date',\n",
        "       y='CustSentiment',\n",
        "       title='US Customers Sentiment Ratings conducted by University of Michigan')"
      ],
      "metadata": {
        "colab": {
          "base_uri": "https://localhost:8080/",
          "height": 542
        },
        "id": "QShs_KFmIpkR",
        "outputId": "ff5279dc-a722-4846-9681-a491c93377d4"
      },
      "execution_count": 199,
      "outputs": [
        {
          "output_type": "display_data",
          "data": {
            "text/html": [
              "<html>\n",
              "<head><meta charset=\"utf-8\" /></head>\n",
              "<body>\n",
              "    <div>            <script src=\"https://cdnjs.cloudflare.com/ajax/libs/mathjax/2.7.5/MathJax.js?config=TeX-AMS-MML_SVG\"></script><script type=\"text/javascript\">if (window.MathJax && window.MathJax.Hub && window.MathJax.Hub.Config) {window.MathJax.Hub.Config({SVG: {font: \"STIX-Web\"}});}</script>                <script type=\"text/javascript\">window.PlotlyConfig = {MathJaxConfig: 'local'};</script>\n",
              "        <script charset=\"utf-8\" src=\"https://cdn.plot.ly/plotly-2.20.0.min.js\"></script>                <div id=\"b600cdf8-72ef-4162-b823-aa7d16d01cd5\" class=\"plotly-graph-div\" style=\"height:525px; width:100%;\"></div>            <script type=\"text/javascript\">                                    window.PLOTLYENV=window.PLOTLYENV || {};                                    if (document.getElementById(\"b600cdf8-72ef-4162-b823-aa7d16d01cd5\")) {                    Plotly.newPlot(                        \"b600cdf8-72ef-4162-b823-aa7d16d01cd5\",                        [{\"alignmentgroup\":\"True\",\"hovertemplate\":\"Date=%{x}<br>CustSentiment=%{y}<extra></extra>\",\"legendgroup\":\"\",\"marker\":{\"color\":\"#636efa\",\"pattern\":{\"shape\":\"\"}},\"name\":\"\",\"offsetgroup\":\"\",\"orientation\":\"v\",\"showlegend\":false,\"textposition\":\"auto\",\"x\":[\"2003-01-01T00:00:00\",\"2003-04-01T00:00:00\",\"2003-07-01T00:00:00\",\"2003-10-01T00:00:00\",\"2004-01-01T00:00:00\",\"2004-04-01T00:00:00\",\"2004-07-01T00:00:00\",\"2004-10-01T00:00:00\",\"2005-01-01T00:00:00\",\"2005-04-01T00:00:00\",\"2005-07-01T00:00:00\",\"2005-10-01T00:00:00\",\"2006-01-01T00:00:00\",\"2006-04-01T00:00:00\",\"2006-07-01T00:00:00\",\"2006-10-01T00:00:00\",\"2007-01-01T00:00:00\",\"2007-04-01T00:00:00\",\"2007-07-01T00:00:00\",\"2007-10-01T00:00:00\",\"2008-01-01T00:00:00\",\"2008-04-01T00:00:00\",\"2008-07-01T00:00:00\",\"2008-10-01T00:00:00\",\"2009-01-01T00:00:00\",\"2009-04-01T00:00:00\",\"2009-07-01T00:00:00\",\"2009-10-01T00:00:00\",\"2010-01-01T00:00:00\",\"2010-04-01T00:00:00\",\"2010-07-01T00:00:00\",\"2010-10-01T00:00:00\",\"2011-01-01T00:00:00\",\"2011-04-01T00:00:00\",\"2011-07-01T00:00:00\",\"2011-10-01T00:00:00\",\"2012-01-01T00:00:00\",\"2012-04-01T00:00:00\",\"2012-07-01T00:00:00\",\"2012-10-01T00:00:00\",\"2013-01-01T00:00:00\",\"2013-04-01T00:00:00\",\"2013-07-01T00:00:00\",\"2013-10-01T00:00:00\",\"2014-01-01T00:00:00\",\"2014-04-01T00:00:00\",\"2014-07-01T00:00:00\",\"2014-10-01T00:00:00\",\"2015-01-01T00:00:00\",\"2015-04-01T00:00:00\",\"2015-07-01T00:00:00\",\"2015-10-01T00:00:00\",\"2016-01-01T00:00:00\",\"2016-04-01T00:00:00\",\"2016-07-01T00:00:00\",\"2016-10-01T00:00:00\",\"2017-01-01T00:00:00\",\"2017-04-01T00:00:00\",\"2017-07-01T00:00:00\",\"2017-10-01T00:00:00\",\"2018-01-01T00:00:00\",\"2018-04-01T00:00:00\",\"2018-07-01T00:00:00\",\"2018-10-01T00:00:00\",\"2019-01-01T00:00:00\",\"2019-04-01T00:00:00\",\"2019-07-01T00:00:00\",\"2019-10-01T00:00:00\",\"2020-01-01T00:00:00\",\"2020-04-01T00:00:00\",\"2020-07-01T00:00:00\",\"2020-10-01T00:00:00\",\"2021-01-01T00:00:00\",\"2021-04-01T00:00:00\",\"2021-07-01T00:00:00\",\"2021-10-01T00:00:00\",\"2022-01-01T00:00:00\",\"2022-04-01T00:00:00\",\"2022-07-01T00:00:00\",\"2022-10-01T00:00:00\",\"2023-01-01T00:00:00\"],\"xaxis\":\"x\",\"y\":[79.96666667,89.26666667,89.3,91.96666667,98.0,93.33333333,95.6,93.86666667,94.06666667,90.2,87.5,82.43333333,88.93333333,83.8,84.03333333,92.46666667,92.2,86.9,85.73333333,77.5,72.9,59.6,64.83333333,57.66666667,58.26666667,68.2,68.4,70.16666667,73.86666667,73.93333333,68.3,71.26666667,73.06666667,71.86666667,59.66666667,64.8,75.5,76.3,74.96666667,79.4,76.66666667,81.66666667,81.56666667,76.93333333,80.93333333,82.83333333,82.96666667,89.76666667,95.5,94.23333333,90.73333333,91.3,91.56666667,92.4,90.33333333,93.06666667,97.23333333,96.36666667,95.1,98.36666667,98.93333333,98.33333333,98.06666667,98.13333333,94.46666667,98.46666667,93.8,97.2,96.63333333,74.06666667,75.66666667,79.8,80.23333333,85.56666667,74.76666667,69.9,63.13333333,57.86666667,56.1,58.8,64.63333333],\"yaxis\":\"y\",\"type\":\"bar\"}],                        {\"template\":{\"data\":{\"histogram2dcontour\":[{\"type\":\"histogram2dcontour\",\"colorbar\":{\"outlinewidth\":0,\"ticks\":\"\"},\"colorscale\":[[0.0,\"#0d0887\"],[0.1111111111111111,\"#46039f\"],[0.2222222222222222,\"#7201a8\"],[0.3333333333333333,\"#9c179e\"],[0.4444444444444444,\"#bd3786\"],[0.5555555555555556,\"#d8576b\"],[0.6666666666666666,\"#ed7953\"],[0.7777777777777778,\"#fb9f3a\"],[0.8888888888888888,\"#fdca26\"],[1.0,\"#f0f921\"]]}],\"choropleth\":[{\"type\":\"choropleth\",\"colorbar\":{\"outlinewidth\":0,\"ticks\":\"\"}}],\"histogram2d\":[{\"type\":\"histogram2d\",\"colorbar\":{\"outlinewidth\":0,\"ticks\":\"\"},\"colorscale\":[[0.0,\"#0d0887\"],[0.1111111111111111,\"#46039f\"],[0.2222222222222222,\"#7201a8\"],[0.3333333333333333,\"#9c179e\"],[0.4444444444444444,\"#bd3786\"],[0.5555555555555556,\"#d8576b\"],[0.6666666666666666,\"#ed7953\"],[0.7777777777777778,\"#fb9f3a\"],[0.8888888888888888,\"#fdca26\"],[1.0,\"#f0f921\"]]}],\"heatmap\":[{\"type\":\"heatmap\",\"colorbar\":{\"outlinewidth\":0,\"ticks\":\"\"},\"colorscale\":[[0.0,\"#0d0887\"],[0.1111111111111111,\"#46039f\"],[0.2222222222222222,\"#7201a8\"],[0.3333333333333333,\"#9c179e\"],[0.4444444444444444,\"#bd3786\"],[0.5555555555555556,\"#d8576b\"],[0.6666666666666666,\"#ed7953\"],[0.7777777777777778,\"#fb9f3a\"],[0.8888888888888888,\"#fdca26\"],[1.0,\"#f0f921\"]]}],\"heatmapgl\":[{\"type\":\"heatmapgl\",\"colorbar\":{\"outlinewidth\":0,\"ticks\":\"\"},\"colorscale\":[[0.0,\"#0d0887\"],[0.1111111111111111,\"#46039f\"],[0.2222222222222222,\"#7201a8\"],[0.3333333333333333,\"#9c179e\"],[0.4444444444444444,\"#bd3786\"],[0.5555555555555556,\"#d8576b\"],[0.6666666666666666,\"#ed7953\"],[0.7777777777777778,\"#fb9f3a\"],[0.8888888888888888,\"#fdca26\"],[1.0,\"#f0f921\"]]}],\"contourcarpet\":[{\"type\":\"contourcarpet\",\"colorbar\":{\"outlinewidth\":0,\"ticks\":\"\"}}],\"contour\":[{\"type\":\"contour\",\"colorbar\":{\"outlinewidth\":0,\"ticks\":\"\"},\"colorscale\":[[0.0,\"#0d0887\"],[0.1111111111111111,\"#46039f\"],[0.2222222222222222,\"#7201a8\"],[0.3333333333333333,\"#9c179e\"],[0.4444444444444444,\"#bd3786\"],[0.5555555555555556,\"#d8576b\"],[0.6666666666666666,\"#ed7953\"],[0.7777777777777778,\"#fb9f3a\"],[0.8888888888888888,\"#fdca26\"],[1.0,\"#f0f921\"]]}],\"surface\":[{\"type\":\"surface\",\"colorbar\":{\"outlinewidth\":0,\"ticks\":\"\"},\"colorscale\":[[0.0,\"#0d0887\"],[0.1111111111111111,\"#46039f\"],[0.2222222222222222,\"#7201a8\"],[0.3333333333333333,\"#9c179e\"],[0.4444444444444444,\"#bd3786\"],[0.5555555555555556,\"#d8576b\"],[0.6666666666666666,\"#ed7953\"],[0.7777777777777778,\"#fb9f3a\"],[0.8888888888888888,\"#fdca26\"],[1.0,\"#f0f921\"]]}],\"mesh3d\":[{\"type\":\"mesh3d\",\"colorbar\":{\"outlinewidth\":0,\"ticks\":\"\"}}],\"scatter\":[{\"fillpattern\":{\"fillmode\":\"overlay\",\"size\":10,\"solidity\":0.2},\"type\":\"scatter\"}],\"parcoords\":[{\"type\":\"parcoords\",\"line\":{\"colorbar\":{\"outlinewidth\":0,\"ticks\":\"\"}}}],\"scatterpolargl\":[{\"type\":\"scatterpolargl\",\"marker\":{\"colorbar\":{\"outlinewidth\":0,\"ticks\":\"\"}}}],\"bar\":[{\"error_x\":{\"color\":\"#2a3f5f\"},\"error_y\":{\"color\":\"#2a3f5f\"},\"marker\":{\"line\":{\"color\":\"#E5ECF6\",\"width\":0.5},\"pattern\":{\"fillmode\":\"overlay\",\"size\":10,\"solidity\":0.2}},\"type\":\"bar\"}],\"scattergeo\":[{\"type\":\"scattergeo\",\"marker\":{\"colorbar\":{\"outlinewidth\":0,\"ticks\":\"\"}}}],\"scatterpolar\":[{\"type\":\"scatterpolar\",\"marker\":{\"colorbar\":{\"outlinewidth\":0,\"ticks\":\"\"}}}],\"histogram\":[{\"marker\":{\"pattern\":{\"fillmode\":\"overlay\",\"size\":10,\"solidity\":0.2}},\"type\":\"histogram\"}],\"scattergl\":[{\"type\":\"scattergl\",\"marker\":{\"colorbar\":{\"outlinewidth\":0,\"ticks\":\"\"}}}],\"scatter3d\":[{\"type\":\"scatter3d\",\"line\":{\"colorbar\":{\"outlinewidth\":0,\"ticks\":\"\"}},\"marker\":{\"colorbar\":{\"outlinewidth\":0,\"ticks\":\"\"}}}],\"scattermapbox\":[{\"type\":\"scattermapbox\",\"marker\":{\"colorbar\":{\"outlinewidth\":0,\"ticks\":\"\"}}}],\"scatterternary\":[{\"type\":\"scatterternary\",\"marker\":{\"colorbar\":{\"outlinewidth\":0,\"ticks\":\"\"}}}],\"scattercarpet\":[{\"type\":\"scattercarpet\",\"marker\":{\"colorbar\":{\"outlinewidth\":0,\"ticks\":\"\"}}}],\"carpet\":[{\"aaxis\":{\"endlinecolor\":\"#2a3f5f\",\"gridcolor\":\"white\",\"linecolor\":\"white\",\"minorgridcolor\":\"white\",\"startlinecolor\":\"#2a3f5f\"},\"baxis\":{\"endlinecolor\":\"#2a3f5f\",\"gridcolor\":\"white\",\"linecolor\":\"white\",\"minorgridcolor\":\"white\",\"startlinecolor\":\"#2a3f5f\"},\"type\":\"carpet\"}],\"table\":[{\"cells\":{\"fill\":{\"color\":\"#EBF0F8\"},\"line\":{\"color\":\"white\"}},\"header\":{\"fill\":{\"color\":\"#C8D4E3\"},\"line\":{\"color\":\"white\"}},\"type\":\"table\"}],\"barpolar\":[{\"marker\":{\"line\":{\"color\":\"#E5ECF6\",\"width\":0.5},\"pattern\":{\"fillmode\":\"overlay\",\"size\":10,\"solidity\":0.2}},\"type\":\"barpolar\"}],\"pie\":[{\"automargin\":true,\"type\":\"pie\"}]},\"layout\":{\"autotypenumbers\":\"strict\",\"colorway\":[\"#636efa\",\"#EF553B\",\"#00cc96\",\"#ab63fa\",\"#FFA15A\",\"#19d3f3\",\"#FF6692\",\"#B6E880\",\"#FF97FF\",\"#FECB52\"],\"font\":{\"color\":\"#2a3f5f\"},\"hovermode\":\"closest\",\"hoverlabel\":{\"align\":\"left\"},\"paper_bgcolor\":\"white\",\"plot_bgcolor\":\"#E5ECF6\",\"polar\":{\"bgcolor\":\"#E5ECF6\",\"angularaxis\":{\"gridcolor\":\"white\",\"linecolor\":\"white\",\"ticks\":\"\"},\"radialaxis\":{\"gridcolor\":\"white\",\"linecolor\":\"white\",\"ticks\":\"\"}},\"ternary\":{\"bgcolor\":\"#E5ECF6\",\"aaxis\":{\"gridcolor\":\"white\",\"linecolor\":\"white\",\"ticks\":\"\"},\"baxis\":{\"gridcolor\":\"white\",\"linecolor\":\"white\",\"ticks\":\"\"},\"caxis\":{\"gridcolor\":\"white\",\"linecolor\":\"white\",\"ticks\":\"\"}},\"coloraxis\":{\"colorbar\":{\"outlinewidth\":0,\"ticks\":\"\"}},\"colorscale\":{\"sequential\":[[0.0,\"#0d0887\"],[0.1111111111111111,\"#46039f\"],[0.2222222222222222,\"#7201a8\"],[0.3333333333333333,\"#9c179e\"],[0.4444444444444444,\"#bd3786\"],[0.5555555555555556,\"#d8576b\"],[0.6666666666666666,\"#ed7953\"],[0.7777777777777778,\"#fb9f3a\"],[0.8888888888888888,\"#fdca26\"],[1.0,\"#f0f921\"]],\"sequentialminus\":[[0.0,\"#0d0887\"],[0.1111111111111111,\"#46039f\"],[0.2222222222222222,\"#7201a8\"],[0.3333333333333333,\"#9c179e\"],[0.4444444444444444,\"#bd3786\"],[0.5555555555555556,\"#d8576b\"],[0.6666666666666666,\"#ed7953\"],[0.7777777777777778,\"#fb9f3a\"],[0.8888888888888888,\"#fdca26\"],[1.0,\"#f0f921\"]],\"diverging\":[[0,\"#8e0152\"],[0.1,\"#c51b7d\"],[0.2,\"#de77ae\"],[0.3,\"#f1b6da\"],[0.4,\"#fde0ef\"],[0.5,\"#f7f7f7\"],[0.6,\"#e6f5d0\"],[0.7,\"#b8e186\"],[0.8,\"#7fbc41\"],[0.9,\"#4d9221\"],[1,\"#276419\"]]},\"xaxis\":{\"gridcolor\":\"white\",\"linecolor\":\"white\",\"ticks\":\"\",\"title\":{\"standoff\":15},\"zerolinecolor\":\"white\",\"automargin\":true,\"zerolinewidth\":2},\"yaxis\":{\"gridcolor\":\"white\",\"linecolor\":\"white\",\"ticks\":\"\",\"title\":{\"standoff\":15},\"zerolinecolor\":\"white\",\"automargin\":true,\"zerolinewidth\":2},\"scene\":{\"xaxis\":{\"backgroundcolor\":\"#E5ECF6\",\"gridcolor\":\"white\",\"linecolor\":\"white\",\"showbackground\":true,\"ticks\":\"\",\"zerolinecolor\":\"white\",\"gridwidth\":2},\"yaxis\":{\"backgroundcolor\":\"#E5ECF6\",\"gridcolor\":\"white\",\"linecolor\":\"white\",\"showbackground\":true,\"ticks\":\"\",\"zerolinecolor\":\"white\",\"gridwidth\":2},\"zaxis\":{\"backgroundcolor\":\"#E5ECF6\",\"gridcolor\":\"white\",\"linecolor\":\"white\",\"showbackground\":true,\"ticks\":\"\",\"zerolinecolor\":\"white\",\"gridwidth\":2}},\"shapedefaults\":{\"line\":{\"color\":\"#2a3f5f\"}},\"annotationdefaults\":{\"arrowcolor\":\"#2a3f5f\",\"arrowhead\":0,\"arrowwidth\":1},\"geo\":{\"bgcolor\":\"white\",\"landcolor\":\"#E5ECF6\",\"subunitcolor\":\"white\",\"showland\":true,\"showlakes\":true,\"lakecolor\":\"white\"},\"title\":{\"x\":0.05},\"mapbox\":{\"style\":\"light\"}}},\"xaxis\":{\"anchor\":\"y\",\"domain\":[0.0,1.0],\"title\":{\"text\":\"Date\"}},\"yaxis\":{\"anchor\":\"x\",\"domain\":[0.0,1.0],\"title\":{\"text\":\"CustSentiment\"}},\"legend\":{\"tracegroupgap\":0},\"title\":{\"text\":\"US Customers Sentiment Ratings conducted by University of Michigan\"},\"barmode\":\"relative\"},                        {\"responsive\": true}                    ).then(function(){\n",
              "                            \n",
              "var gd = document.getElementById('b600cdf8-72ef-4162-b823-aa7d16d01cd5');\n",
              "var x = new MutationObserver(function (mutations, observer) {{\n",
              "        var display = window.getComputedStyle(gd).display;\n",
              "        if (!display || display === 'none') {{\n",
              "            console.log([gd, 'removed!']);\n",
              "            Plotly.purge(gd);\n",
              "            observer.disconnect();\n",
              "        }}\n",
              "}});\n",
              "\n",
              "// Listen for the removal of the full notebook cells\n",
              "var notebookContainer = gd.closest('#notebook-container');\n",
              "if (notebookContainer) {{\n",
              "    x.observe(notebookContainer, {childList: true});\n",
              "}}\n",
              "\n",
              "// Listen for the clearing of the current output cell\n",
              "var outputEl = gd.closest('.output');\n",
              "if (outputEl) {{\n",
              "    x.observe(outputEl, {childList: true});\n",
              "}}\n",
              "\n",
              "                        })                };                            </script>        </div>\n",
              "</body>\n",
              "</html>"
            ]
          },
          "metadata": {}
        }
      ]
    },
    {
      "cell_type": "code",
      "source": [
        "px.line(new_df,\n",
        "        x='Date',\n",
        "        y=['CustSentiment','MedianSalePrice'],\n",
        "        title='US House prices vs Sentiment Score')"
      ],
      "metadata": {
        "colab": {
          "base_uri": "https://localhost:8080/",
          "height": 542
        },
        "id": "6go0tJVnKI1Y",
        "outputId": "6c3f44e1-05e1-4539-8b05-402be3b08ef3"
      },
      "execution_count": 200,
      "outputs": [
        {
          "output_type": "display_data",
          "data": {
            "text/html": [
              "<html>\n",
              "<head><meta charset=\"utf-8\" /></head>\n",
              "<body>\n",
              "    <div>            <script src=\"https://cdnjs.cloudflare.com/ajax/libs/mathjax/2.7.5/MathJax.js?config=TeX-AMS-MML_SVG\"></script><script type=\"text/javascript\">if (window.MathJax && window.MathJax.Hub && window.MathJax.Hub.Config) {window.MathJax.Hub.Config({SVG: {font: \"STIX-Web\"}});}</script>                <script type=\"text/javascript\">window.PlotlyConfig = {MathJaxConfig: 'local'};</script>\n",
              "        <script charset=\"utf-8\" src=\"https://cdn.plot.ly/plotly-2.20.0.min.js\"></script>                <div id=\"322336e4-9897-4f2f-b3e8-6ebb724ff8bb\" class=\"plotly-graph-div\" style=\"height:525px; width:100%;\"></div>            <script type=\"text/javascript\">                                    window.PLOTLYENV=window.PLOTLYENV || {};                                    if (document.getElementById(\"322336e4-9897-4f2f-b3e8-6ebb724ff8bb\")) {                    Plotly.newPlot(                        \"322336e4-9897-4f2f-b3e8-6ebb724ff8bb\",                        [{\"hovertemplate\":\"variable=CustSentiment<br>Date=%{x}<br>value=%{y}<extra></extra>\",\"legendgroup\":\"CustSentiment\",\"line\":{\"color\":\"#636efa\",\"dash\":\"solid\"},\"marker\":{\"symbol\":\"circle\"},\"mode\":\"lines\",\"name\":\"CustSentiment\",\"orientation\":\"v\",\"showlegend\":true,\"x\":[\"2003-01-01T00:00:00\",\"2003-04-01T00:00:00\",\"2003-07-01T00:00:00\",\"2003-10-01T00:00:00\",\"2004-01-01T00:00:00\",\"2004-04-01T00:00:00\",\"2004-07-01T00:00:00\",\"2004-10-01T00:00:00\",\"2005-01-01T00:00:00\",\"2005-04-01T00:00:00\",\"2005-07-01T00:00:00\",\"2005-10-01T00:00:00\",\"2006-01-01T00:00:00\",\"2006-04-01T00:00:00\",\"2006-07-01T00:00:00\",\"2006-10-01T00:00:00\",\"2007-01-01T00:00:00\",\"2007-04-01T00:00:00\",\"2007-07-01T00:00:00\",\"2007-10-01T00:00:00\",\"2008-01-01T00:00:00\",\"2008-04-01T00:00:00\",\"2008-07-01T00:00:00\",\"2008-10-01T00:00:00\",\"2009-01-01T00:00:00\",\"2009-04-01T00:00:00\",\"2009-07-01T00:00:00\",\"2009-10-01T00:00:00\",\"2010-01-01T00:00:00\",\"2010-04-01T00:00:00\",\"2010-07-01T00:00:00\",\"2010-10-01T00:00:00\",\"2011-01-01T00:00:00\",\"2011-04-01T00:00:00\",\"2011-07-01T00:00:00\",\"2011-10-01T00:00:00\",\"2012-01-01T00:00:00\",\"2012-04-01T00:00:00\",\"2012-07-01T00:00:00\",\"2012-10-01T00:00:00\",\"2013-01-01T00:00:00\",\"2013-04-01T00:00:00\",\"2013-07-01T00:00:00\",\"2013-10-01T00:00:00\",\"2014-01-01T00:00:00\",\"2014-04-01T00:00:00\",\"2014-07-01T00:00:00\",\"2014-10-01T00:00:00\",\"2015-01-01T00:00:00\",\"2015-04-01T00:00:00\",\"2015-07-01T00:00:00\",\"2015-10-01T00:00:00\",\"2016-01-01T00:00:00\",\"2016-04-01T00:00:00\",\"2016-07-01T00:00:00\",\"2016-10-01T00:00:00\",\"2017-01-01T00:00:00\",\"2017-04-01T00:00:00\",\"2017-07-01T00:00:00\",\"2017-10-01T00:00:00\",\"2018-01-01T00:00:00\",\"2018-04-01T00:00:00\",\"2018-07-01T00:00:00\",\"2018-10-01T00:00:00\",\"2019-01-01T00:00:00\",\"2019-04-01T00:00:00\",\"2019-07-01T00:00:00\",\"2019-10-01T00:00:00\",\"2020-01-01T00:00:00\",\"2020-04-01T00:00:00\",\"2020-07-01T00:00:00\",\"2020-10-01T00:00:00\",\"2021-01-01T00:00:00\",\"2021-04-01T00:00:00\",\"2021-07-01T00:00:00\",\"2021-10-01T00:00:00\",\"2022-01-01T00:00:00\",\"2022-04-01T00:00:00\",\"2022-07-01T00:00:00\",\"2022-10-01T00:00:00\",\"2023-01-01T00:00:00\"],\"xaxis\":\"x\",\"y\":[79.96666667,89.26666667,89.3,91.96666667,98.0,93.33333333,95.6,93.86666667,94.06666667,90.2,87.5,82.43333333,88.93333333,83.8,84.03333333,92.46666667,92.2,86.9,85.73333333,77.5,72.9,59.6,64.83333333,57.66666667,58.26666667,68.2,68.4,70.16666667,73.86666667,73.93333333,68.3,71.26666667,73.06666667,71.86666667,59.66666667,64.8,75.5,76.3,74.96666667,79.4,76.66666667,81.66666667,81.56666667,76.93333333,80.93333333,82.83333333,82.96666667,89.76666667,95.5,94.23333333,90.73333333,91.3,91.56666667,92.4,90.33333333,93.06666667,97.23333333,96.36666667,95.1,98.36666667,98.93333333,98.33333333,98.06666667,98.13333333,94.46666667,98.46666667,93.8,97.2,96.63333333,74.06666667,75.66666667,79.8,80.23333333,85.56666667,74.76666667,69.9,63.13333333,57.86666667,56.1,58.8,64.63333333],\"yaxis\":\"y\",\"type\":\"scatter\"},{\"hovertemplate\":\"variable=MedianSalePrice<br>Date=%{x}<br>value=%{y}<extra></extra>\",\"legendgroup\":\"MedianSalePrice\",\"line\":{\"color\":\"#EF553B\",\"dash\":\"solid\"},\"marker\":{\"symbol\":\"circle\"},\"mode\":\"lines\",\"name\":\"MedianSalePrice\",\"orientation\":\"v\",\"showlegend\":true,\"x\":[\"2003-01-01T00:00:00\",\"2003-04-01T00:00:00\",\"2003-07-01T00:00:00\",\"2003-10-01T00:00:00\",\"2004-01-01T00:00:00\",\"2004-04-01T00:00:00\",\"2004-07-01T00:00:00\",\"2004-10-01T00:00:00\",\"2005-01-01T00:00:00\",\"2005-04-01T00:00:00\",\"2005-07-01T00:00:00\",\"2005-10-01T00:00:00\",\"2006-01-01T00:00:00\",\"2006-04-01T00:00:00\",\"2006-07-01T00:00:00\",\"2006-10-01T00:00:00\",\"2007-01-01T00:00:00\",\"2007-04-01T00:00:00\",\"2007-07-01T00:00:00\",\"2007-10-01T00:00:00\",\"2008-01-01T00:00:00\",\"2008-04-01T00:00:00\",\"2008-07-01T00:00:00\",\"2008-10-01T00:00:00\",\"2009-01-01T00:00:00\",\"2009-04-01T00:00:00\",\"2009-07-01T00:00:00\",\"2009-10-01T00:00:00\",\"2010-01-01T00:00:00\",\"2010-04-01T00:00:00\",\"2010-07-01T00:00:00\",\"2010-10-01T00:00:00\",\"2011-01-01T00:00:00\",\"2011-04-01T00:00:00\",\"2011-07-01T00:00:00\",\"2011-10-01T00:00:00\",\"2012-01-01T00:00:00\",\"2012-04-01T00:00:00\",\"2012-07-01T00:00:00\",\"2012-10-01T00:00:00\",\"2013-01-01T00:00:00\",\"2013-04-01T00:00:00\",\"2013-07-01T00:00:00\",\"2013-10-01T00:00:00\",\"2014-01-01T00:00:00\",\"2014-04-01T00:00:00\",\"2014-07-01T00:00:00\",\"2014-10-01T00:00:00\",\"2015-01-01T00:00:00\",\"2015-04-01T00:00:00\",\"2015-07-01T00:00:00\",\"2015-10-01T00:00:00\",\"2016-01-01T00:00:00\",\"2016-04-01T00:00:00\",\"2016-07-01T00:00:00\",\"2016-10-01T00:00:00\",\"2017-01-01T00:00:00\",\"2017-04-01T00:00:00\",\"2017-07-01T00:00:00\",\"2017-10-01T00:00:00\",\"2018-01-01T00:00:00\",\"2018-04-01T00:00:00\",\"2018-07-01T00:00:00\",\"2018-10-01T00:00:00\",\"2019-01-01T00:00:00\",\"2019-04-01T00:00:00\",\"2019-07-01T00:00:00\",\"2019-10-01T00:00:00\",\"2020-01-01T00:00:00\",\"2020-04-01T00:00:00\",\"2020-07-01T00:00:00\",\"2020-10-01T00:00:00\",\"2021-01-01T00:00:00\",\"2021-04-01T00:00:00\",\"2021-07-01T00:00:00\",\"2021-10-01T00:00:00\",\"2022-01-01T00:00:00\",\"2022-04-01T00:00:00\",\"2022-07-01T00:00:00\",\"2022-10-01T00:00:00\",\"2023-01-01T00:00:00\"],\"xaxis\":\"x\",\"y\":[186000.0,191800.0,191900.0,198800.0,212700.0,217600.0,213500.0,228800.0,232500.0,233700.0,236400.0,243600.0,247700.0,246300.0,235600.0,245400.0,257400.0,242200.0,241800.0,238400.0,233900.0,235300.0,226500.0,222500.0,208400.0,220900.0,214300.0,219000.0,222900.0,219500.0,224100.0,224300.0,226900.0,228100.0,223500.0,221100.0,238400.0,238700.0,248800.0,251700.0,258400.0,268100.0,264800.0,273600.0,275200.0,288000.0,281000.0,298900.0,289200.0,289100.0,295800.0,302500.0,299800.0,306000.0,303800.0,310900.0,313100.0,318200.0,320500.0,337900.0,331800.0,315600.0,330900.0,322800.0,313000.0,322500.0,318400.0,327100.0,329000.0,322600.0,337500.0,358700.0,369800.0,382600.0,411200.0,423600.0,433100.0,449300.0,468000.0,479500.0,436800.0],\"yaxis\":\"y\",\"type\":\"scatter\"}],                        {\"template\":{\"data\":{\"histogram2dcontour\":[{\"type\":\"histogram2dcontour\",\"colorbar\":{\"outlinewidth\":0,\"ticks\":\"\"},\"colorscale\":[[0.0,\"#0d0887\"],[0.1111111111111111,\"#46039f\"],[0.2222222222222222,\"#7201a8\"],[0.3333333333333333,\"#9c179e\"],[0.4444444444444444,\"#bd3786\"],[0.5555555555555556,\"#d8576b\"],[0.6666666666666666,\"#ed7953\"],[0.7777777777777778,\"#fb9f3a\"],[0.8888888888888888,\"#fdca26\"],[1.0,\"#f0f921\"]]}],\"choropleth\":[{\"type\":\"choropleth\",\"colorbar\":{\"outlinewidth\":0,\"ticks\":\"\"}}],\"histogram2d\":[{\"type\":\"histogram2d\",\"colorbar\":{\"outlinewidth\":0,\"ticks\":\"\"},\"colorscale\":[[0.0,\"#0d0887\"],[0.1111111111111111,\"#46039f\"],[0.2222222222222222,\"#7201a8\"],[0.3333333333333333,\"#9c179e\"],[0.4444444444444444,\"#bd3786\"],[0.5555555555555556,\"#d8576b\"],[0.6666666666666666,\"#ed7953\"],[0.7777777777777778,\"#fb9f3a\"],[0.8888888888888888,\"#fdca26\"],[1.0,\"#f0f921\"]]}],\"heatmap\":[{\"type\":\"heatmap\",\"colorbar\":{\"outlinewidth\":0,\"ticks\":\"\"},\"colorscale\":[[0.0,\"#0d0887\"],[0.1111111111111111,\"#46039f\"],[0.2222222222222222,\"#7201a8\"],[0.3333333333333333,\"#9c179e\"],[0.4444444444444444,\"#bd3786\"],[0.5555555555555556,\"#d8576b\"],[0.6666666666666666,\"#ed7953\"],[0.7777777777777778,\"#fb9f3a\"],[0.8888888888888888,\"#fdca26\"],[1.0,\"#f0f921\"]]}],\"heatmapgl\":[{\"type\":\"heatmapgl\",\"colorbar\":{\"outlinewidth\":0,\"ticks\":\"\"},\"colorscale\":[[0.0,\"#0d0887\"],[0.1111111111111111,\"#46039f\"],[0.2222222222222222,\"#7201a8\"],[0.3333333333333333,\"#9c179e\"],[0.4444444444444444,\"#bd3786\"],[0.5555555555555556,\"#d8576b\"],[0.6666666666666666,\"#ed7953\"],[0.7777777777777778,\"#fb9f3a\"],[0.8888888888888888,\"#fdca26\"],[1.0,\"#f0f921\"]]}],\"contourcarpet\":[{\"type\":\"contourcarpet\",\"colorbar\":{\"outlinewidth\":0,\"ticks\":\"\"}}],\"contour\":[{\"type\":\"contour\",\"colorbar\":{\"outlinewidth\":0,\"ticks\":\"\"},\"colorscale\":[[0.0,\"#0d0887\"],[0.1111111111111111,\"#46039f\"],[0.2222222222222222,\"#7201a8\"],[0.3333333333333333,\"#9c179e\"],[0.4444444444444444,\"#bd3786\"],[0.5555555555555556,\"#d8576b\"],[0.6666666666666666,\"#ed7953\"],[0.7777777777777778,\"#fb9f3a\"],[0.8888888888888888,\"#fdca26\"],[1.0,\"#f0f921\"]]}],\"surface\":[{\"type\":\"surface\",\"colorbar\":{\"outlinewidth\":0,\"ticks\":\"\"},\"colorscale\":[[0.0,\"#0d0887\"],[0.1111111111111111,\"#46039f\"],[0.2222222222222222,\"#7201a8\"],[0.3333333333333333,\"#9c179e\"],[0.4444444444444444,\"#bd3786\"],[0.5555555555555556,\"#d8576b\"],[0.6666666666666666,\"#ed7953\"],[0.7777777777777778,\"#fb9f3a\"],[0.8888888888888888,\"#fdca26\"],[1.0,\"#f0f921\"]]}],\"mesh3d\":[{\"type\":\"mesh3d\",\"colorbar\":{\"outlinewidth\":0,\"ticks\":\"\"}}],\"scatter\":[{\"fillpattern\":{\"fillmode\":\"overlay\",\"size\":10,\"solidity\":0.2},\"type\":\"scatter\"}],\"parcoords\":[{\"type\":\"parcoords\",\"line\":{\"colorbar\":{\"outlinewidth\":0,\"ticks\":\"\"}}}],\"scatterpolargl\":[{\"type\":\"scatterpolargl\",\"marker\":{\"colorbar\":{\"outlinewidth\":0,\"ticks\":\"\"}}}],\"bar\":[{\"error_x\":{\"color\":\"#2a3f5f\"},\"error_y\":{\"color\":\"#2a3f5f\"},\"marker\":{\"line\":{\"color\":\"#E5ECF6\",\"width\":0.5},\"pattern\":{\"fillmode\":\"overlay\",\"size\":10,\"solidity\":0.2}},\"type\":\"bar\"}],\"scattergeo\":[{\"type\":\"scattergeo\",\"marker\":{\"colorbar\":{\"outlinewidth\":0,\"ticks\":\"\"}}}],\"scatterpolar\":[{\"type\":\"scatterpolar\",\"marker\":{\"colorbar\":{\"outlinewidth\":0,\"ticks\":\"\"}}}],\"histogram\":[{\"marker\":{\"pattern\":{\"fillmode\":\"overlay\",\"size\":10,\"solidity\":0.2}},\"type\":\"histogram\"}],\"scattergl\":[{\"type\":\"scattergl\",\"marker\":{\"colorbar\":{\"outlinewidth\":0,\"ticks\":\"\"}}}],\"scatter3d\":[{\"type\":\"scatter3d\",\"line\":{\"colorbar\":{\"outlinewidth\":0,\"ticks\":\"\"}},\"marker\":{\"colorbar\":{\"outlinewidth\":0,\"ticks\":\"\"}}}],\"scattermapbox\":[{\"type\":\"scattermapbox\",\"marker\":{\"colorbar\":{\"outlinewidth\":0,\"ticks\":\"\"}}}],\"scatterternary\":[{\"type\":\"scatterternary\",\"marker\":{\"colorbar\":{\"outlinewidth\":0,\"ticks\":\"\"}}}],\"scattercarpet\":[{\"type\":\"scattercarpet\",\"marker\":{\"colorbar\":{\"outlinewidth\":0,\"ticks\":\"\"}}}],\"carpet\":[{\"aaxis\":{\"endlinecolor\":\"#2a3f5f\",\"gridcolor\":\"white\",\"linecolor\":\"white\",\"minorgridcolor\":\"white\",\"startlinecolor\":\"#2a3f5f\"},\"baxis\":{\"endlinecolor\":\"#2a3f5f\",\"gridcolor\":\"white\",\"linecolor\":\"white\",\"minorgridcolor\":\"white\",\"startlinecolor\":\"#2a3f5f\"},\"type\":\"carpet\"}],\"table\":[{\"cells\":{\"fill\":{\"color\":\"#EBF0F8\"},\"line\":{\"color\":\"white\"}},\"header\":{\"fill\":{\"color\":\"#C8D4E3\"},\"line\":{\"color\":\"white\"}},\"type\":\"table\"}],\"barpolar\":[{\"marker\":{\"line\":{\"color\":\"#E5ECF6\",\"width\":0.5},\"pattern\":{\"fillmode\":\"overlay\",\"size\":10,\"solidity\":0.2}},\"type\":\"barpolar\"}],\"pie\":[{\"automargin\":true,\"type\":\"pie\"}]},\"layout\":{\"autotypenumbers\":\"strict\",\"colorway\":[\"#636efa\",\"#EF553B\",\"#00cc96\",\"#ab63fa\",\"#FFA15A\",\"#19d3f3\",\"#FF6692\",\"#B6E880\",\"#FF97FF\",\"#FECB52\"],\"font\":{\"color\":\"#2a3f5f\"},\"hovermode\":\"closest\",\"hoverlabel\":{\"align\":\"left\"},\"paper_bgcolor\":\"white\",\"plot_bgcolor\":\"#E5ECF6\",\"polar\":{\"bgcolor\":\"#E5ECF6\",\"angularaxis\":{\"gridcolor\":\"white\",\"linecolor\":\"white\",\"ticks\":\"\"},\"radialaxis\":{\"gridcolor\":\"white\",\"linecolor\":\"white\",\"ticks\":\"\"}},\"ternary\":{\"bgcolor\":\"#E5ECF6\",\"aaxis\":{\"gridcolor\":\"white\",\"linecolor\":\"white\",\"ticks\":\"\"},\"baxis\":{\"gridcolor\":\"white\",\"linecolor\":\"white\",\"ticks\":\"\"},\"caxis\":{\"gridcolor\":\"white\",\"linecolor\":\"white\",\"ticks\":\"\"}},\"coloraxis\":{\"colorbar\":{\"outlinewidth\":0,\"ticks\":\"\"}},\"colorscale\":{\"sequential\":[[0.0,\"#0d0887\"],[0.1111111111111111,\"#46039f\"],[0.2222222222222222,\"#7201a8\"],[0.3333333333333333,\"#9c179e\"],[0.4444444444444444,\"#bd3786\"],[0.5555555555555556,\"#d8576b\"],[0.6666666666666666,\"#ed7953\"],[0.7777777777777778,\"#fb9f3a\"],[0.8888888888888888,\"#fdca26\"],[1.0,\"#f0f921\"]],\"sequentialminus\":[[0.0,\"#0d0887\"],[0.1111111111111111,\"#46039f\"],[0.2222222222222222,\"#7201a8\"],[0.3333333333333333,\"#9c179e\"],[0.4444444444444444,\"#bd3786\"],[0.5555555555555556,\"#d8576b\"],[0.6666666666666666,\"#ed7953\"],[0.7777777777777778,\"#fb9f3a\"],[0.8888888888888888,\"#fdca26\"],[1.0,\"#f0f921\"]],\"diverging\":[[0,\"#8e0152\"],[0.1,\"#c51b7d\"],[0.2,\"#de77ae\"],[0.3,\"#f1b6da\"],[0.4,\"#fde0ef\"],[0.5,\"#f7f7f7\"],[0.6,\"#e6f5d0\"],[0.7,\"#b8e186\"],[0.8,\"#7fbc41\"],[0.9,\"#4d9221\"],[1,\"#276419\"]]},\"xaxis\":{\"gridcolor\":\"white\",\"linecolor\":\"white\",\"ticks\":\"\",\"title\":{\"standoff\":15},\"zerolinecolor\":\"white\",\"automargin\":true,\"zerolinewidth\":2},\"yaxis\":{\"gridcolor\":\"white\",\"linecolor\":\"white\",\"ticks\":\"\",\"title\":{\"standoff\":15},\"zerolinecolor\":\"white\",\"automargin\":true,\"zerolinewidth\":2},\"scene\":{\"xaxis\":{\"backgroundcolor\":\"#E5ECF6\",\"gridcolor\":\"white\",\"linecolor\":\"white\",\"showbackground\":true,\"ticks\":\"\",\"zerolinecolor\":\"white\",\"gridwidth\":2},\"yaxis\":{\"backgroundcolor\":\"#E5ECF6\",\"gridcolor\":\"white\",\"linecolor\":\"white\",\"showbackground\":true,\"ticks\":\"\",\"zerolinecolor\":\"white\",\"gridwidth\":2},\"zaxis\":{\"backgroundcolor\":\"#E5ECF6\",\"gridcolor\":\"white\",\"linecolor\":\"white\",\"showbackground\":true,\"ticks\":\"\",\"zerolinecolor\":\"white\",\"gridwidth\":2}},\"shapedefaults\":{\"line\":{\"color\":\"#2a3f5f\"}},\"annotationdefaults\":{\"arrowcolor\":\"#2a3f5f\",\"arrowhead\":0,\"arrowwidth\":1},\"geo\":{\"bgcolor\":\"white\",\"landcolor\":\"#E5ECF6\",\"subunitcolor\":\"white\",\"showland\":true,\"showlakes\":true,\"lakecolor\":\"white\"},\"title\":{\"x\":0.05},\"mapbox\":{\"style\":\"light\"}}},\"xaxis\":{\"anchor\":\"y\",\"domain\":[0.0,1.0],\"title\":{\"text\":\"Date\"}},\"yaxis\":{\"anchor\":\"x\",\"domain\":[0.0,1.0],\"title\":{\"text\":\"value\"}},\"legend\":{\"title\":{\"text\":\"variable\"},\"tracegroupgap\":0},\"title\":{\"text\":\"US House prices vs Sentiment Score\"}},                        {\"responsive\": true}                    ).then(function(){\n",
              "                            \n",
              "var gd = document.getElementById('322336e4-9897-4f2f-b3e8-6ebb724ff8bb');\n",
              "var x = new MutationObserver(function (mutations, observer) {{\n",
              "        var display = window.getComputedStyle(gd).display;\n",
              "        if (!display || display === 'none') {{\n",
              "            console.log([gd, 'removed!']);\n",
              "            Plotly.purge(gd);\n",
              "            observer.disconnect();\n",
              "        }}\n",
              "}});\n",
              "\n",
              "// Listen for the removal of the full notebook cells\n",
              "var notebookContainer = gd.closest('#notebook-container');\n",
              "if (notebookContainer) {{\n",
              "    x.observe(notebookContainer, {childList: true});\n",
              "}}\n",
              "\n",
              "// Listen for the clearing of the current output cell\n",
              "var outputEl = gd.closest('.output');\n",
              "if (outputEl) {{\n",
              "    x.observe(outputEl, {childList: true});\n",
              "}}\n",
              "\n",
              "                        })                };                            </script>        </div>\n",
              "</body>\n",
              "</html>"
            ]
          },
          "metadata": {}
        }
      ]
    },
    {
      "cell_type": "code",
      "source": [
        "px.scatter(new_df,\n",
        "           x='CSUSHPISA',\n",
        "           y='MedianSalePrice', color='Month',\n",
        "           title='Median Prices vs House Price Index')"
      ],
      "metadata": {
        "colab": {
          "base_uri": "https://localhost:8080/",
          "height": 542
        },
        "id": "tpvQVf9IK01N",
        "outputId": "82d888e3-2290-4f1e-9ecd-a2379334a024"
      },
      "execution_count": 201,
      "outputs": [
        {
          "output_type": "display_data",
          "data": {
            "text/html": [
              "<html>\n",
              "<head><meta charset=\"utf-8\" /></head>\n",
              "<body>\n",
              "    <div>            <script src=\"https://cdnjs.cloudflare.com/ajax/libs/mathjax/2.7.5/MathJax.js?config=TeX-AMS-MML_SVG\"></script><script type=\"text/javascript\">if (window.MathJax && window.MathJax.Hub && window.MathJax.Hub.Config) {window.MathJax.Hub.Config({SVG: {font: \"STIX-Web\"}});}</script>                <script type=\"text/javascript\">window.PlotlyConfig = {MathJaxConfig: 'local'};</script>\n",
              "        <script charset=\"utf-8\" src=\"https://cdn.plot.ly/plotly-2.20.0.min.js\"></script>                <div id=\"c83f79d1-77b4-49fb-b40e-881dbcb6f533\" class=\"plotly-graph-div\" style=\"height:525px; width:100%;\"></div>            <script type=\"text/javascript\">                                    window.PLOTLYENV=window.PLOTLYENV || {};                                    if (document.getElementById(\"c83f79d1-77b4-49fb-b40e-881dbcb6f533\")) {                    Plotly.newPlot(                        \"c83f79d1-77b4-49fb-b40e-881dbcb6f533\",                        [{\"hovertemplate\":\"CSUSHPISA=%{x}<br>MedianSalePrice=%{y}<br>Month=%{marker.color}<extra></extra>\",\"legendgroup\":\"\",\"marker\":{\"color\":[1,4,7,10,1,4,7,10,1,4,7,10,1,4,7,10,1,4,7,10,1,4,7,10,1,4,7,10,1,4,7,10,1,4,7,10,1,4,7,10,1,4,7,10,1,4,7,10,1,4,7,10,1,4,7,10,1,4,7,10,1,4,7,10,1,4,7,10,1,4,7,10,1,4,7,10,1,4,7,10,1],\"coloraxis\":\"coloraxis\",\"symbol\":\"circle\"},\"mode\":\"markers\",\"name\":\"\",\"orientation\":\"v\",\"showlegend\":false,\"x\":[129.321,131.756,135.013,138.8356667,143.2986667,148.209,152.7166667,157.5353333,163.4813333,169.3473333,174.58,179.5393333,183.3243333,183.9973333,182.8193333,183.6493333,184.422,181.6213333,178.2613333,175.37,171.5756667,166.6723333,161.9543333,156.0286667,150.06,147.9113333,148.237,147.97,146.295,146.1713333,143.973,142.254,140.618,139.9243333,139.2346667,137.2596667,137.0143333,140.1133333,142.2863333,144.5626667,148.191,152.8543333,156.9313333,160.1023333,162.5143333,163.705,165.2326667,167.3446667,169.1906667,170.8803333,172.9643333,175.695,177.7003333,179.422,181.8356667,184.747,187.3716667,189.6213333,192.6373333,195.9763333,199.1546667,201.4513333,203.6866667,205.6396667,206.772,208.1416667,210.162,212.806,215.638,217.239,222.6413333,233.09,242.267,253.814,266.831,277.317,290.868,303.4226667,301.7263333,297.8966667,null],\"xaxis\":\"x\",\"y\":[186000,191800,191900,198800,212700,217600,213500,228800,232500,233700,236400,243600,247700,246300,235600,245400,257400,242200,241800,238400,233900,235300,226500,222500,208400,220900,214300,219000,222900,219500,224100,224300,226900,228100,223500,221100,238400,238700,248800,251700,258400,268100,264800,273600,275200,288000,281000,298900,289200,289100,295800,302500,299800,306000,303800,310900,313100,318200,320500,337900,331800,315600,330900,322800,313000,322500,318400,327100,329000,322600,337500,358700,369800,382600,411200,423600,433100,449300,468000,479500,436800],\"yaxis\":\"y\",\"type\":\"scatter\"}],                        {\"template\":{\"data\":{\"histogram2dcontour\":[{\"type\":\"histogram2dcontour\",\"colorbar\":{\"outlinewidth\":0,\"ticks\":\"\"},\"colorscale\":[[0.0,\"#0d0887\"],[0.1111111111111111,\"#46039f\"],[0.2222222222222222,\"#7201a8\"],[0.3333333333333333,\"#9c179e\"],[0.4444444444444444,\"#bd3786\"],[0.5555555555555556,\"#d8576b\"],[0.6666666666666666,\"#ed7953\"],[0.7777777777777778,\"#fb9f3a\"],[0.8888888888888888,\"#fdca26\"],[1.0,\"#f0f921\"]]}],\"choropleth\":[{\"type\":\"choropleth\",\"colorbar\":{\"outlinewidth\":0,\"ticks\":\"\"}}],\"histogram2d\":[{\"type\":\"histogram2d\",\"colorbar\":{\"outlinewidth\":0,\"ticks\":\"\"},\"colorscale\":[[0.0,\"#0d0887\"],[0.1111111111111111,\"#46039f\"],[0.2222222222222222,\"#7201a8\"],[0.3333333333333333,\"#9c179e\"],[0.4444444444444444,\"#bd3786\"],[0.5555555555555556,\"#d8576b\"],[0.6666666666666666,\"#ed7953\"],[0.7777777777777778,\"#fb9f3a\"],[0.8888888888888888,\"#fdca26\"],[1.0,\"#f0f921\"]]}],\"heatmap\":[{\"type\":\"heatmap\",\"colorbar\":{\"outlinewidth\":0,\"ticks\":\"\"},\"colorscale\":[[0.0,\"#0d0887\"],[0.1111111111111111,\"#46039f\"],[0.2222222222222222,\"#7201a8\"],[0.3333333333333333,\"#9c179e\"],[0.4444444444444444,\"#bd3786\"],[0.5555555555555556,\"#d8576b\"],[0.6666666666666666,\"#ed7953\"],[0.7777777777777778,\"#fb9f3a\"],[0.8888888888888888,\"#fdca26\"],[1.0,\"#f0f921\"]]}],\"heatmapgl\":[{\"type\":\"heatmapgl\",\"colorbar\":{\"outlinewidth\":0,\"ticks\":\"\"},\"colorscale\":[[0.0,\"#0d0887\"],[0.1111111111111111,\"#46039f\"],[0.2222222222222222,\"#7201a8\"],[0.3333333333333333,\"#9c179e\"],[0.4444444444444444,\"#bd3786\"],[0.5555555555555556,\"#d8576b\"],[0.6666666666666666,\"#ed7953\"],[0.7777777777777778,\"#fb9f3a\"],[0.8888888888888888,\"#fdca26\"],[1.0,\"#f0f921\"]]}],\"contourcarpet\":[{\"type\":\"contourcarpet\",\"colorbar\":{\"outlinewidth\":0,\"ticks\":\"\"}}],\"contour\":[{\"type\":\"contour\",\"colorbar\":{\"outlinewidth\":0,\"ticks\":\"\"},\"colorscale\":[[0.0,\"#0d0887\"],[0.1111111111111111,\"#46039f\"],[0.2222222222222222,\"#7201a8\"],[0.3333333333333333,\"#9c179e\"],[0.4444444444444444,\"#bd3786\"],[0.5555555555555556,\"#d8576b\"],[0.6666666666666666,\"#ed7953\"],[0.7777777777777778,\"#fb9f3a\"],[0.8888888888888888,\"#fdca26\"],[1.0,\"#f0f921\"]]}],\"surface\":[{\"type\":\"surface\",\"colorbar\":{\"outlinewidth\":0,\"ticks\":\"\"},\"colorscale\":[[0.0,\"#0d0887\"],[0.1111111111111111,\"#46039f\"],[0.2222222222222222,\"#7201a8\"],[0.3333333333333333,\"#9c179e\"],[0.4444444444444444,\"#bd3786\"],[0.5555555555555556,\"#d8576b\"],[0.6666666666666666,\"#ed7953\"],[0.7777777777777778,\"#fb9f3a\"],[0.8888888888888888,\"#fdca26\"],[1.0,\"#f0f921\"]]}],\"mesh3d\":[{\"type\":\"mesh3d\",\"colorbar\":{\"outlinewidth\":0,\"ticks\":\"\"}}],\"scatter\":[{\"fillpattern\":{\"fillmode\":\"overlay\",\"size\":10,\"solidity\":0.2},\"type\":\"scatter\"}],\"parcoords\":[{\"type\":\"parcoords\",\"line\":{\"colorbar\":{\"outlinewidth\":0,\"ticks\":\"\"}}}],\"scatterpolargl\":[{\"type\":\"scatterpolargl\",\"marker\":{\"colorbar\":{\"outlinewidth\":0,\"ticks\":\"\"}}}],\"bar\":[{\"error_x\":{\"color\":\"#2a3f5f\"},\"error_y\":{\"color\":\"#2a3f5f\"},\"marker\":{\"line\":{\"color\":\"#E5ECF6\",\"width\":0.5},\"pattern\":{\"fillmode\":\"overlay\",\"size\":10,\"solidity\":0.2}},\"type\":\"bar\"}],\"scattergeo\":[{\"type\":\"scattergeo\",\"marker\":{\"colorbar\":{\"outlinewidth\":0,\"ticks\":\"\"}}}],\"scatterpolar\":[{\"type\":\"scatterpolar\",\"marker\":{\"colorbar\":{\"outlinewidth\":0,\"ticks\":\"\"}}}],\"histogram\":[{\"marker\":{\"pattern\":{\"fillmode\":\"overlay\",\"size\":10,\"solidity\":0.2}},\"type\":\"histogram\"}],\"scattergl\":[{\"type\":\"scattergl\",\"marker\":{\"colorbar\":{\"outlinewidth\":0,\"ticks\":\"\"}}}],\"scatter3d\":[{\"type\":\"scatter3d\",\"line\":{\"colorbar\":{\"outlinewidth\":0,\"ticks\":\"\"}},\"marker\":{\"colorbar\":{\"outlinewidth\":0,\"ticks\":\"\"}}}],\"scattermapbox\":[{\"type\":\"scattermapbox\",\"marker\":{\"colorbar\":{\"outlinewidth\":0,\"ticks\":\"\"}}}],\"scatterternary\":[{\"type\":\"scatterternary\",\"marker\":{\"colorbar\":{\"outlinewidth\":0,\"ticks\":\"\"}}}],\"scattercarpet\":[{\"type\":\"scattercarpet\",\"marker\":{\"colorbar\":{\"outlinewidth\":0,\"ticks\":\"\"}}}],\"carpet\":[{\"aaxis\":{\"endlinecolor\":\"#2a3f5f\",\"gridcolor\":\"white\",\"linecolor\":\"white\",\"minorgridcolor\":\"white\",\"startlinecolor\":\"#2a3f5f\"},\"baxis\":{\"endlinecolor\":\"#2a3f5f\",\"gridcolor\":\"white\",\"linecolor\":\"white\",\"minorgridcolor\":\"white\",\"startlinecolor\":\"#2a3f5f\"},\"type\":\"carpet\"}],\"table\":[{\"cells\":{\"fill\":{\"color\":\"#EBF0F8\"},\"line\":{\"color\":\"white\"}},\"header\":{\"fill\":{\"color\":\"#C8D4E3\"},\"line\":{\"color\":\"white\"}},\"type\":\"table\"}],\"barpolar\":[{\"marker\":{\"line\":{\"color\":\"#E5ECF6\",\"width\":0.5},\"pattern\":{\"fillmode\":\"overlay\",\"size\":10,\"solidity\":0.2}},\"type\":\"barpolar\"}],\"pie\":[{\"automargin\":true,\"type\":\"pie\"}]},\"layout\":{\"autotypenumbers\":\"strict\",\"colorway\":[\"#636efa\",\"#EF553B\",\"#00cc96\",\"#ab63fa\",\"#FFA15A\",\"#19d3f3\",\"#FF6692\",\"#B6E880\",\"#FF97FF\",\"#FECB52\"],\"font\":{\"color\":\"#2a3f5f\"},\"hovermode\":\"closest\",\"hoverlabel\":{\"align\":\"left\"},\"paper_bgcolor\":\"white\",\"plot_bgcolor\":\"#E5ECF6\",\"polar\":{\"bgcolor\":\"#E5ECF6\",\"angularaxis\":{\"gridcolor\":\"white\",\"linecolor\":\"white\",\"ticks\":\"\"},\"radialaxis\":{\"gridcolor\":\"white\",\"linecolor\":\"white\",\"ticks\":\"\"}},\"ternary\":{\"bgcolor\":\"#E5ECF6\",\"aaxis\":{\"gridcolor\":\"white\",\"linecolor\":\"white\",\"ticks\":\"\"},\"baxis\":{\"gridcolor\":\"white\",\"linecolor\":\"white\",\"ticks\":\"\"},\"caxis\":{\"gridcolor\":\"white\",\"linecolor\":\"white\",\"ticks\":\"\"}},\"coloraxis\":{\"colorbar\":{\"outlinewidth\":0,\"ticks\":\"\"}},\"colorscale\":{\"sequential\":[[0.0,\"#0d0887\"],[0.1111111111111111,\"#46039f\"],[0.2222222222222222,\"#7201a8\"],[0.3333333333333333,\"#9c179e\"],[0.4444444444444444,\"#bd3786\"],[0.5555555555555556,\"#d8576b\"],[0.6666666666666666,\"#ed7953\"],[0.7777777777777778,\"#fb9f3a\"],[0.8888888888888888,\"#fdca26\"],[1.0,\"#f0f921\"]],\"sequentialminus\":[[0.0,\"#0d0887\"],[0.1111111111111111,\"#46039f\"],[0.2222222222222222,\"#7201a8\"],[0.3333333333333333,\"#9c179e\"],[0.4444444444444444,\"#bd3786\"],[0.5555555555555556,\"#d8576b\"],[0.6666666666666666,\"#ed7953\"],[0.7777777777777778,\"#fb9f3a\"],[0.8888888888888888,\"#fdca26\"],[1.0,\"#f0f921\"]],\"diverging\":[[0,\"#8e0152\"],[0.1,\"#c51b7d\"],[0.2,\"#de77ae\"],[0.3,\"#f1b6da\"],[0.4,\"#fde0ef\"],[0.5,\"#f7f7f7\"],[0.6,\"#e6f5d0\"],[0.7,\"#b8e186\"],[0.8,\"#7fbc41\"],[0.9,\"#4d9221\"],[1,\"#276419\"]]},\"xaxis\":{\"gridcolor\":\"white\",\"linecolor\":\"white\",\"ticks\":\"\",\"title\":{\"standoff\":15},\"zerolinecolor\":\"white\",\"automargin\":true,\"zerolinewidth\":2},\"yaxis\":{\"gridcolor\":\"white\",\"linecolor\":\"white\",\"ticks\":\"\",\"title\":{\"standoff\":15},\"zerolinecolor\":\"white\",\"automargin\":true,\"zerolinewidth\":2},\"scene\":{\"xaxis\":{\"backgroundcolor\":\"#E5ECF6\",\"gridcolor\":\"white\",\"linecolor\":\"white\",\"showbackground\":true,\"ticks\":\"\",\"zerolinecolor\":\"white\",\"gridwidth\":2},\"yaxis\":{\"backgroundcolor\":\"#E5ECF6\",\"gridcolor\":\"white\",\"linecolor\":\"white\",\"showbackground\":true,\"ticks\":\"\",\"zerolinecolor\":\"white\",\"gridwidth\":2},\"zaxis\":{\"backgroundcolor\":\"#E5ECF6\",\"gridcolor\":\"white\",\"linecolor\":\"white\",\"showbackground\":true,\"ticks\":\"\",\"zerolinecolor\":\"white\",\"gridwidth\":2}},\"shapedefaults\":{\"line\":{\"color\":\"#2a3f5f\"}},\"annotationdefaults\":{\"arrowcolor\":\"#2a3f5f\",\"arrowhead\":0,\"arrowwidth\":1},\"geo\":{\"bgcolor\":\"white\",\"landcolor\":\"#E5ECF6\",\"subunitcolor\":\"white\",\"showland\":true,\"showlakes\":true,\"lakecolor\":\"white\"},\"title\":{\"x\":0.05},\"mapbox\":{\"style\":\"light\"}}},\"xaxis\":{\"anchor\":\"y\",\"domain\":[0.0,1.0],\"title\":{\"text\":\"CSUSHPISA\"}},\"yaxis\":{\"anchor\":\"x\",\"domain\":[0.0,1.0],\"title\":{\"text\":\"MedianSalePrice\"}},\"coloraxis\":{\"colorbar\":{\"title\":{\"text\":\"Month\"}},\"colorscale\":[[0.0,\"#0d0887\"],[0.1111111111111111,\"#46039f\"],[0.2222222222222222,\"#7201a8\"],[0.3333333333333333,\"#9c179e\"],[0.4444444444444444,\"#bd3786\"],[0.5555555555555556,\"#d8576b\"],[0.6666666666666666,\"#ed7953\"],[0.7777777777777778,\"#fb9f3a\"],[0.8888888888888888,\"#fdca26\"],[1.0,\"#f0f921\"]]},\"legend\":{\"tracegroupgap\":0},\"title\":{\"text\":\"Median Prices vs House Price Index\"}},                        {\"responsive\": true}                    ).then(function(){\n",
              "                            \n",
              "var gd = document.getElementById('c83f79d1-77b4-49fb-b40e-881dbcb6f533');\n",
              "var x = new MutationObserver(function (mutations, observer) {{\n",
              "        var display = window.getComputedStyle(gd).display;\n",
              "        if (!display || display === 'none') {{\n",
              "            console.log([gd, 'removed!']);\n",
              "            Plotly.purge(gd);\n",
              "            observer.disconnect();\n",
              "        }}\n",
              "}});\n",
              "\n",
              "// Listen for the removal of the full notebook cells\n",
              "var notebookContainer = gd.closest('#notebook-container');\n",
              "if (notebookContainer) {{\n",
              "    x.observe(notebookContainer, {childList: true});\n",
              "}}\n",
              "\n",
              "// Listen for the clearing of the current output cell\n",
              "var outputEl = gd.closest('.output');\n",
              "if (outputEl) {{\n",
              "    x.observe(outputEl, {childList: true});\n",
              "}}\n",
              "\n",
              "                        })                };                            </script>        </div>\n",
              "</body>\n",
              "</html>"
            ]
          },
          "metadata": {}
        }
      ]
    },
    {
      "cell_type": "code",
      "source": [
        "px.line(new_df,\n",
        "        x='Date',\n",
        "        y=['InterestRates','MedianSalePrice'],\n",
        "        title='Comparing the Interest rates and the Median Prices')"
      ],
      "metadata": {
        "colab": {
          "base_uri": "https://localhost:8080/",
          "height": 542
        },
        "id": "rwpGn48BKfdj",
        "outputId": "e6209c8d-b5cd-4315-c25d-61d1df88de38"
      },
      "execution_count": 202,
      "outputs": [
        {
          "output_type": "display_data",
          "data": {
            "text/html": [
              "<html>\n",
              "<head><meta charset=\"utf-8\" /></head>\n",
              "<body>\n",
              "    <div>            <script src=\"https://cdnjs.cloudflare.com/ajax/libs/mathjax/2.7.5/MathJax.js?config=TeX-AMS-MML_SVG\"></script><script type=\"text/javascript\">if (window.MathJax && window.MathJax.Hub && window.MathJax.Hub.Config) {window.MathJax.Hub.Config({SVG: {font: \"STIX-Web\"}});}</script>                <script type=\"text/javascript\">window.PlotlyConfig = {MathJaxConfig: 'local'};</script>\n",
              "        <script charset=\"utf-8\" src=\"https://cdn.plot.ly/plotly-2.20.0.min.js\"></script>                <div id=\"302d6cc3-2b3f-4d04-9848-07fb176de5af\" class=\"plotly-graph-div\" style=\"height:525px; width:100%;\"></div>            <script type=\"text/javascript\">                                    window.PLOTLYENV=window.PLOTLYENV || {};                                    if (document.getElementById(\"302d6cc3-2b3f-4d04-9848-07fb176de5af\")) {                    Plotly.newPlot(                        \"302d6cc3-2b3f-4d04-9848-07fb176de5af\",                        [{\"hovertemplate\":\"variable=InterestRates<br>Date=%{x}<br>value=%{y}<extra></extra>\",\"legendgroup\":\"InterestRates\",\"line\":{\"color\":\"#636efa\",\"dash\":\"solid\"},\"marker\":{\"symbol\":\"circle\"},\"mode\":\"lines\",\"name\":\"InterestRates\",\"orientation\":\"v\",\"showlegend\":true,\"x\":[\"2003-01-01T00:00:00\",\"2003-04-01T00:00:00\",\"2003-07-01T00:00:00\",\"2003-10-01T00:00:00\",\"2004-01-01T00:00:00\",\"2004-04-01T00:00:00\",\"2004-07-01T00:00:00\",\"2004-10-01T00:00:00\",\"2005-01-01T00:00:00\",\"2005-04-01T00:00:00\",\"2005-07-01T00:00:00\",\"2005-10-01T00:00:00\",\"2006-01-01T00:00:00\",\"2006-04-01T00:00:00\",\"2006-07-01T00:00:00\",\"2006-10-01T00:00:00\",\"2007-01-01T00:00:00\",\"2007-04-01T00:00:00\",\"2007-07-01T00:00:00\",\"2007-10-01T00:00:00\",\"2008-01-01T00:00:00\",\"2008-04-01T00:00:00\",\"2008-07-01T00:00:00\",\"2008-10-01T00:00:00\",\"2009-01-01T00:00:00\",\"2009-04-01T00:00:00\",\"2009-07-01T00:00:00\",\"2009-10-01T00:00:00\",\"2010-01-01T00:00:00\",\"2010-04-01T00:00:00\",\"2010-07-01T00:00:00\",\"2010-10-01T00:00:00\",\"2011-01-01T00:00:00\",\"2011-04-01T00:00:00\",\"2011-07-01T00:00:00\",\"2011-10-01T00:00:00\",\"2012-01-01T00:00:00\",\"2012-04-01T00:00:00\",\"2012-07-01T00:00:00\",\"2012-10-01T00:00:00\",\"2013-01-01T00:00:00\",\"2013-04-01T00:00:00\",\"2013-07-01T00:00:00\",\"2013-10-01T00:00:00\",\"2014-01-01T00:00:00\",\"2014-04-01T00:00:00\",\"2014-07-01T00:00:00\",\"2014-10-01T00:00:00\",\"2015-01-01T00:00:00\",\"2015-04-01T00:00:00\",\"2015-07-01T00:00:00\",\"2015-10-01T00:00:00\",\"2016-01-01T00:00:00\",\"2016-04-01T00:00:00\",\"2016-07-01T00:00:00\",\"2016-10-01T00:00:00\",\"2017-01-01T00:00:00\",\"2017-04-01T00:00:00\",\"2017-07-01T00:00:00\",\"2017-10-01T00:00:00\",\"2018-01-01T00:00:00\",\"2018-04-01T00:00:00\",\"2018-07-01T00:00:00\",\"2018-10-01T00:00:00\",\"2019-01-01T00:00:00\",\"2019-04-01T00:00:00\",\"2019-07-01T00:00:00\",\"2019-10-01T00:00:00\",\"2020-01-01T00:00:00\",\"2020-04-01T00:00:00\",\"2020-07-01T00:00:00\",\"2020-10-01T00:00:00\",\"2021-01-01T00:00:00\",\"2021-04-01T00:00:00\",\"2021-07-01T00:00:00\",\"2021-10-01T00:00:00\",\"2022-01-01T00:00:00\",\"2022-04-01T00:00:00\",\"2022-07-01T00:00:00\",\"2022-10-01T00:00:00\",\"2023-01-01T00:00:00\"],\"xaxis\":\"x\",\"y\":[2.25,2.166666667,2.0,2.0,2.0,2.083333333,2.5,3.0,3.5,4.0,4.5,5.0,5.583333333,6.0,6.25,6.25,6.25,6.25,5.75,4.916666667,3.166666667,2.25,2.25,1.0,0.5,0.5,0.5,0.5,0.666666667,0.75,0.75,0.75,0.75,0.75,0.75,0.75,0.75,0.75,0.75,0.75,0.75,0.75,0.75,0.75,0.75,0.75,0.75,0.75,0.75,0.75,0.75,0.833333333,1.0,1.0,1.0,1.083333333,1.333333333,1.583333333,1.75,1.833333333,2.083333333,2.333333333,2.583333333,2.833333333,3.0,3.0,2.75,2.25,1.583333333,0.25,0.25,0.25,0.25,0.25,null,null,null,null,null,null,null],\"yaxis\":\"y\",\"type\":\"scatter\"},{\"hovertemplate\":\"variable=MedianSalePrice<br>Date=%{x}<br>value=%{y}<extra></extra>\",\"legendgroup\":\"MedianSalePrice\",\"line\":{\"color\":\"#EF553B\",\"dash\":\"solid\"},\"marker\":{\"symbol\":\"circle\"},\"mode\":\"lines\",\"name\":\"MedianSalePrice\",\"orientation\":\"v\",\"showlegend\":true,\"x\":[\"2003-01-01T00:00:00\",\"2003-04-01T00:00:00\",\"2003-07-01T00:00:00\",\"2003-10-01T00:00:00\",\"2004-01-01T00:00:00\",\"2004-04-01T00:00:00\",\"2004-07-01T00:00:00\",\"2004-10-01T00:00:00\",\"2005-01-01T00:00:00\",\"2005-04-01T00:00:00\",\"2005-07-01T00:00:00\",\"2005-10-01T00:00:00\",\"2006-01-01T00:00:00\",\"2006-04-01T00:00:00\",\"2006-07-01T00:00:00\",\"2006-10-01T00:00:00\",\"2007-01-01T00:00:00\",\"2007-04-01T00:00:00\",\"2007-07-01T00:00:00\",\"2007-10-01T00:00:00\",\"2008-01-01T00:00:00\",\"2008-04-01T00:00:00\",\"2008-07-01T00:00:00\",\"2008-10-01T00:00:00\",\"2009-01-01T00:00:00\",\"2009-04-01T00:00:00\",\"2009-07-01T00:00:00\",\"2009-10-01T00:00:00\",\"2010-01-01T00:00:00\",\"2010-04-01T00:00:00\",\"2010-07-01T00:00:00\",\"2010-10-01T00:00:00\",\"2011-01-01T00:00:00\",\"2011-04-01T00:00:00\",\"2011-07-01T00:00:00\",\"2011-10-01T00:00:00\",\"2012-01-01T00:00:00\",\"2012-04-01T00:00:00\",\"2012-07-01T00:00:00\",\"2012-10-01T00:00:00\",\"2013-01-01T00:00:00\",\"2013-04-01T00:00:00\",\"2013-07-01T00:00:00\",\"2013-10-01T00:00:00\",\"2014-01-01T00:00:00\",\"2014-04-01T00:00:00\",\"2014-07-01T00:00:00\",\"2014-10-01T00:00:00\",\"2015-01-01T00:00:00\",\"2015-04-01T00:00:00\",\"2015-07-01T00:00:00\",\"2015-10-01T00:00:00\",\"2016-01-01T00:00:00\",\"2016-04-01T00:00:00\",\"2016-07-01T00:00:00\",\"2016-10-01T00:00:00\",\"2017-01-01T00:00:00\",\"2017-04-01T00:00:00\",\"2017-07-01T00:00:00\",\"2017-10-01T00:00:00\",\"2018-01-01T00:00:00\",\"2018-04-01T00:00:00\",\"2018-07-01T00:00:00\",\"2018-10-01T00:00:00\",\"2019-01-01T00:00:00\",\"2019-04-01T00:00:00\",\"2019-07-01T00:00:00\",\"2019-10-01T00:00:00\",\"2020-01-01T00:00:00\",\"2020-04-01T00:00:00\",\"2020-07-01T00:00:00\",\"2020-10-01T00:00:00\",\"2021-01-01T00:00:00\",\"2021-04-01T00:00:00\",\"2021-07-01T00:00:00\",\"2021-10-01T00:00:00\",\"2022-01-01T00:00:00\",\"2022-04-01T00:00:00\",\"2022-07-01T00:00:00\",\"2022-10-01T00:00:00\",\"2023-01-01T00:00:00\"],\"xaxis\":\"x\",\"y\":[186000.0,191800.0,191900.0,198800.0,212700.0,217600.0,213500.0,228800.0,232500.0,233700.0,236400.0,243600.0,247700.0,246300.0,235600.0,245400.0,257400.0,242200.0,241800.0,238400.0,233900.0,235300.0,226500.0,222500.0,208400.0,220900.0,214300.0,219000.0,222900.0,219500.0,224100.0,224300.0,226900.0,228100.0,223500.0,221100.0,238400.0,238700.0,248800.0,251700.0,258400.0,268100.0,264800.0,273600.0,275200.0,288000.0,281000.0,298900.0,289200.0,289100.0,295800.0,302500.0,299800.0,306000.0,303800.0,310900.0,313100.0,318200.0,320500.0,337900.0,331800.0,315600.0,330900.0,322800.0,313000.0,322500.0,318400.0,327100.0,329000.0,322600.0,337500.0,358700.0,369800.0,382600.0,411200.0,423600.0,433100.0,449300.0,468000.0,479500.0,436800.0],\"yaxis\":\"y\",\"type\":\"scatter\"}],                        {\"template\":{\"data\":{\"histogram2dcontour\":[{\"type\":\"histogram2dcontour\",\"colorbar\":{\"outlinewidth\":0,\"ticks\":\"\"},\"colorscale\":[[0.0,\"#0d0887\"],[0.1111111111111111,\"#46039f\"],[0.2222222222222222,\"#7201a8\"],[0.3333333333333333,\"#9c179e\"],[0.4444444444444444,\"#bd3786\"],[0.5555555555555556,\"#d8576b\"],[0.6666666666666666,\"#ed7953\"],[0.7777777777777778,\"#fb9f3a\"],[0.8888888888888888,\"#fdca26\"],[1.0,\"#f0f921\"]]}],\"choropleth\":[{\"type\":\"choropleth\",\"colorbar\":{\"outlinewidth\":0,\"ticks\":\"\"}}],\"histogram2d\":[{\"type\":\"histogram2d\",\"colorbar\":{\"outlinewidth\":0,\"ticks\":\"\"},\"colorscale\":[[0.0,\"#0d0887\"],[0.1111111111111111,\"#46039f\"],[0.2222222222222222,\"#7201a8\"],[0.3333333333333333,\"#9c179e\"],[0.4444444444444444,\"#bd3786\"],[0.5555555555555556,\"#d8576b\"],[0.6666666666666666,\"#ed7953\"],[0.7777777777777778,\"#fb9f3a\"],[0.8888888888888888,\"#fdca26\"],[1.0,\"#f0f921\"]]}],\"heatmap\":[{\"type\":\"heatmap\",\"colorbar\":{\"outlinewidth\":0,\"ticks\":\"\"},\"colorscale\":[[0.0,\"#0d0887\"],[0.1111111111111111,\"#46039f\"],[0.2222222222222222,\"#7201a8\"],[0.3333333333333333,\"#9c179e\"],[0.4444444444444444,\"#bd3786\"],[0.5555555555555556,\"#d8576b\"],[0.6666666666666666,\"#ed7953\"],[0.7777777777777778,\"#fb9f3a\"],[0.8888888888888888,\"#fdca26\"],[1.0,\"#f0f921\"]]}],\"heatmapgl\":[{\"type\":\"heatmapgl\",\"colorbar\":{\"outlinewidth\":0,\"ticks\":\"\"},\"colorscale\":[[0.0,\"#0d0887\"],[0.1111111111111111,\"#46039f\"],[0.2222222222222222,\"#7201a8\"],[0.3333333333333333,\"#9c179e\"],[0.4444444444444444,\"#bd3786\"],[0.5555555555555556,\"#d8576b\"],[0.6666666666666666,\"#ed7953\"],[0.7777777777777778,\"#fb9f3a\"],[0.8888888888888888,\"#fdca26\"],[1.0,\"#f0f921\"]]}],\"contourcarpet\":[{\"type\":\"contourcarpet\",\"colorbar\":{\"outlinewidth\":0,\"ticks\":\"\"}}],\"contour\":[{\"type\":\"contour\",\"colorbar\":{\"outlinewidth\":0,\"ticks\":\"\"},\"colorscale\":[[0.0,\"#0d0887\"],[0.1111111111111111,\"#46039f\"],[0.2222222222222222,\"#7201a8\"],[0.3333333333333333,\"#9c179e\"],[0.4444444444444444,\"#bd3786\"],[0.5555555555555556,\"#d8576b\"],[0.6666666666666666,\"#ed7953\"],[0.7777777777777778,\"#fb9f3a\"],[0.8888888888888888,\"#fdca26\"],[1.0,\"#f0f921\"]]}],\"surface\":[{\"type\":\"surface\",\"colorbar\":{\"outlinewidth\":0,\"ticks\":\"\"},\"colorscale\":[[0.0,\"#0d0887\"],[0.1111111111111111,\"#46039f\"],[0.2222222222222222,\"#7201a8\"],[0.3333333333333333,\"#9c179e\"],[0.4444444444444444,\"#bd3786\"],[0.5555555555555556,\"#d8576b\"],[0.6666666666666666,\"#ed7953\"],[0.7777777777777778,\"#fb9f3a\"],[0.8888888888888888,\"#fdca26\"],[1.0,\"#f0f921\"]]}],\"mesh3d\":[{\"type\":\"mesh3d\",\"colorbar\":{\"outlinewidth\":0,\"ticks\":\"\"}}],\"scatter\":[{\"fillpattern\":{\"fillmode\":\"overlay\",\"size\":10,\"solidity\":0.2},\"type\":\"scatter\"}],\"parcoords\":[{\"type\":\"parcoords\",\"line\":{\"colorbar\":{\"outlinewidth\":0,\"ticks\":\"\"}}}],\"scatterpolargl\":[{\"type\":\"scatterpolargl\",\"marker\":{\"colorbar\":{\"outlinewidth\":0,\"ticks\":\"\"}}}],\"bar\":[{\"error_x\":{\"color\":\"#2a3f5f\"},\"error_y\":{\"color\":\"#2a3f5f\"},\"marker\":{\"line\":{\"color\":\"#E5ECF6\",\"width\":0.5},\"pattern\":{\"fillmode\":\"overlay\",\"size\":10,\"solidity\":0.2}},\"type\":\"bar\"}],\"scattergeo\":[{\"type\":\"scattergeo\",\"marker\":{\"colorbar\":{\"outlinewidth\":0,\"ticks\":\"\"}}}],\"scatterpolar\":[{\"type\":\"scatterpolar\",\"marker\":{\"colorbar\":{\"outlinewidth\":0,\"ticks\":\"\"}}}],\"histogram\":[{\"marker\":{\"pattern\":{\"fillmode\":\"overlay\",\"size\":10,\"solidity\":0.2}},\"type\":\"histogram\"}],\"scattergl\":[{\"type\":\"scattergl\",\"marker\":{\"colorbar\":{\"outlinewidth\":0,\"ticks\":\"\"}}}],\"scatter3d\":[{\"type\":\"scatter3d\",\"line\":{\"colorbar\":{\"outlinewidth\":0,\"ticks\":\"\"}},\"marker\":{\"colorbar\":{\"outlinewidth\":0,\"ticks\":\"\"}}}],\"scattermapbox\":[{\"type\":\"scattermapbox\",\"marker\":{\"colorbar\":{\"outlinewidth\":0,\"ticks\":\"\"}}}],\"scatterternary\":[{\"type\":\"scatterternary\",\"marker\":{\"colorbar\":{\"outlinewidth\":0,\"ticks\":\"\"}}}],\"scattercarpet\":[{\"type\":\"scattercarpet\",\"marker\":{\"colorbar\":{\"outlinewidth\":0,\"ticks\":\"\"}}}],\"carpet\":[{\"aaxis\":{\"endlinecolor\":\"#2a3f5f\",\"gridcolor\":\"white\",\"linecolor\":\"white\",\"minorgridcolor\":\"white\",\"startlinecolor\":\"#2a3f5f\"},\"baxis\":{\"endlinecolor\":\"#2a3f5f\",\"gridcolor\":\"white\",\"linecolor\":\"white\",\"minorgridcolor\":\"white\",\"startlinecolor\":\"#2a3f5f\"},\"type\":\"carpet\"}],\"table\":[{\"cells\":{\"fill\":{\"color\":\"#EBF0F8\"},\"line\":{\"color\":\"white\"}},\"header\":{\"fill\":{\"color\":\"#C8D4E3\"},\"line\":{\"color\":\"white\"}},\"type\":\"table\"}],\"barpolar\":[{\"marker\":{\"line\":{\"color\":\"#E5ECF6\",\"width\":0.5},\"pattern\":{\"fillmode\":\"overlay\",\"size\":10,\"solidity\":0.2}},\"type\":\"barpolar\"}],\"pie\":[{\"automargin\":true,\"type\":\"pie\"}]},\"layout\":{\"autotypenumbers\":\"strict\",\"colorway\":[\"#636efa\",\"#EF553B\",\"#00cc96\",\"#ab63fa\",\"#FFA15A\",\"#19d3f3\",\"#FF6692\",\"#B6E880\",\"#FF97FF\",\"#FECB52\"],\"font\":{\"color\":\"#2a3f5f\"},\"hovermode\":\"closest\",\"hoverlabel\":{\"align\":\"left\"},\"paper_bgcolor\":\"white\",\"plot_bgcolor\":\"#E5ECF6\",\"polar\":{\"bgcolor\":\"#E5ECF6\",\"angularaxis\":{\"gridcolor\":\"white\",\"linecolor\":\"white\",\"ticks\":\"\"},\"radialaxis\":{\"gridcolor\":\"white\",\"linecolor\":\"white\",\"ticks\":\"\"}},\"ternary\":{\"bgcolor\":\"#E5ECF6\",\"aaxis\":{\"gridcolor\":\"white\",\"linecolor\":\"white\",\"ticks\":\"\"},\"baxis\":{\"gridcolor\":\"white\",\"linecolor\":\"white\",\"ticks\":\"\"},\"caxis\":{\"gridcolor\":\"white\",\"linecolor\":\"white\",\"ticks\":\"\"}},\"coloraxis\":{\"colorbar\":{\"outlinewidth\":0,\"ticks\":\"\"}},\"colorscale\":{\"sequential\":[[0.0,\"#0d0887\"],[0.1111111111111111,\"#46039f\"],[0.2222222222222222,\"#7201a8\"],[0.3333333333333333,\"#9c179e\"],[0.4444444444444444,\"#bd3786\"],[0.5555555555555556,\"#d8576b\"],[0.6666666666666666,\"#ed7953\"],[0.7777777777777778,\"#fb9f3a\"],[0.8888888888888888,\"#fdca26\"],[1.0,\"#f0f921\"]],\"sequentialminus\":[[0.0,\"#0d0887\"],[0.1111111111111111,\"#46039f\"],[0.2222222222222222,\"#7201a8\"],[0.3333333333333333,\"#9c179e\"],[0.4444444444444444,\"#bd3786\"],[0.5555555555555556,\"#d8576b\"],[0.6666666666666666,\"#ed7953\"],[0.7777777777777778,\"#fb9f3a\"],[0.8888888888888888,\"#fdca26\"],[1.0,\"#f0f921\"]],\"diverging\":[[0,\"#8e0152\"],[0.1,\"#c51b7d\"],[0.2,\"#de77ae\"],[0.3,\"#f1b6da\"],[0.4,\"#fde0ef\"],[0.5,\"#f7f7f7\"],[0.6,\"#e6f5d0\"],[0.7,\"#b8e186\"],[0.8,\"#7fbc41\"],[0.9,\"#4d9221\"],[1,\"#276419\"]]},\"xaxis\":{\"gridcolor\":\"white\",\"linecolor\":\"white\",\"ticks\":\"\",\"title\":{\"standoff\":15},\"zerolinecolor\":\"white\",\"automargin\":true,\"zerolinewidth\":2},\"yaxis\":{\"gridcolor\":\"white\",\"linecolor\":\"white\",\"ticks\":\"\",\"title\":{\"standoff\":15},\"zerolinecolor\":\"white\",\"automargin\":true,\"zerolinewidth\":2},\"scene\":{\"xaxis\":{\"backgroundcolor\":\"#E5ECF6\",\"gridcolor\":\"white\",\"linecolor\":\"white\",\"showbackground\":true,\"ticks\":\"\",\"zerolinecolor\":\"white\",\"gridwidth\":2},\"yaxis\":{\"backgroundcolor\":\"#E5ECF6\",\"gridcolor\":\"white\",\"linecolor\":\"white\",\"showbackground\":true,\"ticks\":\"\",\"zerolinecolor\":\"white\",\"gridwidth\":2},\"zaxis\":{\"backgroundcolor\":\"#E5ECF6\",\"gridcolor\":\"white\",\"linecolor\":\"white\",\"showbackground\":true,\"ticks\":\"\",\"zerolinecolor\":\"white\",\"gridwidth\":2}},\"shapedefaults\":{\"line\":{\"color\":\"#2a3f5f\"}},\"annotationdefaults\":{\"arrowcolor\":\"#2a3f5f\",\"arrowhead\":0,\"arrowwidth\":1},\"geo\":{\"bgcolor\":\"white\",\"landcolor\":\"#E5ECF6\",\"subunitcolor\":\"white\",\"showland\":true,\"showlakes\":true,\"lakecolor\":\"white\"},\"title\":{\"x\":0.05},\"mapbox\":{\"style\":\"light\"}}},\"xaxis\":{\"anchor\":\"y\",\"domain\":[0.0,1.0],\"title\":{\"text\":\"Date\"}},\"yaxis\":{\"anchor\":\"x\",\"domain\":[0.0,1.0],\"title\":{\"text\":\"value\"}},\"legend\":{\"title\":{\"text\":\"variable\"},\"tracegroupgap\":0},\"title\":{\"text\":\"Comparing the Interest rates and the Median Prices\"}},                        {\"responsive\": true}                    ).then(function(){\n",
              "                            \n",
              "var gd = document.getElementById('302d6cc3-2b3f-4d04-9848-07fb176de5af');\n",
              "var x = new MutationObserver(function (mutations, observer) {{\n",
              "        var display = window.getComputedStyle(gd).display;\n",
              "        if (!display || display === 'none') {{\n",
              "            console.log([gd, 'removed!']);\n",
              "            Plotly.purge(gd);\n",
              "            observer.disconnect();\n",
              "        }}\n",
              "}});\n",
              "\n",
              "// Listen for the removal of the full notebook cells\n",
              "var notebookContainer = gd.closest('#notebook-container');\n",
              "if (notebookContainer) {{\n",
              "    x.observe(notebookContainer, {childList: true});\n",
              "}}\n",
              "\n",
              "// Listen for the clearing of the current output cell\n",
              "var outputEl = gd.closest('.output');\n",
              "if (outputEl) {{\n",
              "    x.observe(outputEl, {childList: true});\n",
              "}}\n",
              "\n",
              "                        })                };                            </script>        </div>\n",
              "</body>\n",
              "</html>"
            ]
          },
          "metadata": {}
        }
      ]
    },
    {
      "cell_type": "code",
      "source": [
        "px.line(new_df,\n",
        "        x='Date',\n",
        "        y=['InterestRates','GDP'],\n",
        "        title='GDP vs Interest Rates')"
      ],
      "metadata": {
        "colab": {
          "base_uri": "https://localhost:8080/",
          "height": 542
        },
        "id": "G85BEAloPCt6",
        "outputId": "faa4d2bb-8cf3-4c06-a73f-94cd601c6415"
      },
      "execution_count": 203,
      "outputs": [
        {
          "output_type": "display_data",
          "data": {
            "text/html": [
              "<html>\n",
              "<head><meta charset=\"utf-8\" /></head>\n",
              "<body>\n",
              "    <div>            <script src=\"https://cdnjs.cloudflare.com/ajax/libs/mathjax/2.7.5/MathJax.js?config=TeX-AMS-MML_SVG\"></script><script type=\"text/javascript\">if (window.MathJax && window.MathJax.Hub && window.MathJax.Hub.Config) {window.MathJax.Hub.Config({SVG: {font: \"STIX-Web\"}});}</script>                <script type=\"text/javascript\">window.PlotlyConfig = {MathJaxConfig: 'local'};</script>\n",
              "        <script charset=\"utf-8\" src=\"https://cdn.plot.ly/plotly-2.20.0.min.js\"></script>                <div id=\"ba091f2e-4c8c-490f-b0a2-dad021e08a42\" class=\"plotly-graph-div\" style=\"height:525px; width:100%;\"></div>            <script type=\"text/javascript\">                                    window.PLOTLYENV=window.PLOTLYENV || {};                                    if (document.getElementById(\"ba091f2e-4c8c-490f-b0a2-dad021e08a42\")) {                    Plotly.newPlot(                        \"ba091f2e-4c8c-490f-b0a2-dad021e08a42\",                        [{\"hovertemplate\":\"variable=InterestRates<br>Date=%{x}<br>value=%{y}<extra></extra>\",\"legendgroup\":\"InterestRates\",\"line\":{\"color\":\"#636efa\",\"dash\":\"solid\"},\"marker\":{\"symbol\":\"circle\"},\"mode\":\"lines\",\"name\":\"InterestRates\",\"orientation\":\"v\",\"showlegend\":true,\"x\":[\"2003-01-01T00:00:00\",\"2003-04-01T00:00:00\",\"2003-07-01T00:00:00\",\"2003-10-01T00:00:00\",\"2004-01-01T00:00:00\",\"2004-04-01T00:00:00\",\"2004-07-01T00:00:00\",\"2004-10-01T00:00:00\",\"2005-01-01T00:00:00\",\"2005-04-01T00:00:00\",\"2005-07-01T00:00:00\",\"2005-10-01T00:00:00\",\"2006-01-01T00:00:00\",\"2006-04-01T00:00:00\",\"2006-07-01T00:00:00\",\"2006-10-01T00:00:00\",\"2007-01-01T00:00:00\",\"2007-04-01T00:00:00\",\"2007-07-01T00:00:00\",\"2007-10-01T00:00:00\",\"2008-01-01T00:00:00\",\"2008-04-01T00:00:00\",\"2008-07-01T00:00:00\",\"2008-10-01T00:00:00\",\"2009-01-01T00:00:00\",\"2009-04-01T00:00:00\",\"2009-07-01T00:00:00\",\"2009-10-01T00:00:00\",\"2010-01-01T00:00:00\",\"2010-04-01T00:00:00\",\"2010-07-01T00:00:00\",\"2010-10-01T00:00:00\",\"2011-01-01T00:00:00\",\"2011-04-01T00:00:00\",\"2011-07-01T00:00:00\",\"2011-10-01T00:00:00\",\"2012-01-01T00:00:00\",\"2012-04-01T00:00:00\",\"2012-07-01T00:00:00\",\"2012-10-01T00:00:00\",\"2013-01-01T00:00:00\",\"2013-04-01T00:00:00\",\"2013-07-01T00:00:00\",\"2013-10-01T00:00:00\",\"2014-01-01T00:00:00\",\"2014-04-01T00:00:00\",\"2014-07-01T00:00:00\",\"2014-10-01T00:00:00\",\"2015-01-01T00:00:00\",\"2015-04-01T00:00:00\",\"2015-07-01T00:00:00\",\"2015-10-01T00:00:00\",\"2016-01-01T00:00:00\",\"2016-04-01T00:00:00\",\"2016-07-01T00:00:00\",\"2016-10-01T00:00:00\",\"2017-01-01T00:00:00\",\"2017-04-01T00:00:00\",\"2017-07-01T00:00:00\",\"2017-10-01T00:00:00\",\"2018-01-01T00:00:00\",\"2018-04-01T00:00:00\",\"2018-07-01T00:00:00\",\"2018-10-01T00:00:00\",\"2019-01-01T00:00:00\",\"2019-04-01T00:00:00\",\"2019-07-01T00:00:00\",\"2019-10-01T00:00:00\",\"2020-01-01T00:00:00\",\"2020-04-01T00:00:00\",\"2020-07-01T00:00:00\",\"2020-10-01T00:00:00\",\"2021-01-01T00:00:00\",\"2021-04-01T00:00:00\",\"2021-07-01T00:00:00\",\"2021-10-01T00:00:00\",\"2022-01-01T00:00:00\",\"2022-04-01T00:00:00\",\"2022-07-01T00:00:00\",\"2022-10-01T00:00:00\",\"2023-01-01T00:00:00\"],\"xaxis\":\"x\",\"y\":[2.25,2.166666667,2.0,2.0,2.0,2.083333333,2.5,3.0,3.5,4.0,4.5,5.0,5.583333333,6.0,6.25,6.25,6.25,6.25,5.75,4.916666667,3.166666667,2.25,2.25,1.0,0.5,0.5,0.5,0.5,0.666666667,0.75,0.75,0.75,0.75,0.75,0.75,0.75,0.75,0.75,0.75,0.75,0.75,0.75,0.75,0.75,0.75,0.75,0.75,0.75,0.75,0.75,0.75,0.833333333,1.0,1.0,1.0,1.083333333,1.333333333,1.583333333,1.75,1.833333333,2.083333333,2.333333333,2.583333333,2.833333333,3.0,3.0,2.75,2.25,1.583333333,0.25,0.25,0.25,0.25,0.25,null,null,null,null,null,null,null],\"yaxis\":\"y\",\"type\":\"scatter\"},{\"hovertemplate\":\"variable=GDP<br>Date=%{x}<br>value=%{y}<extra></extra>\",\"legendgroup\":\"GDP\",\"line\":{\"color\":\"#EF553B\",\"dash\":\"solid\"},\"marker\":{\"symbol\":\"circle\"},\"mode\":\"lines\",\"name\":\"GDP\",\"orientation\":\"v\",\"showlegend\":true,\"x\":[\"2003-01-01T00:00:00\",\"2003-04-01T00:00:00\",\"2003-07-01T00:00:00\",\"2003-10-01T00:00:00\",\"2004-01-01T00:00:00\",\"2004-04-01T00:00:00\",\"2004-07-01T00:00:00\",\"2004-10-01T00:00:00\",\"2005-01-01T00:00:00\",\"2005-04-01T00:00:00\",\"2005-07-01T00:00:00\",\"2005-10-01T00:00:00\",\"2006-01-01T00:00:00\",\"2006-04-01T00:00:00\",\"2006-07-01T00:00:00\",\"2006-10-01T00:00:00\",\"2007-01-01T00:00:00\",\"2007-04-01T00:00:00\",\"2007-07-01T00:00:00\",\"2007-10-01T00:00:00\",\"2008-01-01T00:00:00\",\"2008-04-01T00:00:00\",\"2008-07-01T00:00:00\",\"2008-10-01T00:00:00\",\"2009-01-01T00:00:00\",\"2009-04-01T00:00:00\",\"2009-07-01T00:00:00\",\"2009-10-01T00:00:00\",\"2010-01-01T00:00:00\",\"2010-04-01T00:00:00\",\"2010-07-01T00:00:00\",\"2010-10-01T00:00:00\",\"2011-01-01T00:00:00\",\"2011-04-01T00:00:00\",\"2011-07-01T00:00:00\",\"2011-10-01T00:00:00\",\"2012-01-01T00:00:00\",\"2012-04-01T00:00:00\",\"2012-07-01T00:00:00\",\"2012-10-01T00:00:00\",\"2013-01-01T00:00:00\",\"2013-04-01T00:00:00\",\"2013-07-01T00:00:00\",\"2013-10-01T00:00:00\",\"2014-01-01T00:00:00\",\"2014-04-01T00:00:00\",\"2014-07-01T00:00:00\",\"2014-10-01T00:00:00\",\"2015-01-01T00:00:00\",\"2015-04-01T00:00:00\",\"2015-07-01T00:00:00\",\"2015-10-01T00:00:00\",\"2016-01-01T00:00:00\",\"2016-04-01T00:00:00\",\"2016-07-01T00:00:00\",\"2016-10-01T00:00:00\",\"2017-01-01T00:00:00\",\"2017-04-01T00:00:00\",\"2017-07-01T00:00:00\",\"2017-10-01T00:00:00\",\"2018-01-01T00:00:00\",\"2018-04-01T00:00:00\",\"2018-07-01T00:00:00\",\"2018-10-01T00:00:00\",\"2019-01-01T00:00:00\",\"2019-04-01T00:00:00\",\"2019-07-01T00:00:00\",\"2019-10-01T00:00:00\",\"2020-01-01T00:00:00\",\"2020-04-01T00:00:00\",\"2020-07-01T00:00:00\",\"2020-10-01T00:00:00\",\"2021-01-01T00:00:00\",\"2021-04-01T00:00:00\",\"2021-07-01T00:00:00\",\"2021-10-01T00:00:00\",\"2022-01-01T00:00:00\",\"2022-04-01T00:00:00\",\"2022-07-01T00:00:00\",\"2022-10-01T00:00:00\",\"2023-01-01T00:00:00\"],\"xaxis\":\"x\",\"y\":[11174.129,11312.766,11566.669,11772.234,11923.447,12112.815,12305.307,12527.214,12767.286,12922.656,13142.642,13324.204,13599.16,13753.424,13870.188,14039.56,14215.651,14402.082,14564.117,14715.058,14706.538,14865.701,14898.999,14608.208,14430.901,14381.236,14448.882,14651.248,14764.611,14980.193,15141.605,15309.471,15351.444,15557.535,15647.681,15842.267,16068.824,16207.13,16319.54,16420.386,16629.05,16699.551,16911.068,17133.114,17144.281,17462.703,17743.227,17852.54,17991.348,18193.707,18306.96,18332.079,18425.306,18611.617,18775.459,18968.041,19148.194,19304.506,19561.896,19894.75,20155.486,20470.197,20687.278,20819.269,21013.085,21272.448,21531.839,21706.532,21538.032,19636.731,21362.428,21704.706,22313.85,23046.934,23550.42,24349.121,24740.48,25248.476,25723.941,26137.992,26465.865],\"yaxis\":\"y\",\"type\":\"scatter\"}],                        {\"template\":{\"data\":{\"histogram2dcontour\":[{\"type\":\"histogram2dcontour\",\"colorbar\":{\"outlinewidth\":0,\"ticks\":\"\"},\"colorscale\":[[0.0,\"#0d0887\"],[0.1111111111111111,\"#46039f\"],[0.2222222222222222,\"#7201a8\"],[0.3333333333333333,\"#9c179e\"],[0.4444444444444444,\"#bd3786\"],[0.5555555555555556,\"#d8576b\"],[0.6666666666666666,\"#ed7953\"],[0.7777777777777778,\"#fb9f3a\"],[0.8888888888888888,\"#fdca26\"],[1.0,\"#f0f921\"]]}],\"choropleth\":[{\"type\":\"choropleth\",\"colorbar\":{\"outlinewidth\":0,\"ticks\":\"\"}}],\"histogram2d\":[{\"type\":\"histogram2d\",\"colorbar\":{\"outlinewidth\":0,\"ticks\":\"\"},\"colorscale\":[[0.0,\"#0d0887\"],[0.1111111111111111,\"#46039f\"],[0.2222222222222222,\"#7201a8\"],[0.3333333333333333,\"#9c179e\"],[0.4444444444444444,\"#bd3786\"],[0.5555555555555556,\"#d8576b\"],[0.6666666666666666,\"#ed7953\"],[0.7777777777777778,\"#fb9f3a\"],[0.8888888888888888,\"#fdca26\"],[1.0,\"#f0f921\"]]}],\"heatmap\":[{\"type\":\"heatmap\",\"colorbar\":{\"outlinewidth\":0,\"ticks\":\"\"},\"colorscale\":[[0.0,\"#0d0887\"],[0.1111111111111111,\"#46039f\"],[0.2222222222222222,\"#7201a8\"],[0.3333333333333333,\"#9c179e\"],[0.4444444444444444,\"#bd3786\"],[0.5555555555555556,\"#d8576b\"],[0.6666666666666666,\"#ed7953\"],[0.7777777777777778,\"#fb9f3a\"],[0.8888888888888888,\"#fdca26\"],[1.0,\"#f0f921\"]]}],\"heatmapgl\":[{\"type\":\"heatmapgl\",\"colorbar\":{\"outlinewidth\":0,\"ticks\":\"\"},\"colorscale\":[[0.0,\"#0d0887\"],[0.1111111111111111,\"#46039f\"],[0.2222222222222222,\"#7201a8\"],[0.3333333333333333,\"#9c179e\"],[0.4444444444444444,\"#bd3786\"],[0.5555555555555556,\"#d8576b\"],[0.6666666666666666,\"#ed7953\"],[0.7777777777777778,\"#fb9f3a\"],[0.8888888888888888,\"#fdca26\"],[1.0,\"#f0f921\"]]}],\"contourcarpet\":[{\"type\":\"contourcarpet\",\"colorbar\":{\"outlinewidth\":0,\"ticks\":\"\"}}],\"contour\":[{\"type\":\"contour\",\"colorbar\":{\"outlinewidth\":0,\"ticks\":\"\"},\"colorscale\":[[0.0,\"#0d0887\"],[0.1111111111111111,\"#46039f\"],[0.2222222222222222,\"#7201a8\"],[0.3333333333333333,\"#9c179e\"],[0.4444444444444444,\"#bd3786\"],[0.5555555555555556,\"#d8576b\"],[0.6666666666666666,\"#ed7953\"],[0.7777777777777778,\"#fb9f3a\"],[0.8888888888888888,\"#fdca26\"],[1.0,\"#f0f921\"]]}],\"surface\":[{\"type\":\"surface\",\"colorbar\":{\"outlinewidth\":0,\"ticks\":\"\"},\"colorscale\":[[0.0,\"#0d0887\"],[0.1111111111111111,\"#46039f\"],[0.2222222222222222,\"#7201a8\"],[0.3333333333333333,\"#9c179e\"],[0.4444444444444444,\"#bd3786\"],[0.5555555555555556,\"#d8576b\"],[0.6666666666666666,\"#ed7953\"],[0.7777777777777778,\"#fb9f3a\"],[0.8888888888888888,\"#fdca26\"],[1.0,\"#f0f921\"]]}],\"mesh3d\":[{\"type\":\"mesh3d\",\"colorbar\":{\"outlinewidth\":0,\"ticks\":\"\"}}],\"scatter\":[{\"fillpattern\":{\"fillmode\":\"overlay\",\"size\":10,\"solidity\":0.2},\"type\":\"scatter\"}],\"parcoords\":[{\"type\":\"parcoords\",\"line\":{\"colorbar\":{\"outlinewidth\":0,\"ticks\":\"\"}}}],\"scatterpolargl\":[{\"type\":\"scatterpolargl\",\"marker\":{\"colorbar\":{\"outlinewidth\":0,\"ticks\":\"\"}}}],\"bar\":[{\"error_x\":{\"color\":\"#2a3f5f\"},\"error_y\":{\"color\":\"#2a3f5f\"},\"marker\":{\"line\":{\"color\":\"#E5ECF6\",\"width\":0.5},\"pattern\":{\"fillmode\":\"overlay\",\"size\":10,\"solidity\":0.2}},\"type\":\"bar\"}],\"scattergeo\":[{\"type\":\"scattergeo\",\"marker\":{\"colorbar\":{\"outlinewidth\":0,\"ticks\":\"\"}}}],\"scatterpolar\":[{\"type\":\"scatterpolar\",\"marker\":{\"colorbar\":{\"outlinewidth\":0,\"ticks\":\"\"}}}],\"histogram\":[{\"marker\":{\"pattern\":{\"fillmode\":\"overlay\",\"size\":10,\"solidity\":0.2}},\"type\":\"histogram\"}],\"scattergl\":[{\"type\":\"scattergl\",\"marker\":{\"colorbar\":{\"outlinewidth\":0,\"ticks\":\"\"}}}],\"scatter3d\":[{\"type\":\"scatter3d\",\"line\":{\"colorbar\":{\"outlinewidth\":0,\"ticks\":\"\"}},\"marker\":{\"colorbar\":{\"outlinewidth\":0,\"ticks\":\"\"}}}],\"scattermapbox\":[{\"type\":\"scattermapbox\",\"marker\":{\"colorbar\":{\"outlinewidth\":0,\"ticks\":\"\"}}}],\"scatterternary\":[{\"type\":\"scatterternary\",\"marker\":{\"colorbar\":{\"outlinewidth\":0,\"ticks\":\"\"}}}],\"scattercarpet\":[{\"type\":\"scattercarpet\",\"marker\":{\"colorbar\":{\"outlinewidth\":0,\"ticks\":\"\"}}}],\"carpet\":[{\"aaxis\":{\"endlinecolor\":\"#2a3f5f\",\"gridcolor\":\"white\",\"linecolor\":\"white\",\"minorgridcolor\":\"white\",\"startlinecolor\":\"#2a3f5f\"},\"baxis\":{\"endlinecolor\":\"#2a3f5f\",\"gridcolor\":\"white\",\"linecolor\":\"white\",\"minorgridcolor\":\"white\",\"startlinecolor\":\"#2a3f5f\"},\"type\":\"carpet\"}],\"table\":[{\"cells\":{\"fill\":{\"color\":\"#EBF0F8\"},\"line\":{\"color\":\"white\"}},\"header\":{\"fill\":{\"color\":\"#C8D4E3\"},\"line\":{\"color\":\"white\"}},\"type\":\"table\"}],\"barpolar\":[{\"marker\":{\"line\":{\"color\":\"#E5ECF6\",\"width\":0.5},\"pattern\":{\"fillmode\":\"overlay\",\"size\":10,\"solidity\":0.2}},\"type\":\"barpolar\"}],\"pie\":[{\"automargin\":true,\"type\":\"pie\"}]},\"layout\":{\"autotypenumbers\":\"strict\",\"colorway\":[\"#636efa\",\"#EF553B\",\"#00cc96\",\"#ab63fa\",\"#FFA15A\",\"#19d3f3\",\"#FF6692\",\"#B6E880\",\"#FF97FF\",\"#FECB52\"],\"font\":{\"color\":\"#2a3f5f\"},\"hovermode\":\"closest\",\"hoverlabel\":{\"align\":\"left\"},\"paper_bgcolor\":\"white\",\"plot_bgcolor\":\"#E5ECF6\",\"polar\":{\"bgcolor\":\"#E5ECF6\",\"angularaxis\":{\"gridcolor\":\"white\",\"linecolor\":\"white\",\"ticks\":\"\"},\"radialaxis\":{\"gridcolor\":\"white\",\"linecolor\":\"white\",\"ticks\":\"\"}},\"ternary\":{\"bgcolor\":\"#E5ECF6\",\"aaxis\":{\"gridcolor\":\"white\",\"linecolor\":\"white\",\"ticks\":\"\"},\"baxis\":{\"gridcolor\":\"white\",\"linecolor\":\"white\",\"ticks\":\"\"},\"caxis\":{\"gridcolor\":\"white\",\"linecolor\":\"white\",\"ticks\":\"\"}},\"coloraxis\":{\"colorbar\":{\"outlinewidth\":0,\"ticks\":\"\"}},\"colorscale\":{\"sequential\":[[0.0,\"#0d0887\"],[0.1111111111111111,\"#46039f\"],[0.2222222222222222,\"#7201a8\"],[0.3333333333333333,\"#9c179e\"],[0.4444444444444444,\"#bd3786\"],[0.5555555555555556,\"#d8576b\"],[0.6666666666666666,\"#ed7953\"],[0.7777777777777778,\"#fb9f3a\"],[0.8888888888888888,\"#fdca26\"],[1.0,\"#f0f921\"]],\"sequentialminus\":[[0.0,\"#0d0887\"],[0.1111111111111111,\"#46039f\"],[0.2222222222222222,\"#7201a8\"],[0.3333333333333333,\"#9c179e\"],[0.4444444444444444,\"#bd3786\"],[0.5555555555555556,\"#d8576b\"],[0.6666666666666666,\"#ed7953\"],[0.7777777777777778,\"#fb9f3a\"],[0.8888888888888888,\"#fdca26\"],[1.0,\"#f0f921\"]],\"diverging\":[[0,\"#8e0152\"],[0.1,\"#c51b7d\"],[0.2,\"#de77ae\"],[0.3,\"#f1b6da\"],[0.4,\"#fde0ef\"],[0.5,\"#f7f7f7\"],[0.6,\"#e6f5d0\"],[0.7,\"#b8e186\"],[0.8,\"#7fbc41\"],[0.9,\"#4d9221\"],[1,\"#276419\"]]},\"xaxis\":{\"gridcolor\":\"white\",\"linecolor\":\"white\",\"ticks\":\"\",\"title\":{\"standoff\":15},\"zerolinecolor\":\"white\",\"automargin\":true,\"zerolinewidth\":2},\"yaxis\":{\"gridcolor\":\"white\",\"linecolor\":\"white\",\"ticks\":\"\",\"title\":{\"standoff\":15},\"zerolinecolor\":\"white\",\"automargin\":true,\"zerolinewidth\":2},\"scene\":{\"xaxis\":{\"backgroundcolor\":\"#E5ECF6\",\"gridcolor\":\"white\",\"linecolor\":\"white\",\"showbackground\":true,\"ticks\":\"\",\"zerolinecolor\":\"white\",\"gridwidth\":2},\"yaxis\":{\"backgroundcolor\":\"#E5ECF6\",\"gridcolor\":\"white\",\"linecolor\":\"white\",\"showbackground\":true,\"ticks\":\"\",\"zerolinecolor\":\"white\",\"gridwidth\":2},\"zaxis\":{\"backgroundcolor\":\"#E5ECF6\",\"gridcolor\":\"white\",\"linecolor\":\"white\",\"showbackground\":true,\"ticks\":\"\",\"zerolinecolor\":\"white\",\"gridwidth\":2}},\"shapedefaults\":{\"line\":{\"color\":\"#2a3f5f\"}},\"annotationdefaults\":{\"arrowcolor\":\"#2a3f5f\",\"arrowhead\":0,\"arrowwidth\":1},\"geo\":{\"bgcolor\":\"white\",\"landcolor\":\"#E5ECF6\",\"subunitcolor\":\"white\",\"showland\":true,\"showlakes\":true,\"lakecolor\":\"white\"},\"title\":{\"x\":0.05},\"mapbox\":{\"style\":\"light\"}}},\"xaxis\":{\"anchor\":\"y\",\"domain\":[0.0,1.0],\"title\":{\"text\":\"Date\"}},\"yaxis\":{\"anchor\":\"x\",\"domain\":[0.0,1.0],\"title\":{\"text\":\"value\"}},\"legend\":{\"title\":{\"text\":\"variable\"},\"tracegroupgap\":0},\"title\":{\"text\":\"GDP vs Interest Rates\"}},                        {\"responsive\": true}                    ).then(function(){\n",
              "                            \n",
              "var gd = document.getElementById('ba091f2e-4c8c-490f-b0a2-dad021e08a42');\n",
              "var x = new MutationObserver(function (mutations, observer) {{\n",
              "        var display = window.getComputedStyle(gd).display;\n",
              "        if (!display || display === 'none') {{\n",
              "            console.log([gd, 'removed!']);\n",
              "            Plotly.purge(gd);\n",
              "            observer.disconnect();\n",
              "        }}\n",
              "}});\n",
              "\n",
              "// Listen for the removal of the full notebook cells\n",
              "var notebookContainer = gd.closest('#notebook-container');\n",
              "if (notebookContainer) {{\n",
              "    x.observe(notebookContainer, {childList: true});\n",
              "}}\n",
              "\n",
              "// Listen for the clearing of the current output cell\n",
              "var outputEl = gd.closest('.output');\n",
              "if (outputEl) {{\n",
              "    x.observe(outputEl, {childList: true});\n",
              "}}\n",
              "\n",
              "                        })                };                            </script>        </div>\n",
              "</body>\n",
              "</html>"
            ]
          },
          "metadata": {}
        }
      ]
    },
    {
      "cell_type": "code",
      "source": [
        "px.line(new_df,\n",
        "        x='Date',\n",
        "        y=['GDP','CSUSHPISA'],\n",
        "        title='GDP VS House Price Index')"
      ],
      "metadata": {
        "colab": {
          "base_uri": "https://localhost:8080/",
          "height": 542
        },
        "id": "HxolQDTqPat0",
        "outputId": "ec9f53f8-4bcc-43fc-da4f-ff5a95e5632d"
      },
      "execution_count": 204,
      "outputs": [
        {
          "output_type": "display_data",
          "data": {
            "text/html": [
              "<html>\n",
              "<head><meta charset=\"utf-8\" /></head>\n",
              "<body>\n",
              "    <div>            <script src=\"https://cdnjs.cloudflare.com/ajax/libs/mathjax/2.7.5/MathJax.js?config=TeX-AMS-MML_SVG\"></script><script type=\"text/javascript\">if (window.MathJax && window.MathJax.Hub && window.MathJax.Hub.Config) {window.MathJax.Hub.Config({SVG: {font: \"STIX-Web\"}});}</script>                <script type=\"text/javascript\">window.PlotlyConfig = {MathJaxConfig: 'local'};</script>\n",
              "        <script charset=\"utf-8\" src=\"https://cdn.plot.ly/plotly-2.20.0.min.js\"></script>                <div id=\"6b2acd06-14e2-4cee-8278-6fb24536a130\" class=\"plotly-graph-div\" style=\"height:525px; width:100%;\"></div>            <script type=\"text/javascript\">                                    window.PLOTLYENV=window.PLOTLYENV || {};                                    if (document.getElementById(\"6b2acd06-14e2-4cee-8278-6fb24536a130\")) {                    Plotly.newPlot(                        \"6b2acd06-14e2-4cee-8278-6fb24536a130\",                        [{\"hovertemplate\":\"variable=GDP<br>Date=%{x}<br>value=%{y}<extra></extra>\",\"legendgroup\":\"GDP\",\"line\":{\"color\":\"#636efa\",\"dash\":\"solid\"},\"marker\":{\"symbol\":\"circle\"},\"mode\":\"lines\",\"name\":\"GDP\",\"orientation\":\"v\",\"showlegend\":true,\"x\":[\"2003-01-01T00:00:00\",\"2003-04-01T00:00:00\",\"2003-07-01T00:00:00\",\"2003-10-01T00:00:00\",\"2004-01-01T00:00:00\",\"2004-04-01T00:00:00\",\"2004-07-01T00:00:00\",\"2004-10-01T00:00:00\",\"2005-01-01T00:00:00\",\"2005-04-01T00:00:00\",\"2005-07-01T00:00:00\",\"2005-10-01T00:00:00\",\"2006-01-01T00:00:00\",\"2006-04-01T00:00:00\",\"2006-07-01T00:00:00\",\"2006-10-01T00:00:00\",\"2007-01-01T00:00:00\",\"2007-04-01T00:00:00\",\"2007-07-01T00:00:00\",\"2007-10-01T00:00:00\",\"2008-01-01T00:00:00\",\"2008-04-01T00:00:00\",\"2008-07-01T00:00:00\",\"2008-10-01T00:00:00\",\"2009-01-01T00:00:00\",\"2009-04-01T00:00:00\",\"2009-07-01T00:00:00\",\"2009-10-01T00:00:00\",\"2010-01-01T00:00:00\",\"2010-04-01T00:00:00\",\"2010-07-01T00:00:00\",\"2010-10-01T00:00:00\",\"2011-01-01T00:00:00\",\"2011-04-01T00:00:00\",\"2011-07-01T00:00:00\",\"2011-10-01T00:00:00\",\"2012-01-01T00:00:00\",\"2012-04-01T00:00:00\",\"2012-07-01T00:00:00\",\"2012-10-01T00:00:00\",\"2013-01-01T00:00:00\",\"2013-04-01T00:00:00\",\"2013-07-01T00:00:00\",\"2013-10-01T00:00:00\",\"2014-01-01T00:00:00\",\"2014-04-01T00:00:00\",\"2014-07-01T00:00:00\",\"2014-10-01T00:00:00\",\"2015-01-01T00:00:00\",\"2015-04-01T00:00:00\",\"2015-07-01T00:00:00\",\"2015-10-01T00:00:00\",\"2016-01-01T00:00:00\",\"2016-04-01T00:00:00\",\"2016-07-01T00:00:00\",\"2016-10-01T00:00:00\",\"2017-01-01T00:00:00\",\"2017-04-01T00:00:00\",\"2017-07-01T00:00:00\",\"2017-10-01T00:00:00\",\"2018-01-01T00:00:00\",\"2018-04-01T00:00:00\",\"2018-07-01T00:00:00\",\"2018-10-01T00:00:00\",\"2019-01-01T00:00:00\",\"2019-04-01T00:00:00\",\"2019-07-01T00:00:00\",\"2019-10-01T00:00:00\",\"2020-01-01T00:00:00\",\"2020-04-01T00:00:00\",\"2020-07-01T00:00:00\",\"2020-10-01T00:00:00\",\"2021-01-01T00:00:00\",\"2021-04-01T00:00:00\",\"2021-07-01T00:00:00\",\"2021-10-01T00:00:00\",\"2022-01-01T00:00:00\",\"2022-04-01T00:00:00\",\"2022-07-01T00:00:00\",\"2022-10-01T00:00:00\",\"2023-01-01T00:00:00\"],\"xaxis\":\"x\",\"y\":[11174.129,11312.766,11566.669,11772.234,11923.447,12112.815,12305.307,12527.214,12767.286,12922.656,13142.642,13324.204,13599.16,13753.424,13870.188,14039.56,14215.651,14402.082,14564.117,14715.058,14706.538,14865.701,14898.999,14608.208,14430.901,14381.236,14448.882,14651.248,14764.611,14980.193,15141.605,15309.471,15351.444,15557.535,15647.681,15842.267,16068.824,16207.13,16319.54,16420.386,16629.05,16699.551,16911.068,17133.114,17144.281,17462.703,17743.227,17852.54,17991.348,18193.707,18306.96,18332.079,18425.306,18611.617,18775.459,18968.041,19148.194,19304.506,19561.896,19894.75,20155.486,20470.197,20687.278,20819.269,21013.085,21272.448,21531.839,21706.532,21538.032,19636.731,21362.428,21704.706,22313.85,23046.934,23550.42,24349.121,24740.48,25248.476,25723.941,26137.992,26465.865],\"yaxis\":\"y\",\"type\":\"scatter\"},{\"hovertemplate\":\"variable=CSUSHPISA<br>Date=%{x}<br>value=%{y}<extra></extra>\",\"legendgroup\":\"CSUSHPISA\",\"line\":{\"color\":\"#EF553B\",\"dash\":\"solid\"},\"marker\":{\"symbol\":\"circle\"},\"mode\":\"lines\",\"name\":\"CSUSHPISA\",\"orientation\":\"v\",\"showlegend\":true,\"x\":[\"2003-01-01T00:00:00\",\"2003-04-01T00:00:00\",\"2003-07-01T00:00:00\",\"2003-10-01T00:00:00\",\"2004-01-01T00:00:00\",\"2004-04-01T00:00:00\",\"2004-07-01T00:00:00\",\"2004-10-01T00:00:00\",\"2005-01-01T00:00:00\",\"2005-04-01T00:00:00\",\"2005-07-01T00:00:00\",\"2005-10-01T00:00:00\",\"2006-01-01T00:00:00\",\"2006-04-01T00:00:00\",\"2006-07-01T00:00:00\",\"2006-10-01T00:00:00\",\"2007-01-01T00:00:00\",\"2007-04-01T00:00:00\",\"2007-07-01T00:00:00\",\"2007-10-01T00:00:00\",\"2008-01-01T00:00:00\",\"2008-04-01T00:00:00\",\"2008-07-01T00:00:00\",\"2008-10-01T00:00:00\",\"2009-01-01T00:00:00\",\"2009-04-01T00:00:00\",\"2009-07-01T00:00:00\",\"2009-10-01T00:00:00\",\"2010-01-01T00:00:00\",\"2010-04-01T00:00:00\",\"2010-07-01T00:00:00\",\"2010-10-01T00:00:00\",\"2011-01-01T00:00:00\",\"2011-04-01T00:00:00\",\"2011-07-01T00:00:00\",\"2011-10-01T00:00:00\",\"2012-01-01T00:00:00\",\"2012-04-01T00:00:00\",\"2012-07-01T00:00:00\",\"2012-10-01T00:00:00\",\"2013-01-01T00:00:00\",\"2013-04-01T00:00:00\",\"2013-07-01T00:00:00\",\"2013-10-01T00:00:00\",\"2014-01-01T00:00:00\",\"2014-04-01T00:00:00\",\"2014-07-01T00:00:00\",\"2014-10-01T00:00:00\",\"2015-01-01T00:00:00\",\"2015-04-01T00:00:00\",\"2015-07-01T00:00:00\",\"2015-10-01T00:00:00\",\"2016-01-01T00:00:00\",\"2016-04-01T00:00:00\",\"2016-07-01T00:00:00\",\"2016-10-01T00:00:00\",\"2017-01-01T00:00:00\",\"2017-04-01T00:00:00\",\"2017-07-01T00:00:00\",\"2017-10-01T00:00:00\",\"2018-01-01T00:00:00\",\"2018-04-01T00:00:00\",\"2018-07-01T00:00:00\",\"2018-10-01T00:00:00\",\"2019-01-01T00:00:00\",\"2019-04-01T00:00:00\",\"2019-07-01T00:00:00\",\"2019-10-01T00:00:00\",\"2020-01-01T00:00:00\",\"2020-04-01T00:00:00\",\"2020-07-01T00:00:00\",\"2020-10-01T00:00:00\",\"2021-01-01T00:00:00\",\"2021-04-01T00:00:00\",\"2021-07-01T00:00:00\",\"2021-10-01T00:00:00\",\"2022-01-01T00:00:00\",\"2022-04-01T00:00:00\",\"2022-07-01T00:00:00\",\"2022-10-01T00:00:00\",\"2023-01-01T00:00:00\"],\"xaxis\":\"x\",\"y\":[129.321,131.756,135.013,138.8356667,143.2986667,148.209,152.7166667,157.5353333,163.4813333,169.3473333,174.58,179.5393333,183.3243333,183.9973333,182.8193333,183.6493333,184.422,181.6213333,178.2613333,175.37,171.5756667,166.6723333,161.9543333,156.0286667,150.06,147.9113333,148.237,147.97,146.295,146.1713333,143.973,142.254,140.618,139.9243333,139.2346667,137.2596667,137.0143333,140.1133333,142.2863333,144.5626667,148.191,152.8543333,156.9313333,160.1023333,162.5143333,163.705,165.2326667,167.3446667,169.1906667,170.8803333,172.9643333,175.695,177.7003333,179.422,181.8356667,184.747,187.3716667,189.6213333,192.6373333,195.9763333,199.1546667,201.4513333,203.6866667,205.6396667,206.772,208.1416667,210.162,212.806,215.638,217.239,222.6413333,233.09,242.267,253.814,266.831,277.317,290.868,303.4226667,301.7263333,297.8966667,null],\"yaxis\":\"y\",\"type\":\"scatter\"}],                        {\"template\":{\"data\":{\"histogram2dcontour\":[{\"type\":\"histogram2dcontour\",\"colorbar\":{\"outlinewidth\":0,\"ticks\":\"\"},\"colorscale\":[[0.0,\"#0d0887\"],[0.1111111111111111,\"#46039f\"],[0.2222222222222222,\"#7201a8\"],[0.3333333333333333,\"#9c179e\"],[0.4444444444444444,\"#bd3786\"],[0.5555555555555556,\"#d8576b\"],[0.6666666666666666,\"#ed7953\"],[0.7777777777777778,\"#fb9f3a\"],[0.8888888888888888,\"#fdca26\"],[1.0,\"#f0f921\"]]}],\"choropleth\":[{\"type\":\"choropleth\",\"colorbar\":{\"outlinewidth\":0,\"ticks\":\"\"}}],\"histogram2d\":[{\"type\":\"histogram2d\",\"colorbar\":{\"outlinewidth\":0,\"ticks\":\"\"},\"colorscale\":[[0.0,\"#0d0887\"],[0.1111111111111111,\"#46039f\"],[0.2222222222222222,\"#7201a8\"],[0.3333333333333333,\"#9c179e\"],[0.4444444444444444,\"#bd3786\"],[0.5555555555555556,\"#d8576b\"],[0.6666666666666666,\"#ed7953\"],[0.7777777777777778,\"#fb9f3a\"],[0.8888888888888888,\"#fdca26\"],[1.0,\"#f0f921\"]]}],\"heatmap\":[{\"type\":\"heatmap\",\"colorbar\":{\"outlinewidth\":0,\"ticks\":\"\"},\"colorscale\":[[0.0,\"#0d0887\"],[0.1111111111111111,\"#46039f\"],[0.2222222222222222,\"#7201a8\"],[0.3333333333333333,\"#9c179e\"],[0.4444444444444444,\"#bd3786\"],[0.5555555555555556,\"#d8576b\"],[0.6666666666666666,\"#ed7953\"],[0.7777777777777778,\"#fb9f3a\"],[0.8888888888888888,\"#fdca26\"],[1.0,\"#f0f921\"]]}],\"heatmapgl\":[{\"type\":\"heatmapgl\",\"colorbar\":{\"outlinewidth\":0,\"ticks\":\"\"},\"colorscale\":[[0.0,\"#0d0887\"],[0.1111111111111111,\"#46039f\"],[0.2222222222222222,\"#7201a8\"],[0.3333333333333333,\"#9c179e\"],[0.4444444444444444,\"#bd3786\"],[0.5555555555555556,\"#d8576b\"],[0.6666666666666666,\"#ed7953\"],[0.7777777777777778,\"#fb9f3a\"],[0.8888888888888888,\"#fdca26\"],[1.0,\"#f0f921\"]]}],\"contourcarpet\":[{\"type\":\"contourcarpet\",\"colorbar\":{\"outlinewidth\":0,\"ticks\":\"\"}}],\"contour\":[{\"type\":\"contour\",\"colorbar\":{\"outlinewidth\":0,\"ticks\":\"\"},\"colorscale\":[[0.0,\"#0d0887\"],[0.1111111111111111,\"#46039f\"],[0.2222222222222222,\"#7201a8\"],[0.3333333333333333,\"#9c179e\"],[0.4444444444444444,\"#bd3786\"],[0.5555555555555556,\"#d8576b\"],[0.6666666666666666,\"#ed7953\"],[0.7777777777777778,\"#fb9f3a\"],[0.8888888888888888,\"#fdca26\"],[1.0,\"#f0f921\"]]}],\"surface\":[{\"type\":\"surface\",\"colorbar\":{\"outlinewidth\":0,\"ticks\":\"\"},\"colorscale\":[[0.0,\"#0d0887\"],[0.1111111111111111,\"#46039f\"],[0.2222222222222222,\"#7201a8\"],[0.3333333333333333,\"#9c179e\"],[0.4444444444444444,\"#bd3786\"],[0.5555555555555556,\"#d8576b\"],[0.6666666666666666,\"#ed7953\"],[0.7777777777777778,\"#fb9f3a\"],[0.8888888888888888,\"#fdca26\"],[1.0,\"#f0f921\"]]}],\"mesh3d\":[{\"type\":\"mesh3d\",\"colorbar\":{\"outlinewidth\":0,\"ticks\":\"\"}}],\"scatter\":[{\"fillpattern\":{\"fillmode\":\"overlay\",\"size\":10,\"solidity\":0.2},\"type\":\"scatter\"}],\"parcoords\":[{\"type\":\"parcoords\",\"line\":{\"colorbar\":{\"outlinewidth\":0,\"ticks\":\"\"}}}],\"scatterpolargl\":[{\"type\":\"scatterpolargl\",\"marker\":{\"colorbar\":{\"outlinewidth\":0,\"ticks\":\"\"}}}],\"bar\":[{\"error_x\":{\"color\":\"#2a3f5f\"},\"error_y\":{\"color\":\"#2a3f5f\"},\"marker\":{\"line\":{\"color\":\"#E5ECF6\",\"width\":0.5},\"pattern\":{\"fillmode\":\"overlay\",\"size\":10,\"solidity\":0.2}},\"type\":\"bar\"}],\"scattergeo\":[{\"type\":\"scattergeo\",\"marker\":{\"colorbar\":{\"outlinewidth\":0,\"ticks\":\"\"}}}],\"scatterpolar\":[{\"type\":\"scatterpolar\",\"marker\":{\"colorbar\":{\"outlinewidth\":0,\"ticks\":\"\"}}}],\"histogram\":[{\"marker\":{\"pattern\":{\"fillmode\":\"overlay\",\"size\":10,\"solidity\":0.2}},\"type\":\"histogram\"}],\"scattergl\":[{\"type\":\"scattergl\",\"marker\":{\"colorbar\":{\"outlinewidth\":0,\"ticks\":\"\"}}}],\"scatter3d\":[{\"type\":\"scatter3d\",\"line\":{\"colorbar\":{\"outlinewidth\":0,\"ticks\":\"\"}},\"marker\":{\"colorbar\":{\"outlinewidth\":0,\"ticks\":\"\"}}}],\"scattermapbox\":[{\"type\":\"scattermapbox\",\"marker\":{\"colorbar\":{\"outlinewidth\":0,\"ticks\":\"\"}}}],\"scatterternary\":[{\"type\":\"scatterternary\",\"marker\":{\"colorbar\":{\"outlinewidth\":0,\"ticks\":\"\"}}}],\"scattercarpet\":[{\"type\":\"scattercarpet\",\"marker\":{\"colorbar\":{\"outlinewidth\":0,\"ticks\":\"\"}}}],\"carpet\":[{\"aaxis\":{\"endlinecolor\":\"#2a3f5f\",\"gridcolor\":\"white\",\"linecolor\":\"white\",\"minorgridcolor\":\"white\",\"startlinecolor\":\"#2a3f5f\"},\"baxis\":{\"endlinecolor\":\"#2a3f5f\",\"gridcolor\":\"white\",\"linecolor\":\"white\",\"minorgridcolor\":\"white\",\"startlinecolor\":\"#2a3f5f\"},\"type\":\"carpet\"}],\"table\":[{\"cells\":{\"fill\":{\"color\":\"#EBF0F8\"},\"line\":{\"color\":\"white\"}},\"header\":{\"fill\":{\"color\":\"#C8D4E3\"},\"line\":{\"color\":\"white\"}},\"type\":\"table\"}],\"barpolar\":[{\"marker\":{\"line\":{\"color\":\"#E5ECF6\",\"width\":0.5},\"pattern\":{\"fillmode\":\"overlay\",\"size\":10,\"solidity\":0.2}},\"type\":\"barpolar\"}],\"pie\":[{\"automargin\":true,\"type\":\"pie\"}]},\"layout\":{\"autotypenumbers\":\"strict\",\"colorway\":[\"#636efa\",\"#EF553B\",\"#00cc96\",\"#ab63fa\",\"#FFA15A\",\"#19d3f3\",\"#FF6692\",\"#B6E880\",\"#FF97FF\",\"#FECB52\"],\"font\":{\"color\":\"#2a3f5f\"},\"hovermode\":\"closest\",\"hoverlabel\":{\"align\":\"left\"},\"paper_bgcolor\":\"white\",\"plot_bgcolor\":\"#E5ECF6\",\"polar\":{\"bgcolor\":\"#E5ECF6\",\"angularaxis\":{\"gridcolor\":\"white\",\"linecolor\":\"white\",\"ticks\":\"\"},\"radialaxis\":{\"gridcolor\":\"white\",\"linecolor\":\"white\",\"ticks\":\"\"}},\"ternary\":{\"bgcolor\":\"#E5ECF6\",\"aaxis\":{\"gridcolor\":\"white\",\"linecolor\":\"white\",\"ticks\":\"\"},\"baxis\":{\"gridcolor\":\"white\",\"linecolor\":\"white\",\"ticks\":\"\"},\"caxis\":{\"gridcolor\":\"white\",\"linecolor\":\"white\",\"ticks\":\"\"}},\"coloraxis\":{\"colorbar\":{\"outlinewidth\":0,\"ticks\":\"\"}},\"colorscale\":{\"sequential\":[[0.0,\"#0d0887\"],[0.1111111111111111,\"#46039f\"],[0.2222222222222222,\"#7201a8\"],[0.3333333333333333,\"#9c179e\"],[0.4444444444444444,\"#bd3786\"],[0.5555555555555556,\"#d8576b\"],[0.6666666666666666,\"#ed7953\"],[0.7777777777777778,\"#fb9f3a\"],[0.8888888888888888,\"#fdca26\"],[1.0,\"#f0f921\"]],\"sequentialminus\":[[0.0,\"#0d0887\"],[0.1111111111111111,\"#46039f\"],[0.2222222222222222,\"#7201a8\"],[0.3333333333333333,\"#9c179e\"],[0.4444444444444444,\"#bd3786\"],[0.5555555555555556,\"#d8576b\"],[0.6666666666666666,\"#ed7953\"],[0.7777777777777778,\"#fb9f3a\"],[0.8888888888888888,\"#fdca26\"],[1.0,\"#f0f921\"]],\"diverging\":[[0,\"#8e0152\"],[0.1,\"#c51b7d\"],[0.2,\"#de77ae\"],[0.3,\"#f1b6da\"],[0.4,\"#fde0ef\"],[0.5,\"#f7f7f7\"],[0.6,\"#e6f5d0\"],[0.7,\"#b8e186\"],[0.8,\"#7fbc41\"],[0.9,\"#4d9221\"],[1,\"#276419\"]]},\"xaxis\":{\"gridcolor\":\"white\",\"linecolor\":\"white\",\"ticks\":\"\",\"title\":{\"standoff\":15},\"zerolinecolor\":\"white\",\"automargin\":true,\"zerolinewidth\":2},\"yaxis\":{\"gridcolor\":\"white\",\"linecolor\":\"white\",\"ticks\":\"\",\"title\":{\"standoff\":15},\"zerolinecolor\":\"white\",\"automargin\":true,\"zerolinewidth\":2},\"scene\":{\"xaxis\":{\"backgroundcolor\":\"#E5ECF6\",\"gridcolor\":\"white\",\"linecolor\":\"white\",\"showbackground\":true,\"ticks\":\"\",\"zerolinecolor\":\"white\",\"gridwidth\":2},\"yaxis\":{\"backgroundcolor\":\"#E5ECF6\",\"gridcolor\":\"white\",\"linecolor\":\"white\",\"showbackground\":true,\"ticks\":\"\",\"zerolinecolor\":\"white\",\"gridwidth\":2},\"zaxis\":{\"backgroundcolor\":\"#E5ECF6\",\"gridcolor\":\"white\",\"linecolor\":\"white\",\"showbackground\":true,\"ticks\":\"\",\"zerolinecolor\":\"white\",\"gridwidth\":2}},\"shapedefaults\":{\"line\":{\"color\":\"#2a3f5f\"}},\"annotationdefaults\":{\"arrowcolor\":\"#2a3f5f\",\"arrowhead\":0,\"arrowwidth\":1},\"geo\":{\"bgcolor\":\"white\",\"landcolor\":\"#E5ECF6\",\"subunitcolor\":\"white\",\"showland\":true,\"showlakes\":true,\"lakecolor\":\"white\"},\"title\":{\"x\":0.05},\"mapbox\":{\"style\":\"light\"}}},\"xaxis\":{\"anchor\":\"y\",\"domain\":[0.0,1.0],\"title\":{\"text\":\"Date\"}},\"yaxis\":{\"anchor\":\"x\",\"domain\":[0.0,1.0],\"title\":{\"text\":\"value\"}},\"legend\":{\"title\":{\"text\":\"variable\"},\"tracegroupgap\":0},\"title\":{\"text\":\"GDP VS House Price Index\"}},                        {\"responsive\": true}                    ).then(function(){\n",
              "                            \n",
              "var gd = document.getElementById('6b2acd06-14e2-4cee-8278-6fb24536a130');\n",
              "var x = new MutationObserver(function (mutations, observer) {{\n",
              "        var display = window.getComputedStyle(gd).display;\n",
              "        if (!display || display === 'none') {{\n",
              "            console.log([gd, 'removed!']);\n",
              "            Plotly.purge(gd);\n",
              "            observer.disconnect();\n",
              "        }}\n",
              "}});\n",
              "\n",
              "// Listen for the removal of the full notebook cells\n",
              "var notebookContainer = gd.closest('#notebook-container');\n",
              "if (notebookContainer) {{\n",
              "    x.observe(notebookContainer, {childList: true});\n",
              "}}\n",
              "\n",
              "// Listen for the clearing of the current output cell\n",
              "var outputEl = gd.closest('.output');\n",
              "if (outputEl) {{\n",
              "    x.observe(outputEl, {childList: true});\n",
              "}}\n",
              "\n",
              "                        })                };                            </script>        </div>\n",
              "</body>\n",
              "</html>"
            ]
          },
          "metadata": {}
        }
      ]
    },
    {
      "cell_type": "markdown",
      "source": [
        "# Supply Factors and their effects on House Prices in Last 20 Years"
      ],
      "metadata": {
        "id": "CbunPwDlVOme"
      }
    },
    {
      "cell_type": "code",
      "source": [
        "supply_df = pd.read_csv('factors-influence-house-price-in-us/supply.csv')"
      ],
      "metadata": {
        "id": "OBRWKEAnRsmA"
      },
      "execution_count": 205,
      "outputs": []
    },
    {
      "cell_type": "code",
      "source": [
        "supply_df"
      ],
      "metadata": {
        "colab": {
          "base_uri": "https://localhost:8080/",
          "height": 424
        },
        "id": "UWhZAmnuTewF",
        "outputId": "cb8e0bf3-7928-4995-808e-9df4e38441c3"
      },
      "execution_count": 206,
      "outputs": [
        {
          "output_type": "execute_result",
          "data": {
            "text/plain": [
              "          DATE    CSUSHPISA       MSACSR       PERMIT    TLRESCONS  \\\n",
              "0   01-01-2003      129.321          4.2  1806.333333  421328.6667   \n",
              "1   01-04-2003      131.756  3.833333333  1837.666667  429308.6667   \n",
              "2   01-07-2003      135.013  3.633333333  1937.333333       458890   \n",
              "3   01-10-2003  138.8356667  3.966666667  1972.333333  491437.3333   \n",
              "4   01-01-2004  143.2986667          3.7  1994.666667  506856.3333   \n",
              "..         ...          ...          ...          ...          ...   \n",
              "77  01-04-2022  303.4226667          8.7  1734.666667  947300.3333   \n",
              "78  01-07-2022  301.7263333  9.566666667  1610.666667       910346   \n",
              "79  01-10-2022  297.8966667          9.2  1455.333333  870620.6667   \n",
              "80  01-01-2023            .  8.033333333  1424.333333  842559.6667   \n",
              "81  01-04-2023            .            .            .            .   \n",
              "\n",
              "   EVACANTUSQ176N  \n",
              "0           14908  \n",
              "1           15244  \n",
              "2           15614  \n",
              "3           15654  \n",
              "4           15895  \n",
              "..            ...  \n",
              "77          15286  \n",
              "78          15306  \n",
              "79          14554  \n",
              "80          15053  \n",
              "81              .  \n",
              "\n",
              "[82 rows x 6 columns]"
            ],
            "text/html": [
              "\n",
              "  <div id=\"df-c387af72-e631-4809-b725-9d7a37f5517a\">\n",
              "    <div class=\"colab-df-container\">\n",
              "      <div>\n",
              "<style scoped>\n",
              "    .dataframe tbody tr th:only-of-type {\n",
              "        vertical-align: middle;\n",
              "    }\n",
              "\n",
              "    .dataframe tbody tr th {\n",
              "        vertical-align: top;\n",
              "    }\n",
              "\n",
              "    .dataframe thead th {\n",
              "        text-align: right;\n",
              "    }\n",
              "</style>\n",
              "<table border=\"1\" class=\"dataframe\">\n",
              "  <thead>\n",
              "    <tr style=\"text-align: right;\">\n",
              "      <th></th>\n",
              "      <th>DATE</th>\n",
              "      <th>CSUSHPISA</th>\n",
              "      <th>MSACSR</th>\n",
              "      <th>PERMIT</th>\n",
              "      <th>TLRESCONS</th>\n",
              "      <th>EVACANTUSQ176N</th>\n",
              "    </tr>\n",
              "  </thead>\n",
              "  <tbody>\n",
              "    <tr>\n",
              "      <th>0</th>\n",
              "      <td>01-01-2003</td>\n",
              "      <td>129.321</td>\n",
              "      <td>4.2</td>\n",
              "      <td>1806.333333</td>\n",
              "      <td>421328.6667</td>\n",
              "      <td>14908</td>\n",
              "    </tr>\n",
              "    <tr>\n",
              "      <th>1</th>\n",
              "      <td>01-04-2003</td>\n",
              "      <td>131.756</td>\n",
              "      <td>3.833333333</td>\n",
              "      <td>1837.666667</td>\n",
              "      <td>429308.6667</td>\n",
              "      <td>15244</td>\n",
              "    </tr>\n",
              "    <tr>\n",
              "      <th>2</th>\n",
              "      <td>01-07-2003</td>\n",
              "      <td>135.013</td>\n",
              "      <td>3.633333333</td>\n",
              "      <td>1937.333333</td>\n",
              "      <td>458890</td>\n",
              "      <td>15614</td>\n",
              "    </tr>\n",
              "    <tr>\n",
              "      <th>3</th>\n",
              "      <td>01-10-2003</td>\n",
              "      <td>138.8356667</td>\n",
              "      <td>3.966666667</td>\n",
              "      <td>1972.333333</td>\n",
              "      <td>491437.3333</td>\n",
              "      <td>15654</td>\n",
              "    </tr>\n",
              "    <tr>\n",
              "      <th>4</th>\n",
              "      <td>01-01-2004</td>\n",
              "      <td>143.2986667</td>\n",
              "      <td>3.7</td>\n",
              "      <td>1994.666667</td>\n",
              "      <td>506856.3333</td>\n",
              "      <td>15895</td>\n",
              "    </tr>\n",
              "    <tr>\n",
              "      <th>...</th>\n",
              "      <td>...</td>\n",
              "      <td>...</td>\n",
              "      <td>...</td>\n",
              "      <td>...</td>\n",
              "      <td>...</td>\n",
              "      <td>...</td>\n",
              "    </tr>\n",
              "    <tr>\n",
              "      <th>77</th>\n",
              "      <td>01-04-2022</td>\n",
              "      <td>303.4226667</td>\n",
              "      <td>8.7</td>\n",
              "      <td>1734.666667</td>\n",
              "      <td>947300.3333</td>\n",
              "      <td>15286</td>\n",
              "    </tr>\n",
              "    <tr>\n",
              "      <th>78</th>\n",
              "      <td>01-07-2022</td>\n",
              "      <td>301.7263333</td>\n",
              "      <td>9.566666667</td>\n",
              "      <td>1610.666667</td>\n",
              "      <td>910346</td>\n",
              "      <td>15306</td>\n",
              "    </tr>\n",
              "    <tr>\n",
              "      <th>79</th>\n",
              "      <td>01-10-2022</td>\n",
              "      <td>297.8966667</td>\n",
              "      <td>9.2</td>\n",
              "      <td>1455.333333</td>\n",
              "      <td>870620.6667</td>\n",
              "      <td>14554</td>\n",
              "    </tr>\n",
              "    <tr>\n",
              "      <th>80</th>\n",
              "      <td>01-01-2023</td>\n",
              "      <td>.</td>\n",
              "      <td>8.033333333</td>\n",
              "      <td>1424.333333</td>\n",
              "      <td>842559.6667</td>\n",
              "      <td>15053</td>\n",
              "    </tr>\n",
              "    <tr>\n",
              "      <th>81</th>\n",
              "      <td>01-04-2023</td>\n",
              "      <td>.</td>\n",
              "      <td>.</td>\n",
              "      <td>.</td>\n",
              "      <td>.</td>\n",
              "      <td>.</td>\n",
              "    </tr>\n",
              "  </tbody>\n",
              "</table>\n",
              "<p>82 rows × 6 columns</p>\n",
              "</div>\n",
              "      <button class=\"colab-df-convert\" onclick=\"convertToInteractive('df-c387af72-e631-4809-b725-9d7a37f5517a')\"\n",
              "              title=\"Convert this dataframe to an interactive table.\"\n",
              "              style=\"display:none;\">\n",
              "        \n",
              "  <svg xmlns=\"http://www.w3.org/2000/svg\" height=\"24px\"viewBox=\"0 0 24 24\"\n",
              "       width=\"24px\">\n",
              "    <path d=\"M0 0h24v24H0V0z\" fill=\"none\"/>\n",
              "    <path d=\"M18.56 5.44l.94 2.06.94-2.06 2.06-.94-2.06-.94-.94-2.06-.94 2.06-2.06.94zm-11 1L8.5 8.5l.94-2.06 2.06-.94-2.06-.94L8.5 2.5l-.94 2.06-2.06.94zm10 10l.94 2.06.94-2.06 2.06-.94-2.06-.94-.94-2.06-.94 2.06-2.06.94z\"/><path d=\"M17.41 7.96l-1.37-1.37c-.4-.4-.92-.59-1.43-.59-.52 0-1.04.2-1.43.59L10.3 9.45l-7.72 7.72c-.78.78-.78 2.05 0 2.83L4 21.41c.39.39.9.59 1.41.59.51 0 1.02-.2 1.41-.59l7.78-7.78 2.81-2.81c.8-.78.8-2.07 0-2.86zM5.41 20L4 18.59l7.72-7.72 1.47 1.35L5.41 20z\"/>\n",
              "  </svg>\n",
              "      </button>\n",
              "      \n",
              "  <style>\n",
              "    .colab-df-container {\n",
              "      display:flex;\n",
              "      flex-wrap:wrap;\n",
              "      gap: 12px;\n",
              "    }\n",
              "\n",
              "    .colab-df-convert {\n",
              "      background-color: #E8F0FE;\n",
              "      border: none;\n",
              "      border-radius: 50%;\n",
              "      cursor: pointer;\n",
              "      display: none;\n",
              "      fill: #1967D2;\n",
              "      height: 32px;\n",
              "      padding: 0 0 0 0;\n",
              "      width: 32px;\n",
              "    }\n",
              "\n",
              "    .colab-df-convert:hover {\n",
              "      background-color: #E2EBFA;\n",
              "      box-shadow: 0px 1px 2px rgba(60, 64, 67, 0.3), 0px 1px 3px 1px rgba(60, 64, 67, 0.15);\n",
              "      fill: #174EA6;\n",
              "    }\n",
              "\n",
              "    [theme=dark] .colab-df-convert {\n",
              "      background-color: #3B4455;\n",
              "      fill: #D2E3FC;\n",
              "    }\n",
              "\n",
              "    [theme=dark] .colab-df-convert:hover {\n",
              "      background-color: #434B5C;\n",
              "      box-shadow: 0px 1px 3px 1px rgba(0, 0, 0, 0.15);\n",
              "      filter: drop-shadow(0px 1px 2px rgba(0, 0, 0, 0.3));\n",
              "      fill: #FFFFFF;\n",
              "    }\n",
              "  </style>\n",
              "\n",
              "      <script>\n",
              "        const buttonEl =\n",
              "          document.querySelector('#df-c387af72-e631-4809-b725-9d7a37f5517a button.colab-df-convert');\n",
              "        buttonEl.style.display =\n",
              "          google.colab.kernel.accessAllowed ? 'block' : 'none';\n",
              "\n",
              "        async function convertToInteractive(key) {\n",
              "          const element = document.querySelector('#df-c387af72-e631-4809-b725-9d7a37f5517a');\n",
              "          const dataTable =\n",
              "            await google.colab.kernel.invokeFunction('convertToInteractive',\n",
              "                                                     [key], {});\n",
              "          if (!dataTable) return;\n",
              "\n",
              "          const docLinkHtml = 'Like what you see? Visit the ' +\n",
              "            '<a target=\"_blank\" href=https://colab.research.google.com/notebooks/data_table.ipynb>data table notebook</a>'\n",
              "            + ' to learn more about interactive tables.';\n",
              "          element.innerHTML = '';\n",
              "          dataTable['output_type'] = 'display_data';\n",
              "          await google.colab.output.renderOutput(dataTable, element);\n",
              "          const docLink = document.createElement('div');\n",
              "          docLink.innerHTML = docLinkHtml;\n",
              "          element.appendChild(docLink);\n",
              "        }\n",
              "      </script>\n",
              "    </div>\n",
              "  </div>\n",
              "  "
            ]
          },
          "metadata": {},
          "execution_count": 206
        }
      ]
    },
    {
      "cell_type": "code",
      "source": [
        "supply_df.DATE = pd.to_datetime(supply_df.DATE)\n",
        "supply_df['Date']= supply_df['DATE'].dt.strftime('%d-%m-%Y')"
      ],
      "metadata": {
        "id": "ZsB7isSyTgOG"
      },
      "execution_count": 207,
      "outputs": []
    },
    {
      "cell_type": "code",
      "source": [
        "supply_df.Date = pd.to_datetime(supply_df.Date)\n",
        "supply_df['Month'] = supply_df['Date'].dt.month"
      ],
      "metadata": {
        "id": "BRUe-E0DUbvV"
      },
      "execution_count": 208,
      "outputs": []
    },
    {
      "cell_type": "code",
      "source": [
        "supply_df['Day']= supply_df['Date'].dt.day"
      ],
      "metadata": {
        "id": "8nXZqsdoUzvP"
      },
      "execution_count": 209,
      "outputs": []
    },
    {
      "cell_type": "code",
      "source": [
        "new_df2= supply_df.drop(['DATE'], axis = 1)"
      ],
      "metadata": {
        "id": "jeHS87JTU9lE"
      },
      "execution_count": 210,
      "outputs": []
    },
    {
      "cell_type": "code",
      "source": [
        "new_df2"
      ],
      "metadata": {
        "colab": {
          "base_uri": "https://localhost:8080/",
          "height": 424
        },
        "id": "yANOp41KVJiR",
        "outputId": "5f7dd98a-b11d-4047-cfc6-1cca3f27f111"
      },
      "execution_count": 211,
      "outputs": [
        {
          "output_type": "execute_result",
          "data": {
            "text/plain": [
              "      CSUSHPISA       MSACSR       PERMIT    TLRESCONS EVACANTUSQ176N  \\\n",
              "0       129.321          4.2  1806.333333  421328.6667          14908   \n",
              "1       131.756  3.833333333  1837.666667  429308.6667          15244   \n",
              "2       135.013  3.633333333  1937.333333       458890          15614   \n",
              "3   138.8356667  3.966666667  1972.333333  491437.3333          15654   \n",
              "4   143.2986667          3.7  1994.666667  506856.3333          15895   \n",
              "..          ...          ...          ...          ...            ...   \n",
              "77  303.4226667          8.7  1734.666667  947300.3333          15286   \n",
              "78  301.7263333  9.566666667  1610.666667       910346          15306   \n",
              "79  297.8966667          9.2  1455.333333  870620.6667          14554   \n",
              "80            .  8.033333333  1424.333333  842559.6667          15053   \n",
              "81            .            .            .            .              .   \n",
              "\n",
              "         Date  Month  Day  \n",
              "0  2003-01-01      1    1  \n",
              "1  2003-04-01      4    1  \n",
              "2  2003-07-01      7    1  \n",
              "3  2003-10-01     10    1  \n",
              "4  2004-01-01      1    1  \n",
              "..        ...    ...  ...  \n",
              "77 2022-04-01      4    1  \n",
              "78 2022-07-01      7    1  \n",
              "79 2022-10-01     10    1  \n",
              "80 2023-01-01      1    1  \n",
              "81 2023-04-01      4    1  \n",
              "\n",
              "[82 rows x 8 columns]"
            ],
            "text/html": [
              "\n",
              "  <div id=\"df-ecdc1d2a-62dd-4e82-b94e-234d53cc02ef\">\n",
              "    <div class=\"colab-df-container\">\n",
              "      <div>\n",
              "<style scoped>\n",
              "    .dataframe tbody tr th:only-of-type {\n",
              "        vertical-align: middle;\n",
              "    }\n",
              "\n",
              "    .dataframe tbody tr th {\n",
              "        vertical-align: top;\n",
              "    }\n",
              "\n",
              "    .dataframe thead th {\n",
              "        text-align: right;\n",
              "    }\n",
              "</style>\n",
              "<table border=\"1\" class=\"dataframe\">\n",
              "  <thead>\n",
              "    <tr style=\"text-align: right;\">\n",
              "      <th></th>\n",
              "      <th>CSUSHPISA</th>\n",
              "      <th>MSACSR</th>\n",
              "      <th>PERMIT</th>\n",
              "      <th>TLRESCONS</th>\n",
              "      <th>EVACANTUSQ176N</th>\n",
              "      <th>Date</th>\n",
              "      <th>Month</th>\n",
              "      <th>Day</th>\n",
              "    </tr>\n",
              "  </thead>\n",
              "  <tbody>\n",
              "    <tr>\n",
              "      <th>0</th>\n",
              "      <td>129.321</td>\n",
              "      <td>4.2</td>\n",
              "      <td>1806.333333</td>\n",
              "      <td>421328.6667</td>\n",
              "      <td>14908</td>\n",
              "      <td>2003-01-01</td>\n",
              "      <td>1</td>\n",
              "      <td>1</td>\n",
              "    </tr>\n",
              "    <tr>\n",
              "      <th>1</th>\n",
              "      <td>131.756</td>\n",
              "      <td>3.833333333</td>\n",
              "      <td>1837.666667</td>\n",
              "      <td>429308.6667</td>\n",
              "      <td>15244</td>\n",
              "      <td>2003-04-01</td>\n",
              "      <td>4</td>\n",
              "      <td>1</td>\n",
              "    </tr>\n",
              "    <tr>\n",
              "      <th>2</th>\n",
              "      <td>135.013</td>\n",
              "      <td>3.633333333</td>\n",
              "      <td>1937.333333</td>\n",
              "      <td>458890</td>\n",
              "      <td>15614</td>\n",
              "      <td>2003-07-01</td>\n",
              "      <td>7</td>\n",
              "      <td>1</td>\n",
              "    </tr>\n",
              "    <tr>\n",
              "      <th>3</th>\n",
              "      <td>138.8356667</td>\n",
              "      <td>3.966666667</td>\n",
              "      <td>1972.333333</td>\n",
              "      <td>491437.3333</td>\n",
              "      <td>15654</td>\n",
              "      <td>2003-10-01</td>\n",
              "      <td>10</td>\n",
              "      <td>1</td>\n",
              "    </tr>\n",
              "    <tr>\n",
              "      <th>4</th>\n",
              "      <td>143.2986667</td>\n",
              "      <td>3.7</td>\n",
              "      <td>1994.666667</td>\n",
              "      <td>506856.3333</td>\n",
              "      <td>15895</td>\n",
              "      <td>2004-01-01</td>\n",
              "      <td>1</td>\n",
              "      <td>1</td>\n",
              "    </tr>\n",
              "    <tr>\n",
              "      <th>...</th>\n",
              "      <td>...</td>\n",
              "      <td>...</td>\n",
              "      <td>...</td>\n",
              "      <td>...</td>\n",
              "      <td>...</td>\n",
              "      <td>...</td>\n",
              "      <td>...</td>\n",
              "      <td>...</td>\n",
              "    </tr>\n",
              "    <tr>\n",
              "      <th>77</th>\n",
              "      <td>303.4226667</td>\n",
              "      <td>8.7</td>\n",
              "      <td>1734.666667</td>\n",
              "      <td>947300.3333</td>\n",
              "      <td>15286</td>\n",
              "      <td>2022-04-01</td>\n",
              "      <td>4</td>\n",
              "      <td>1</td>\n",
              "    </tr>\n",
              "    <tr>\n",
              "      <th>78</th>\n",
              "      <td>301.7263333</td>\n",
              "      <td>9.566666667</td>\n",
              "      <td>1610.666667</td>\n",
              "      <td>910346</td>\n",
              "      <td>15306</td>\n",
              "      <td>2022-07-01</td>\n",
              "      <td>7</td>\n",
              "      <td>1</td>\n",
              "    </tr>\n",
              "    <tr>\n",
              "      <th>79</th>\n",
              "      <td>297.8966667</td>\n",
              "      <td>9.2</td>\n",
              "      <td>1455.333333</td>\n",
              "      <td>870620.6667</td>\n",
              "      <td>14554</td>\n",
              "      <td>2022-10-01</td>\n",
              "      <td>10</td>\n",
              "      <td>1</td>\n",
              "    </tr>\n",
              "    <tr>\n",
              "      <th>80</th>\n",
              "      <td>.</td>\n",
              "      <td>8.033333333</td>\n",
              "      <td>1424.333333</td>\n",
              "      <td>842559.6667</td>\n",
              "      <td>15053</td>\n",
              "      <td>2023-01-01</td>\n",
              "      <td>1</td>\n",
              "      <td>1</td>\n",
              "    </tr>\n",
              "    <tr>\n",
              "      <th>81</th>\n",
              "      <td>.</td>\n",
              "      <td>.</td>\n",
              "      <td>.</td>\n",
              "      <td>.</td>\n",
              "      <td>.</td>\n",
              "      <td>2023-04-01</td>\n",
              "      <td>4</td>\n",
              "      <td>1</td>\n",
              "    </tr>\n",
              "  </tbody>\n",
              "</table>\n",
              "<p>82 rows × 8 columns</p>\n",
              "</div>\n",
              "      <button class=\"colab-df-convert\" onclick=\"convertToInteractive('df-ecdc1d2a-62dd-4e82-b94e-234d53cc02ef')\"\n",
              "              title=\"Convert this dataframe to an interactive table.\"\n",
              "              style=\"display:none;\">\n",
              "        \n",
              "  <svg xmlns=\"http://www.w3.org/2000/svg\" height=\"24px\"viewBox=\"0 0 24 24\"\n",
              "       width=\"24px\">\n",
              "    <path d=\"M0 0h24v24H0V0z\" fill=\"none\"/>\n",
              "    <path d=\"M18.56 5.44l.94 2.06.94-2.06 2.06-.94-2.06-.94-.94-2.06-.94 2.06-2.06.94zm-11 1L8.5 8.5l.94-2.06 2.06-.94-2.06-.94L8.5 2.5l-.94 2.06-2.06.94zm10 10l.94 2.06.94-2.06 2.06-.94-2.06-.94-.94-2.06-.94 2.06-2.06.94z\"/><path d=\"M17.41 7.96l-1.37-1.37c-.4-.4-.92-.59-1.43-.59-.52 0-1.04.2-1.43.59L10.3 9.45l-7.72 7.72c-.78.78-.78 2.05 0 2.83L4 21.41c.39.39.9.59 1.41.59.51 0 1.02-.2 1.41-.59l7.78-7.78 2.81-2.81c.8-.78.8-2.07 0-2.86zM5.41 20L4 18.59l7.72-7.72 1.47 1.35L5.41 20z\"/>\n",
              "  </svg>\n",
              "      </button>\n",
              "      \n",
              "  <style>\n",
              "    .colab-df-container {\n",
              "      display:flex;\n",
              "      flex-wrap:wrap;\n",
              "      gap: 12px;\n",
              "    }\n",
              "\n",
              "    .colab-df-convert {\n",
              "      background-color: #E8F0FE;\n",
              "      border: none;\n",
              "      border-radius: 50%;\n",
              "      cursor: pointer;\n",
              "      display: none;\n",
              "      fill: #1967D2;\n",
              "      height: 32px;\n",
              "      padding: 0 0 0 0;\n",
              "      width: 32px;\n",
              "    }\n",
              "\n",
              "    .colab-df-convert:hover {\n",
              "      background-color: #E2EBFA;\n",
              "      box-shadow: 0px 1px 2px rgba(60, 64, 67, 0.3), 0px 1px 3px 1px rgba(60, 64, 67, 0.15);\n",
              "      fill: #174EA6;\n",
              "    }\n",
              "\n",
              "    [theme=dark] .colab-df-convert {\n",
              "      background-color: #3B4455;\n",
              "      fill: #D2E3FC;\n",
              "    }\n",
              "\n",
              "    [theme=dark] .colab-df-convert:hover {\n",
              "      background-color: #434B5C;\n",
              "      box-shadow: 0px 1px 3px 1px rgba(0, 0, 0, 0.15);\n",
              "      filter: drop-shadow(0px 1px 2px rgba(0, 0, 0, 0.3));\n",
              "      fill: #FFFFFF;\n",
              "    }\n",
              "  </style>\n",
              "\n",
              "      <script>\n",
              "        const buttonEl =\n",
              "          document.querySelector('#df-ecdc1d2a-62dd-4e82-b94e-234d53cc02ef button.colab-df-convert');\n",
              "        buttonEl.style.display =\n",
              "          google.colab.kernel.accessAllowed ? 'block' : 'none';\n",
              "\n",
              "        async function convertToInteractive(key) {\n",
              "          const element = document.querySelector('#df-ecdc1d2a-62dd-4e82-b94e-234d53cc02ef');\n",
              "          const dataTable =\n",
              "            await google.colab.kernel.invokeFunction('convertToInteractive',\n",
              "                                                     [key], {});\n",
              "          if (!dataTable) return;\n",
              "\n",
              "          const docLinkHtml = 'Like what you see? Visit the ' +\n",
              "            '<a target=\"_blank\" href=https://colab.research.google.com/notebooks/data_table.ipynb>data table notebook</a>'\n",
              "            + ' to learn more about interactive tables.';\n",
              "          element.innerHTML = '';\n",
              "          dataTable['output_type'] = 'display_data';\n",
              "          await google.colab.output.renderOutput(dataTable, element);\n",
              "          const docLink = document.createElement('div');\n",
              "          docLink.innerHTML = docLinkHtml;\n",
              "          element.appendChild(docLink);\n",
              "        }\n",
              "      </script>\n",
              "    </div>\n",
              "  </div>\n",
              "  "
            ]
          },
          "metadata": {},
          "execution_count": 211
        }
      ]
    },
    {
      "cell_type": "code",
      "source": [
        "new_df2.rename(columns = {'EVACANTUSQ176N':'Inventory',\n",
        "                            'MSACSR': 'MonthlySupply',\n",
        "                            'TLRESCONS': 'TotalSpending'}, inplace = True)"
      ],
      "metadata": {
        "id": "wrTdrIH3JCxS"
      },
      "execution_count": 219,
      "outputs": []
    },
    {
      "cell_type": "code",
      "source": [
        "new_df2.info()"
      ],
      "metadata": {
        "colab": {
          "base_uri": "https://localhost:8080/"
        },
        "id": "CUWk7vW8WbYc",
        "outputId": "be2467da-9048-4780-d504-498392f5e6e6"
      },
      "execution_count": 213,
      "outputs": [
        {
          "output_type": "stream",
          "name": "stdout",
          "text": [
            "<class 'pandas.core.frame.DataFrame'>\n",
            "RangeIndex: 82 entries, 0 to 81\n",
            "Data columns (total 8 columns):\n",
            " #   Column          Non-Null Count  Dtype         \n",
            "---  ------          --------------  -----         \n",
            " 0   CSUSHPISA       82 non-null     object        \n",
            " 1   MSACSR          82 non-null     object        \n",
            " 2   PERMIT          82 non-null     object        \n",
            " 3   TLRESCONS       82 non-null     object        \n",
            " 4   EVACANTUSQ176N  82 non-null     object        \n",
            " 5   Date            82 non-null     datetime64[ns]\n",
            " 6   Month           82 non-null     int64         \n",
            " 7   Day             82 non-null     int64         \n",
            "dtypes: datetime64[ns](1), int64(2), object(5)\n",
            "memory usage: 5.2+ KB\n"
          ]
        }
      ]
    },
    {
      "cell_type": "code",
      "source": [
        "n=2"
      ],
      "metadata": {
        "id": "tLg4HjbVapK-"
      },
      "execution_count": 214,
      "outputs": []
    },
    {
      "cell_type": "code",
      "source": [
        "new_df2.drop(new_df2.tail(n).index, inplace = True)"
      ],
      "metadata": {
        "id": "DxLhMhqPZztZ"
      },
      "execution_count": 215,
      "outputs": []
    },
    {
      "cell_type": "code",
      "source": [
        "convert_dict = {'CSUSHPISA':float,\n",
        "                'MonthlySupply': float,\n",
        "                'PERMIT': float,\n",
        "                'TotalSpending': float,\n",
        "                'Inventory': int\n",
        "                }"
      ],
      "metadata": {
        "id": "hvjWZ9CxWhEu"
      },
      "execution_count": 216,
      "outputs": []
    },
    {
      "cell_type": "code",
      "source": [
        "new_df2 = new_df2.astype(convert_dict)"
      ],
      "metadata": {
        "id": "lccmcM7nXx9k"
      },
      "execution_count": 220,
      "outputs": []
    },
    {
      "cell_type": "code",
      "source": [
        "relation = new_df2.corr()"
      ],
      "metadata": {
        "colab": {
          "base_uri": "https://localhost:8080/"
        },
        "id": "dbRooQzQVKxx",
        "outputId": "838d6be4-4558-4050-8d91-5cc15d0db104"
      },
      "execution_count": 221,
      "outputs": [
        {
          "output_type": "stream",
          "name": "stderr",
          "text": [
            "<ipython-input-221-89c7171fc2c9>:1: FutureWarning:\n",
            "\n",
            "The default value of numeric_only in DataFrame.corr is deprecated. In a future version, it will default to False. Select only valid columns or specify the value of numeric_only to silence this warning.\n",
            "\n"
          ]
        }
      ]
    },
    {
      "cell_type": "code",
      "source": [
        "sns.heatmap(relation)"
      ],
      "metadata": {
        "colab": {
          "base_uri": "https://localhost:8080/",
          "height": 541
        },
        "id": "iY71oGxJVyiZ",
        "outputId": "d3d002b5-26b9-4505-ff49-381b25915521"
      },
      "execution_count": 222,
      "outputs": [
        {
          "output_type": "execute_result",
          "data": {
            "text/plain": [
              "<Axes: >"
            ]
          },
          "metadata": {},
          "execution_count": 222
        },
        {
          "output_type": "display_data",
          "data": {
            "text/plain": [
              "<Figure size 640x480 with 2 Axes>"
            ],
            "image/png": "[encoded data removed]"
          },
          "metadata": {}
        }
      ]
    },
    {
      "cell_type": "code",
      "source": [
        "px.bar(new_df2,\n",
        "       x='Date',\n",
        "       y='PERMIT',\n",
        "       title='Permits issued in last 20 years')"
      ],
      "metadata": {
        "colab": {
          "base_uri": "https://localhost:8080/",
          "height": 542
        },
        "id": "EzOxPLqpV1qG",
        "outputId": "90aba1cd-5ba8-47da-f9c7-d6a63d6cfeca"
      },
      "execution_count": 223,
      "outputs": [
        {
          "output_type": "display_data",
          "data": {
            "text/html": [
              "<html>\n",
              "<head><meta charset=\"utf-8\" /></head>\n",
              "<body>\n",
              "    <div>            <script src=\"https://cdnjs.cloudflare.com/ajax/libs/mathjax/2.7.5/MathJax.js?config=TeX-AMS-MML_SVG\"></script><script type=\"text/javascript\">if (window.MathJax && window.MathJax.Hub && window.MathJax.Hub.Config) {window.MathJax.Hub.Config({SVG: {font: \"STIX-Web\"}});}</script>                <script type=\"text/javascript\">window.PlotlyConfig = {MathJaxConfig: 'local'};</script>\n",
              "        <script charset=\"utf-8\" src=\"https://cdn.plot.ly/plotly-2.20.0.min.js\"></script>                <div id=\"04f833df-4fb7-4200-b5c9-a83684badeb4\" class=\"plotly-graph-div\" style=\"height:525px; width:100%;\"></div>            <script type=\"text/javascript\">                                    window.PLOTLYENV=window.PLOTLYENV || {};                                    if (document.getElementById(\"04f833df-4fb7-4200-b5c9-a83684badeb4\")) {                    Plotly.newPlot(                        \"04f833df-4fb7-4200-b5c9-a83684badeb4\",                        [{\"alignmentgroup\":\"True\",\"hovertemplate\":\"Date=%{x}<br>PERMIT=%{y}<extra></extra>\",\"legendgroup\":\"\",\"marker\":{\"color\":\"#636efa\",\"pattern\":{\"shape\":\"\"}},\"name\":\"\",\"offsetgroup\":\"\",\"orientation\":\"v\",\"showlegend\":false,\"textposition\":\"auto\",\"x\":[\"2003-01-01T00:00:00\",\"2003-04-01T00:00:00\",\"2003-07-01T00:00:00\",\"2003-10-01T00:00:00\",\"2004-01-01T00:00:00\",\"2004-04-01T00:00:00\",\"2004-07-01T00:00:00\",\"2004-10-01T00:00:00\",\"2005-01-01T00:00:00\",\"2005-04-01T00:00:00\",\"2005-07-01T00:00:00\",\"2005-10-01T00:00:00\",\"2006-01-01T00:00:00\",\"2006-04-01T00:00:00\",\"2006-07-01T00:00:00\",\"2006-10-01T00:00:00\",\"2007-01-01T00:00:00\",\"2007-04-01T00:00:00\",\"2007-07-01T00:00:00\",\"2007-10-01T00:00:00\",\"2008-01-01T00:00:00\",\"2008-04-01T00:00:00\",\"2008-07-01T00:00:00\",\"2008-10-01T00:00:00\",\"2009-01-01T00:00:00\",\"2009-04-01T00:00:00\",\"2009-07-01T00:00:00\",\"2009-10-01T00:00:00\",\"2010-01-01T00:00:00\",\"2010-04-01T00:00:00\",\"2010-07-01T00:00:00\",\"2010-10-01T00:00:00\",\"2011-01-01T00:00:00\",\"2011-04-01T00:00:00\",\"2011-07-01T00:00:00\",\"2011-10-01T00:00:00\",\"2012-01-01T00:00:00\",\"2012-04-01T00:00:00\",\"2012-07-01T00:00:00\",\"2012-10-01T00:00:00\",\"2013-01-01T00:00:00\",\"2013-04-01T00:00:00\",\"2013-07-01T00:00:00\",\"2013-10-01T00:00:00\",\"2014-01-01T00:00:00\",\"2014-04-01T00:00:00\",\"2014-07-01T00:00:00\",\"2014-10-01T00:00:00\",\"2015-01-01T00:00:00\",\"2015-04-01T00:00:00\",\"2015-07-01T00:00:00\",\"2015-10-01T00:00:00\",\"2016-01-01T00:00:00\",\"2016-04-01T00:00:00\",\"2016-07-01T00:00:00\",\"2016-10-01T00:00:00\",\"2017-01-01T00:00:00\",\"2017-04-01T00:00:00\",\"2017-07-01T00:00:00\",\"2017-10-01T00:00:00\",\"2018-01-01T00:00:00\",\"2018-04-01T00:00:00\",\"2018-07-01T00:00:00\",\"2018-10-01T00:00:00\",\"2019-01-01T00:00:00\",\"2019-04-01T00:00:00\",\"2019-07-01T00:00:00\",\"2019-10-01T00:00:00\",\"2020-01-01T00:00:00\",\"2020-04-01T00:00:00\",\"2020-07-01T00:00:00\",\"2020-10-01T00:00:00\",\"2021-01-01T00:00:00\",\"2021-04-01T00:00:00\",\"2021-07-01T00:00:00\",\"2021-10-01T00:00:00\",\"2022-01-01T00:00:00\",\"2022-04-01T00:00:00\",\"2022-07-01T00:00:00\",\"2022-10-01T00:00:00\"],\"xaxis\":\"x\",\"y\":[1806.333333,1837.666667,1937.333333,1972.333333,1994.666667,2080.0,2069.666667,2086.0,2105.0,2137.666667,2228.333333,2169.333333,2157.0,1923.333333,1713.333333,1581.0,1606.666667,1456.666667,1314.333333,1188.333333,1025.0,1061.0,858.6666667,638.6666667,538.6666667,559.3333333,606.6666667,623.3333333,657.6666667,599.6666667,574.0,583.3333333,567.0,611.6666667,626.0,691.3333333,752.0,774.0,873.0,915.0,952.0,985.6666667,988.3333333,1026.0,1027.333333,1039.333333,1066.666667,1075.0,1082.666667,1272.333333,1149.666667,1205.0,1153.666667,1191.0,1234.0,1244.0,1268.666667,1265.666667,1289.0,1322.333333,1341.0,1344.666667,1315.333333,1311.333333,1282.333333,1312.333333,1455.333333,1507.0,1429.333333,1210.666667,1577.666667,1698.333333,1765.666667,1679.333333,1697.0,1816.666667,1864.0,1734.666667,1610.666667,1455.333333],\"yaxis\":\"y\",\"type\":\"bar\"}],                        {\"template\":{\"data\":{\"histogram2dcontour\":[{\"type\":\"histogram2dcontour\",\"colorbar\":{\"outlinewidth\":0,\"ticks\":\"\"},\"colorscale\":[[0.0,\"#0d0887\"],[0.1111111111111111,\"#46039f\"],[0.2222222222222222,\"#7201a8\"],[0.3333333333333333,\"#9c179e\"],[0.4444444444444444,\"#bd3786\"],[0.5555555555555556,\"#d8576b\"],[0.6666666666666666,\"#ed7953\"],[0.7777777777777778,\"#fb9f3a\"],[0.8888888888888888,\"#fdca26\"],[1.0,\"#f0f921\"]]}],\"choropleth\":[{\"type\":\"choropleth\",\"colorbar\":{\"outlinewidth\":0,\"ticks\":\"\"}}],\"histogram2d\":[{\"type\":\"histogram2d\",\"colorbar\":{\"outlinewidth\":0,\"ticks\":\"\"},\"colorscale\":[[0.0,\"#0d0887\"],[0.1111111111111111,\"#46039f\"],[0.2222222222222222,\"#7201a8\"],[0.3333333333333333,\"#9c179e\"],[0.4444444444444444,\"#bd3786\"],[0.5555555555555556,\"#d8576b\"],[0.6666666666666666,\"#ed7953\"],[0.7777777777777778,\"#fb9f3a\"],[0.8888888888888888,\"#fdca26\"],[1.0,\"#f0f921\"]]}],\"heatmap\":[{\"type\":\"heatmap\",\"colorbar\":{\"outlinewidth\":0,\"ticks\":\"\"},\"colorscale\":[[0.0,\"#0d0887\"],[0.1111111111111111,\"#46039f\"],[0.2222222222222222,\"#7201a8\"],[0.3333333333333333,\"#9c179e\"],[0.4444444444444444,\"#bd3786\"],[0.5555555555555556,\"#d8576b\"],[0.6666666666666666,\"#ed7953\"],[0.7777777777777778,\"#fb9f3a\"],[0.8888888888888888,\"#fdca26\"],[1.0,\"#f0f921\"]]}],\"heatmapgl\":[{\"type\":\"heatmapgl\",\"colorbar\":{\"outlinewidth\":0,\"ticks\":\"\"},\"colorscale\":[[0.0,\"#0d0887\"],[0.1111111111111111,\"#46039f\"],[0.2222222222222222,\"#7201a8\"],[0.3333333333333333,\"#9c179e\"],[0.4444444444444444,\"#bd3786\"],[0.5555555555555556,\"#d8576b\"],[0.6666666666666666,\"#ed7953\"],[0.7777777777777778,\"#fb9f3a\"],[0.8888888888888888,\"#fdca26\"],[1.0,\"#f0f921\"]]}],\"contourcarpet\":[{\"type\":\"contourcarpet\",\"colorbar\":{\"outlinewidth\":0,\"ticks\":\"\"}}],\"contour\":[{\"type\":\"contour\",\"colorbar\":{\"outlinewidth\":0,\"ticks\":\"\"},\"colorscale\":[[0.0,\"#0d0887\"],[0.1111111111111111,\"#46039f\"],[0.2222222222222222,\"#7201a8\"],[0.3333333333333333,\"#9c179e\"],[0.4444444444444444,\"#bd3786\"],[0.5555555555555556,\"#d8576b\"],[0.6666666666666666,\"#ed7953\"],[0.7777777777777778,\"#fb9f3a\"],[0.8888888888888888,\"#fdca26\"],[1.0,\"#f0f921\"]]}],\"surface\":[{\"type\":\"surface\",\"colorbar\":{\"outlinewidth\":0,\"ticks\":\"\"},\"colorscale\":[[0.0,\"#0d0887\"],[0.1111111111111111,\"#46039f\"],[0.2222222222222222,\"#7201a8\"],[0.3333333333333333,\"#9c179e\"],[0.4444444444444444,\"#bd3786\"],[0.5555555555555556,\"#d8576b\"],[0.6666666666666666,\"#ed7953\"],[0.7777777777777778,\"#fb9f3a\"],[0.8888888888888888,\"#fdca26\"],[1.0,\"#f0f921\"]]}],\"mesh3d\":[{\"type\":\"mesh3d\",\"colorbar\":{\"outlinewidth\":0,\"ticks\":\"\"}}],\"scatter\":[{\"fillpattern\":{\"fillmode\":\"overlay\",\"size\":10,\"solidity\":0.2},\"type\":\"scatter\"}],\"parcoords\":[{\"type\":\"parcoords\",\"line\":{\"colorbar\":{\"outlinewidth\":0,\"ticks\":\"\"}}}],\"scatterpolargl\":[{\"type\":\"scatterpolargl\",\"marker\":{\"colorbar\":{\"outlinewidth\":0,\"ticks\":\"\"}}}],\"bar\":[{\"error_x\":{\"color\":\"#2a3f5f\"},\"error_y\":{\"color\":\"#2a3f5f\"},\"marker\":{\"line\":{\"color\":\"#E5ECF6\",\"width\":0.5},\"pattern\":{\"fillmode\":\"overlay\",\"size\":10,\"solidity\":0.2}},\"type\":\"bar\"}],\"scattergeo\":[{\"type\":\"scattergeo\",\"marker\":{\"colorbar\":{\"outlinewidth\":0,\"ticks\":\"\"}}}],\"scatterpolar\":[{\"type\":\"scatterpolar\",\"marker\":{\"colorbar\":{\"outlinewidth\":0,\"ticks\":\"\"}}}],\"histogram\":[{\"marker\":{\"pattern\":{\"fillmode\":\"overlay\",\"size\":10,\"solidity\":0.2}},\"type\":\"histogram\"}],\"scattergl\":[{\"type\":\"scattergl\",\"marker\":{\"colorbar\":{\"outlinewidth\":0,\"ticks\":\"\"}}}],\"scatter3d\":[{\"type\":\"scatter3d\",\"line\":{\"colorbar\":{\"outlinewidth\":0,\"ticks\":\"\"}},\"marker\":{\"colorbar\":{\"outlinewidth\":0,\"ticks\":\"\"}}}],\"scattermapbox\":[{\"type\":\"scattermapbox\",\"marker\":{\"colorbar\":{\"outlinewidth\":0,\"ticks\":\"\"}}}],\"scatterternary\":[{\"type\":\"scatterternary\",\"marker\":{\"colorbar\":{\"outlinewidth\":0,\"ticks\":\"\"}}}],\"scattercarpet\":[{\"type\":\"scattercarpet\",\"marker\":{\"colorbar\":{\"outlinewidth\":0,\"ticks\":\"\"}}}],\"carpet\":[{\"aaxis\":{\"endlinecolor\":\"#2a3f5f\",\"gridcolor\":\"white\",\"linecolor\":\"white\",\"minorgridcolor\":\"white\",\"startlinecolor\":\"#2a3f5f\"},\"baxis\":{\"endlinecolor\":\"#2a3f5f\",\"gridcolor\":\"white\",\"linecolor\":\"white\",\"minorgridcolor\":\"white\",\"startlinecolor\":\"#2a3f5f\"},\"type\":\"carpet\"}],\"table\":[{\"cells\":{\"fill\":{\"color\":\"#EBF0F8\"},\"line\":{\"color\":\"white\"}},\"header\":{\"fill\":{\"color\":\"#C8D4E3\"},\"line\":{\"color\":\"white\"}},\"type\":\"table\"}],\"barpolar\":[{\"marker\":{\"line\":{\"color\":\"#E5ECF6\",\"width\":0.5},\"pattern\":{\"fillmode\":\"overlay\",\"size\":10,\"solidity\":0.2}},\"type\":\"barpolar\"}],\"pie\":[{\"automargin\":true,\"type\":\"pie\"}]},\"layout\":{\"autotypenumbers\":\"strict\",\"colorway\":[\"#636efa\",\"#EF553B\",\"#00cc96\",\"#ab63fa\",\"#FFA15A\",\"#19d3f3\",\"#FF6692\",\"#B6E880\",\"#FF97FF\",\"#FECB52\"],\"font\":{\"color\":\"#2a3f5f\"},\"hovermode\":\"closest\",\"hoverlabel\":{\"align\":\"left\"},\"paper_bgcolor\":\"white\",\"plot_bgcolor\":\"#E5ECF6\",\"polar\":{\"bgcolor\":\"#E5ECF6\",\"angularaxis\":{\"gridcolor\":\"white\",\"linecolor\":\"white\",\"ticks\":\"\"},\"radialaxis\":{\"gridcolor\":\"white\",\"linecolor\":\"white\",\"ticks\":\"\"}},\"ternary\":{\"bgcolor\":\"#E5ECF6\",\"aaxis\":{\"gridcolor\":\"white\",\"linecolor\":\"white\",\"ticks\":\"\"},\"baxis\":{\"gridcolor\":\"white\",\"linecolor\":\"white\",\"ticks\":\"\"},\"caxis\":{\"gridcolor\":\"white\",\"linecolor\":\"white\",\"ticks\":\"\"}},\"coloraxis\":{\"colorbar\":{\"outlinewidth\":0,\"ticks\":\"\"}},\"colorscale\":{\"sequential\":[[0.0,\"#0d0887\"],[0.1111111111111111,\"#46039f\"],[0.2222222222222222,\"#7201a8\"],[0.3333333333333333,\"#9c179e\"],[0.4444444444444444,\"#bd3786\"],[0.5555555555555556,\"#d8576b\"],[0.6666666666666666,\"#ed7953\"],[0.7777777777777778,\"#fb9f3a\"],[0.8888888888888888,\"#fdca26\"],[1.0,\"#f0f921\"]],\"sequentialminus\":[[0.0,\"#0d0887\"],[0.1111111111111111,\"#46039f\"],[0.2222222222222222,\"#7201a8\"],[0.3333333333333333,\"#9c179e\"],[0.4444444444444444,\"#bd3786\"],[0.5555555555555556,\"#d8576b\"],[0.6666666666666666,\"#ed7953\"],[0.7777777777777778,\"#fb9f3a\"],[0.8888888888888888,\"#fdca26\"],[1.0,\"#f0f921\"]],\"diverging\":[[0,\"#8e0152\"],[0.1,\"#c51b7d\"],[0.2,\"#de77ae\"],[0.3,\"#f1b6da\"],[0.4,\"#fde0ef\"],[0.5,\"#f7f7f7\"],[0.6,\"#e6f5d0\"],[0.7,\"#b8e186\"],[0.8,\"#7fbc41\"],[0.9,\"#4d9221\"],[1,\"#276419\"]]},\"xaxis\":{\"gridcolor\":\"white\",\"linecolor\":\"white\",\"ticks\":\"\",\"title\":{\"standoff\":15},\"zerolinecolor\":\"white\",\"automargin\":true,\"zerolinewidth\":2},\"yaxis\":{\"gridcolor\":\"white\",\"linecolor\":\"white\",\"ticks\":\"\",\"title\":{\"standoff\":15},\"zerolinecolor\":\"white\",\"automargin\":true,\"zerolinewidth\":2},\"scene\":{\"xaxis\":{\"backgroundcolor\":\"#E5ECF6\",\"gridcolor\":\"white\",\"linecolor\":\"white\",\"showbackground\":true,\"ticks\":\"\",\"zerolinecolor\":\"white\",\"gridwidth\":2},\"yaxis\":{\"backgroundcolor\":\"#E5ECF6\",\"gridcolor\":\"white\",\"linecolor\":\"white\",\"showbackground\":true,\"ticks\":\"\",\"zerolinecolor\":\"white\",\"gridwidth\":2},\"zaxis\":{\"backgroundcolor\":\"#E5ECF6\",\"gridcolor\":\"white\",\"linecolor\":\"white\",\"showbackground\":true,\"ticks\":\"\",\"zerolinecolor\":\"white\",\"gridwidth\":2}},\"shapedefaults\":{\"line\":{\"color\":\"#2a3f5f\"}},\"annotationdefaults\":{\"arrowcolor\":\"#2a3f5f\",\"arrowhead\":0,\"arrowwidth\":1},\"geo\":{\"bgcolor\":\"white\",\"landcolor\":\"#E5ECF6\",\"subunitcolor\":\"white\",\"showland\":true,\"showlakes\":true,\"lakecolor\":\"white\"},\"title\":{\"x\":0.05},\"mapbox\":{\"style\":\"light\"}}},\"xaxis\":{\"anchor\":\"y\",\"domain\":[0.0,1.0],\"title\":{\"text\":\"Date\"}},\"yaxis\":{\"anchor\":\"x\",\"domain\":[0.0,1.0],\"title\":{\"text\":\"PERMIT\"}},\"legend\":{\"tracegroupgap\":0},\"title\":{\"text\":\"Permits issued in last 20 years\"},\"barmode\":\"relative\"},                        {\"responsive\": true}                    ).then(function(){\n",
              "                            \n",
              "var gd = document.getElementById('04f833df-4fb7-4200-b5c9-a83684badeb4');\n",
              "var x = new MutationObserver(function (mutations, observer) {{\n",
              "        var display = window.getComputedStyle(gd).display;\n",
              "        if (!display || display === 'none') {{\n",
              "            console.log([gd, 'removed!']);\n",
              "            Plotly.purge(gd);\n",
              "            observer.disconnect();\n",
              "        }}\n",
              "}});\n",
              "\n",
              "// Listen for the removal of the full notebook cells\n",
              "var notebookContainer = gd.closest('#notebook-container');\n",
              "if (notebookContainer) {{\n",
              "    x.observe(notebookContainer, {childList: true});\n",
              "}}\n",
              "\n",
              "// Listen for the clearing of the current output cell\n",
              "var outputEl = gd.closest('.output');\n",
              "if (outputEl) {{\n",
              "    x.observe(outputEl, {childList: true});\n",
              "}}\n",
              "\n",
              "                        })                };                            </script>        </div>\n",
              "</body>\n",
              "</html>"
            ]
          },
          "metadata": {}
        }
      ]
    },
    {
      "cell_type": "code",
      "source": [
        "px.scatter(new_df2,\n",
        "               x='Date',\n",
        "               y='MonthlySupply',\n",
        "               title='Monthly Supply of New Houses')"
      ],
      "metadata": {
        "colab": {
          "base_uri": "https://localhost:8080/",
          "height": 542
        },
        "id": "nqUvGC57fXY3",
        "outputId": "4c78c346-e2b7-45d5-fd2a-f05afd4f2689"
      },
      "execution_count": 224,
      "outputs": [
        {
          "output_type": "display_data",
          "data": {
            "text/html": [
              "<html>\n",
              "<head><meta charset=\"utf-8\" /></head>\n",
              "<body>\n",
              "    <div>            <script src=\"https://cdnjs.cloudflare.com/ajax/libs/mathjax/2.7.5/MathJax.js?config=TeX-AMS-MML_SVG\"></script><script type=\"text/javascript\">if (window.MathJax && window.MathJax.Hub && window.MathJax.Hub.Config) {window.MathJax.Hub.Config({SVG: {font: \"STIX-Web\"}});}</script>                <script type=\"text/javascript\">window.PlotlyConfig = {MathJaxConfig: 'local'};</script>\n",
              "        <script charset=\"utf-8\" src=\"https://cdn.plot.ly/plotly-2.20.0.min.js\"></script>                <div id=\"1c1cf2cd-deba-4e17-8a4e-1908eb2ef111\" class=\"plotly-graph-div\" style=\"height:525px; width:100%;\"></div>            <script type=\"text/javascript\">                                    window.PLOTLYENV=window.PLOTLYENV || {};                                    if (document.getElementById(\"1c1cf2cd-deba-4e17-8a4e-1908eb2ef111\")) {                    Plotly.newPlot(                        \"1c1cf2cd-deba-4e17-8a4e-1908eb2ef111\",                        [{\"hovertemplate\":\"Date=%{x}<br>MonthlySupply=%{y}<extra></extra>\",\"legendgroup\":\"\",\"marker\":{\"color\":\"#636efa\",\"symbol\":\"circle\"},\"mode\":\"markers\",\"name\":\"\",\"orientation\":\"v\",\"showlegend\":false,\"x\":[\"2003-01-01T00:00:00\",\"2003-04-01T00:00:00\",\"2003-07-01T00:00:00\",\"2003-10-01T00:00:00\",\"2004-01-01T00:00:00\",\"2004-04-01T00:00:00\",\"2004-07-01T00:00:00\",\"2004-10-01T00:00:00\",\"2005-01-01T00:00:00\",\"2005-04-01T00:00:00\",\"2005-07-01T00:00:00\",\"2005-10-01T00:00:00\",\"2006-01-01T00:00:00\",\"2006-04-01T00:00:00\",\"2006-07-01T00:00:00\",\"2006-10-01T00:00:00\",\"2007-01-01T00:00:00\",\"2007-04-01T00:00:00\",\"2007-07-01T00:00:00\",\"2007-10-01T00:00:00\",\"2008-01-01T00:00:00\",\"2008-04-01T00:00:00\",\"2008-07-01T00:00:00\",\"2008-10-01T00:00:00\",\"2009-01-01T00:00:00\",\"2009-04-01T00:00:00\",\"2009-07-01T00:00:00\",\"2009-10-01T00:00:00\",\"2010-01-01T00:00:00\",\"2010-04-01T00:00:00\",\"2010-07-01T00:00:00\",\"2010-10-01T00:00:00\",\"2011-01-01T00:00:00\",\"2011-04-01T00:00:00\",\"2011-07-01T00:00:00\",\"2011-10-01T00:00:00\",\"2012-01-01T00:00:00\",\"2012-04-01T00:00:00\",\"2012-07-01T00:00:00\",\"2012-10-01T00:00:00\",\"2013-01-01T00:00:00\",\"2013-04-01T00:00:00\",\"2013-07-01T00:00:00\",\"2013-10-01T00:00:00\",\"2014-01-01T00:00:00\",\"2014-04-01T00:00:00\",\"2014-07-01T00:00:00\",\"2014-10-01T00:00:00\",\"2015-01-01T00:00:00\",\"2015-04-01T00:00:00\",\"2015-07-01T00:00:00\",\"2015-10-01T00:00:00\",\"2016-01-01T00:00:00\",\"2016-04-01T00:00:00\",\"2016-07-01T00:00:00\",\"2016-10-01T00:00:00\",\"2017-01-01T00:00:00\",\"2017-04-01T00:00:00\",\"2017-07-01T00:00:00\",\"2017-10-01T00:00:00\",\"2018-01-01T00:00:00\",\"2018-04-01T00:00:00\",\"2018-07-01T00:00:00\",\"2018-10-01T00:00:00\",\"2019-01-01T00:00:00\",\"2019-04-01T00:00:00\",\"2019-07-01T00:00:00\",\"2019-10-01T00:00:00\",\"2020-01-01T00:00:00\",\"2020-04-01T00:00:00\",\"2020-07-01T00:00:00\",\"2020-10-01T00:00:00\",\"2021-01-01T00:00:00\",\"2021-04-01T00:00:00\",\"2021-07-01T00:00:00\",\"2021-10-01T00:00:00\",\"2022-01-01T00:00:00\",\"2022-04-01T00:00:00\",\"2022-07-01T00:00:00\",\"2022-10-01T00:00:00\"],\"xaxis\":\"x\",\"y\":[4.2,3.833333333,3.633333333,3.966666667,3.7,3.9,4.3,4.1,4.266666667,4.266666667,4.466666667,4.8,5.766666667,6.266666667,6.9,6.8,7.666666667,7.8,8.9,9.166666667,9.833333333,10.56666667,10.9,11.4,11.23333333,9.5,7.733333333,7.666666667,7.833333333,7.933333333,8.433333333,7.8,7.533333333,6.633333333,6.5,5.666666667,5.0,4.8,4.566666667,4.666666667,4.1,4.366666667,5.466666667,5.033333333,5.333333333,5.533333333,5.666666667,5.366666667,4.8,5.1,5.366666667,5.4,5.533333333,5.133333333,4.9,5.266666667,5.233333333,5.266666667,5.733333333,5.3,5.566666667,5.6,6.433333333,7.066666667,6.366666667,5.833333333,5.6,5.533333333,5.9,5.3,3.4,3.866666667,4.333333333,5.3,6.2,6.233333333,6.233333333,8.7,9.566666667,9.2],\"yaxis\":\"y\",\"type\":\"scatter\"}],                        {\"template\":{\"data\":{\"histogram2dcontour\":[{\"type\":\"histogram2dcontour\",\"colorbar\":{\"outlinewidth\":0,\"ticks\":\"\"},\"colorscale\":[[0.0,\"#0d0887\"],[0.1111111111111111,\"#46039f\"],[0.2222222222222222,\"#7201a8\"],[0.3333333333333333,\"#9c179e\"],[0.4444444444444444,\"#bd3786\"],[0.5555555555555556,\"#d8576b\"],[0.6666666666666666,\"#ed7953\"],[0.7777777777777778,\"#fb9f3a\"],[0.8888888888888888,\"#fdca26\"],[1.0,\"#f0f921\"]]}],\"choropleth\":[{\"type\":\"choropleth\",\"colorbar\":{\"outlinewidth\":0,\"ticks\":\"\"}}],\"histogram2d\":[{\"type\":\"histogram2d\",\"colorbar\":{\"outlinewidth\":0,\"ticks\":\"\"},\"colorscale\":[[0.0,\"#0d0887\"],[0.1111111111111111,\"#46039f\"],[0.2222222222222222,\"#7201a8\"],[0.3333333333333333,\"#9c179e\"],[0.4444444444444444,\"#bd3786\"],[0.5555555555555556,\"#d8576b\"],[0.6666666666666666,\"#ed7953\"],[0.7777777777777778,\"#fb9f3a\"],[0.8888888888888888,\"#fdca26\"],[1.0,\"#f0f921\"]]}],\"heatmap\":[{\"type\":\"heatmap\",\"colorbar\":{\"outlinewidth\":0,\"ticks\":\"\"},\"colorscale\":[[0.0,\"#0d0887\"],[0.1111111111111111,\"#46039f\"],[0.2222222222222222,\"#7201a8\"],[0.3333333333333333,\"#9c179e\"],[0.4444444444444444,\"#bd3786\"],[0.5555555555555556,\"#d8576b\"],[0.6666666666666666,\"#ed7953\"],[0.7777777777777778,\"#fb9f3a\"],[0.8888888888888888,\"#fdca26\"],[1.0,\"#f0f921\"]]}],\"heatmapgl\":[{\"type\":\"heatmapgl\",\"colorbar\":{\"outlinewidth\":0,\"ticks\":\"\"},\"colorscale\":[[0.0,\"#0d0887\"],[0.1111111111111111,\"#46039f\"],[0.2222222222222222,\"#7201a8\"],[0.3333333333333333,\"#9c179e\"],[0.4444444444444444,\"#bd3786\"],[0.5555555555555556,\"#d8576b\"],[0.6666666666666666,\"#ed7953\"],[0.7777777777777778,\"#fb9f3a\"],[0.8888888888888888,\"#fdca26\"],[1.0,\"#f0f921\"]]}],\"contourcarpet\":[{\"type\":\"contourcarpet\",\"colorbar\":{\"outlinewidth\":0,\"ticks\":\"\"}}],\"contour\":[{\"type\":\"contour\",\"colorbar\":{\"outlinewidth\":0,\"ticks\":\"\"},\"colorscale\":[[0.0,\"#0d0887\"],[0.1111111111111111,\"#46039f\"],[0.2222222222222222,\"#7201a8\"],[0.3333333333333333,\"#9c179e\"],[0.4444444444444444,\"#bd3786\"],[0.5555555555555556,\"#d8576b\"],[0.6666666666666666,\"#ed7953\"],[0.7777777777777778,\"#fb9f3a\"],[0.8888888888888888,\"#fdca26\"],[1.0,\"#f0f921\"]]}],\"surface\":[{\"type\":\"surface\",\"colorbar\":{\"outlinewidth\":0,\"ticks\":\"\"},\"colorscale\":[[0.0,\"#0d0887\"],[0.1111111111111111,\"#46039f\"],[0.2222222222222222,\"#7201a8\"],[0.3333333333333333,\"#9c179e\"],[0.4444444444444444,\"#bd3786\"],[0.5555555555555556,\"#d8576b\"],[0.6666666666666666,\"#ed7953\"],[0.7777777777777778,\"#fb9f3a\"],[0.8888888888888888,\"#fdca26\"],[1.0,\"#f0f921\"]]}],\"mesh3d\":[{\"type\":\"mesh3d\",\"colorbar\":{\"outlinewidth\":0,\"ticks\":\"\"}}],\"scatter\":[{\"fillpattern\":{\"fillmode\":\"overlay\",\"size\":10,\"solidity\":0.2},\"type\":\"scatter\"}],\"parcoords\":[{\"type\":\"parcoords\",\"line\":{\"colorbar\":{\"outlinewidth\":0,\"ticks\":\"\"}}}],\"scatterpolargl\":[{\"type\":\"scatterpolargl\",\"marker\":{\"colorbar\":{\"outlinewidth\":0,\"ticks\":\"\"}}}],\"bar\":[{\"error_x\":{\"color\":\"#2a3f5f\"},\"error_y\":{\"color\":\"#2a3f5f\"},\"marker\":{\"line\":{\"color\":\"#E5ECF6\",\"width\":0.5},\"pattern\":{\"fillmode\":\"overlay\",\"size\":10,\"solidity\":0.2}},\"type\":\"bar\"}],\"scattergeo\":[{\"type\":\"scattergeo\",\"marker\":{\"colorbar\":{\"outlinewidth\":0,\"ticks\":\"\"}}}],\"scatterpolar\":[{\"type\":\"scatterpolar\",\"marker\":{\"colorbar\":{\"outlinewidth\":0,\"ticks\":\"\"}}}],\"histogram\":[{\"marker\":{\"pattern\":{\"fillmode\":\"overlay\",\"size\":10,\"solidity\":0.2}},\"type\":\"histogram\"}],\"scattergl\":[{\"type\":\"scattergl\",\"marker\":{\"colorbar\":{\"outlinewidth\":0,\"ticks\":\"\"}}}],\"scatter3d\":[{\"type\":\"scatter3d\",\"line\":{\"colorbar\":{\"outlinewidth\":0,\"ticks\":\"\"}},\"marker\":{\"colorbar\":{\"outlinewidth\":0,\"ticks\":\"\"}}}],\"scattermapbox\":[{\"type\":\"scattermapbox\",\"marker\":{\"colorbar\":{\"outlinewidth\":0,\"ticks\":\"\"}}}],\"scatterternary\":[{\"type\":\"scatterternary\",\"marker\":{\"colorbar\":{\"outlinewidth\":0,\"ticks\":\"\"}}}],\"scattercarpet\":[{\"type\":\"scattercarpet\",\"marker\":{\"colorbar\":{\"outlinewidth\":0,\"ticks\":\"\"}}}],\"carpet\":[{\"aaxis\":{\"endlinecolor\":\"#2a3f5f\",\"gridcolor\":\"white\",\"linecolor\":\"white\",\"minorgridcolor\":\"white\",\"startlinecolor\":\"#2a3f5f\"},\"baxis\":{\"endlinecolor\":\"#2a3f5f\",\"gridcolor\":\"white\",\"linecolor\":\"white\",\"minorgridcolor\":\"white\",\"startlinecolor\":\"#2a3f5f\"},\"type\":\"carpet\"}],\"table\":[{\"cells\":{\"fill\":{\"color\":\"#EBF0F8\"},\"line\":{\"color\":\"white\"}},\"header\":{\"fill\":{\"color\":\"#C8D4E3\"},\"line\":{\"color\":\"white\"}},\"type\":\"table\"}],\"barpolar\":[{\"marker\":{\"line\":{\"color\":\"#E5ECF6\",\"width\":0.5},\"pattern\":{\"fillmode\":\"overlay\",\"size\":10,\"solidity\":0.2}},\"type\":\"barpolar\"}],\"pie\":[{\"automargin\":true,\"type\":\"pie\"}]},\"layout\":{\"autotypenumbers\":\"strict\",\"colorway\":[\"#636efa\",\"#EF553B\",\"#00cc96\",\"#ab63fa\",\"#FFA15A\",\"#19d3f3\",\"#FF6692\",\"#B6E880\",\"#FF97FF\",\"#FECB52\"],\"font\":{\"color\":\"#2a3f5f\"},\"hovermode\":\"closest\",\"hoverlabel\":{\"align\":\"left\"},\"paper_bgcolor\":\"white\",\"plot_bgcolor\":\"#E5ECF6\",\"polar\":{\"bgcolor\":\"#E5ECF6\",\"angularaxis\":{\"gridcolor\":\"white\",\"linecolor\":\"white\",\"ticks\":\"\"},\"radialaxis\":{\"gridcolor\":\"white\",\"linecolor\":\"white\",\"ticks\":\"\"}},\"ternary\":{\"bgcolor\":\"#E5ECF6\",\"aaxis\":{\"gridcolor\":\"white\",\"linecolor\":\"white\",\"ticks\":\"\"},\"baxis\":{\"gridcolor\":\"white\",\"linecolor\":\"white\",\"ticks\":\"\"},\"caxis\":{\"gridcolor\":\"white\",\"linecolor\":\"white\",\"ticks\":\"\"}},\"coloraxis\":{\"colorbar\":{\"outlinewidth\":0,\"ticks\":\"\"}},\"colorscale\":{\"sequential\":[[0.0,\"#0d0887\"],[0.1111111111111111,\"#46039f\"],[0.2222222222222222,\"#7201a8\"],[0.3333333333333333,\"#9c179e\"],[0.4444444444444444,\"#bd3786\"],[0.5555555555555556,\"#d8576b\"],[0.6666666666666666,\"#ed7953\"],[0.7777777777777778,\"#fb9f3a\"],[0.8888888888888888,\"#fdca26\"],[1.0,\"#f0f921\"]],\"sequentialminus\":[[0.0,\"#0d0887\"],[0.1111111111111111,\"#46039f\"],[0.2222222222222222,\"#7201a8\"],[0.3333333333333333,\"#9c179e\"],[0.4444444444444444,\"#bd3786\"],[0.5555555555555556,\"#d8576b\"],[0.6666666666666666,\"#ed7953\"],[0.7777777777777778,\"#fb9f3a\"],[0.8888888888888888,\"#fdca26\"],[1.0,\"#f0f921\"]],\"diverging\":[[0,\"#8e0152\"],[0.1,\"#c51b7d\"],[0.2,\"#de77ae\"],[0.3,\"#f1b6da\"],[0.4,\"#fde0ef\"],[0.5,\"#f7f7f7\"],[0.6,\"#e6f5d0\"],[0.7,\"#b8e186\"],[0.8,\"#7fbc41\"],[0.9,\"#4d9221\"],[1,\"#276419\"]]},\"xaxis\":{\"gridcolor\":\"white\",\"linecolor\":\"white\",\"ticks\":\"\",\"title\":{\"standoff\":15},\"zerolinecolor\":\"white\",\"automargin\":true,\"zerolinewidth\":2},\"yaxis\":{\"gridcolor\":\"white\",\"linecolor\":\"white\",\"ticks\":\"\",\"title\":{\"standoff\":15},\"zerolinecolor\":\"white\",\"automargin\":true,\"zerolinewidth\":2},\"scene\":{\"xaxis\":{\"backgroundcolor\":\"#E5ECF6\",\"gridcolor\":\"white\",\"linecolor\":\"white\",\"showbackground\":true,\"ticks\":\"\",\"zerolinecolor\":\"white\",\"gridwidth\":2},\"yaxis\":{\"backgroundcolor\":\"#E5ECF6\",\"gridcolor\":\"white\",\"linecolor\":\"white\",\"showbackground\":true,\"ticks\":\"\",\"zerolinecolor\":\"white\",\"gridwidth\":2},\"zaxis\":{\"backgroundcolor\":\"#E5ECF6\",\"gridcolor\":\"white\",\"linecolor\":\"white\",\"showbackground\":true,\"ticks\":\"\",\"zerolinecolor\":\"white\",\"gridwidth\":2}},\"shapedefaults\":{\"line\":{\"color\":\"#2a3f5f\"}},\"annotationdefaults\":{\"arrowcolor\":\"#2a3f5f\",\"arrowhead\":0,\"arrowwidth\":1},\"geo\":{\"bgcolor\":\"white\",\"landcolor\":\"#E5ECF6\",\"subunitcolor\":\"white\",\"showland\":true,\"showlakes\":true,\"lakecolor\":\"white\"},\"title\":{\"x\":0.05},\"mapbox\":{\"style\":\"light\"}}},\"xaxis\":{\"anchor\":\"y\",\"domain\":[0.0,1.0],\"title\":{\"text\":\"Date\"}},\"yaxis\":{\"anchor\":\"x\",\"domain\":[0.0,1.0],\"title\":{\"text\":\"MonthlySupply\"}},\"legend\":{\"tracegroupgap\":0},\"title\":{\"text\":\"Monthly Supply of New Houses\"}},                        {\"responsive\": true}                    ).then(function(){\n",
              "                            \n",
              "var gd = document.getElementById('1c1cf2cd-deba-4e17-8a4e-1908eb2ef111');\n",
              "var x = new MutationObserver(function (mutations, observer) {{\n",
              "        var display = window.getComputedStyle(gd).display;\n",
              "        if (!display || display === 'none') {{\n",
              "            console.log([gd, 'removed!']);\n",
              "            Plotly.purge(gd);\n",
              "            observer.disconnect();\n",
              "        }}\n",
              "}});\n",
              "\n",
              "// Listen for the removal of the full notebook cells\n",
              "var notebookContainer = gd.closest('#notebook-container');\n",
              "if (notebookContainer) {{\n",
              "    x.observe(notebookContainer, {childList: true});\n",
              "}}\n",
              "\n",
              "// Listen for the clearing of the current output cell\n",
              "var outputEl = gd.closest('.output');\n",
              "if (outputEl) {{\n",
              "    x.observe(outputEl, {childList: true});\n",
              "}}\n",
              "\n",
              "                        })                };                            </script>        </div>\n",
              "</body>\n",
              "</html>"
            ]
          },
          "metadata": {}
        }
      ]
    },
    {
      "cell_type": "code",
      "source": [
        "px.line(new_df2,\n",
        "        x='Date',\n",
        "        y=['MonthlySupply','PERMIT'],\n",
        "        title='Monthly supply vs Permits')"
      ],
      "metadata": {
        "colab": {
          "base_uri": "https://localhost:8080/",
          "height": 542
        },
        "id": "QcXOj83ph_8z",
        "outputId": "91477af7-b6ee-4bbb-aa6e-c68a0a5f5534"
      },
      "execution_count": 225,
      "outputs": [
        {
          "output_type": "display_data",
          "data": {
            "text/html": [
              "<html>\n",
              "<head><meta charset=\"utf-8\" /></head>\n",
              "<body>\n",
              "    <div>            <script src=\"https://cdnjs.cloudflare.com/ajax/libs/mathjax/2.7.5/MathJax.js?config=TeX-AMS-MML_SVG\"></script><script type=\"text/javascript\">if (window.MathJax && window.MathJax.Hub && window.MathJax.Hub.Config) {window.MathJax.Hub.Config({SVG: {font: \"STIX-Web\"}});}</script>                <script type=\"text/javascript\">window.PlotlyConfig = {MathJaxConfig: 'local'};</script>\n",
              "        <script charset=\"utf-8\" src=\"https://cdn.plot.ly/plotly-2.20.0.min.js\"></script>                <div id=\"90035cb3-f542-4b3b-acb7-b44f80b33863\" class=\"plotly-graph-div\" style=\"height:525px; width:100%;\"></div>            <script type=\"text/javascript\">                                    window.PLOTLYENV=window.PLOTLYENV || {};                                    if (document.getElementById(\"90035cb3-f542-4b3b-acb7-b44f80b33863\")) {                    Plotly.newPlot(                        \"90035cb3-f542-4b3b-acb7-b44f80b33863\",                        [{\"hovertemplate\":\"variable=MonthlySupply<br>Date=%{x}<br>value=%{y}<extra></extra>\",\"legendgroup\":\"MonthlySupply\",\"line\":{\"color\":\"#636efa\",\"dash\":\"solid\"},\"marker\":{\"symbol\":\"circle\"},\"mode\":\"lines\",\"name\":\"MonthlySupply\",\"orientation\":\"v\",\"showlegend\":true,\"x\":[\"2003-01-01T00:00:00\",\"2003-04-01T00:00:00\",\"2003-07-01T00:00:00\",\"2003-10-01T00:00:00\",\"2004-01-01T00:00:00\",\"2004-04-01T00:00:00\",\"2004-07-01T00:00:00\",\"2004-10-01T00:00:00\",\"2005-01-01T00:00:00\",\"2005-04-01T00:00:00\",\"2005-07-01T00:00:00\",\"2005-10-01T00:00:00\",\"2006-01-01T00:00:00\",\"2006-04-01T00:00:00\",\"2006-07-01T00:00:00\",\"2006-10-01T00:00:00\",\"2007-01-01T00:00:00\",\"2007-04-01T00:00:00\",\"2007-07-01T00:00:00\",\"2007-10-01T00:00:00\",\"2008-01-01T00:00:00\",\"2008-04-01T00:00:00\",\"2008-07-01T00:00:00\",\"2008-10-01T00:00:00\",\"2009-01-01T00:00:00\",\"2009-04-01T00:00:00\",\"2009-07-01T00:00:00\",\"2009-10-01T00:00:00\",\"2010-01-01T00:00:00\",\"2010-04-01T00:00:00\",\"2010-07-01T00:00:00\",\"2010-10-01T00:00:00\",\"2011-01-01T00:00:00\",\"2011-04-01T00:00:00\",\"2011-07-01T00:00:00\",\"2011-10-01T00:00:00\",\"2012-01-01T00:00:00\",\"2012-04-01T00:00:00\",\"2012-07-01T00:00:00\",\"2012-10-01T00:00:00\",\"2013-01-01T00:00:00\",\"2013-04-01T00:00:00\",\"2013-07-01T00:00:00\",\"2013-10-01T00:00:00\",\"2014-01-01T00:00:00\",\"2014-04-01T00:00:00\",\"2014-07-01T00:00:00\",\"2014-10-01T00:00:00\",\"2015-01-01T00:00:00\",\"2015-04-01T00:00:00\",\"2015-07-01T00:00:00\",\"2015-10-01T00:00:00\",\"2016-01-01T00:00:00\",\"2016-04-01T00:00:00\",\"2016-07-01T00:00:00\",\"2016-10-01T00:00:00\",\"2017-01-01T00:00:00\",\"2017-04-01T00:00:00\",\"2017-07-01T00:00:00\",\"2017-10-01T00:00:00\",\"2018-01-01T00:00:00\",\"2018-04-01T00:00:00\",\"2018-07-01T00:00:00\",\"2018-10-01T00:00:00\",\"2019-01-01T00:00:00\",\"2019-04-01T00:00:00\",\"2019-07-01T00:00:00\",\"2019-10-01T00:00:00\",\"2020-01-01T00:00:00\",\"2020-04-01T00:00:00\",\"2020-07-01T00:00:00\",\"2020-10-01T00:00:00\",\"2021-01-01T00:00:00\",\"2021-04-01T00:00:00\",\"2021-07-01T00:00:00\",\"2021-10-01T00:00:00\",\"2022-01-01T00:00:00\",\"2022-04-01T00:00:00\",\"2022-07-01T00:00:00\",\"2022-10-01T00:00:00\"],\"xaxis\":\"x\",\"y\":[4.2,3.833333333,3.633333333,3.966666667,3.7,3.9,4.3,4.1,4.266666667,4.266666667,4.466666667,4.8,5.766666667,6.266666667,6.9,6.8,7.666666667,7.8,8.9,9.166666667,9.833333333,10.56666667,10.9,11.4,11.23333333,9.5,7.733333333,7.666666667,7.833333333,7.933333333,8.433333333,7.8,7.533333333,6.633333333,6.5,5.666666667,5.0,4.8,4.566666667,4.666666667,4.1,4.366666667,5.466666667,5.033333333,5.333333333,5.533333333,5.666666667,5.366666667,4.8,5.1,5.366666667,5.4,5.533333333,5.133333333,4.9,5.266666667,5.233333333,5.266666667,5.733333333,5.3,5.566666667,5.6,6.433333333,7.066666667,6.366666667,5.833333333,5.6,5.533333333,5.9,5.3,3.4,3.866666667,4.333333333,5.3,6.2,6.233333333,6.233333333,8.7,9.566666667,9.2],\"yaxis\":\"y\",\"type\":\"scatter\"},{\"hovertemplate\":\"variable=PERMIT<br>Date=%{x}<br>value=%{y}<extra></extra>\",\"legendgroup\":\"PERMIT\",\"line\":{\"color\":\"#EF553B\",\"dash\":\"solid\"},\"marker\":{\"symbol\":\"circle\"},\"mode\":\"lines\",\"name\":\"PERMIT\",\"orientation\":\"v\",\"showlegend\":true,\"x\":[\"2003-01-01T00:00:00\",\"2003-04-01T00:00:00\",\"2003-07-01T00:00:00\",\"2003-10-01T00:00:00\",\"2004-01-01T00:00:00\",\"2004-04-01T00:00:00\",\"2004-07-01T00:00:00\",\"2004-10-01T00:00:00\",\"2005-01-01T00:00:00\",\"2005-04-01T00:00:00\",\"2005-07-01T00:00:00\",\"2005-10-01T00:00:00\",\"2006-01-01T00:00:00\",\"2006-04-01T00:00:00\",\"2006-07-01T00:00:00\",\"2006-10-01T00:00:00\",\"2007-01-01T00:00:00\",\"2007-04-01T00:00:00\",\"2007-07-01T00:00:00\",\"2007-10-01T00:00:00\",\"2008-01-01T00:00:00\",\"2008-04-01T00:00:00\",\"2008-07-01T00:00:00\",\"2008-10-01T00:00:00\",\"2009-01-01T00:00:00\",\"2009-04-01T00:00:00\",\"2009-07-01T00:00:00\",\"2009-10-01T00:00:00\",\"2010-01-01T00:00:00\",\"2010-04-01T00:00:00\",\"2010-07-01T00:00:00\",\"2010-10-01T00:00:00\",\"2011-01-01T00:00:00\",\"2011-04-01T00:00:00\",\"2011-07-01T00:00:00\",\"2011-10-01T00:00:00\",\"2012-01-01T00:00:00\",\"2012-04-01T00:00:00\",\"2012-07-01T00:00:00\",\"2012-10-01T00:00:00\",\"2013-01-01T00:00:00\",\"2013-04-01T00:00:00\",\"2013-07-01T00:00:00\",\"2013-10-01T00:00:00\",\"2014-01-01T00:00:00\",\"2014-04-01T00:00:00\",\"2014-07-01T00:00:00\",\"2014-10-01T00:00:00\",\"2015-01-01T00:00:00\",\"2015-04-01T00:00:00\",\"2015-07-01T00:00:00\",\"2015-10-01T00:00:00\",\"2016-01-01T00:00:00\",\"2016-04-01T00:00:00\",\"2016-07-01T00:00:00\",\"2016-10-01T00:00:00\",\"2017-01-01T00:00:00\",\"2017-04-01T00:00:00\",\"2017-07-01T00:00:00\",\"2017-10-01T00:00:00\",\"2018-01-01T00:00:00\",\"2018-04-01T00:00:00\",\"2018-07-01T00:00:00\",\"2018-10-01T00:00:00\",\"2019-01-01T00:00:00\",\"2019-04-01T00:00:00\",\"2019-07-01T00:00:00\",\"2019-10-01T00:00:00\",\"2020-01-01T00:00:00\",\"2020-04-01T00:00:00\",\"2020-07-01T00:00:00\",\"2020-10-01T00:00:00\",\"2021-01-01T00:00:00\",\"2021-04-01T00:00:00\",\"2021-07-01T00:00:00\",\"2021-10-01T00:00:00\",\"2022-01-01T00:00:00\",\"2022-04-01T00:00:00\",\"2022-07-01T00:00:00\",\"2022-10-01T00:00:00\"],\"xaxis\":\"x\",\"y\":[1806.333333,1837.666667,1937.333333,1972.333333,1994.666667,2080.0,2069.666667,2086.0,2105.0,2137.666667,2228.333333,2169.333333,2157.0,1923.333333,1713.333333,1581.0,1606.666667,1456.666667,1314.333333,1188.333333,1025.0,1061.0,858.6666667,638.6666667,538.6666667,559.3333333,606.6666667,623.3333333,657.6666667,599.6666667,574.0,583.3333333,567.0,611.6666667,626.0,691.3333333,752.0,774.0,873.0,915.0,952.0,985.6666667,988.3333333,1026.0,1027.333333,1039.333333,1066.666667,1075.0,1082.666667,1272.333333,1149.666667,1205.0,1153.666667,1191.0,1234.0,1244.0,1268.666667,1265.666667,1289.0,1322.333333,1341.0,1344.666667,1315.333333,1311.333333,1282.333333,1312.333333,1455.333333,1507.0,1429.333333,1210.666667,1577.666667,1698.333333,1765.666667,1679.333333,1697.0,1816.666667,1864.0,1734.666667,1610.666667,1455.333333],\"yaxis\":\"y\",\"type\":\"scatter\"}],                        {\"template\":{\"data\":{\"histogram2dcontour\":[{\"type\":\"histogram2dcontour\",\"colorbar\":{\"outlinewidth\":0,\"ticks\":\"\"},\"colorscale\":[[0.0,\"#0d0887\"],[0.1111111111111111,\"#46039f\"],[0.2222222222222222,\"#7201a8\"],[0.3333333333333333,\"#9c179e\"],[0.4444444444444444,\"#bd3786\"],[0.5555555555555556,\"#d8576b\"],[0.6666666666666666,\"#ed7953\"],[0.7777777777777778,\"#fb9f3a\"],[0.8888888888888888,\"#fdca26\"],[1.0,\"#f0f921\"]]}],\"choropleth\":[{\"type\":\"choropleth\",\"colorbar\":{\"outlinewidth\":0,\"ticks\":\"\"}}],\"histogram2d\":[{\"type\":\"histogram2d\",\"colorbar\":{\"outlinewidth\":0,\"ticks\":\"\"},\"colorscale\":[[0.0,\"#0d0887\"],[0.1111111111111111,\"#46039f\"],[0.2222222222222222,\"#7201a8\"],[0.3333333333333333,\"#9c179e\"],[0.4444444444444444,\"#bd3786\"],[0.5555555555555556,\"#d8576b\"],[0.6666666666666666,\"#ed7953\"],[0.7777777777777778,\"#fb9f3a\"],[0.8888888888888888,\"#fdca26\"],[1.0,\"#f0f921\"]]}],\"heatmap\":[{\"type\":\"heatmap\",\"colorbar\":{\"outlinewidth\":0,\"ticks\":\"\"},\"colorscale\":[[0.0,\"#0d0887\"],[0.1111111111111111,\"#46039f\"],[0.2222222222222222,\"#7201a8\"],[0.3333333333333333,\"#9c179e\"],[0.4444444444444444,\"#bd3786\"],[0.5555555555555556,\"#d8576b\"],[0.6666666666666666,\"#ed7953\"],[0.7777777777777778,\"#fb9f3a\"],[0.8888888888888888,\"#fdca26\"],[1.0,\"#f0f921\"]]}],\"heatmapgl\":[{\"type\":\"heatmapgl\",\"colorbar\":{\"outlinewidth\":0,\"ticks\":\"\"},\"colorscale\":[[0.0,\"#0d0887\"],[0.1111111111111111,\"#46039f\"],[0.2222222222222222,\"#7201a8\"],[0.3333333333333333,\"#9c179e\"],[0.4444444444444444,\"#bd3786\"],[0.5555555555555556,\"#d8576b\"],[0.6666666666666666,\"#ed7953\"],[0.7777777777777778,\"#fb9f3a\"],[0.8888888888888888,\"#fdca26\"],[1.0,\"#f0f921\"]]}],\"contourcarpet\":[{\"type\":\"contourcarpet\",\"colorbar\":{\"outlinewidth\":0,\"ticks\":\"\"}}],\"contour\":[{\"type\":\"contour\",\"colorbar\":{\"outlinewidth\":0,\"ticks\":\"\"},\"colorscale\":[[0.0,\"#0d0887\"],[0.1111111111111111,\"#46039f\"],[0.2222222222222222,\"#7201a8\"],[0.3333333333333333,\"#9c179e\"],[0.4444444444444444,\"#bd3786\"],[0.5555555555555556,\"#d8576b\"],[0.6666666666666666,\"#ed7953\"],[0.7777777777777778,\"#fb9f3a\"],[0.8888888888888888,\"#fdca26\"],[1.0,\"#f0f921\"]]}],\"surface\":[{\"type\":\"surface\",\"colorbar\":{\"outlinewidth\":0,\"ticks\":\"\"},\"colorscale\":[[0.0,\"#0d0887\"],[0.1111111111111111,\"#46039f\"],[0.2222222222222222,\"#7201a8\"],[0.3333333333333333,\"#9c179e\"],[0.4444444444444444,\"#bd3786\"],[0.5555555555555556,\"#d8576b\"],[0.6666666666666666,\"#ed7953\"],[0.7777777777777778,\"#fb9f3a\"],[0.8888888888888888,\"#fdca26\"],[1.0,\"#f0f921\"]]}],\"mesh3d\":[{\"type\":\"mesh3d\",\"colorbar\":{\"outlinewidth\":0,\"ticks\":\"\"}}],\"scatter\":[{\"fillpattern\":{\"fillmode\":\"overlay\",\"size\":10,\"solidity\":0.2},\"type\":\"scatter\"}],\"parcoords\":[{\"type\":\"parcoords\",\"line\":{\"colorbar\":{\"outlinewidth\":0,\"ticks\":\"\"}}}],\"scatterpolargl\":[{\"type\":\"scatterpolargl\",\"marker\":{\"colorbar\":{\"outlinewidth\":0,\"ticks\":\"\"}}}],\"bar\":[{\"error_x\":{\"color\":\"#2a3f5f\"},\"error_y\":{\"color\":\"#2a3f5f\"},\"marker\":{\"line\":{\"color\":\"#E5ECF6\",\"width\":0.5},\"pattern\":{\"fillmode\":\"overlay\",\"size\":10,\"solidity\":0.2}},\"type\":\"bar\"}],\"scattergeo\":[{\"type\":\"scattergeo\",\"marker\":{\"colorbar\":{\"outlinewidth\":0,\"ticks\":\"\"}}}],\"scatterpolar\":[{\"type\":\"scatterpolar\",\"marker\":{\"colorbar\":{\"outlinewidth\":0,\"ticks\":\"\"}}}],\"histogram\":[{\"marker\":{\"pattern\":{\"fillmode\":\"overlay\",\"size\":10,\"solidity\":0.2}},\"type\":\"histogram\"}],\"scattergl\":[{\"type\":\"scattergl\",\"marker\":{\"colorbar\":{\"outlinewidth\":0,\"ticks\":\"\"}}}],\"scatter3d\":[{\"type\":\"scatter3d\",\"line\":{\"colorbar\":{\"outlinewidth\":0,\"ticks\":\"\"}},\"marker\":{\"colorbar\":{\"outlinewidth\":0,\"ticks\":\"\"}}}],\"scattermapbox\":[{\"type\":\"scattermapbox\",\"marker\":{\"colorbar\":{\"outlinewidth\":0,\"ticks\":\"\"}}}],\"scatterternary\":[{\"type\":\"scatterternary\",\"marker\":{\"colorbar\":{\"outlinewidth\":0,\"ticks\":\"\"}}}],\"scattercarpet\":[{\"type\":\"scattercarpet\",\"marker\":{\"colorbar\":{\"outlinewidth\":0,\"ticks\":\"\"}}}],\"carpet\":[{\"aaxis\":{\"endlinecolor\":\"#2a3f5f\",\"gridcolor\":\"white\",\"linecolor\":\"white\",\"minorgridcolor\":\"white\",\"startlinecolor\":\"#2a3f5f\"},\"baxis\":{\"endlinecolor\":\"#2a3f5f\",\"gridcolor\":\"white\",\"linecolor\":\"white\",\"minorgridcolor\":\"white\",\"startlinecolor\":\"#2a3f5f\"},\"type\":\"carpet\"}],\"table\":[{\"cells\":{\"fill\":{\"color\":\"#EBF0F8\"},\"line\":{\"color\":\"white\"}},\"header\":{\"fill\":{\"color\":\"#C8D4E3\"},\"line\":{\"color\":\"white\"}},\"type\":\"table\"}],\"barpolar\":[{\"marker\":{\"line\":{\"color\":\"#E5ECF6\",\"width\":0.5},\"pattern\":{\"fillmode\":\"overlay\",\"size\":10,\"solidity\":0.2}},\"type\":\"barpolar\"}],\"pie\":[{\"automargin\":true,\"type\":\"pie\"}]},\"layout\":{\"autotypenumbers\":\"strict\",\"colorway\":[\"#636efa\",\"#EF553B\",\"#00cc96\",\"#ab63fa\",\"#FFA15A\",\"#19d3f3\",\"#FF6692\",\"#B6E880\",\"#FF97FF\",\"#FECB52\"],\"font\":{\"color\":\"#2a3f5f\"},\"hovermode\":\"closest\",\"hoverlabel\":{\"align\":\"left\"},\"paper_bgcolor\":\"white\",\"plot_bgcolor\":\"#E5ECF6\",\"polar\":{\"bgcolor\":\"#E5ECF6\",\"angularaxis\":{\"gridcolor\":\"white\",\"linecolor\":\"white\",\"ticks\":\"\"},\"radialaxis\":{\"gridcolor\":\"white\",\"linecolor\":\"white\",\"ticks\":\"\"}},\"ternary\":{\"bgcolor\":\"#E5ECF6\",\"aaxis\":{\"gridcolor\":\"white\",\"linecolor\":\"white\",\"ticks\":\"\"},\"baxis\":{\"gridcolor\":\"white\",\"linecolor\":\"white\",\"ticks\":\"\"},\"caxis\":{\"gridcolor\":\"white\",\"linecolor\":\"white\",\"ticks\":\"\"}},\"coloraxis\":{\"colorbar\":{\"outlinewidth\":0,\"ticks\":\"\"}},\"colorscale\":{\"sequential\":[[0.0,\"#0d0887\"],[0.1111111111111111,\"#46039f\"],[0.2222222222222222,\"#7201a8\"],[0.3333333333333333,\"#9c179e\"],[0.4444444444444444,\"#bd3786\"],[0.5555555555555556,\"#d8576b\"],[0.6666666666666666,\"#ed7953\"],[0.7777777777777778,\"#fb9f3a\"],[0.8888888888888888,\"#fdca26\"],[1.0,\"#f0f921\"]],\"sequentialminus\":[[0.0,\"#0d0887\"],[0.1111111111111111,\"#46039f\"],[0.2222222222222222,\"#7201a8\"],[0.3333333333333333,\"#9c179e\"],[0.4444444444444444,\"#bd3786\"],[0.5555555555555556,\"#d8576b\"],[0.6666666666666666,\"#ed7953\"],[0.7777777777777778,\"#fb9f3a\"],[0.8888888888888888,\"#fdca26\"],[1.0,\"#f0f921\"]],\"diverging\":[[0,\"#8e0152\"],[0.1,\"#c51b7d\"],[0.2,\"#de77ae\"],[0.3,\"#f1b6da\"],[0.4,\"#fde0ef\"],[0.5,\"#f7f7f7\"],[0.6,\"#e6f5d0\"],[0.7,\"#b8e186\"],[0.8,\"#7fbc41\"],[0.9,\"#4d9221\"],[1,\"#276419\"]]},\"xaxis\":{\"gridcolor\":\"white\",\"linecolor\":\"white\",\"ticks\":\"\",\"title\":{\"standoff\":15},\"zerolinecolor\":\"white\",\"automargin\":true,\"zerolinewidth\":2},\"yaxis\":{\"gridcolor\":\"white\",\"linecolor\":\"white\",\"ticks\":\"\",\"title\":{\"standoff\":15},\"zerolinecolor\":\"white\",\"automargin\":true,\"zerolinewidth\":2},\"scene\":{\"xaxis\":{\"backgroundcolor\":\"#E5ECF6\",\"gridcolor\":\"white\",\"linecolor\":\"white\",\"showbackground\":true,\"ticks\":\"\",\"zerolinecolor\":\"white\",\"gridwidth\":2},\"yaxis\":{\"backgroundcolor\":\"#E5ECF6\",\"gridcolor\":\"white\",\"linecolor\":\"white\",\"showbackground\":true,\"ticks\":\"\",\"zerolinecolor\":\"white\",\"gridwidth\":2},\"zaxis\":{\"backgroundcolor\":\"#E5ECF6\",\"gridcolor\":\"white\",\"linecolor\":\"white\",\"showbackground\":true,\"ticks\":\"\",\"zerolinecolor\":\"white\",\"gridwidth\":2}},\"shapedefaults\":{\"line\":{\"color\":\"#2a3f5f\"}},\"annotationdefaults\":{\"arrowcolor\":\"#2a3f5f\",\"arrowhead\":0,\"arrowwidth\":1},\"geo\":{\"bgcolor\":\"white\",\"landcolor\":\"#E5ECF6\",\"subunitcolor\":\"white\",\"showland\":true,\"showlakes\":true,\"lakecolor\":\"white\"},\"title\":{\"x\":0.05},\"mapbox\":{\"style\":\"light\"}}},\"xaxis\":{\"anchor\":\"y\",\"domain\":[0.0,1.0],\"title\":{\"text\":\"Date\"}},\"yaxis\":{\"anchor\":\"x\",\"domain\":[0.0,1.0],\"title\":{\"text\":\"value\"}},\"legend\":{\"title\":{\"text\":\"variable\"},\"tracegroupgap\":0},\"title\":{\"text\":\"Monthly supply vs Permits\"}},                        {\"responsive\": true}                    ).then(function(){\n",
              "                            \n",
              "var gd = document.getElementById('90035cb3-f542-4b3b-acb7-b44f80b33863');\n",
              "var x = new MutationObserver(function (mutations, observer) {{\n",
              "        var display = window.getComputedStyle(gd).display;\n",
              "        if (!display || display === 'none') {{\n",
              "            console.log([gd, 'removed!']);\n",
              "            Plotly.purge(gd);\n",
              "            observer.disconnect();\n",
              "        }}\n",
              "}});\n",
              "\n",
              "// Listen for the removal of the full notebook cells\n",
              "var notebookContainer = gd.closest('#notebook-container');\n",
              "if (notebookContainer) {{\n",
              "    x.observe(notebookContainer, {childList: true});\n",
              "}}\n",
              "\n",
              "// Listen for the clearing of the current output cell\n",
              "var outputEl = gd.closest('.output');\n",
              "if (outputEl) {{\n",
              "    x.observe(outputEl, {childList: true});\n",
              "}}\n",
              "\n",
              "                        })                };                            </script>        </div>\n",
              "</body>\n",
              "</html>"
            ]
          },
          "metadata": {}
        }
      ]
    },
    {
      "cell_type": "code",
      "source": [
        "px.line(new_df2,\n",
        "          x='Date',\n",
        "          y='TotalSpending',\n",
        "          title='Spending on construction')"
      ],
      "metadata": {
        "colab": {
          "base_uri": "https://localhost:8080/",
          "height": 542
        },
        "id": "fbAWskhCjJqi",
        "outputId": "a53be292-665a-4275-c984-dfabbe31216b"
      },
      "execution_count": 226,
      "outputs": [
        {
          "output_type": "display_data",
          "data": {
            "text/html": [
              "<html>\n",
              "<head><meta charset=\"utf-8\" /></head>\n",
              "<body>\n",
              "    <div>            <script src=\"https://cdnjs.cloudflare.com/ajax/libs/mathjax/2.7.5/MathJax.js?config=TeX-AMS-MML_SVG\"></script><script type=\"text/javascript\">if (window.MathJax && window.MathJax.Hub && window.MathJax.Hub.Config) {window.MathJax.Hub.Config({SVG: {font: \"STIX-Web\"}});}</script>                <script type=\"text/javascript\">window.PlotlyConfig = {MathJaxConfig: 'local'};</script>\n",
              "        <script charset=\"utf-8\" src=\"https://cdn.plot.ly/plotly-2.20.0.min.js\"></script>                <div id=\"ec3f50f4-6bc0-4ebd-8ebd-8aa817a02b05\" class=\"plotly-graph-div\" style=\"height:525px; width:100%;\"></div>            <script type=\"text/javascript\">                                    window.PLOTLYENV=window.PLOTLYENV || {};                                    if (document.getElementById(\"ec3f50f4-6bc0-4ebd-8ebd-8aa817a02b05\")) {                    Plotly.newPlot(                        \"ec3f50f4-6bc0-4ebd-8ebd-8aa817a02b05\",                        [{\"hovertemplate\":\"Date=%{x}<br>TotalSpending=%{y}<extra></extra>\",\"legendgroup\":\"\",\"line\":{\"color\":\"#636efa\",\"dash\":\"solid\"},\"marker\":{\"symbol\":\"circle\"},\"mode\":\"lines\",\"name\":\"\",\"orientation\":\"v\",\"showlegend\":false,\"x\":[\"2003-01-01T00:00:00\",\"2003-04-01T00:00:00\",\"2003-07-01T00:00:00\",\"2003-10-01T00:00:00\",\"2004-01-01T00:00:00\",\"2004-04-01T00:00:00\",\"2004-07-01T00:00:00\",\"2004-10-01T00:00:00\",\"2005-01-01T00:00:00\",\"2005-04-01T00:00:00\",\"2005-07-01T00:00:00\",\"2005-10-01T00:00:00\",\"2006-01-01T00:00:00\",\"2006-04-01T00:00:00\",\"2006-07-01T00:00:00\",\"2006-10-01T00:00:00\",\"2007-01-01T00:00:00\",\"2007-04-01T00:00:00\",\"2007-07-01T00:00:00\",\"2007-10-01T00:00:00\",\"2008-01-01T00:00:00\",\"2008-04-01T00:00:00\",\"2008-07-01T00:00:00\",\"2008-10-01T00:00:00\",\"2009-01-01T00:00:00\",\"2009-04-01T00:00:00\",\"2009-07-01T00:00:00\",\"2009-10-01T00:00:00\",\"2010-01-01T00:00:00\",\"2010-04-01T00:00:00\",\"2010-07-01T00:00:00\",\"2010-10-01T00:00:00\",\"2011-01-01T00:00:00\",\"2011-04-01T00:00:00\",\"2011-07-01T00:00:00\",\"2011-10-01T00:00:00\",\"2012-01-01T00:00:00\",\"2012-04-01T00:00:00\",\"2012-07-01T00:00:00\",\"2012-10-01T00:00:00\",\"2013-01-01T00:00:00\",\"2013-04-01T00:00:00\",\"2013-07-01T00:00:00\",\"2013-10-01T00:00:00\",\"2014-01-01T00:00:00\",\"2014-04-01T00:00:00\",\"2014-07-01T00:00:00\",\"2014-10-01T00:00:00\",\"2015-01-01T00:00:00\",\"2015-04-01T00:00:00\",\"2015-07-01T00:00:00\",\"2015-10-01T00:00:00\",\"2016-01-01T00:00:00\",\"2016-04-01T00:00:00\",\"2016-07-01T00:00:00\",\"2016-10-01T00:00:00\",\"2017-01-01T00:00:00\",\"2017-04-01T00:00:00\",\"2017-07-01T00:00:00\",\"2017-10-01T00:00:00\",\"2018-01-01T00:00:00\",\"2018-04-01T00:00:00\",\"2018-07-01T00:00:00\",\"2018-10-01T00:00:00\",\"2019-01-01T00:00:00\",\"2019-04-01T00:00:00\",\"2019-07-01T00:00:00\",\"2019-10-01T00:00:00\",\"2020-01-01T00:00:00\",\"2020-04-01T00:00:00\",\"2020-07-01T00:00:00\",\"2020-10-01T00:00:00\",\"2021-01-01T00:00:00\",\"2021-04-01T00:00:00\",\"2021-07-01T00:00:00\",\"2021-10-01T00:00:00\",\"2022-01-01T00:00:00\",\"2022-04-01T00:00:00\",\"2022-07-01T00:00:00\",\"2022-10-01T00:00:00\"],\"xaxis\":\"x\",\"y\":[421328.6667,429308.6667,458890.0,491437.3333,506856.3333,526483.3333,552939.0,561413.3333,590790.3333,611957.0,642273.6667,670433.0,680067.3333,639389.0,591320.6667,558263.6667,539003.6667,521924.0,488432.3333,439296.0,400027.3333,388045.3333,360447.6667,319480.0,276721.3333,246953.3333,257975.0,263932.3333,263516.3333,262938.3333,251115.3333,248572.6667,250635.0,254937.3333,258663.3333,256598.6667,257335.0,270188.0,285750.0,302709.3333,314411.3333,327098.3333,340381.0,358938.6667,372124.0,379708.0,381017.3333,398399.6667,415744.6667,431303.6667,449032.3333,455911.6667,469067.0,477115.3333,486843.0,511281.6667,529871.3333,542516.0,549521.6667,561319.0,579760.0,581159.3333,560109.6667,535932.3333,523016.6667,539253.0,565471.6667,583015.3333,616682.3333,603744.6667,646601.6667,707944.3333,753515.6667,795501.3333,819745.0,837069.0,910611.0,947300.3333,910346.0,870620.6667],\"yaxis\":\"y\",\"type\":\"scatter\"}],                        {\"template\":{\"data\":{\"histogram2dcontour\":[{\"type\":\"histogram2dcontour\",\"colorbar\":{\"outlinewidth\":0,\"ticks\":\"\"},\"colorscale\":[[0.0,\"#0d0887\"],[0.1111111111111111,\"#46039f\"],[0.2222222222222222,\"#7201a8\"],[0.3333333333333333,\"#9c179e\"],[0.4444444444444444,\"#bd3786\"],[0.5555555555555556,\"#d8576b\"],[0.6666666666666666,\"#ed7953\"],[0.7777777777777778,\"#fb9f3a\"],[0.8888888888888888,\"#fdca26\"],[1.0,\"#f0f921\"]]}],\"choropleth\":[{\"type\":\"choropleth\",\"colorbar\":{\"outlinewidth\":0,\"ticks\":\"\"}}],\"histogram2d\":[{\"type\":\"histogram2d\",\"colorbar\":{\"outlinewidth\":0,\"ticks\":\"\"},\"colorscale\":[[0.0,\"#0d0887\"],[0.1111111111111111,\"#46039f\"],[0.2222222222222222,\"#7201a8\"],[0.3333333333333333,\"#9c179e\"],[0.4444444444444444,\"#bd3786\"],[0.5555555555555556,\"#d8576b\"],[0.6666666666666666,\"#ed7953\"],[0.7777777777777778,\"#fb9f3a\"],[0.8888888888888888,\"#fdca26\"],[1.0,\"#f0f921\"]]}],\"heatmap\":[{\"type\":\"heatmap\",\"colorbar\":{\"outlinewidth\":0,\"ticks\":\"\"},\"colorscale\":[[0.0,\"#0d0887\"],[0.1111111111111111,\"#46039f\"],[0.2222222222222222,\"#7201a8\"],[0.3333333333333333,\"#9c179e\"],[0.4444444444444444,\"#bd3786\"],[0.5555555555555556,\"#d8576b\"],[0.6666666666666666,\"#ed7953\"],[0.7777777777777778,\"#fb9f3a\"],[0.8888888888888888,\"#fdca26\"],[1.0,\"#f0f921\"]]}],\"heatmapgl\":[{\"type\":\"heatmapgl\",\"colorbar\":{\"outlinewidth\":0,\"ticks\":\"\"},\"colorscale\":[[0.0,\"#0d0887\"],[0.1111111111111111,\"#46039f\"],[0.2222222222222222,\"#7201a8\"],[0.3333333333333333,\"#9c179e\"],[0.4444444444444444,\"#bd3786\"],[0.5555555555555556,\"#d8576b\"],[0.6666666666666666,\"#ed7953\"],[0.7777777777777778,\"#fb9f3a\"],[0.8888888888888888,\"#fdca26\"],[1.0,\"#f0f921\"]]}],\"contourcarpet\":[{\"type\":\"contourcarpet\",\"colorbar\":{\"outlinewidth\":0,\"ticks\":\"\"}}],\"contour\":[{\"type\":\"contour\",\"colorbar\":{\"outlinewidth\":0,\"ticks\":\"\"},\"colorscale\":[[0.0,\"#0d0887\"],[0.1111111111111111,\"#46039f\"],[0.2222222222222222,\"#7201a8\"],[0.3333333333333333,\"#9c179e\"],[0.4444444444444444,\"#bd3786\"],[0.5555555555555556,\"#d8576b\"],[0.6666666666666666,\"#ed7953\"],[0.7777777777777778,\"#fb9f3a\"],[0.8888888888888888,\"#fdca26\"],[1.0,\"#f0f921\"]]}],\"surface\":[{\"type\":\"surface\",\"colorbar\":{\"outlinewidth\":0,\"ticks\":\"\"},\"colorscale\":[[0.0,\"#0d0887\"],[0.1111111111111111,\"#46039f\"],[0.2222222222222222,\"#7201a8\"],[0.3333333333333333,\"#9c179e\"],[0.4444444444444444,\"#bd3786\"],[0.5555555555555556,\"#d8576b\"],[0.6666666666666666,\"#ed7953\"],[0.7777777777777778,\"#fb9f3a\"],[0.8888888888888888,\"#fdca26\"],[1.0,\"#f0f921\"]]}],\"mesh3d\":[{\"type\":\"mesh3d\",\"colorbar\":{\"outlinewidth\":0,\"ticks\":\"\"}}],\"scatter\":[{\"fillpattern\":{\"fillmode\":\"overlay\",\"size\":10,\"solidity\":0.2},\"type\":\"scatter\"}],\"parcoords\":[{\"type\":\"parcoords\",\"line\":{\"colorbar\":{\"outlinewidth\":0,\"ticks\":\"\"}}}],\"scatterpolargl\":[{\"type\":\"scatterpolargl\",\"marker\":{\"colorbar\":{\"outlinewidth\":0,\"ticks\":\"\"}}}],\"bar\":[{\"error_x\":{\"color\":\"#2a3f5f\"},\"error_y\":{\"color\":\"#2a3f5f\"},\"marker\":{\"line\":{\"color\":\"#E5ECF6\",\"width\":0.5},\"pattern\":{\"fillmode\":\"overlay\",\"size\":10,\"solidity\":0.2}},\"type\":\"bar\"}],\"scattergeo\":[{\"type\":\"scattergeo\",\"marker\":{\"colorbar\":{\"outlinewidth\":0,\"ticks\":\"\"}}}],\"scatterpolar\":[{\"type\":\"scatterpolar\",\"marker\":{\"colorbar\":{\"outlinewidth\":0,\"ticks\":\"\"}}}],\"histogram\":[{\"marker\":{\"pattern\":{\"fillmode\":\"overlay\",\"size\":10,\"solidity\":0.2}},\"type\":\"histogram\"}],\"scattergl\":[{\"type\":\"scattergl\",\"marker\":{\"colorbar\":{\"outlinewidth\":0,\"ticks\":\"\"}}}],\"scatter3d\":[{\"type\":\"scatter3d\",\"line\":{\"colorbar\":{\"outlinewidth\":0,\"ticks\":\"\"}},\"marker\":{\"colorbar\":{\"outlinewidth\":0,\"ticks\":\"\"}}}],\"scattermapbox\":[{\"type\":\"scattermapbox\",\"marker\":{\"colorbar\":{\"outlinewidth\":0,\"ticks\":\"\"}}}],\"scatterternary\":[{\"type\":\"scatterternary\",\"marker\":{\"colorbar\":{\"outlinewidth\":0,\"ticks\":\"\"}}}],\"scattercarpet\":[{\"type\":\"scattercarpet\",\"marker\":{\"colorbar\":{\"outlinewidth\":0,\"ticks\":\"\"}}}],\"carpet\":[{\"aaxis\":{\"endlinecolor\":\"#2a3f5f\",\"gridcolor\":\"white\",\"linecolor\":\"white\",\"minorgridcolor\":\"white\",\"startlinecolor\":\"#2a3f5f\"},\"baxis\":{\"endlinecolor\":\"#2a3f5f\",\"gridcolor\":\"white\",\"linecolor\":\"white\",\"minorgridcolor\":\"white\",\"startlinecolor\":\"#2a3f5f\"},\"type\":\"carpet\"}],\"table\":[{\"cells\":{\"fill\":{\"color\":\"#EBF0F8\"},\"line\":{\"color\":\"white\"}},\"header\":{\"fill\":{\"color\":\"#C8D4E3\"},\"line\":{\"color\":\"white\"}},\"type\":\"table\"}],\"barpolar\":[{\"marker\":{\"line\":{\"color\":\"#E5ECF6\",\"width\":0.5},\"pattern\":{\"fillmode\":\"overlay\",\"size\":10,\"solidity\":0.2}},\"type\":\"barpolar\"}],\"pie\":[{\"automargin\":true,\"type\":\"pie\"}]},\"layout\":{\"autotypenumbers\":\"strict\",\"colorway\":[\"#636efa\",\"#EF553B\",\"#00cc96\",\"#ab63fa\",\"#FFA15A\",\"#19d3f3\",\"#FF6692\",\"#B6E880\",\"#FF97FF\",\"#FECB52\"],\"font\":{\"color\":\"#2a3f5f\"},\"hovermode\":\"closest\",\"hoverlabel\":{\"align\":\"left\"},\"paper_bgcolor\":\"white\",\"plot_bgcolor\":\"#E5ECF6\",\"polar\":{\"bgcolor\":\"#E5ECF6\",\"angularaxis\":{\"gridcolor\":\"white\",\"linecolor\":\"white\",\"ticks\":\"\"},\"radialaxis\":{\"gridcolor\":\"white\",\"linecolor\":\"white\",\"ticks\":\"\"}},\"ternary\":{\"bgcolor\":\"#E5ECF6\",\"aaxis\":{\"gridcolor\":\"white\",\"linecolor\":\"white\",\"ticks\":\"\"},\"baxis\":{\"gridcolor\":\"white\",\"linecolor\":\"white\",\"ticks\":\"\"},\"caxis\":{\"gridcolor\":\"white\",\"linecolor\":\"white\",\"ticks\":\"\"}},\"coloraxis\":{\"colorbar\":{\"outlinewidth\":0,\"ticks\":\"\"}},\"colorscale\":{\"sequential\":[[0.0,\"#0d0887\"],[0.1111111111111111,\"#46039f\"],[0.2222222222222222,\"#7201a8\"],[0.3333333333333333,\"#9c179e\"],[0.4444444444444444,\"#bd3786\"],[0.5555555555555556,\"#d8576b\"],[0.6666666666666666,\"#ed7953\"],[0.7777777777777778,\"#fb9f3a\"],[0.8888888888888888,\"#fdca26\"],[1.0,\"#f0f921\"]],\"sequentialminus\":[[0.0,\"#0d0887\"],[0.1111111111111111,\"#46039f\"],[0.2222222222222222,\"#7201a8\"],[0.3333333333333333,\"#9c179e\"],[0.4444444444444444,\"#bd3786\"],[0.5555555555555556,\"#d8576b\"],[0.6666666666666666,\"#ed7953\"],[0.7777777777777778,\"#fb9f3a\"],[0.8888888888888888,\"#fdca26\"],[1.0,\"#f0f921\"]],\"diverging\":[[0,\"#8e0152\"],[0.1,\"#c51b7d\"],[0.2,\"#de77ae\"],[0.3,\"#f1b6da\"],[0.4,\"#fde0ef\"],[0.5,\"#f7f7f7\"],[0.6,\"#e6f5d0\"],[0.7,\"#b8e186\"],[0.8,\"#7fbc41\"],[0.9,\"#4d9221\"],[1,\"#276419\"]]},\"xaxis\":{\"gridcolor\":\"white\",\"linecolor\":\"white\",\"ticks\":\"\",\"title\":{\"standoff\":15},\"zerolinecolor\":\"white\",\"automargin\":true,\"zerolinewidth\":2},\"yaxis\":{\"gridcolor\":\"white\",\"linecolor\":\"white\",\"ticks\":\"\",\"title\":{\"standoff\":15},\"zerolinecolor\":\"white\",\"automargin\":true,\"zerolinewidth\":2},\"scene\":{\"xaxis\":{\"backgroundcolor\":\"#E5ECF6\",\"gridcolor\":\"white\",\"linecolor\":\"white\",\"showbackground\":true,\"ticks\":\"\",\"zerolinecolor\":\"white\",\"gridwidth\":2},\"yaxis\":{\"backgroundcolor\":\"#E5ECF6\",\"gridcolor\":\"white\",\"linecolor\":\"white\",\"showbackground\":true,\"ticks\":\"\",\"zerolinecolor\":\"white\",\"gridwidth\":2},\"zaxis\":{\"backgroundcolor\":\"#E5ECF6\",\"gridcolor\":\"white\",\"linecolor\":\"white\",\"showbackground\":true,\"ticks\":\"\",\"zerolinecolor\":\"white\",\"gridwidth\":2}},\"shapedefaults\":{\"line\":{\"color\":\"#2a3f5f\"}},\"annotationdefaults\":{\"arrowcolor\":\"#2a3f5f\",\"arrowhead\":0,\"arrowwidth\":1},\"geo\":{\"bgcolor\":\"white\",\"landcolor\":\"#E5ECF6\",\"subunitcolor\":\"white\",\"showland\":true,\"showlakes\":true,\"lakecolor\":\"white\"},\"title\":{\"x\":0.05},\"mapbox\":{\"style\":\"light\"}}},\"xaxis\":{\"anchor\":\"y\",\"domain\":[0.0,1.0],\"title\":{\"text\":\"Date\"}},\"yaxis\":{\"anchor\":\"x\",\"domain\":[0.0,1.0],\"title\":{\"text\":\"TotalSpending\"}},\"legend\":{\"tracegroupgap\":0},\"title\":{\"text\":\"Spending on construction\"}},                        {\"responsive\": true}                    ).then(function(){\n",
              "                            \n",
              "var gd = document.getElementById('ec3f50f4-6bc0-4ebd-8ebd-8aa817a02b05');\n",
              "var x = new MutationObserver(function (mutations, observer) {{\n",
              "        var display = window.getComputedStyle(gd).display;\n",
              "        if (!display || display === 'none') {{\n",
              "            console.log([gd, 'removed!']);\n",
              "            Plotly.purge(gd);\n",
              "            observer.disconnect();\n",
              "        }}\n",
              "}});\n",
              "\n",
              "// Listen for the removal of the full notebook cells\n",
              "var notebookContainer = gd.closest('#notebook-container');\n",
              "if (notebookContainer) {{\n",
              "    x.observe(notebookContainer, {childList: true});\n",
              "}}\n",
              "\n",
              "// Listen for the clearing of the current output cell\n",
              "var outputEl = gd.closest('.output');\n",
              "if (outputEl) {{\n",
              "    x.observe(outputEl, {childList: true});\n",
              "}}\n",
              "\n",
              "                        })                };                            </script>        </div>\n",
              "</body>\n",
              "</html>"
            ]
          },
          "metadata": {}
        }
      ]
    },
    {
      "cell_type": "code",
      "source": [
        "px.bar(new_df2,\n",
        "            x='Date',\n",
        "            y='Inventory',\n",
        "       title='Housing Inventory supplies for the last 20 years')"
      ],
      "metadata": {
        "colab": {
          "base_uri": "https://localhost:8080/",
          "height": 542
        },
        "id": "dWTMRJ4Xn_jT",
        "outputId": "96099a00-db28-4697-8077-350ce738fc9b"
      },
      "execution_count": 227,
      "outputs": [
        {
          "output_type": "display_data",
          "data": {
            "text/html": [
              "<html>\n",
              "<head><meta charset=\"utf-8\" /></head>\n",
              "<body>\n",
              "    <div>            <script src=\"https://cdnjs.cloudflare.com/ajax/libs/mathjax/2.7.5/MathJax.js?config=TeX-AMS-MML_SVG\"></script><script type=\"text/javascript\">if (window.MathJax && window.MathJax.Hub && window.MathJax.Hub.Config) {window.MathJax.Hub.Config({SVG: {font: \"STIX-Web\"}});}</script>                <script type=\"text/javascript\">window.PlotlyConfig = {MathJaxConfig: 'local'};</script>\n",
              "        <script charset=\"utf-8\" src=\"https://cdn.plot.ly/plotly-2.20.0.min.js\"></script>                <div id=\"d93a102a-fa8c-4faf-9ec4-a0f5b953afba\" class=\"plotly-graph-div\" style=\"height:525px; width:100%;\"></div>            <script type=\"text/javascript\">                                    window.PLOTLYENV=window.PLOTLYENV || {};                                    if (document.getElementById(\"d93a102a-fa8c-4faf-9ec4-a0f5b953afba\")) {                    Plotly.newPlot(                        \"d93a102a-fa8c-4faf-9ec4-a0f5b953afba\",                        [{\"alignmentgroup\":\"True\",\"hovertemplate\":\"Date=%{x}<br>Inventory=%{y}<extra></extra>\",\"legendgroup\":\"\",\"marker\":{\"color\":\"#636efa\",\"pattern\":{\"shape\":\"\"}},\"name\":\"\",\"offsetgroup\":\"\",\"orientation\":\"v\",\"showlegend\":false,\"textposition\":\"auto\",\"x\":[\"2003-01-01T00:00:00\",\"2003-04-01T00:00:00\",\"2003-07-01T00:00:00\",\"2003-10-01T00:00:00\",\"2004-01-01T00:00:00\",\"2004-04-01T00:00:00\",\"2004-07-01T00:00:00\",\"2004-10-01T00:00:00\",\"2005-01-01T00:00:00\",\"2005-04-01T00:00:00\",\"2005-07-01T00:00:00\",\"2005-10-01T00:00:00\",\"2006-01-01T00:00:00\",\"2006-04-01T00:00:00\",\"2006-07-01T00:00:00\",\"2006-10-01T00:00:00\",\"2007-01-01T00:00:00\",\"2007-04-01T00:00:00\",\"2007-07-01T00:00:00\",\"2007-10-01T00:00:00\",\"2008-01-01T00:00:00\",\"2008-04-01T00:00:00\",\"2008-07-01T00:00:00\",\"2008-10-01T00:00:00\",\"2009-01-01T00:00:00\",\"2009-04-01T00:00:00\",\"2009-07-01T00:00:00\",\"2009-10-01T00:00:00\",\"2010-01-01T00:00:00\",\"2010-04-01T00:00:00\",\"2010-07-01T00:00:00\",\"2010-10-01T00:00:00\",\"2011-01-01T00:00:00\",\"2011-04-01T00:00:00\",\"2011-07-01T00:00:00\",\"2011-10-01T00:00:00\",\"2012-01-01T00:00:00\",\"2012-04-01T00:00:00\",\"2012-07-01T00:00:00\",\"2012-10-01T00:00:00\",\"2013-01-01T00:00:00\",\"2013-04-01T00:00:00\",\"2013-07-01T00:00:00\",\"2013-10-01T00:00:00\",\"2014-01-01T00:00:00\",\"2014-04-01T00:00:00\",\"2014-07-01T00:00:00\",\"2014-10-01T00:00:00\",\"2015-01-01T00:00:00\",\"2015-04-01T00:00:00\",\"2015-07-01T00:00:00\",\"2015-10-01T00:00:00\",\"2016-01-01T00:00:00\",\"2016-04-01T00:00:00\",\"2016-07-01T00:00:00\",\"2016-10-01T00:00:00\",\"2017-01-01T00:00:00\",\"2017-04-01T00:00:00\",\"2017-07-01T00:00:00\",\"2017-10-01T00:00:00\",\"2018-01-01T00:00:00\",\"2018-04-01T00:00:00\",\"2018-07-01T00:00:00\",\"2018-10-01T00:00:00\",\"2019-01-01T00:00:00\",\"2019-04-01T00:00:00\",\"2019-07-01T00:00:00\",\"2019-10-01T00:00:00\",\"2020-01-01T00:00:00\",\"2020-04-01T00:00:00\",\"2020-07-01T00:00:00\",\"2020-10-01T00:00:00\",\"2021-01-01T00:00:00\",\"2021-04-01T00:00:00\",\"2021-07-01T00:00:00\",\"2021-10-01T00:00:00\",\"2022-01-01T00:00:00\",\"2022-04-01T00:00:00\",\"2022-07-01T00:00:00\",\"2022-10-01T00:00:00\"],\"xaxis\":\"x\",\"y\":[14908,15244,15614,15654,15895,16079,15656,15361,15748,16061,15883,15823,16234,16513,16769,16894,17724,17547,18049,17910,18642,18701,18651,18973,19137,18752,18996,19006,19126,19022,18933,18551,18998,18843,18803,18389,18476,18519,18149,17939,18459,18165,18177,18087,18453,18219,18170,16956,17502,17379,17510,17288,17758,17268,17160,17328,17384,17637,17684,16814,17258,17060,17221,16382,16814,17031,17038,16113,15967,13876,14249,15446,15602,15658,15206,14999,15166,15286,15306,14554],\"yaxis\":\"y\",\"type\":\"bar\"}],                        {\"template\":{\"data\":{\"histogram2dcontour\":[{\"type\":\"histogram2dcontour\",\"colorbar\":{\"outlinewidth\":0,\"ticks\":\"\"},\"colorscale\":[[0.0,\"#0d0887\"],[0.1111111111111111,\"#46039f\"],[0.2222222222222222,\"#7201a8\"],[0.3333333333333333,\"#9c179e\"],[0.4444444444444444,\"#bd3786\"],[0.5555555555555556,\"#d8576b\"],[0.6666666666666666,\"#ed7953\"],[0.7777777777777778,\"#fb9f3a\"],[0.8888888888888888,\"#fdca26\"],[1.0,\"#f0f921\"]]}],\"choropleth\":[{\"type\":\"choropleth\",\"colorbar\":{\"outlinewidth\":0,\"ticks\":\"\"}}],\"histogram2d\":[{\"type\":\"histogram2d\",\"colorbar\":{\"outlinewidth\":0,\"ticks\":\"\"},\"colorscale\":[[0.0,\"#0d0887\"],[0.1111111111111111,\"#46039f\"],[0.2222222222222222,\"#7201a8\"],[0.3333333333333333,\"#9c179e\"],[0.4444444444444444,\"#bd3786\"],[0.5555555555555556,\"#d8576b\"],[0.6666666666666666,\"#ed7953\"],[0.7777777777777778,\"#fb9f3a\"],[0.8888888888888888,\"#fdca26\"],[1.0,\"#f0f921\"]]}],\"heatmap\":[{\"type\":\"heatmap\",\"colorbar\":{\"outlinewidth\":0,\"ticks\":\"\"},\"colorscale\":[[0.0,\"#0d0887\"],[0.1111111111111111,\"#46039f\"],[0.2222222222222222,\"#7201a8\"],[0.3333333333333333,\"#9c179e\"],[0.4444444444444444,\"#bd3786\"],[0.5555555555555556,\"#d8576b\"],[0.6666666666666666,\"#ed7953\"],[0.7777777777777778,\"#fb9f3a\"],[0.8888888888888888,\"#fdca26\"],[1.0,\"#f0f921\"]]}],\"heatmapgl\":[{\"type\":\"heatmapgl\",\"colorbar\":{\"outlinewidth\":0,\"ticks\":\"\"},\"colorscale\":[[0.0,\"#0d0887\"],[0.1111111111111111,\"#46039f\"],[0.2222222222222222,\"#7201a8\"],[0.3333333333333333,\"#9c179e\"],[0.4444444444444444,\"#bd3786\"],[0.5555555555555556,\"#d8576b\"],[0.6666666666666666,\"#ed7953\"],[0.7777777777777778,\"#fb9f3a\"],[0.8888888888888888,\"#fdca26\"],[1.0,\"#f0f921\"]]}],\"contourcarpet\":[{\"type\":\"contourcarpet\",\"colorbar\":{\"outlinewidth\":0,\"ticks\":\"\"}}],\"contour\":[{\"type\":\"contour\",\"colorbar\":{\"outlinewidth\":0,\"ticks\":\"\"},\"colorscale\":[[0.0,\"#0d0887\"],[0.1111111111111111,\"#46039f\"],[0.2222222222222222,\"#7201a8\"],[0.3333333333333333,\"#9c179e\"],[0.4444444444444444,\"#bd3786\"],[0.5555555555555556,\"#d8576b\"],[0.6666666666666666,\"#ed7953\"],[0.7777777777777778,\"#fb9f3a\"],[0.8888888888888888,\"#fdca26\"],[1.0,\"#f0f921\"]]}],\"surface\":[{\"type\":\"surface\",\"colorbar\":{\"outlinewidth\":0,\"ticks\":\"\"},\"colorscale\":[[0.0,\"#0d0887\"],[0.1111111111111111,\"#46039f\"],[0.2222222222222222,\"#7201a8\"],[0.3333333333333333,\"#9c179e\"],[0.4444444444444444,\"#bd3786\"],[0.5555555555555556,\"#d8576b\"],[0.6666666666666666,\"#ed7953\"],[0.7777777777777778,\"#fb9f3a\"],[0.8888888888888888,\"#fdca26\"],[1.0,\"#f0f921\"]]}],\"mesh3d\":[{\"type\":\"mesh3d\",\"colorbar\":{\"outlinewidth\":0,\"ticks\":\"\"}}],\"scatter\":[{\"fillpattern\":{\"fillmode\":\"overlay\",\"size\":10,\"solidity\":0.2},\"type\":\"scatter\"}],\"parcoords\":[{\"type\":\"parcoords\",\"line\":{\"colorbar\":{\"outlinewidth\":0,\"ticks\":\"\"}}}],\"scatterpolargl\":[{\"type\":\"scatterpolargl\",\"marker\":{\"colorbar\":{\"outlinewidth\":0,\"ticks\":\"\"}}}],\"bar\":[{\"error_x\":{\"color\":\"#2a3f5f\"},\"error_y\":{\"color\":\"#2a3f5f\"},\"marker\":{\"line\":{\"color\":\"#E5ECF6\",\"width\":0.5},\"pattern\":{\"fillmode\":\"overlay\",\"size\":10,\"solidity\":0.2}},\"type\":\"bar\"}],\"scattergeo\":[{\"type\":\"scattergeo\",\"marker\":{\"colorbar\":{\"outlinewidth\":0,\"ticks\":\"\"}}}],\"scatterpolar\":[{\"type\":\"scatterpolar\",\"marker\":{\"colorbar\":{\"outlinewidth\":0,\"ticks\":\"\"}}}],\"histogram\":[{\"marker\":{\"pattern\":{\"fillmode\":\"overlay\",\"size\":10,\"solidity\":0.2}},\"type\":\"histogram\"}],\"scattergl\":[{\"type\":\"scattergl\",\"marker\":{\"colorbar\":{\"outlinewidth\":0,\"ticks\":\"\"}}}],\"scatter3d\":[{\"type\":\"scatter3d\",\"line\":{\"colorbar\":{\"outlinewidth\":0,\"ticks\":\"\"}},\"marker\":{\"colorbar\":{\"outlinewidth\":0,\"ticks\":\"\"}}}],\"scattermapbox\":[{\"type\":\"scattermapbox\",\"marker\":{\"colorbar\":{\"outlinewidth\":0,\"ticks\":\"\"}}}],\"scatterternary\":[{\"type\":\"scatterternary\",\"marker\":{\"colorbar\":{\"outlinewidth\":0,\"ticks\":\"\"}}}],\"scattercarpet\":[{\"type\":\"scattercarpet\",\"marker\":{\"colorbar\":{\"outlinewidth\":0,\"ticks\":\"\"}}}],\"carpet\":[{\"aaxis\":{\"endlinecolor\":\"#2a3f5f\",\"gridcolor\":\"white\",\"linecolor\":\"white\",\"minorgridcolor\":\"white\",\"startlinecolor\":\"#2a3f5f\"},\"baxis\":{\"endlinecolor\":\"#2a3f5f\",\"gridcolor\":\"white\",\"linecolor\":\"white\",\"minorgridcolor\":\"white\",\"startlinecolor\":\"#2a3f5f\"},\"type\":\"carpet\"}],\"table\":[{\"cells\":{\"fill\":{\"color\":\"#EBF0F8\"},\"line\":{\"color\":\"white\"}},\"header\":{\"fill\":{\"color\":\"#C8D4E3\"},\"line\":{\"color\":\"white\"}},\"type\":\"table\"}],\"barpolar\":[{\"marker\":{\"line\":{\"color\":\"#E5ECF6\",\"width\":0.5},\"pattern\":{\"fillmode\":\"overlay\",\"size\":10,\"solidity\":0.2}},\"type\":\"barpolar\"}],\"pie\":[{\"automargin\":true,\"type\":\"pie\"}]},\"layout\":{\"autotypenumbers\":\"strict\",\"colorway\":[\"#636efa\",\"#EF553B\",\"#00cc96\",\"#ab63fa\",\"#FFA15A\",\"#19d3f3\",\"#FF6692\",\"#B6E880\",\"#FF97FF\",\"#FECB52\"],\"font\":{\"color\":\"#2a3f5f\"},\"hovermode\":\"closest\",\"hoverlabel\":{\"align\":\"left\"},\"paper_bgcolor\":\"white\",\"plot_bgcolor\":\"#E5ECF6\",\"polar\":{\"bgcolor\":\"#E5ECF6\",\"angularaxis\":{\"gridcolor\":\"white\",\"linecolor\":\"white\",\"ticks\":\"\"},\"radialaxis\":{\"gridcolor\":\"white\",\"linecolor\":\"white\",\"ticks\":\"\"}},\"ternary\":{\"bgcolor\":\"#E5ECF6\",\"aaxis\":{\"gridcolor\":\"white\",\"linecolor\":\"white\",\"ticks\":\"\"},\"baxis\":{\"gridcolor\":\"white\",\"linecolor\":\"white\",\"ticks\":\"\"},\"caxis\":{\"gridcolor\":\"white\",\"linecolor\":\"white\",\"ticks\":\"\"}},\"coloraxis\":{\"colorbar\":{\"outlinewidth\":0,\"ticks\":\"\"}},\"colorscale\":{\"sequential\":[[0.0,\"#0d0887\"],[0.1111111111111111,\"#46039f\"],[0.2222222222222222,\"#7201a8\"],[0.3333333333333333,\"#9c179e\"],[0.4444444444444444,\"#bd3786\"],[0.5555555555555556,\"#d8576b\"],[0.6666666666666666,\"#ed7953\"],[0.7777777777777778,\"#fb9f3a\"],[0.8888888888888888,\"#fdca26\"],[1.0,\"#f0f921\"]],\"sequentialminus\":[[0.0,\"#0d0887\"],[0.1111111111111111,\"#46039f\"],[0.2222222222222222,\"#7201a8\"],[0.3333333333333333,\"#9c179e\"],[0.4444444444444444,\"#bd3786\"],[0.5555555555555556,\"#d8576b\"],[0.6666666666666666,\"#ed7953\"],[0.7777777777777778,\"#fb9f3a\"],[0.8888888888888888,\"#fdca26\"],[1.0,\"#f0f921\"]],\"diverging\":[[0,\"#8e0152\"],[0.1,\"#c51b7d\"],[0.2,\"#de77ae\"],[0.3,\"#f1b6da\"],[0.4,\"#fde0ef\"],[0.5,\"#f7f7f7\"],[0.6,\"#e6f5d0\"],[0.7,\"#b8e186\"],[0.8,\"#7fbc41\"],[0.9,\"#4d9221\"],[1,\"#276419\"]]},\"xaxis\":{\"gridcolor\":\"white\",\"linecolor\":\"white\",\"ticks\":\"\",\"title\":{\"standoff\":15},\"zerolinecolor\":\"white\",\"automargin\":true,\"zerolinewidth\":2},\"yaxis\":{\"gridcolor\":\"white\",\"linecolor\":\"white\",\"ticks\":\"\",\"title\":{\"standoff\":15},\"zerolinecolor\":\"white\",\"automargin\":true,\"zerolinewidth\":2},\"scene\":{\"xaxis\":{\"backgroundcolor\":\"#E5ECF6\",\"gridcolor\":\"white\",\"linecolor\":\"white\",\"showbackground\":true,\"ticks\":\"\",\"zerolinecolor\":\"white\",\"gridwidth\":2},\"yaxis\":{\"backgroundcolor\":\"#E5ECF6\",\"gridcolor\":\"white\",\"linecolor\":\"white\",\"showbackground\":true,\"ticks\":\"\",\"zerolinecolor\":\"white\",\"gridwidth\":2},\"zaxis\":{\"backgroundcolor\":\"#E5ECF6\",\"gridcolor\":\"white\",\"linecolor\":\"white\",\"showbackground\":true,\"ticks\":\"\",\"zerolinecolor\":\"white\",\"gridwidth\":2}},\"shapedefaults\":{\"line\":{\"color\":\"#2a3f5f\"}},\"annotationdefaults\":{\"arrowcolor\":\"#2a3f5f\",\"arrowhead\":0,\"arrowwidth\":1},\"geo\":{\"bgcolor\":\"white\",\"landcolor\":\"#E5ECF6\",\"subunitcolor\":\"white\",\"showland\":true,\"showlakes\":true,\"lakecolor\":\"white\"},\"title\":{\"x\":0.05},\"mapbox\":{\"style\":\"light\"}}},\"xaxis\":{\"anchor\":\"y\",\"domain\":[0.0,1.0],\"title\":{\"text\":\"Date\"}},\"yaxis\":{\"anchor\":\"x\",\"domain\":[0.0,1.0],\"title\":{\"text\":\"Inventory\"}},\"legend\":{\"tracegroupgap\":0},\"title\":{\"text\":\"Housing Inventory supplies for the last 20 years\"},\"barmode\":\"relative\"},                        {\"responsive\": true}                    ).then(function(){\n",
              "                            \n",
              "var gd = document.getElementById('d93a102a-fa8c-4faf-9ec4-a0f5b953afba');\n",
              "var x = new MutationObserver(function (mutations, observer) {{\n",
              "        var display = window.getComputedStyle(gd).display;\n",
              "        if (!display || display === 'none') {{\n",
              "            console.log([gd, 'removed!']);\n",
              "            Plotly.purge(gd);\n",
              "            observer.disconnect();\n",
              "        }}\n",
              "}});\n",
              "\n",
              "// Listen for the removal of the full notebook cells\n",
              "var notebookContainer = gd.closest('#notebook-container');\n",
              "if (notebookContainer) {{\n",
              "    x.observe(notebookContainer, {childList: true});\n",
              "}}\n",
              "\n",
              "// Listen for the clearing of the current output cell\n",
              "var outputEl = gd.closest('.output');\n",
              "if (outputEl) {{\n",
              "    x.observe(outputEl, {childList: true});\n",
              "}}\n",
              "\n",
              "                        })                };                            </script>        </div>\n",
              "</body>\n",
              "</html>"
            ]
          },
          "metadata": {}
        }
      ]
    },
    {
      "cell_type": "markdown",
      "source": [
        "# Combined Analysis of Demand and Supply Factors"
      ],
      "metadata": {
        "id": "XlerqjFH13eB"
      }
    },
    {
      "cell_type": "code",
      "source": [
        "df = pd.concat([new_df, new_df2], axis = 1)"
      ],
      "metadata": {
        "id": "Rt8v-rzTo1gz"
      },
      "execution_count": 228,
      "outputs": []
    },
    {
      "cell_type": "code",
      "source": [
        "df"
      ],
      "metadata": {
        "colab": {
          "base_uri": "https://localhost:8080/",
          "height": 661
        },
        "id": "JZk2wdxciJwb",
        "outputId": "e4d0be0c-1113-4319-a0d8-a5951122afc2"
      },
      "execution_count": 229,
      "outputs": [
        {
          "output_type": "execute_result",
          "data": {
            "text/plain": [
              "     CSUSHPISA  MortgageRate  CustSentiment  InterestRates  MedianSalePrice  \\\n",
              "0   129.321000      5.840769      79.966667       2.250000           186000   \n",
              "1   131.756000      5.506923      89.266667       2.166667           191800   \n",
              "2   135.013000      6.033846      89.300000       2.000000           191900   \n",
              "3   138.835667      5.919286      91.966667       2.000000           198800   \n",
              "4   143.298667      5.597500      98.000000       2.000000           212700   \n",
              "..         ...           ...            ...            ...              ...   \n",
              "76  290.868000      3.822308      63.133333            NaN           433100   \n",
              "77  303.422667      5.266154      57.866667            NaN           449300   \n",
              "78  301.726333      5.623077      56.100000            NaN           468000   \n",
              "79  297.896667      6.664615      58.800000            NaN           479500   \n",
              "80         NaN      6.372308      64.633333            NaN           436800   \n",
              "\n",
              "          GDP       Date  Month  Day   CSUSHPISA  MonthlySupply       PERMIT  \\\n",
              "0   11174.129 2003-01-01      1    1  129.321000       4.200000  1806.333333   \n",
              "1   11312.766 2003-04-01      4    1  131.756000       3.833333  1837.666667   \n",
              "2   11566.669 2003-07-01      7    1  135.013000       3.633333  1937.333333   \n",
              "3   11772.234 2003-10-01     10    1  138.835667       3.966667  1972.333333   \n",
              "4   11923.447 2004-01-01      1    1  143.298667       3.700000  1994.666667   \n",
              "..        ...        ...    ...  ...         ...            ...          ...   \n",
              "76  24740.480 2022-01-01      1    1  290.868000       6.233333  1864.000000   \n",
              "77  25248.476 2022-04-01      4    1  303.422667       8.700000  1734.666667   \n",
              "78  25723.941 2022-07-01      7    1  301.726333       9.566667  1610.666667   \n",
              "79  26137.992 2022-10-01     10    1  297.896667       9.200000  1455.333333   \n",
              "80  26465.865 2023-01-01      1    1         NaN            NaN          NaN   \n",
              "\n",
              "    TotalSpending  Inventory       Date  Month  Day  \n",
              "0     421328.6667    14908.0 2003-01-01    1.0  1.0  \n",
              "1     429308.6667    15244.0 2003-04-01    4.0  1.0  \n",
              "2     458890.0000    15614.0 2003-07-01    7.0  1.0  \n",
              "3     491437.3333    15654.0 2003-10-01   10.0  1.0  \n",
              "4     506856.3333    15895.0 2004-01-01    1.0  1.0  \n",
              "..            ...        ...        ...    ...  ...  \n",
              "76    910611.0000    15166.0 2022-01-01    1.0  1.0  \n",
              "77    947300.3333    15286.0 2022-04-01    4.0  1.0  \n",
              "78    910346.0000    15306.0 2022-07-01    7.0  1.0  \n",
              "79    870620.6667    14554.0 2022-10-01   10.0  1.0  \n",
              "80            NaN        NaN        NaT    NaN  NaN  \n",
              "\n",
              "[81 rows x 17 columns]"
            ],
            "text/html": [
              "\n",
              "  <div id=\"df-45bcf8a4-bf22-4ea1-9d6e-a93bd3c42402\">\n",
              "    <div class=\"colab-df-container\">\n",
              "      <div>\n",
              "<style scoped>\n",
              "    .dataframe tbody tr th:only-of-type {\n",
              "        vertical-align: middle;\n",
              "    }\n",
              "\n",
              "    .dataframe tbody tr th {\n",
              "        vertical-align: top;\n",
              "    }\n",
              "\n",
              "    .dataframe thead th {\n",
              "        text-align: right;\n",
              "    }\n",
              "</style>\n",
              "<table border=\"1\" class=\"dataframe\">\n",
              "  <thead>\n",
              "    <tr style=\"text-align: right;\">\n",
              "      <th></th>\n",
              "      <th>CSUSHPISA</th>\n",
              "      <th>MortgageRate</th>\n",
              "      <th>CustSentiment</th>\n",
              "      <th>InterestRates</th>\n",
              "      <th>MedianSalePrice</th>\n",
              "      <th>GDP</th>\n",
              "      <th>Date</th>\n",
              "      <th>Month</th>\n",
              "      <th>Day</th>\n",
              "      <th>CSUSHPISA</th>\n",
              "      <th>MonthlySupply</th>\n",
              "      <th>PERMIT</th>\n",
              "      <th>TotalSpending</th>\n",
              "      <th>Inventory</th>\n",
              "      <th>Date</th>\n",
              "      <th>Month</th>\n",
              "      <th>Day</th>\n",
              "    </tr>\n",
              "  </thead>\n",
              "  <tbody>\n",
              "    <tr>\n",
              "      <th>0</th>\n",
              "      <td>129.321000</td>\n",
              "      <td>5.840769</td>\n",
              "      <td>79.966667</td>\n",
              "      <td>2.250000</td>\n",
              "      <td>186000</td>\n",
              "      <td>11174.129</td>\n",
              "      <td>2003-01-01</td>\n",
              "      <td>1</td>\n",
              "      <td>1</td>\n",
              "      <td>129.321000</td>\n",
              "      <td>4.200000</td>\n",
              "      <td>1806.333333</td>\n",
              "      <td>421328.6667</td>\n",
              "      <td>14908.0</td>\n",
              "      <td>2003-01-01</td>\n",
              "      <td>1.0</td>\n",
              "      <td>1.0</td>\n",
              "    </tr>\n",
              "    <tr>\n",
              "      <th>1</th>\n",
              "      <td>131.756000</td>\n",
              "      <td>5.506923</td>\n",
              "      <td>89.266667</td>\n",
              "      <td>2.166667</td>\n",
              "      <td>191800</td>\n",
              "      <td>11312.766</td>\n",
              "      <td>2003-04-01</td>\n",
              "      <td>4</td>\n",
              "      <td>1</td>\n",
              "      <td>131.756000</td>\n",
              "      <td>3.833333</td>\n",
              "      <td>1837.666667</td>\n",
              "      <td>429308.6667</td>\n",
              "      <td>15244.0</td>\n",
              "      <td>2003-04-01</td>\n",
              "      <td>4.0</td>\n",
              "      <td>1.0</td>\n",
              "    </tr>\n",
              "    <tr>\n",
              "      <th>2</th>\n",
              "      <td>135.013000</td>\n",
              "      <td>6.033846</td>\n",
              "      <td>89.300000</td>\n",
              "      <td>2.000000</td>\n",
              "      <td>191900</td>\n",
              "      <td>11566.669</td>\n",
              "      <td>2003-07-01</td>\n",
              "      <td>7</td>\n",
              "      <td>1</td>\n",
              "      <td>135.013000</td>\n",
              "      <td>3.633333</td>\n",
              "      <td>1937.333333</td>\n",
              "      <td>458890.0000</td>\n",
              "      <td>15614.0</td>\n",
              "      <td>2003-07-01</td>\n",
              "      <td>7.0</td>\n",
              "      <td>1.0</td>\n",
              "    </tr>\n",
              "    <tr>\n",
              "      <th>3</th>\n",
              "      <td>138.835667</td>\n",
              "      <td>5.919286</td>\n",
              "      <td>91.966667</td>\n",
              "      <td>2.000000</td>\n",
              "      <td>198800</td>\n",
              "      <td>11772.234</td>\n",
              "      <td>2003-10-01</td>\n",
              "      <td>10</td>\n",
              "      <td>1</td>\n",
              "      <td>138.835667</td>\n",
              "      <td>3.966667</td>\n",
              "      <td>1972.333333</td>\n",
              "      <td>491437.3333</td>\n",
              "      <td>15654.0</td>\n",
              "      <td>2003-10-01</td>\n",
              "      <td>10.0</td>\n",
              "      <td>1.0</td>\n",
              "    </tr>\n",
              "    <tr>\n",
              "      <th>4</th>\n",
              "      <td>143.298667</td>\n",
              "      <td>5.597500</td>\n",
              "      <td>98.000000</td>\n",
              "      <td>2.000000</td>\n",
              "      <td>212700</td>\n",
              "      <td>11923.447</td>\n",
              "      <td>2004-01-01</td>\n",
              "      <td>1</td>\n",
              "      <td>1</td>\n",
              "      <td>143.298667</td>\n",
              "      <td>3.700000</td>\n",
              "      <td>1994.666667</td>\n",
              "      <td>506856.3333</td>\n",
              "      <td>15895.0</td>\n",
              "      <td>2004-01-01</td>\n",
              "      <td>1.0</td>\n",
              "      <td>1.0</td>\n",
              "    </tr>\n",
              "    <tr>\n",
              "      <th>...</th>\n",
              "      <td>...</td>\n",
              "      <td>...</td>\n",
              "      <td>...</td>\n",
              "      <td>...</td>\n",
              "      <td>...</td>\n",
              "      <td>...</td>\n",
              "      <td>...</td>\n",
              "      <td>...</td>\n",
              "      <td>...</td>\n",
              "      <td>...</td>\n",
              "      <td>...</td>\n",
              "      <td>...</td>\n",
              "      <td>...</td>\n",
              "      <td>...</td>\n",
              "      <td>...</td>\n",
              "      <td>...</td>\n",
              "      <td>...</td>\n",
              "    </tr>\n",
              "    <tr>\n",
              "      <th>76</th>\n",
              "      <td>290.868000</td>\n",
              "      <td>3.822308</td>\n",
              "      <td>63.133333</td>\n",
              "      <td>NaN</td>\n",
              "      <td>433100</td>\n",
              "      <td>24740.480</td>\n",
              "      <td>2022-01-01</td>\n",
              "      <td>1</td>\n",
              "      <td>1</td>\n",
              "      <td>290.868000</td>\n",
              "      <td>6.233333</td>\n",
              "      <td>1864.000000</td>\n",
              "      <td>910611.0000</td>\n",
              "      <td>15166.0</td>\n",
              "      <td>2022-01-01</td>\n",
              "      <td>1.0</td>\n",
              "      <td>1.0</td>\n",
              "    </tr>\n",
              "    <tr>\n",
              "      <th>77</th>\n",
              "      <td>303.422667</td>\n",
              "      <td>5.266154</td>\n",
              "      <td>57.866667</td>\n",
              "      <td>NaN</td>\n",
              "      <td>449300</td>\n",
              "      <td>25248.476</td>\n",
              "      <td>2022-04-01</td>\n",
              "      <td>4</td>\n",
              "      <td>1</td>\n",
              "      <td>303.422667</td>\n",
              "      <td>8.700000</td>\n",
              "      <td>1734.666667</td>\n",
              "      <td>947300.3333</td>\n",
              "      <td>15286.0</td>\n",
              "      <td>2022-04-01</td>\n",
              "      <td>4.0</td>\n",
              "      <td>1.0</td>\n",
              "    </tr>\n",
              "    <tr>\n",
              "      <th>78</th>\n",
              "      <td>301.726333</td>\n",
              "      <td>5.623077</td>\n",
              "      <td>56.100000</td>\n",
              "      <td>NaN</td>\n",
              "      <td>468000</td>\n",
              "      <td>25723.941</td>\n",
              "      <td>2022-07-01</td>\n",
              "      <td>7</td>\n",
              "      <td>1</td>\n",
              "      <td>301.726333</td>\n",
              "      <td>9.566667</td>\n",
              "      <td>1610.666667</td>\n",
              "      <td>910346.0000</td>\n",
              "      <td>15306.0</td>\n",
              "      <td>2022-07-01</td>\n",
              "      <td>7.0</td>\n",
              "      <td>1.0</td>\n",
              "    </tr>\n",
              "    <tr>\n",
              "      <th>79</th>\n",
              "      <td>297.896667</td>\n",
              "      <td>6.664615</td>\n",
              "      <td>58.800000</td>\n",
              "      <td>NaN</td>\n",
              "      <td>479500</td>\n",
              "      <td>26137.992</td>\n",
              "      <td>2022-10-01</td>\n",
              "      <td>10</td>\n",
              "      <td>1</td>\n",
              "      <td>297.896667</td>\n",
              "      <td>9.200000</td>\n",
              "      <td>1455.333333</td>\n",
              "      <td>870620.6667</td>\n",
              "      <td>14554.0</td>\n",
              "      <td>2022-10-01</td>\n",
              "      <td>10.0</td>\n",
              "      <td>1.0</td>\n",
              "    </tr>\n",
              "    <tr>\n",
              "      <th>80</th>\n",
              "      <td>NaN</td>\n",
              "      <td>6.372308</td>\n",
              "      <td>64.633333</td>\n",
              "      <td>NaN</td>\n",
              "      <td>436800</td>\n",
              "      <td>26465.865</td>\n",
              "      <td>2023-01-01</td>\n",
              "      <td>1</td>\n",
              "      <td>1</td>\n",
              "      <td>NaN</td>\n",
              "      <td>NaN</td>\n",
              "      <td>NaN</td>\n",
              "      <td>NaN</td>\n",
              "      <td>NaN</td>\n",
              "      <td>NaT</td>\n",
              "      <td>NaN</td>\n",
              "      <td>NaN</td>\n",
              "    </tr>\n",
              "  </tbody>\n",
              "</table>\n",
              "<p>81 rows × 17 columns</p>\n",
              "</div>\n",
              "      <button class=\"colab-df-convert\" onclick=\"convertToInteractive('df-45bcf8a4-bf22-4ea1-9d6e-a93bd3c42402')\"\n",
              "              title=\"Convert this dataframe to an interactive table.\"\n",
              "              style=\"display:none;\">\n",
              "        \n",
              "  <svg xmlns=\"http://www.w3.org/2000/svg\" height=\"24px\"viewBox=\"0 0 24 24\"\n",
              "       width=\"24px\">\n",
              "    <path d=\"M0 0h24v24H0V0z\" fill=\"none\"/>\n",
              "    <path d=\"M18.56 5.44l.94 2.06.94-2.06 2.06-.94-2.06-.94-.94-2.06-.94 2.06-2.06.94zm-11 1L8.5 8.5l.94-2.06 2.06-.94-2.06-.94L8.5 2.5l-.94 2.06-2.06.94zm10 10l.94 2.06.94-2.06 2.06-.94-2.06-.94-.94-2.06-.94 2.06-2.06.94z\"/><path d=\"M17.41 7.96l-1.37-1.37c-.4-.4-.92-.59-1.43-.59-.52 0-1.04.2-1.43.59L10.3 9.45l-7.72 7.72c-.78.78-.78 2.05 0 2.83L4 21.41c.39.39.9.59 1.41.59.51 0 1.02-.2 1.41-.59l7.78-7.78 2.81-2.81c.8-.78.8-2.07 0-2.86zM5.41 20L4 18.59l7.72-7.72 1.47 1.35L5.41 20z\"/>\n",
              "  </svg>\n",
              "      </button>\n",
              "      \n",
              "  <style>\n",
              "    .colab-df-container {\n",
              "      display:flex;\n",
              "      flex-wrap:wrap;\n",
              "      gap: 12px;\n",
              "    }\n",
              "\n",
              "    .colab-df-convert {\n",
              "      background-color: #E8F0FE;\n",
              "      border: none;\n",
              "      border-radius: 50%;\n",
              "      cursor: pointer;\n",
              "      display: none;\n",
              "      fill: #1967D2;\n",
              "      height: 32px;\n",
              "      padding: 0 0 0 0;\n",
              "      width: 32px;\n",
              "    }\n",
              "\n",
              "    .colab-df-convert:hover {\n",
              "      background-color: #E2EBFA;\n",
              "      box-shadow: 0px 1px 2px rgba(60, 64, 67, 0.3), 0px 1px 3px 1px rgba(60, 64, 67, 0.15);\n",
              "      fill: #174EA6;\n",
              "    }\n",
              "\n",
              "    [theme=dark] .colab-df-convert {\n",
              "      background-color: #3B4455;\n",
              "      fill: #D2E3FC;\n",
              "    }\n",
              "\n",
              "    [theme=dark] .colab-df-convert:hover {\n",
              "      background-color: #434B5C;\n",
              "      box-shadow: 0px 1px 3px 1px rgba(0, 0, 0, 0.15);\n",
              "      filter: drop-shadow(0px 1px 2px rgba(0, 0, 0, 0.3));\n",
              "      fill: #FFFFFF;\n",
              "    }\n",
              "  </style>\n",
              "\n",
              "      <script>\n",
              "        const buttonEl =\n",
              "          document.querySelector('#df-45bcf8a4-bf22-4ea1-9d6e-a93bd3c42402 button.colab-df-convert');\n",
              "        buttonEl.style.display =\n",
              "          google.colab.kernel.accessAllowed ? 'block' : 'none';\n",
              "\n",
              "        async function convertToInteractive(key) {\n",
              "          const element = document.querySelector('#df-45bcf8a4-bf22-4ea1-9d6e-a93bd3c42402');\n",
              "          const dataTable =\n",
              "            await google.colab.kernel.invokeFunction('convertToInteractive',\n",
              "                                                     [key], {});\n",
              "          if (!dataTable) return;\n",
              "\n",
              "          const docLinkHtml = 'Like what you see? Visit the ' +\n",
              "            '<a target=\"_blank\" href=https://colab.research.google.com/notebooks/data_table.ipynb>data table notebook</a>'\n",
              "            + ' to learn more about interactive tables.';\n",
              "          element.innerHTML = '';\n",
              "          dataTable['output_type'] = 'display_data';\n",
              "          await google.colab.output.renderOutput(dataTable, element);\n",
              "          const docLink = document.createElement('div');\n",
              "          docLink.innerHTML = docLinkHtml;\n",
              "          element.appendChild(docLink);\n",
              "        }\n",
              "      </script>\n",
              "    </div>\n",
              "  </div>\n",
              "  "
            ]
          },
          "metadata": {},
          "execution_count": 229
        }
      ]
    },
    {
      "cell_type": "code",
      "source": [
        "merged_df = df.T.drop_duplicates().T"
      ],
      "metadata": {
        "id": "Cf6SVX9Hjg4h"
      },
      "execution_count": 230,
      "outputs": []
    },
    {
      "cell_type": "code",
      "source": [
        "merged_df = df.T.groupby(level=0).first().T"
      ],
      "metadata": {
        "id": "53s_7tSgkKiK"
      },
      "execution_count": 231,
      "outputs": []
    },
    {
      "cell_type": "code",
      "source": [
        "merged_df"
      ],
      "metadata": {
        "colab": {
          "base_uri": "https://localhost:8080/",
          "height": 641
        },
        "id": "Bbd9LAI6kSko",
        "outputId": "24565231-53d0-488d-ac6f-bc70ce75a22a"
      },
      "execution_count": 232,
      "outputs": [
        {
          "output_type": "execute_result",
          "data": {
            "text/plain": [
              "     CSUSHPISA CustSentiment       Date Day        GDP InterestRates  \\\n",
              "0      129.321     79.966667 2003-01-01   1  11174.129          2.25   \n",
              "1      131.756     89.266667 2003-04-01   1  11312.766      2.166667   \n",
              "2      135.013          89.3 2003-07-01   1  11566.669           2.0   \n",
              "3   138.835667     91.966667 2003-10-01   1  11772.234           2.0   \n",
              "4   143.298667          98.0 2004-01-01   1  11923.447           2.0   \n",
              "..         ...           ...        ...  ..        ...           ...   \n",
              "76     290.868     63.133333 2022-01-01   1   24740.48          None   \n",
              "77  303.422667     57.866667 2022-04-01   1  25248.476          None   \n",
              "78  301.726333          56.1 2022-07-01   1  25723.941          None   \n",
              "79  297.896667          58.8 2022-10-01   1  26137.992          None   \n",
              "80        None     64.633333 2023-01-01   1  26465.865          None   \n",
              "\n",
              "   Inventory MedianSalePrice Month MonthlySupply MortgageRate       PERMIT  \\\n",
              "0    14908.0          186000     1           4.2     5.840769  1806.333333   \n",
              "1    15244.0          191800     4      3.833333     5.506923  1837.666667   \n",
              "2    15614.0          191900     7      3.633333     6.033846  1937.333333   \n",
              "3    15654.0          198800    10      3.966667     5.919286  1972.333333   \n",
              "4    15895.0          212700     1           3.7       5.5975  1994.666667   \n",
              "..       ...             ...   ...           ...          ...          ...   \n",
              "76   15166.0          433100     1      6.233333     3.822308       1864.0   \n",
              "77   15286.0          449300     4           8.7     5.266154  1734.666667   \n",
              "78   15306.0          468000     7      9.566667     5.623077  1610.666667   \n",
              "79   14554.0          479500    10           9.2     6.664615  1455.333333   \n",
              "80      None          436800     1          None     6.372308         None   \n",
              "\n",
              "   TotalSpending  \n",
              "0    421328.6667  \n",
              "1    429308.6667  \n",
              "2       458890.0  \n",
              "3    491437.3333  \n",
              "4    506856.3333  \n",
              "..           ...  \n",
              "76      910611.0  \n",
              "77   947300.3333  \n",
              "78      910346.0  \n",
              "79   870620.6667  \n",
              "80          None  \n",
              "\n",
              "[81 rows x 13 columns]"
            ],
            "text/html": [
              "\n",
              "  <div id=\"df-3c1ec726-7ad4-412a-92a4-8c24458dc714\">\n",
              "    <div class=\"colab-df-container\">\n",
              "      <div>\n",
              "<style scoped>\n",
              "    .dataframe tbody tr th:only-of-type {\n",
              "        vertical-align: middle;\n",
              "    }\n",
              "\n",
              "    .dataframe tbody tr th {\n",
              "        vertical-align: top;\n",
              "    }\n",
              "\n",
              "    .dataframe thead th {\n",
              "        text-align: right;\n",
              "    }\n",
              "</style>\n",
              "<table border=\"1\" class=\"dataframe\">\n",
              "  <thead>\n",
              "    <tr style=\"text-align: right;\">\n",
              "      <th></th>\n",
              "      <th>CSUSHPISA</th>\n",
              "      <th>CustSentiment</th>\n",
              "      <th>Date</th>\n",
              "      <th>Day</th>\n",
              "      <th>GDP</th>\n",
              "      <th>InterestRates</th>\n",
              "      <th>Inventory</th>\n",
              "      <th>MedianSalePrice</th>\n",
              "      <th>Month</th>\n",
              "      <th>MonthlySupply</th>\n",
              "      <th>MortgageRate</th>\n",
              "      <th>PERMIT</th>\n",
              "      <th>TotalSpending</th>\n",
              "    </tr>\n",
              "  </thead>\n",
              "  <tbody>\n",
              "    <tr>\n",
              "      <th>0</th>\n",
              "      <td>129.321</td>\n",
              "      <td>79.966667</td>\n",
              "      <td>2003-01-01</td>\n",
              "      <td>1</td>\n",
              "      <td>11174.129</td>\n",
              "      <td>2.25</td>\n",
              "      <td>14908.0</td>\n",
              "      <td>186000</td>\n",
              "      <td>1</td>\n",
              "      <td>4.2</td>\n",
              "      <td>5.840769</td>\n",
              "      <td>1806.333333</td>\n",
              "      <td>421328.6667</td>\n",
              "    </tr>\n",
              "    <tr>\n",
              "      <th>1</th>\n",
              "      <td>131.756</td>\n",
              "      <td>89.266667</td>\n",
              "      <td>2003-04-01</td>\n",
              "      <td>1</td>\n",
              "      <td>11312.766</td>\n",
              "      <td>2.166667</td>\n",
              "      <td>15244.0</td>\n",
              "      <td>191800</td>\n",
              "      <td>4</td>\n",
              "      <td>3.833333</td>\n",
              "      <td>5.506923</td>\n",
              "      <td>1837.666667</td>\n",
              "      <td>429308.6667</td>\n",
              "    </tr>\n",
              "    <tr>\n",
              "      <th>2</th>\n",
              "      <td>135.013</td>\n",
              "      <td>89.3</td>\n",
              "      <td>2003-07-01</td>\n",
              "      <td>1</td>\n",
              "      <td>11566.669</td>\n",
              "      <td>2.0</td>\n",
              "      <td>15614.0</td>\n",
              "      <td>191900</td>\n",
              "      <td>7</td>\n",
              "      <td>3.633333</td>\n",
              "      <td>6.033846</td>\n",
              "      <td>1937.333333</td>\n",
              "      <td>458890.0</td>\n",
              "    </tr>\n",
              "    <tr>\n",
              "      <th>3</th>\n",
              "      <td>138.835667</td>\n",
              "      <td>91.966667</td>\n",
              "      <td>2003-10-01</td>\n",
              "      <td>1</td>\n",
              "      <td>11772.234</td>\n",
              "      <td>2.0</td>\n",
              "      <td>15654.0</td>\n",
              "      <td>198800</td>\n",
              "      <td>10</td>\n",
              "      <td>3.966667</td>\n",
              "      <td>5.919286</td>\n",
              "      <td>1972.333333</td>\n",
              "      <td>491437.3333</td>\n",
              "    </tr>\n",
              "    <tr>\n",
              "      <th>4</th>\n",
              "      <td>143.298667</td>\n",
              "      <td>98.0</td>\n",
              "      <td>2004-01-01</td>\n",
              "      <td>1</td>\n",
              "      <td>11923.447</td>\n",
              "      <td>2.0</td>\n",
              "      <td>15895.0</td>\n",
              "      <td>212700</td>\n",
              "      <td>1</td>\n",
              "      <td>3.7</td>\n",
              "      <td>5.5975</td>\n",
              "      <td>1994.666667</td>\n",
              "      <td>506856.3333</td>\n",
              "    </tr>\n",
              "    <tr>\n",
              "      <th>...</th>\n",
              "      <td>...</td>\n",
              "      <td>...</td>\n",
              "      <td>...</td>\n",
              "      <td>...</td>\n",
              "      <td>...</td>\n",
              "      <td>...</td>\n",
              "      <td>...</td>\n",
              "      <td>...</td>\n",
              "      <td>...</td>\n",
              "      <td>...</td>\n",
              "      <td>...</td>\n",
              "      <td>...</td>\n",
              "      <td>...</td>\n",
              "    </tr>\n",
              "    <tr>\n",
              "      <th>76</th>\n",
              "      <td>290.868</td>\n",
              "      <td>63.133333</td>\n",
              "      <td>2022-01-01</td>\n",
              "      <td>1</td>\n",
              "      <td>24740.48</td>\n",
              "      <td>None</td>\n",
              "      <td>15166.0</td>\n",
              "      <td>433100</td>\n",
              "      <td>1</td>\n",
              "      <td>6.233333</td>\n",
              "      <td>3.822308</td>\n",
              "      <td>1864.0</td>\n",
              "      <td>910611.0</td>\n",
              "    </tr>\n",
              "    <tr>\n",
              "      <th>77</th>\n",
              "      <td>303.422667</td>\n",
              "      <td>57.866667</td>\n",
              "      <td>2022-04-01</td>\n",
              "      <td>1</td>\n",
              "      <td>25248.476</td>\n",
              "      <td>None</td>\n",
              "      <td>15286.0</td>\n",
              "      <td>449300</td>\n",
              "      <td>4</td>\n",
              "      <td>8.7</td>\n",
              "      <td>5.266154</td>\n",
              "      <td>1734.666667</td>\n",
              "      <td>947300.3333</td>\n",
              "    </tr>\n",
              "    <tr>\n",
              "      <th>78</th>\n",
              "      <td>301.726333</td>\n",
              "      <td>56.1</td>\n",
              "      <td>2022-07-01</td>\n",
              "      <td>1</td>\n",
              "      <td>25723.941</td>\n",
              "      <td>None</td>\n",
              "      <td>15306.0</td>\n",
              "      <td>468000</td>\n",
              "      <td>7</td>\n",
              "      <td>9.566667</td>\n",
              "      <td>5.623077</td>\n",
              "      <td>1610.666667</td>\n",
              "      <td>910346.0</td>\n",
              "    </tr>\n",
              "    <tr>\n",
              "      <th>79</th>\n",
              "      <td>297.896667</td>\n",
              "      <td>58.8</td>\n",
              "      <td>2022-10-01</td>\n",
              "      <td>1</td>\n",
              "      <td>26137.992</td>\n",
              "      <td>None</td>\n",
              "      <td>14554.0</td>\n",
              "      <td>479500</td>\n",
              "      <td>10</td>\n",
              "      <td>9.2</td>\n",
              "      <td>6.664615</td>\n",
              "      <td>1455.333333</td>\n",
              "      <td>870620.6667</td>\n",
              "    </tr>\n",
              "    <tr>\n",
              "      <th>80</th>\n",
              "      <td>None</td>\n",
              "      <td>64.633333</td>\n",
              "      <td>2023-01-01</td>\n",
              "      <td>1</td>\n",
              "      <td>26465.865</td>\n",
              "      <td>None</td>\n",
              "      <td>None</td>\n",
              "      <td>436800</td>\n",
              "      <td>1</td>\n",
              "      <td>None</td>\n",
              "      <td>6.372308</td>\n",
              "      <td>None</td>\n",
              "      <td>None</td>\n",
              "    </tr>\n",
              "  </tbody>\n",
              "</table>\n",
              "<p>81 rows × 13 columns</p>\n",
              "</div>\n",
              "      <button class=\"colab-df-convert\" onclick=\"convertToInteractive('df-3c1ec726-7ad4-412a-92a4-8c24458dc714')\"\n",
              "              title=\"Convert this dataframe to an interactive table.\"\n",
              "              style=\"display:none;\">\n",
              "        \n",
              "  <svg xmlns=\"http://www.w3.org/2000/svg\" height=\"24px\"viewBox=\"0 0 24 24\"\n",
              "       width=\"24px\">\n",
              "    <path d=\"M0 0h24v24H0V0z\" fill=\"none\"/>\n",
              "    <path d=\"M18.56 5.44l.94 2.06.94-2.06 2.06-.94-2.06-.94-.94-2.06-.94 2.06-2.06.94zm-11 1L8.5 8.5l.94-2.06 2.06-.94-2.06-.94L8.5 2.5l-.94 2.06-2.06.94zm10 10l.94 2.06.94-2.06 2.06-.94-2.06-.94-.94-2.06-.94 2.06-2.06.94z\"/><path d=\"M17.41 7.96l-1.37-1.37c-.4-.4-.92-.59-1.43-.59-.52 0-1.04.2-1.43.59L10.3 9.45l-7.72 7.72c-.78.78-.78 2.05 0 2.83L4 21.41c.39.39.9.59 1.41.59.51 0 1.02-.2 1.41-.59l7.78-7.78 2.81-2.81c.8-.78.8-2.07 0-2.86zM5.41 20L4 18.59l7.72-7.72 1.47 1.35L5.41 20z\"/>\n",
              "  </svg>\n",
              "      </button>\n",
              "      \n",
              "  <style>\n",
              "    .colab-df-container {\n",
              "      display:flex;\n",
              "      flex-wrap:wrap;\n",
              "      gap: 12px;\n",
              "    }\n",
              "\n",
              "    .colab-df-convert {\n",
              "      background-color: #E8F0FE;\n",
              "      border: none;\n",
              "      border-radius: 50%;\n",
              "      cursor: pointer;\n",
              "      display: none;\n",
              "      fill: #1967D2;\n",
              "      height: 32px;\n",
              "      padding: 0 0 0 0;\n",
              "      width: 32px;\n",
              "    }\n",
              "\n",
              "    .colab-df-convert:hover {\n",
              "      background-color: #E2EBFA;\n",
              "      box-shadow: 0px 1px 2px rgba(60, 64, 67, 0.3), 0px 1px 3px 1px rgba(60, 64, 67, 0.15);\n",
              "      fill: #174EA6;\n",
              "    }\n",
              "\n",
              "    [theme=dark] .colab-df-convert {\n",
              "      background-color: #3B4455;\n",
              "      fill: #D2E3FC;\n",
              "    }\n",
              "\n",
              "    [theme=dark] .colab-df-convert:hover {\n",
              "      background-color: #434B5C;\n",
              "      box-shadow: 0px 1px 3px 1px rgba(0, 0, 0, 0.15);\n",
              "      filter: drop-shadow(0px 1px 2px rgba(0, 0, 0, 0.3));\n",
              "      fill: #FFFFFF;\n",
              "    }\n",
              "  </style>\n",
              "\n",
              "      <script>\n",
              "        const buttonEl =\n",
              "          document.querySelector('#df-3c1ec726-7ad4-412a-92a4-8c24458dc714 button.colab-df-convert');\n",
              "        buttonEl.style.display =\n",
              "          google.colab.kernel.accessAllowed ? 'block' : 'none';\n",
              "\n",
              "        async function convertToInteractive(key) {\n",
              "          const element = document.querySelector('#df-3c1ec726-7ad4-412a-92a4-8c24458dc714');\n",
              "          const dataTable =\n",
              "            await google.colab.kernel.invokeFunction('convertToInteractive',\n",
              "                                                     [key], {});\n",
              "          if (!dataTable) return;\n",
              "\n",
              "          const docLinkHtml = 'Like what you see? Visit the ' +\n",
              "            '<a target=\"_blank\" href=https://colab.research.google.com/notebooks/data_table.ipynb>data table notebook</a>'\n",
              "            + ' to learn more about interactive tables.';\n",
              "          element.innerHTML = '';\n",
              "          dataTable['output_type'] = 'display_data';\n",
              "          await google.colab.output.renderOutput(dataTable, element);\n",
              "          const docLink = document.createElement('div');\n",
              "          docLink.innerHTML = docLinkHtml;\n",
              "          element.appendChild(docLink);\n",
              "        }\n",
              "      </script>\n",
              "    </div>\n",
              "  </div>\n",
              "  "
            ]
          },
          "metadata": {},
          "execution_count": 232
        }
      ]
    },
    {
      "cell_type": "code",
      "source": [],
      "metadata": {
        "id": "ySkNESd4kTs9"
      },
      "execution_count": 232,
      "outputs": []
    },
    {
      "cell_type": "code",
      "source": [
        "merged_df"
      ],
      "metadata": {
        "colab": {
          "base_uri": "https://localhost:8080/",
          "height": 641
        },
        "id": "dI0g_uXumC8x",
        "outputId": "34ffa3e4-2c31-4fc3-d42d-a13001d361b7"
      },
      "execution_count": 233,
      "outputs": [
        {
          "output_type": "execute_result",
          "data": {
            "text/plain": [
              "     CSUSHPISA CustSentiment       Date Day        GDP InterestRates  \\\n",
              "0      129.321     79.966667 2003-01-01   1  11174.129          2.25   \n",
              "1      131.756     89.266667 2003-04-01   1  11312.766      2.166667   \n",
              "2      135.013          89.3 2003-07-01   1  11566.669           2.0   \n",
              "3   138.835667     91.966667 2003-10-01   1  11772.234           2.0   \n",
              "4   143.298667          98.0 2004-01-01   1  11923.447           2.0   \n",
              "..         ...           ...        ...  ..        ...           ...   \n",
              "76     290.868     63.133333 2022-01-01   1   24740.48          None   \n",
              "77  303.422667     57.866667 2022-04-01   1  25248.476          None   \n",
              "78  301.726333          56.1 2022-07-01   1  25723.941          None   \n",
              "79  297.896667          58.8 2022-10-01   1  26137.992          None   \n",
              "80        None     64.633333 2023-01-01   1  26465.865          None   \n",
              "\n",
              "   Inventory MedianSalePrice Month MonthlySupply MortgageRate       PERMIT  \\\n",
              "0    14908.0          186000     1           4.2     5.840769  1806.333333   \n",
              "1    15244.0          191800     4      3.833333     5.506923  1837.666667   \n",
              "2    15614.0          191900     7      3.633333     6.033846  1937.333333   \n",
              "3    15654.0          198800    10      3.966667     5.919286  1972.333333   \n",
              "4    15895.0          212700     1           3.7       5.5975  1994.666667   \n",
              "..       ...             ...   ...           ...          ...          ...   \n",
              "76   15166.0          433100     1      6.233333     3.822308       1864.0   \n",
              "77   15286.0          449300     4           8.7     5.266154  1734.666667   \n",
              "78   15306.0          468000     7      9.566667     5.623077  1610.666667   \n",
              "79   14554.0          479500    10           9.2     6.664615  1455.333333   \n",
              "80      None          436800     1          None     6.372308         None   \n",
              "\n",
              "   TotalSpending  \n",
              "0    421328.6667  \n",
              "1    429308.6667  \n",
              "2       458890.0  \n",
              "3    491437.3333  \n",
              "4    506856.3333  \n",
              "..           ...  \n",
              "76      910611.0  \n",
              "77   947300.3333  \n",
              "78      910346.0  \n",
              "79   870620.6667  \n",
              "80          None  \n",
              "\n",
              "[81 rows x 13 columns]"
            ],
            "text/html": [
              "\n",
              "  <div id=\"df-befb389b-6555-4638-931d-9c7a20ffd956\">\n",
              "    <div class=\"colab-df-container\">\n",
              "      <div>\n",
              "<style scoped>\n",
              "    .dataframe tbody tr th:only-of-type {\n",
              "        vertical-align: middle;\n",
              "    }\n",
              "\n",
              "    .dataframe tbody tr th {\n",
              "        vertical-align: top;\n",
              "    }\n",
              "\n",
              "    .dataframe thead th {\n",
              "        text-align: right;\n",
              "    }\n",
              "</style>\n",
              "<table border=\"1\" class=\"dataframe\">\n",
              "  <thead>\n",
              "    <tr style=\"text-align: right;\">\n",
              "      <th></th>\n",
              "      <th>CSUSHPISA</th>\n",
              "      <th>CustSentiment</th>\n",
              "      <th>Date</th>\n",
              "      <th>Day</th>\n",
              "      <th>GDP</th>\n",
              "      <th>InterestRates</th>\n",
              "      <th>Inventory</th>\n",
              "      <th>MedianSalePrice</th>\n",
              "      <th>Month</th>\n",
              "      <th>MonthlySupply</th>\n",
              "      <th>MortgageRate</th>\n",
              "      <th>PERMIT</th>\n",
              "      <th>TotalSpending</th>\n",
              "    </tr>\n",
              "  </thead>\n",
              "  <tbody>\n",
              "    <tr>\n",
              "      <th>0</th>\n",
              "      <td>129.321</td>\n",
              "      <td>79.966667</td>\n",
              "      <td>2003-01-01</td>\n",
              "      <td>1</td>\n",
              "      <td>11174.129</td>\n",
              "      <td>2.25</td>\n",
              "      <td>14908.0</td>\n",
              "      <td>186000</td>\n",
              "      <td>1</td>\n",
              "      <td>4.2</td>\n",
              "      <td>5.840769</td>\n",
              "      <td>1806.333333</td>\n",
              "      <td>421328.6667</td>\n",
              "    </tr>\n",
              "    <tr>\n",
              "      <th>1</th>\n",
              "      <td>131.756</td>\n",
              "      <td>89.266667</td>\n",
              "      <td>2003-04-01</td>\n",
              "      <td>1</td>\n",
              "      <td>11312.766</td>\n",
              "      <td>2.166667</td>\n",
              "      <td>15244.0</td>\n",
              "      <td>191800</td>\n",
              "      <td>4</td>\n",
              "      <td>3.833333</td>\n",
              "      <td>5.506923</td>\n",
              "      <td>1837.666667</td>\n",
              "      <td>429308.6667</td>\n",
              "    </tr>\n",
              "    <tr>\n",
              "      <th>2</th>\n",
              "      <td>135.013</td>\n",
              "      <td>89.3</td>\n",
              "      <td>2003-07-01</td>\n",
              "      <td>1</td>\n",
              "      <td>11566.669</td>\n",
              "      <td>2.0</td>\n",
              "      <td>15614.0</td>\n",
              "      <td>191900</td>\n",
              "      <td>7</td>\n",
              "      <td>3.633333</td>\n",
              "      <td>6.033846</td>\n",
              "      <td>1937.333333</td>\n",
              "      <td>458890.0</td>\n",
              "    </tr>\n",
              "    <tr>\n",
              "      <th>3</th>\n",
              "      <td>138.835667</td>\n",
              "      <td>91.966667</td>\n",
              "      <td>2003-10-01</td>\n",
              "      <td>1</td>\n",
              "      <td>11772.234</td>\n",
              "      <td>2.0</td>\n",
              "      <td>15654.0</td>\n",
              "      <td>198800</td>\n",
              "      <td>10</td>\n",
              "      <td>3.966667</td>\n",
              "      <td>5.919286</td>\n",
              "      <td>1972.333333</td>\n",
              "      <td>491437.3333</td>\n",
              "    </tr>\n",
              "    <tr>\n",
              "      <th>4</th>\n",
              "      <td>143.298667</td>\n",
              "      <td>98.0</td>\n",
              "      <td>2004-01-01</td>\n",
              "      <td>1</td>\n",
              "      <td>11923.447</td>\n",
              "      <td>2.0</td>\n",
              "      <td>15895.0</td>\n",
              "      <td>212700</td>\n",
              "      <td>1</td>\n",
              "      <td>3.7</td>\n",
              "      <td>5.5975</td>\n",
              "      <td>1994.666667</td>\n",
              "      <td>506856.3333</td>\n",
              "    </tr>\n",
              "    <tr>\n",
              "      <th>...</th>\n",
              "      <td>...</td>\n",
              "      <td>...</td>\n",
              "      <td>...</td>\n",
              "      <td>...</td>\n",
              "      <td>...</td>\n",
              "      <td>...</td>\n",
              "      <td>...</td>\n",
              "      <td>...</td>\n",
              "      <td>...</td>\n",
              "      <td>...</td>\n",
              "      <td>...</td>\n",
              "      <td>...</td>\n",
              "      <td>...</td>\n",
              "    </tr>\n",
              "    <tr>\n",
              "      <th>76</th>\n",
              "      <td>290.868</td>\n",
              "      <td>63.133333</td>\n",
              "      <td>2022-01-01</td>\n",
              "      <td>1</td>\n",
              "      <td>24740.48</td>\n",
              "      <td>None</td>\n",
              "      <td>15166.0</td>\n",
              "      <td>433100</td>\n",
              "      <td>1</td>\n",
              "      <td>6.233333</td>\n",
              "      <td>3.822308</td>\n",
              "      <td>1864.0</td>\n",
              "      <td>910611.0</td>\n",
              "    </tr>\n",
              "    <tr>\n",
              "      <th>77</th>\n",
              "      <td>303.422667</td>\n",
              "      <td>57.866667</td>\n",
              "      <td>2022-04-01</td>\n",
              "      <td>1</td>\n",
              "      <td>25248.476</td>\n",
              "      <td>None</td>\n",
              "      <td>15286.0</td>\n",
              "      <td>449300</td>\n",
              "      <td>4</td>\n",
              "      <td>8.7</td>\n",
              "      <td>5.266154</td>\n",
              "      <td>1734.666667</td>\n",
              "      <td>947300.3333</td>\n",
              "    </tr>\n",
              "    <tr>\n",
              "      <th>78</th>\n",
              "      <td>301.726333</td>\n",
              "      <td>56.1</td>\n",
              "      <td>2022-07-01</td>\n",
              "      <td>1</td>\n",
              "      <td>25723.941</td>\n",
              "      <td>None</td>\n",
              "      <td>15306.0</td>\n",
              "      <td>468000</td>\n",
              "      <td>7</td>\n",
              "      <td>9.566667</td>\n",
              "      <td>5.623077</td>\n",
              "      <td>1610.666667</td>\n",
              "      <td>910346.0</td>\n",
              "    </tr>\n",
              "    <tr>\n",
              "      <th>79</th>\n",
              "      <td>297.896667</td>\n",
              "      <td>58.8</td>\n",
              "      <td>2022-10-01</td>\n",
              "      <td>1</td>\n",
              "      <td>26137.992</td>\n",
              "      <td>None</td>\n",
              "      <td>14554.0</td>\n",
              "      <td>479500</td>\n",
              "      <td>10</td>\n",
              "      <td>9.2</td>\n",
              "      <td>6.664615</td>\n",
              "      <td>1455.333333</td>\n",
              "      <td>870620.6667</td>\n",
              "    </tr>\n",
              "    <tr>\n",
              "      <th>80</th>\n",
              "      <td>None</td>\n",
              "      <td>64.633333</td>\n",
              "      <td>2023-01-01</td>\n",
              "      <td>1</td>\n",
              "      <td>26465.865</td>\n",
              "      <td>None</td>\n",
              "      <td>None</td>\n",
              "      <td>436800</td>\n",
              "      <td>1</td>\n",
              "      <td>None</td>\n",
              "      <td>6.372308</td>\n",
              "      <td>None</td>\n",
              "      <td>None</td>\n",
              "    </tr>\n",
              "  </tbody>\n",
              "</table>\n",
              "<p>81 rows × 13 columns</p>\n",
              "</div>\n",
              "      <button class=\"colab-df-convert\" onclick=\"convertToInteractive('df-befb389b-6555-4638-931d-9c7a20ffd956')\"\n",
              "              title=\"Convert this dataframe to an interactive table.\"\n",
              "              style=\"display:none;\">\n",
              "        \n",
              "  <svg xmlns=\"http://www.w3.org/2000/svg\" height=\"24px\"viewBox=\"0 0 24 24\"\n",
              "       width=\"24px\">\n",
              "    <path d=\"M0 0h24v24H0V0z\" fill=\"none\"/>\n",
              "    <path d=\"M18.56 5.44l.94 2.06.94-2.06 2.06-.94-2.06-.94-.94-2.06-.94 2.06-2.06.94zm-11 1L8.5 8.5l.94-2.06 2.06-.94-2.06-.94L8.5 2.5l-.94 2.06-2.06.94zm10 10l.94 2.06.94-2.06 2.06-.94-2.06-.94-.94-2.06-.94 2.06-2.06.94z\"/><path d=\"M17.41 7.96l-1.37-1.37c-.4-.4-.92-.59-1.43-.59-.52 0-1.04.2-1.43.59L10.3 9.45l-7.72 7.72c-.78.78-.78 2.05 0 2.83L4 21.41c.39.39.9.59 1.41.59.51 0 1.02-.2 1.41-.59l7.78-7.78 2.81-2.81c.8-.78.8-2.07 0-2.86zM5.41 20L4 18.59l7.72-7.72 1.47 1.35L5.41 20z\"/>\n",
              "  </svg>\n",
              "      </button>\n",
              "      \n",
              "  <style>\n",
              "    .colab-df-container {\n",
              "      display:flex;\n",
              "      flex-wrap:wrap;\n",
              "      gap: 12px;\n",
              "    }\n",
              "\n",
              "    .colab-df-convert {\n",
              "      background-color: #E8F0FE;\n",
              "      border: none;\n",
              "      border-radius: 50%;\n",
              "      cursor: pointer;\n",
              "      display: none;\n",
              "      fill: #1967D2;\n",
              "      height: 32px;\n",
              "      padding: 0 0 0 0;\n",
              "      width: 32px;\n",
              "    }\n",
              "\n",
              "    .colab-df-convert:hover {\n",
              "      background-color: #E2EBFA;\n",
              "      box-shadow: 0px 1px 2px rgba(60, 64, 67, 0.3), 0px 1px 3px 1px rgba(60, 64, 67, 0.15);\n",
              "      fill: #174EA6;\n",
              "    }\n",
              "\n",
              "    [theme=dark] .colab-df-convert {\n",
              "      background-color: #3B4455;\n",
              "      fill: #D2E3FC;\n",
              "    }\n",
              "\n",
              "    [theme=dark] .colab-df-convert:hover {\n",
              "      background-color: #434B5C;\n",
              "      box-shadow: 0px 1px 3px 1px rgba(0, 0, 0, 0.15);\n",
              "      filter: drop-shadow(0px 1px 2px rgba(0, 0, 0, 0.3));\n",
              "      fill: #FFFFFF;\n",
              "    }\n",
              "  </style>\n",
              "\n",
              "      <script>\n",
              "        const buttonEl =\n",
              "          document.querySelector('#df-befb389b-6555-4638-931d-9c7a20ffd956 button.colab-df-convert');\n",
              "        buttonEl.style.display =\n",
              "          google.colab.kernel.accessAllowed ? 'block' : 'none';\n",
              "\n",
              "        async function convertToInteractive(key) {\n",
              "          const element = document.querySelector('#df-befb389b-6555-4638-931d-9c7a20ffd956');\n",
              "          const dataTable =\n",
              "            await google.colab.kernel.invokeFunction('convertToInteractive',\n",
              "                                                     [key], {});\n",
              "          if (!dataTable) return;\n",
              "\n",
              "          const docLinkHtml = 'Like what you see? Visit the ' +\n",
              "            '<a target=\"_blank\" href=https://colab.research.google.com/notebooks/data_table.ipynb>data table notebook</a>'\n",
              "            + ' to learn more about interactive tables.';\n",
              "          element.innerHTML = '';\n",
              "          dataTable['output_type'] = 'display_data';\n",
              "          await google.colab.output.renderOutput(dataTable, element);\n",
              "          const docLink = document.createElement('div');\n",
              "          docLink.innerHTML = docLinkHtml;\n",
              "          element.appendChild(docLink);\n",
              "        }\n",
              "      </script>\n",
              "    </div>\n",
              "  </div>\n",
              "  "
            ]
          },
          "metadata": {},
          "execution_count": 233
        }
      ]
    },
    {
      "cell_type": "code",
      "source": [
        "px.line(merged_df,\n",
        "       x='Date',\n",
        "       y=['Inventory','MedianSalePrice'],\n",
        "        title= 'The demand factor (Inventory) and supply factor (MedianSalePrices)')"
      ],
      "metadata": {
        "colab": {
          "base_uri": "https://localhost:8080/",
          "height": 542
        },
        "id": "LAAaFsNSmEZi",
        "outputId": "a20993ab-cb6c-4275-9351-027753c645a2"
      },
      "execution_count": 234,
      "outputs": [
        {
          "output_type": "display_data",
          "data": {
            "text/html": [
              "<html>\n",
              "<head><meta charset=\"utf-8\" /></head>\n",
              "<body>\n",
              "    <div>            <script src=\"https://cdnjs.cloudflare.com/ajax/libs/mathjax/2.7.5/MathJax.js?config=TeX-AMS-MML_SVG\"></script><script type=\"text/javascript\">if (window.MathJax && window.MathJax.Hub && window.MathJax.Hub.Config) {window.MathJax.Hub.Config({SVG: {font: \"STIX-Web\"}});}</script>                <script type=\"text/javascript\">window.PlotlyConfig = {MathJaxConfig: 'local'};</script>\n",
              "        <script charset=\"utf-8\" src=\"https://cdn.plot.ly/plotly-2.20.0.min.js\"></script>                <div id=\"a400a9f6-2e6a-4333-a381-a783b1192bce\" class=\"plotly-graph-div\" style=\"height:525px; width:100%;\"></div>            <script type=\"text/javascript\">                                    window.PLOTLYENV=window.PLOTLYENV || {};                                    if (document.getElementById(\"a400a9f6-2e6a-4333-a381-a783b1192bce\")) {                    Plotly.newPlot(                        \"a400a9f6-2e6a-4333-a381-a783b1192bce\",                        [{\"hovertemplate\":\"variable=Inventory<br>Date=%{x}<br>value=%{y}<extra></extra>\",\"legendgroup\":\"Inventory\",\"line\":{\"color\":\"#636efa\",\"dash\":\"solid\"},\"marker\":{\"symbol\":\"circle\"},\"mode\":\"lines\",\"name\":\"Inventory\",\"orientation\":\"v\",\"showlegend\":true,\"x\":[\"2003-01-01T00:00:00\",\"2003-04-01T00:00:00\",\"2003-07-01T00:00:00\",\"2003-10-01T00:00:00\",\"2004-01-01T00:00:00\",\"2004-04-01T00:00:00\",\"2004-07-01T00:00:00\",\"2004-10-01T00:00:00\",\"2005-01-01T00:00:00\",\"2005-04-01T00:00:00\",\"2005-07-01T00:00:00\",\"2005-10-01T00:00:00\",\"2006-01-01T00:00:00\",\"2006-04-01T00:00:00\",\"2006-07-01T00:00:00\",\"2006-10-01T00:00:00\",\"2007-01-01T00:00:00\",\"2007-04-01T00:00:00\",\"2007-07-01T00:00:00\",\"2007-10-01T00:00:00\",\"2008-01-01T00:00:00\",\"2008-04-01T00:00:00\",\"2008-07-01T00:00:00\",\"2008-10-01T00:00:00\",\"2009-01-01T00:00:00\",\"2009-04-01T00:00:00\",\"2009-07-01T00:00:00\",\"2009-10-01T00:00:00\",\"2010-01-01T00:00:00\",\"2010-04-01T00:00:00\",\"2010-07-01T00:00:00\",\"2010-10-01T00:00:00\",\"2011-01-01T00:00:00\",\"2011-04-01T00:00:00\",\"2011-07-01T00:00:00\",\"2011-10-01T00:00:00\",\"2012-01-01T00:00:00\",\"2012-04-01T00:00:00\",\"2012-07-01T00:00:00\",\"2012-10-01T00:00:00\",\"2013-01-01T00:00:00\",\"2013-04-01T00:00:00\",\"2013-07-01T00:00:00\",\"2013-10-01T00:00:00\",\"2014-01-01T00:00:00\",\"2014-04-01T00:00:00\",\"2014-07-01T00:00:00\",\"2014-10-01T00:00:00\",\"2015-01-01T00:00:00\",\"2015-04-01T00:00:00\",\"2015-07-01T00:00:00\",\"2015-10-01T00:00:00\",\"2016-01-01T00:00:00\",\"2016-04-01T00:00:00\",\"2016-07-01T00:00:00\",\"2016-10-01T00:00:00\",\"2017-01-01T00:00:00\",\"2017-04-01T00:00:00\",\"2017-07-01T00:00:00\",\"2017-10-01T00:00:00\",\"2018-01-01T00:00:00\",\"2018-04-01T00:00:00\",\"2018-07-01T00:00:00\",\"2018-10-01T00:00:00\",\"2019-01-01T00:00:00\",\"2019-04-01T00:00:00\",\"2019-07-01T00:00:00\",\"2019-10-01T00:00:00\",\"2020-01-01T00:00:00\",\"2020-04-01T00:00:00\",\"2020-07-01T00:00:00\",\"2020-10-01T00:00:00\",\"2021-01-01T00:00:00\",\"2021-04-01T00:00:00\",\"2021-07-01T00:00:00\",\"2021-10-01T00:00:00\",\"2022-01-01T00:00:00\",\"2022-04-01T00:00:00\",\"2022-07-01T00:00:00\",\"2022-10-01T00:00:00\",\"2023-01-01T00:00:00\"],\"xaxis\":\"x\",\"y\":[14908.0,15244.0,15614.0,15654.0,15895.0,16079.0,15656.0,15361.0,15748.0,16061.0,15883.0,15823.0,16234.0,16513.0,16769.0,16894.0,17724.0,17547.0,18049.0,17910.0,18642.0,18701.0,18651.0,18973.0,19137.0,18752.0,18996.0,19006.0,19126.0,19022.0,18933.0,18551.0,18998.0,18843.0,18803.0,18389.0,18476.0,18519.0,18149.0,17939.0,18459.0,18165.0,18177.0,18087.0,18453.0,18219.0,18170.0,16956.0,17502.0,17379.0,17510.0,17288.0,17758.0,17268.0,17160.0,17328.0,17384.0,17637.0,17684.0,16814.0,17258.0,17060.0,17221.0,16382.0,16814.0,17031.0,17038.0,16113.0,15967.0,13876.0,14249.0,15446.0,15602.0,15658.0,15206.0,14999.0,15166.0,15286.0,15306.0,14554.0,null],\"yaxis\":\"y\",\"type\":\"scatter\"},{\"hovertemplate\":\"variable=MedianSalePrice<br>Date=%{x}<br>value=%{y}<extra></extra>\",\"legendgroup\":\"MedianSalePrice\",\"line\":{\"color\":\"#EF553B\",\"dash\":\"solid\"},\"marker\":{\"symbol\":\"circle\"},\"mode\":\"lines\",\"name\":\"MedianSalePrice\",\"orientation\":\"v\",\"showlegend\":true,\"x\":[\"2003-01-01T00:00:00\",\"2003-04-01T00:00:00\",\"2003-07-01T00:00:00\",\"2003-10-01T00:00:00\",\"2004-01-01T00:00:00\",\"2004-04-01T00:00:00\",\"2004-07-01T00:00:00\",\"2004-10-01T00:00:00\",\"2005-01-01T00:00:00\",\"2005-04-01T00:00:00\",\"2005-07-01T00:00:00\",\"2005-10-01T00:00:00\",\"2006-01-01T00:00:00\",\"2006-04-01T00:00:00\",\"2006-07-01T00:00:00\",\"2006-10-01T00:00:00\",\"2007-01-01T00:00:00\",\"2007-04-01T00:00:00\",\"2007-07-01T00:00:00\",\"2007-10-01T00:00:00\",\"2008-01-01T00:00:00\",\"2008-04-01T00:00:00\",\"2008-07-01T00:00:00\",\"2008-10-01T00:00:00\",\"2009-01-01T00:00:00\",\"2009-04-01T00:00:00\",\"2009-07-01T00:00:00\",\"2009-10-01T00:00:00\",\"2010-01-01T00:00:00\",\"2010-04-01T00:00:00\",\"2010-07-01T00:00:00\",\"2010-10-01T00:00:00\",\"2011-01-01T00:00:00\",\"2011-04-01T00:00:00\",\"2011-07-01T00:00:00\",\"2011-10-01T00:00:00\",\"2012-01-01T00:00:00\",\"2012-04-01T00:00:00\",\"2012-07-01T00:00:00\",\"2012-10-01T00:00:00\",\"2013-01-01T00:00:00\",\"2013-04-01T00:00:00\",\"2013-07-01T00:00:00\",\"2013-10-01T00:00:00\",\"2014-01-01T00:00:00\",\"2014-04-01T00:00:00\",\"2014-07-01T00:00:00\",\"2014-10-01T00:00:00\",\"2015-01-01T00:00:00\",\"2015-04-01T00:00:00\",\"2015-07-01T00:00:00\",\"2015-10-01T00:00:00\",\"2016-01-01T00:00:00\",\"2016-04-01T00:00:00\",\"2016-07-01T00:00:00\",\"2016-10-01T00:00:00\",\"2017-01-01T00:00:00\",\"2017-04-01T00:00:00\",\"2017-07-01T00:00:00\",\"2017-10-01T00:00:00\",\"2018-01-01T00:00:00\",\"2018-04-01T00:00:00\",\"2018-07-01T00:00:00\",\"2018-10-01T00:00:00\",\"2019-01-01T00:00:00\",\"2019-04-01T00:00:00\",\"2019-07-01T00:00:00\",\"2019-10-01T00:00:00\",\"2020-01-01T00:00:00\",\"2020-04-01T00:00:00\",\"2020-07-01T00:00:00\",\"2020-10-01T00:00:00\",\"2021-01-01T00:00:00\",\"2021-04-01T00:00:00\",\"2021-07-01T00:00:00\",\"2021-10-01T00:00:00\",\"2022-01-01T00:00:00\",\"2022-04-01T00:00:00\",\"2022-07-01T00:00:00\",\"2022-10-01T00:00:00\",\"2023-01-01T00:00:00\"],\"xaxis\":\"x\",\"y\":[186000,191800,191900,198800,212700,217600,213500,228800,232500,233700,236400,243600,247700,246300,235600,245400,257400,242200,241800,238400,233900,235300,226500,222500,208400,220900,214300,219000,222900,219500,224100,224300,226900,228100,223500,221100,238400,238700,248800,251700,258400,268100,264800,273600,275200,288000,281000,298900,289200,289100,295800,302500,299800,306000,303800,310900,313100,318200,320500,337900,331800,315600,330900,322800,313000,322500,318400,327100,329000,322600,337500,358700,369800,382600,411200,423600,433100,449300,468000,479500,436800],\"yaxis\":\"y\",\"type\":\"scatter\"}],                        {\"template\":{\"data\":{\"histogram2dcontour\":[{\"type\":\"histogram2dcontour\",\"colorbar\":{\"outlinewidth\":0,\"ticks\":\"\"},\"colorscale\":[[0.0,\"#0d0887\"],[0.1111111111111111,\"#46039f\"],[0.2222222222222222,\"#7201a8\"],[0.3333333333333333,\"#9c179e\"],[0.4444444444444444,\"#bd3786\"],[0.5555555555555556,\"#d8576b\"],[0.6666666666666666,\"#ed7953\"],[0.7777777777777778,\"#fb9f3a\"],[0.8888888888888888,\"#fdca26\"],[1.0,\"#f0f921\"]]}],\"choropleth\":[{\"type\":\"choropleth\",\"colorbar\":{\"outlinewidth\":0,\"ticks\":\"\"}}],\"histogram2d\":[{\"type\":\"histogram2d\",\"colorbar\":{\"outlinewidth\":0,\"ticks\":\"\"},\"colorscale\":[[0.0,\"#0d0887\"],[0.1111111111111111,\"#46039f\"],[0.2222222222222222,\"#7201a8\"],[0.3333333333333333,\"#9c179e\"],[0.4444444444444444,\"#bd3786\"],[0.5555555555555556,\"#d8576b\"],[0.6666666666666666,\"#ed7953\"],[0.7777777777777778,\"#fb9f3a\"],[0.8888888888888888,\"#fdca26\"],[1.0,\"#f0f921\"]]}],\"heatmap\":[{\"type\":\"heatmap\",\"colorbar\":{\"outlinewidth\":0,\"ticks\":\"\"},\"colorscale\":[[0.0,\"#0d0887\"],[0.1111111111111111,\"#46039f\"],[0.2222222222222222,\"#7201a8\"],[0.3333333333333333,\"#9c179e\"],[0.4444444444444444,\"#bd3786\"],[0.5555555555555556,\"#d8576b\"],[0.6666666666666666,\"#ed7953\"],[0.7777777777777778,\"#fb9f3a\"],[0.8888888888888888,\"#fdca26\"],[1.0,\"#f0f921\"]]}],\"heatmapgl\":[{\"type\":\"heatmapgl\",\"colorbar\":{\"outlinewidth\":0,\"ticks\":\"\"},\"colorscale\":[[0.0,\"#0d0887\"],[0.1111111111111111,\"#46039f\"],[0.2222222222222222,\"#7201a8\"],[0.3333333333333333,\"#9c179e\"],[0.4444444444444444,\"#bd3786\"],[0.5555555555555556,\"#d8576b\"],[0.6666666666666666,\"#ed7953\"],[0.7777777777777778,\"#fb9f3a\"],[0.8888888888888888,\"#fdca26\"],[1.0,\"#f0f921\"]]}],\"contourcarpet\":[{\"type\":\"contourcarpet\",\"colorbar\":{\"outlinewidth\":0,\"ticks\":\"\"}}],\"contour\":[{\"type\":\"contour\",\"colorbar\":{\"outlinewidth\":0,\"ticks\":\"\"},\"colorscale\":[[0.0,\"#0d0887\"],[0.1111111111111111,\"#46039f\"],[0.2222222222222222,\"#7201a8\"],[0.3333333333333333,\"#9c179e\"],[0.4444444444444444,\"#bd3786\"],[0.5555555555555556,\"#d8576b\"],[0.6666666666666666,\"#ed7953\"],[0.7777777777777778,\"#fb9f3a\"],[0.8888888888888888,\"#fdca26\"],[1.0,\"#f0f921\"]]}],\"surface\":[{\"type\":\"surface\",\"colorbar\":{\"outlinewidth\":0,\"ticks\":\"\"},\"colorscale\":[[0.0,\"#0d0887\"],[0.1111111111111111,\"#46039f\"],[0.2222222222222222,\"#7201a8\"],[0.3333333333333333,\"#9c179e\"],[0.4444444444444444,\"#bd3786\"],[0.5555555555555556,\"#d8576b\"],[0.6666666666666666,\"#ed7953\"],[0.7777777777777778,\"#fb9f3a\"],[0.8888888888888888,\"#fdca26\"],[1.0,\"#f0f921\"]]}],\"mesh3d\":[{\"type\":\"mesh3d\",\"colorbar\":{\"outlinewidth\":0,\"ticks\":\"\"}}],\"scatter\":[{\"fillpattern\":{\"fillmode\":\"overlay\",\"size\":10,\"solidity\":0.2},\"type\":\"scatter\"}],\"parcoords\":[{\"type\":\"parcoords\",\"line\":{\"colorbar\":{\"outlinewidth\":0,\"ticks\":\"\"}}}],\"scatterpolargl\":[{\"type\":\"scatterpolargl\",\"marker\":{\"colorbar\":{\"outlinewidth\":0,\"ticks\":\"\"}}}],\"bar\":[{\"error_x\":{\"color\":\"#2a3f5f\"},\"error_y\":{\"color\":\"#2a3f5f\"},\"marker\":{\"line\":{\"color\":\"#E5ECF6\",\"width\":0.5},\"pattern\":{\"fillmode\":\"overlay\",\"size\":10,\"solidity\":0.2}},\"type\":\"bar\"}],\"scattergeo\":[{\"type\":\"scattergeo\",\"marker\":{\"colorbar\":{\"outlinewidth\":0,\"ticks\":\"\"}}}],\"scatterpolar\":[{\"type\":\"scatterpolar\",\"marker\":{\"colorbar\":{\"outlinewidth\":0,\"ticks\":\"\"}}}],\"histogram\":[{\"marker\":{\"pattern\":{\"fillmode\":\"overlay\",\"size\":10,\"solidity\":0.2}},\"type\":\"histogram\"}],\"scattergl\":[{\"type\":\"scattergl\",\"marker\":{\"colorbar\":{\"outlinewidth\":0,\"ticks\":\"\"}}}],\"scatter3d\":[{\"type\":\"scatter3d\",\"line\":{\"colorbar\":{\"outlinewidth\":0,\"ticks\":\"\"}},\"marker\":{\"colorbar\":{\"outlinewidth\":0,\"ticks\":\"\"}}}],\"scattermapbox\":[{\"type\":\"scattermapbox\",\"marker\":{\"colorbar\":{\"outlinewidth\":0,\"ticks\":\"\"}}}],\"scatterternary\":[{\"type\":\"scatterternary\",\"marker\":{\"colorbar\":{\"outlinewidth\":0,\"ticks\":\"\"}}}],\"scattercarpet\":[{\"type\":\"scattercarpet\",\"marker\":{\"colorbar\":{\"outlinewidth\":0,\"ticks\":\"\"}}}],\"carpet\":[{\"aaxis\":{\"endlinecolor\":\"#2a3f5f\",\"gridcolor\":\"white\",\"linecolor\":\"white\",\"minorgridcolor\":\"white\",\"startlinecolor\":\"#2a3f5f\"},\"baxis\":{\"endlinecolor\":\"#2a3f5f\",\"gridcolor\":\"white\",\"linecolor\":\"white\",\"minorgridcolor\":\"white\",\"startlinecolor\":\"#2a3f5f\"},\"type\":\"carpet\"}],\"table\":[{\"cells\":{\"fill\":{\"color\":\"#EBF0F8\"},\"line\":{\"color\":\"white\"}},\"header\":{\"fill\":{\"color\":\"#C8D4E3\"},\"line\":{\"color\":\"white\"}},\"type\":\"table\"}],\"barpolar\":[{\"marker\":{\"line\":{\"color\":\"#E5ECF6\",\"width\":0.5},\"pattern\":{\"fillmode\":\"overlay\",\"size\":10,\"solidity\":0.2}},\"type\":\"barpolar\"}],\"pie\":[{\"automargin\":true,\"type\":\"pie\"}]},\"layout\":{\"autotypenumbers\":\"strict\",\"colorway\":[\"#636efa\",\"#EF553B\",\"#00cc96\",\"#ab63fa\",\"#FFA15A\",\"#19d3f3\",\"#FF6692\",\"#B6E880\",\"#FF97FF\",\"#FECB52\"],\"font\":{\"color\":\"#2a3f5f\"},\"hovermode\":\"closest\",\"hoverlabel\":{\"align\":\"left\"},\"paper_bgcolor\":\"white\",\"plot_bgcolor\":\"#E5ECF6\",\"polar\":{\"bgcolor\":\"#E5ECF6\",\"angularaxis\":{\"gridcolor\":\"white\",\"linecolor\":\"white\",\"ticks\":\"\"},\"radialaxis\":{\"gridcolor\":\"white\",\"linecolor\":\"white\",\"ticks\":\"\"}},\"ternary\":{\"bgcolor\":\"#E5ECF6\",\"aaxis\":{\"gridcolor\":\"white\",\"linecolor\":\"white\",\"ticks\":\"\"},\"baxis\":{\"gridcolor\":\"white\",\"linecolor\":\"white\",\"ticks\":\"\"},\"caxis\":{\"gridcolor\":\"white\",\"linecolor\":\"white\",\"ticks\":\"\"}},\"coloraxis\":{\"colorbar\":{\"outlinewidth\":0,\"ticks\":\"\"}},\"colorscale\":{\"sequential\":[[0.0,\"#0d0887\"],[0.1111111111111111,\"#46039f\"],[0.2222222222222222,\"#7201a8\"],[0.3333333333333333,\"#9c179e\"],[0.4444444444444444,\"#bd3786\"],[0.5555555555555556,\"#d8576b\"],[0.6666666666666666,\"#ed7953\"],[0.7777777777777778,\"#fb9f3a\"],[0.8888888888888888,\"#fdca26\"],[1.0,\"#f0f921\"]],\"sequentialminus\":[[0.0,\"#0d0887\"],[0.1111111111111111,\"#46039f\"],[0.2222222222222222,\"#7201a8\"],[0.3333333333333333,\"#9c179e\"],[0.4444444444444444,\"#bd3786\"],[0.5555555555555556,\"#d8576b\"],[0.6666666666666666,\"#ed7953\"],[0.7777777777777778,\"#fb9f3a\"],[0.8888888888888888,\"#fdca26\"],[1.0,\"#f0f921\"]],\"diverging\":[[0,\"#8e0152\"],[0.1,\"#c51b7d\"],[0.2,\"#de77ae\"],[0.3,\"#f1b6da\"],[0.4,\"#fde0ef\"],[0.5,\"#f7f7f7\"],[0.6,\"#e6f5d0\"],[0.7,\"#b8e186\"],[0.8,\"#7fbc41\"],[0.9,\"#4d9221\"],[1,\"#276419\"]]},\"xaxis\":{\"gridcolor\":\"white\",\"linecolor\":\"white\",\"ticks\":\"\",\"title\":{\"standoff\":15},\"zerolinecolor\":\"white\",\"automargin\":true,\"zerolinewidth\":2},\"yaxis\":{\"gridcolor\":\"white\",\"linecolor\":\"white\",\"ticks\":\"\",\"title\":{\"standoff\":15},\"zerolinecolor\":\"white\",\"automargin\":true,\"zerolinewidth\":2},\"scene\":{\"xaxis\":{\"backgroundcolor\":\"#E5ECF6\",\"gridcolor\":\"white\",\"linecolor\":\"white\",\"showbackground\":true,\"ticks\":\"\",\"zerolinecolor\":\"white\",\"gridwidth\":2},\"yaxis\":{\"backgroundcolor\":\"#E5ECF6\",\"gridcolor\":\"white\",\"linecolor\":\"white\",\"showbackground\":true,\"ticks\":\"\",\"zerolinecolor\":\"white\",\"gridwidth\":2},\"zaxis\":{\"backgroundcolor\":\"#E5ECF6\",\"gridcolor\":\"white\",\"linecolor\":\"white\",\"showbackground\":true,\"ticks\":\"\",\"zerolinecolor\":\"white\",\"gridwidth\":2}},\"shapedefaults\":{\"line\":{\"color\":\"#2a3f5f\"}},\"annotationdefaults\":{\"arrowcolor\":\"#2a3f5f\",\"arrowhead\":0,\"arrowwidth\":1},\"geo\":{\"bgcolor\":\"white\",\"landcolor\":\"#E5ECF6\",\"subunitcolor\":\"white\",\"showland\":true,\"showlakes\":true,\"lakecolor\":\"white\"},\"title\":{\"x\":0.05},\"mapbox\":{\"style\":\"light\"}}},\"xaxis\":{\"anchor\":\"y\",\"domain\":[0.0,1.0],\"title\":{\"text\":\"Date\"}},\"yaxis\":{\"anchor\":\"x\",\"domain\":[0.0,1.0],\"title\":{\"text\":\"value\"}},\"legend\":{\"title\":{\"text\":\"variable\"},\"tracegroupgap\":0},\"title\":{\"text\":\"The demand factor (Inventory) and supply factor (MedianSalePrices)\"}},                        {\"responsive\": true}                    ).then(function(){\n",
              "                            \n",
              "var gd = document.getElementById('a400a9f6-2e6a-4333-a381-a783b1192bce');\n",
              "var x = new MutationObserver(function (mutations, observer) {{\n",
              "        var display = window.getComputedStyle(gd).display;\n",
              "        if (!display || display === 'none') {{\n",
              "            console.log([gd, 'removed!']);\n",
              "            Plotly.purge(gd);\n",
              "            observer.disconnect();\n",
              "        }}\n",
              "}});\n",
              "\n",
              "// Listen for the removal of the full notebook cells\n",
              "var notebookContainer = gd.closest('#notebook-container');\n",
              "if (notebookContainer) {{\n",
              "    x.observe(notebookContainer, {childList: true});\n",
              "}}\n",
              "\n",
              "// Listen for the clearing of the current output cell\n",
              "var outputEl = gd.closest('.output');\n",
              "if (outputEl) {{\n",
              "    x.observe(outputEl, {childList: true});\n",
              "}}\n",
              "\n",
              "                        })                };                            </script>        </div>\n",
              "</body>\n",
              "</html>"
            ]
          },
          "metadata": {}
        }
      ]
    },
    {
      "cell_type": "code",
      "source": [
        "px.line(merged_df,\n",
        "        x='Date',\n",
        "        y=['InterestRates','TotalSpending','MedianSalePrice'],\n",
        "        title='Interest rate(Demand) vs Total Spending(Supply)')"
      ],
      "metadata": {
        "colab": {
          "base_uri": "https://localhost:8080/",
          "height": 542
        },
        "id": "pifyKQlVnleV",
        "outputId": "520cc17f-b25d-43fc-e51d-e77c72ac4017"
      },
      "execution_count": 235,
      "outputs": [
        {
          "output_type": "display_data",
          "data": {
            "text/html": [
              "<html>\n",
              "<head><meta charset=\"utf-8\" /></head>\n",
              "<body>\n",
              "    <div>            <script src=\"https://cdnjs.cloudflare.com/ajax/libs/mathjax/2.7.5/MathJax.js?config=TeX-AMS-MML_SVG\"></script><script type=\"text/javascript\">if (window.MathJax && window.MathJax.Hub && window.MathJax.Hub.Config) {window.MathJax.Hub.Config({SVG: {font: \"STIX-Web\"}});}</script>                <script type=\"text/javascript\">window.PlotlyConfig = {MathJaxConfig: 'local'};</script>\n",
              "        <script charset=\"utf-8\" src=\"https://cdn.plot.ly/plotly-2.20.0.min.js\"></script>                <div id=\"a6380efe-05ff-45a7-9786-17c54eba5603\" class=\"plotly-graph-div\" style=\"height:525px; width:100%;\"></div>            <script type=\"text/javascript\">                                    window.PLOTLYENV=window.PLOTLYENV || {};                                    if (document.getElementById(\"a6380efe-05ff-45a7-9786-17c54eba5603\")) {                    Plotly.newPlot(                        \"a6380efe-05ff-45a7-9786-17c54eba5603\",                        [{\"hovertemplate\":\"variable=InterestRates<br>Date=%{x}<br>value=%{y}<extra></extra>\",\"legendgroup\":\"InterestRates\",\"line\":{\"color\":\"#636efa\",\"dash\":\"solid\"},\"marker\":{\"symbol\":\"circle\"},\"mode\":\"lines\",\"name\":\"InterestRates\",\"orientation\":\"v\",\"showlegend\":true,\"x\":[\"2003-01-01T00:00:00\",\"2003-04-01T00:00:00\",\"2003-07-01T00:00:00\",\"2003-10-01T00:00:00\",\"2004-01-01T00:00:00\",\"2004-04-01T00:00:00\",\"2004-07-01T00:00:00\",\"2004-10-01T00:00:00\",\"2005-01-01T00:00:00\",\"2005-04-01T00:00:00\",\"2005-07-01T00:00:00\",\"2005-10-01T00:00:00\",\"2006-01-01T00:00:00\",\"2006-04-01T00:00:00\",\"2006-07-01T00:00:00\",\"2006-10-01T00:00:00\",\"2007-01-01T00:00:00\",\"2007-04-01T00:00:00\",\"2007-07-01T00:00:00\",\"2007-10-01T00:00:00\",\"2008-01-01T00:00:00\",\"2008-04-01T00:00:00\",\"2008-07-01T00:00:00\",\"2008-10-01T00:00:00\",\"2009-01-01T00:00:00\",\"2009-04-01T00:00:00\",\"2009-07-01T00:00:00\",\"2009-10-01T00:00:00\",\"2010-01-01T00:00:00\",\"2010-04-01T00:00:00\",\"2010-07-01T00:00:00\",\"2010-10-01T00:00:00\",\"2011-01-01T00:00:00\",\"2011-04-01T00:00:00\",\"2011-07-01T00:00:00\",\"2011-10-01T00:00:00\",\"2012-01-01T00:00:00\",\"2012-04-01T00:00:00\",\"2012-07-01T00:00:00\",\"2012-10-01T00:00:00\",\"2013-01-01T00:00:00\",\"2013-04-01T00:00:00\",\"2013-07-01T00:00:00\",\"2013-10-01T00:00:00\",\"2014-01-01T00:00:00\",\"2014-04-01T00:00:00\",\"2014-07-01T00:00:00\",\"2014-10-01T00:00:00\",\"2015-01-01T00:00:00\",\"2015-04-01T00:00:00\",\"2015-07-01T00:00:00\",\"2015-10-01T00:00:00\",\"2016-01-01T00:00:00\",\"2016-04-01T00:00:00\",\"2016-07-01T00:00:00\",\"2016-10-01T00:00:00\",\"2017-01-01T00:00:00\",\"2017-04-01T00:00:00\",\"2017-07-01T00:00:00\",\"2017-10-01T00:00:00\",\"2018-01-01T00:00:00\",\"2018-04-01T00:00:00\",\"2018-07-01T00:00:00\",\"2018-10-01T00:00:00\",\"2019-01-01T00:00:00\",\"2019-04-01T00:00:00\",\"2019-07-01T00:00:00\",\"2019-10-01T00:00:00\",\"2020-01-01T00:00:00\",\"2020-04-01T00:00:00\",\"2020-07-01T00:00:00\",\"2020-10-01T00:00:00\",\"2021-01-01T00:00:00\",\"2021-04-01T00:00:00\",\"2021-07-01T00:00:00\",\"2021-10-01T00:00:00\",\"2022-01-01T00:00:00\",\"2022-04-01T00:00:00\",\"2022-07-01T00:00:00\",\"2022-10-01T00:00:00\",\"2023-01-01T00:00:00\"],\"xaxis\":\"x\",\"y\":[2.25,2.166666667,2.0,2.0,2.0,2.083333333,2.5,3.0,3.5,4.0,4.5,5.0,5.583333333,6.0,6.25,6.25,6.25,6.25,5.75,4.916666667,3.166666667,2.25,2.25,1.0,0.5,0.5,0.5,0.5,0.666666667,0.75,0.75,0.75,0.75,0.75,0.75,0.75,0.75,0.75,0.75,0.75,0.75,0.75,0.75,0.75,0.75,0.75,0.75,0.75,0.75,0.75,0.75,0.833333333,1.0,1.0,1.0,1.083333333,1.333333333,1.583333333,1.75,1.833333333,2.083333333,2.333333333,2.583333333,2.833333333,3.0,3.0,2.75,2.25,1.583333333,0.25,0.25,0.25,0.25,0.25,null,null,null,null,null,null,null],\"yaxis\":\"y\",\"type\":\"scatter\"},{\"hovertemplate\":\"variable=TotalSpending<br>Date=%{x}<br>value=%{y}<extra></extra>\",\"legendgroup\":\"TotalSpending\",\"line\":{\"color\":\"#EF553B\",\"dash\":\"solid\"},\"marker\":{\"symbol\":\"circle\"},\"mode\":\"lines\",\"name\":\"TotalSpending\",\"orientation\":\"v\",\"showlegend\":true,\"x\":[\"2003-01-01T00:00:00\",\"2003-04-01T00:00:00\",\"2003-07-01T00:00:00\",\"2003-10-01T00:00:00\",\"2004-01-01T00:00:00\",\"2004-04-01T00:00:00\",\"2004-07-01T00:00:00\",\"2004-10-01T00:00:00\",\"2005-01-01T00:00:00\",\"2005-04-01T00:00:00\",\"2005-07-01T00:00:00\",\"2005-10-01T00:00:00\",\"2006-01-01T00:00:00\",\"2006-04-01T00:00:00\",\"2006-07-01T00:00:00\",\"2006-10-01T00:00:00\",\"2007-01-01T00:00:00\",\"2007-04-01T00:00:00\",\"2007-07-01T00:00:00\",\"2007-10-01T00:00:00\",\"2008-01-01T00:00:00\",\"2008-04-01T00:00:00\",\"2008-07-01T00:00:00\",\"2008-10-01T00:00:00\",\"2009-01-01T00:00:00\",\"2009-04-01T00:00:00\",\"2009-07-01T00:00:00\",\"2009-10-01T00:00:00\",\"2010-01-01T00:00:00\",\"2010-04-01T00:00:00\",\"2010-07-01T00:00:00\",\"2010-10-01T00:00:00\",\"2011-01-01T00:00:00\",\"2011-04-01T00:00:00\",\"2011-07-01T00:00:00\",\"2011-10-01T00:00:00\",\"2012-01-01T00:00:00\",\"2012-04-01T00:00:00\",\"2012-07-01T00:00:00\",\"2012-10-01T00:00:00\",\"2013-01-01T00:00:00\",\"2013-04-01T00:00:00\",\"2013-07-01T00:00:00\",\"2013-10-01T00:00:00\",\"2014-01-01T00:00:00\",\"2014-04-01T00:00:00\",\"2014-07-01T00:00:00\",\"2014-10-01T00:00:00\",\"2015-01-01T00:00:00\",\"2015-04-01T00:00:00\",\"2015-07-01T00:00:00\",\"2015-10-01T00:00:00\",\"2016-01-01T00:00:00\",\"2016-04-01T00:00:00\",\"2016-07-01T00:00:00\",\"2016-10-01T00:00:00\",\"2017-01-01T00:00:00\",\"2017-04-01T00:00:00\",\"2017-07-01T00:00:00\",\"2017-10-01T00:00:00\",\"2018-01-01T00:00:00\",\"2018-04-01T00:00:00\",\"2018-07-01T00:00:00\",\"2018-10-01T00:00:00\",\"2019-01-01T00:00:00\",\"2019-04-01T00:00:00\",\"2019-07-01T00:00:00\",\"2019-10-01T00:00:00\",\"2020-01-01T00:00:00\",\"2020-04-01T00:00:00\",\"2020-07-01T00:00:00\",\"2020-10-01T00:00:00\",\"2021-01-01T00:00:00\",\"2021-04-01T00:00:00\",\"2021-07-01T00:00:00\",\"2021-10-01T00:00:00\",\"2022-01-01T00:00:00\",\"2022-04-01T00:00:00\",\"2022-07-01T00:00:00\",\"2022-10-01T00:00:00\",\"2023-01-01T00:00:00\"],\"xaxis\":\"x\",\"y\":[421328.6667,429308.6667,458890.0,491437.3333,506856.3333,526483.3333,552939.0,561413.3333,590790.3333,611957.0,642273.6667,670433.0,680067.3333,639389.0,591320.6667,558263.6667,539003.6667,521924.0,488432.3333,439296.0,400027.3333,388045.3333,360447.6667,319480.0,276721.3333,246953.3333,257975.0,263932.3333,263516.3333,262938.3333,251115.3333,248572.6667,250635.0,254937.3333,258663.3333,256598.6667,257335.0,270188.0,285750.0,302709.3333,314411.3333,327098.3333,340381.0,358938.6667,372124.0,379708.0,381017.3333,398399.6667,415744.6667,431303.6667,449032.3333,455911.6667,469067.0,477115.3333,486843.0,511281.6667,529871.3333,542516.0,549521.6667,561319.0,579760.0,581159.3333,560109.6667,535932.3333,523016.6667,539253.0,565471.6667,583015.3333,616682.3333,603744.6667,646601.6667,707944.3333,753515.6667,795501.3333,819745.0,837069.0,910611.0,947300.3333,910346.0,870620.6667,null],\"yaxis\":\"y\",\"type\":\"scatter\"},{\"hovertemplate\":\"variable=MedianSalePrice<br>Date=%{x}<br>value=%{y}<extra></extra>\",\"legendgroup\":\"MedianSalePrice\",\"line\":{\"color\":\"#00cc96\",\"dash\":\"solid\"},\"marker\":{\"symbol\":\"circle\"},\"mode\":\"lines\",\"name\":\"MedianSalePrice\",\"orientation\":\"v\",\"showlegend\":true,\"x\":[\"2003-01-01T00:00:00\",\"2003-04-01T00:00:00\",\"2003-07-01T00:00:00\",\"2003-10-01T00:00:00\",\"2004-01-01T00:00:00\",\"2004-04-01T00:00:00\",\"2004-07-01T00:00:00\",\"2004-10-01T00:00:00\",\"2005-01-01T00:00:00\",\"2005-04-01T00:00:00\",\"2005-07-01T00:00:00\",\"2005-10-01T00:00:00\",\"2006-01-01T00:00:00\",\"2006-04-01T00:00:00\",\"2006-07-01T00:00:00\",\"2006-10-01T00:00:00\",\"2007-01-01T00:00:00\",\"2007-04-01T00:00:00\",\"2007-07-01T00:00:00\",\"2007-10-01T00:00:00\",\"2008-01-01T00:00:00\",\"2008-04-01T00:00:00\",\"2008-07-01T00:00:00\",\"2008-10-01T00:00:00\",\"2009-01-01T00:00:00\",\"2009-04-01T00:00:00\",\"2009-07-01T00:00:00\",\"2009-10-01T00:00:00\",\"2010-01-01T00:00:00\",\"2010-04-01T00:00:00\",\"2010-07-01T00:00:00\",\"2010-10-01T00:00:00\",\"2011-01-01T00:00:00\",\"2011-04-01T00:00:00\",\"2011-07-01T00:00:00\",\"2011-10-01T00:00:00\",\"2012-01-01T00:00:00\",\"2012-04-01T00:00:00\",\"2012-07-01T00:00:00\",\"2012-10-01T00:00:00\",\"2013-01-01T00:00:00\",\"2013-04-01T00:00:00\",\"2013-07-01T00:00:00\",\"2013-10-01T00:00:00\",\"2014-01-01T00:00:00\",\"2014-04-01T00:00:00\",\"2014-07-01T00:00:00\",\"2014-10-01T00:00:00\",\"2015-01-01T00:00:00\",\"2015-04-01T00:00:00\",\"2015-07-01T00:00:00\",\"2015-10-01T00:00:00\",\"2016-01-01T00:00:00\",\"2016-04-01T00:00:00\",\"2016-07-01T00:00:00\",\"2016-10-01T00:00:00\",\"2017-01-01T00:00:00\",\"2017-04-01T00:00:00\",\"2017-07-01T00:00:00\",\"2017-10-01T00:00:00\",\"2018-01-01T00:00:00\",\"2018-04-01T00:00:00\",\"2018-07-01T00:00:00\",\"2018-10-01T00:00:00\",\"2019-01-01T00:00:00\",\"2019-04-01T00:00:00\",\"2019-07-01T00:00:00\",\"2019-10-01T00:00:00\",\"2020-01-01T00:00:00\",\"2020-04-01T00:00:00\",\"2020-07-01T00:00:00\",\"2020-10-01T00:00:00\",\"2021-01-01T00:00:00\",\"2021-04-01T00:00:00\",\"2021-07-01T00:00:00\",\"2021-10-01T00:00:00\",\"2022-01-01T00:00:00\",\"2022-04-01T00:00:00\",\"2022-07-01T00:00:00\",\"2022-10-01T00:00:00\",\"2023-01-01T00:00:00\"],\"xaxis\":\"x\",\"y\":[186000,191800,191900,198800,212700,217600,213500,228800,232500,233700,236400,243600,247700,246300,235600,245400,257400,242200,241800,238400,233900,235300,226500,222500,208400,220900,214300,219000,222900,219500,224100,224300,226900,228100,223500,221100,238400,238700,248800,251700,258400,268100,264800,273600,275200,288000,281000,298900,289200,289100,295800,302500,299800,306000,303800,310900,313100,318200,320500,337900,331800,315600,330900,322800,313000,322500,318400,327100,329000,322600,337500,358700,369800,382600,411200,423600,433100,449300,468000,479500,436800],\"yaxis\":\"y\",\"type\":\"scatter\"}],                        {\"template\":{\"data\":{\"histogram2dcontour\":[{\"type\":\"histogram2dcontour\",\"colorbar\":{\"outlinewidth\":0,\"ticks\":\"\"},\"colorscale\":[[0.0,\"#0d0887\"],[0.1111111111111111,\"#46039f\"],[0.2222222222222222,\"#7201a8\"],[0.3333333333333333,\"#9c179e\"],[0.4444444444444444,\"#bd3786\"],[0.5555555555555556,\"#d8576b\"],[0.6666666666666666,\"#ed7953\"],[0.7777777777777778,\"#fb9f3a\"],[0.8888888888888888,\"#fdca26\"],[1.0,\"#f0f921\"]]}],\"choropleth\":[{\"type\":\"choropleth\",\"colorbar\":{\"outlinewidth\":0,\"ticks\":\"\"}}],\"histogram2d\":[{\"type\":\"histogram2d\",\"colorbar\":{\"outlinewidth\":0,\"ticks\":\"\"},\"colorscale\":[[0.0,\"#0d0887\"],[0.1111111111111111,\"#46039f\"],[0.2222222222222222,\"#7201a8\"],[0.3333333333333333,\"#9c179e\"],[0.4444444444444444,\"#bd3786\"],[0.5555555555555556,\"#d8576b\"],[0.6666666666666666,\"#ed7953\"],[0.7777777777777778,\"#fb9f3a\"],[0.8888888888888888,\"#fdca26\"],[1.0,\"#f0f921\"]]}],\"heatmap\":[{\"type\":\"heatmap\",\"colorbar\":{\"outlinewidth\":0,\"ticks\":\"\"},\"colorscale\":[[0.0,\"#0d0887\"],[0.1111111111111111,\"#46039f\"],[0.2222222222222222,\"#7201a8\"],[0.3333333333333333,\"#9c179e\"],[0.4444444444444444,\"#bd3786\"],[0.5555555555555556,\"#d8576b\"],[0.6666666666666666,\"#ed7953\"],[0.7777777777777778,\"#fb9f3a\"],[0.8888888888888888,\"#fdca26\"],[1.0,\"#f0f921\"]]}],\"heatmapgl\":[{\"type\":\"heatmapgl\",\"colorbar\":{\"outlinewidth\":0,\"ticks\":\"\"},\"colorscale\":[[0.0,\"#0d0887\"],[0.1111111111111111,\"#46039f\"],[0.2222222222222222,\"#7201a8\"],[0.3333333333333333,\"#9c179e\"],[0.4444444444444444,\"#bd3786\"],[0.5555555555555556,\"#d8576b\"],[0.6666666666666666,\"#ed7953\"],[0.7777777777777778,\"#fb9f3a\"],[0.8888888888888888,\"#fdca26\"],[1.0,\"#f0f921\"]]}],\"contourcarpet\":[{\"type\":\"contourcarpet\",\"colorbar\":{\"outlinewidth\":0,\"ticks\":\"\"}}],\"contour\":[{\"type\":\"contour\",\"colorbar\":{\"outlinewidth\":0,\"ticks\":\"\"},\"colorscale\":[[0.0,\"#0d0887\"],[0.1111111111111111,\"#46039f\"],[0.2222222222222222,\"#7201a8\"],[0.3333333333333333,\"#9c179e\"],[0.4444444444444444,\"#bd3786\"],[0.5555555555555556,\"#d8576b\"],[0.6666666666666666,\"#ed7953\"],[0.7777777777777778,\"#fb9f3a\"],[0.8888888888888888,\"#fdca26\"],[1.0,\"#f0f921\"]]}],\"surface\":[{\"type\":\"surface\",\"colorbar\":{\"outlinewidth\":0,\"ticks\":\"\"},\"colorscale\":[[0.0,\"#0d0887\"],[0.1111111111111111,\"#46039f\"],[0.2222222222222222,\"#7201a8\"],[0.3333333333333333,\"#9c179e\"],[0.4444444444444444,\"#bd3786\"],[0.5555555555555556,\"#d8576b\"],[0.6666666666666666,\"#ed7953\"],[0.7777777777777778,\"#fb9f3a\"],[0.8888888888888888,\"#fdca26\"],[1.0,\"#f0f921\"]]}],\"mesh3d\":[{\"type\":\"mesh3d\",\"colorbar\":{\"outlinewidth\":0,\"ticks\":\"\"}}],\"scatter\":[{\"fillpattern\":{\"fillmode\":\"overlay\",\"size\":10,\"solidity\":0.2},\"type\":\"scatter\"}],\"parcoords\":[{\"type\":\"parcoords\",\"line\":{\"colorbar\":{\"outlinewidth\":0,\"ticks\":\"\"}}}],\"scatterpolargl\":[{\"type\":\"scatterpolargl\",\"marker\":{\"colorbar\":{\"outlinewidth\":0,\"ticks\":\"\"}}}],\"bar\":[{\"error_x\":{\"color\":\"#2a3f5f\"},\"error_y\":{\"color\":\"#2a3f5f\"},\"marker\":{\"line\":{\"color\":\"#E5ECF6\",\"width\":0.5},\"pattern\":{\"fillmode\":\"overlay\",\"size\":10,\"solidity\":0.2}},\"type\":\"bar\"}],\"scattergeo\":[{\"type\":\"scattergeo\",\"marker\":{\"colorbar\":{\"outlinewidth\":0,\"ticks\":\"\"}}}],\"scatterpolar\":[{\"type\":\"scatterpolar\",\"marker\":{\"colorbar\":{\"outlinewidth\":0,\"ticks\":\"\"}}}],\"histogram\":[{\"marker\":{\"pattern\":{\"fillmode\":\"overlay\",\"size\":10,\"solidity\":0.2}},\"type\":\"histogram\"}],\"scattergl\":[{\"type\":\"scattergl\",\"marker\":{\"colorbar\":{\"outlinewidth\":0,\"ticks\":\"\"}}}],\"scatter3d\":[{\"type\":\"scatter3d\",\"line\":{\"colorbar\":{\"outlinewidth\":0,\"ticks\":\"\"}},\"marker\":{\"colorbar\":{\"outlinewidth\":0,\"ticks\":\"\"}}}],\"scattermapbox\":[{\"type\":\"scattermapbox\",\"marker\":{\"colorbar\":{\"outlinewidth\":0,\"ticks\":\"\"}}}],\"scatterternary\":[{\"type\":\"scatterternary\",\"marker\":{\"colorbar\":{\"outlinewidth\":0,\"ticks\":\"\"}}}],\"scattercarpet\":[{\"type\":\"scattercarpet\",\"marker\":{\"colorbar\":{\"outlinewidth\":0,\"ticks\":\"\"}}}],\"carpet\":[{\"aaxis\":{\"endlinecolor\":\"#2a3f5f\",\"gridcolor\":\"white\",\"linecolor\":\"white\",\"minorgridcolor\":\"white\",\"startlinecolor\":\"#2a3f5f\"},\"baxis\":{\"endlinecolor\":\"#2a3f5f\",\"gridcolor\":\"white\",\"linecolor\":\"white\",\"minorgridcolor\":\"white\",\"startlinecolor\":\"#2a3f5f\"},\"type\":\"carpet\"}],\"table\":[{\"cells\":{\"fill\":{\"color\":\"#EBF0F8\"},\"line\":{\"color\":\"white\"}},\"header\":{\"fill\":{\"color\":\"#C8D4E3\"},\"line\":{\"color\":\"white\"}},\"type\":\"table\"}],\"barpolar\":[{\"marker\":{\"line\":{\"color\":\"#E5ECF6\",\"width\":0.5},\"pattern\":{\"fillmode\":\"overlay\",\"size\":10,\"solidity\":0.2}},\"type\":\"barpolar\"}],\"pie\":[{\"automargin\":true,\"type\":\"pie\"}]},\"layout\":{\"autotypenumbers\":\"strict\",\"colorway\":[\"#636efa\",\"#EF553B\",\"#00cc96\",\"#ab63fa\",\"#FFA15A\",\"#19d3f3\",\"#FF6692\",\"#B6E880\",\"#FF97FF\",\"#FECB52\"],\"font\":{\"color\":\"#2a3f5f\"},\"hovermode\":\"closest\",\"hoverlabel\":{\"align\":\"left\"},\"paper_bgcolor\":\"white\",\"plot_bgcolor\":\"#E5ECF6\",\"polar\":{\"bgcolor\":\"#E5ECF6\",\"angularaxis\":{\"gridcolor\":\"white\",\"linecolor\":\"white\",\"ticks\":\"\"},\"radialaxis\":{\"gridcolor\":\"white\",\"linecolor\":\"white\",\"ticks\":\"\"}},\"ternary\":{\"bgcolor\":\"#E5ECF6\",\"aaxis\":{\"gridcolor\":\"white\",\"linecolor\":\"white\",\"ticks\":\"\"},\"baxis\":{\"gridcolor\":\"white\",\"linecolor\":\"white\",\"ticks\":\"\"},\"caxis\":{\"gridcolor\":\"white\",\"linecolor\":\"white\",\"ticks\":\"\"}},\"coloraxis\":{\"colorbar\":{\"outlinewidth\":0,\"ticks\":\"\"}},\"colorscale\":{\"sequential\":[[0.0,\"#0d0887\"],[0.1111111111111111,\"#46039f\"],[0.2222222222222222,\"#7201a8\"],[0.3333333333333333,\"#9c179e\"],[0.4444444444444444,\"#bd3786\"],[0.5555555555555556,\"#d8576b\"],[0.6666666666666666,\"#ed7953\"],[0.7777777777777778,\"#fb9f3a\"],[0.8888888888888888,\"#fdca26\"],[1.0,\"#f0f921\"]],\"sequentialminus\":[[0.0,\"#0d0887\"],[0.1111111111111111,\"#46039f\"],[0.2222222222222222,\"#7201a8\"],[0.3333333333333333,\"#9c179e\"],[0.4444444444444444,\"#bd3786\"],[0.5555555555555556,\"#d8576b\"],[0.6666666666666666,\"#ed7953\"],[0.7777777777777778,\"#fb9f3a\"],[0.8888888888888888,\"#fdca26\"],[1.0,\"#f0f921\"]],\"diverging\":[[0,\"#8e0152\"],[0.1,\"#c51b7d\"],[0.2,\"#de77ae\"],[0.3,\"#f1b6da\"],[0.4,\"#fde0ef\"],[0.5,\"#f7f7f7\"],[0.6,\"#e6f5d0\"],[0.7,\"#b8e186\"],[0.8,\"#7fbc41\"],[0.9,\"#4d9221\"],[1,\"#276419\"]]},\"xaxis\":{\"gridcolor\":\"white\",\"linecolor\":\"white\",\"ticks\":\"\",\"title\":{\"standoff\":15},\"zerolinecolor\":\"white\",\"automargin\":true,\"zerolinewidth\":2},\"yaxis\":{\"gridcolor\":\"white\",\"linecolor\":\"white\",\"ticks\":\"\",\"title\":{\"standoff\":15},\"zerolinecolor\":\"white\",\"automargin\":true,\"zerolinewidth\":2},\"scene\":{\"xaxis\":{\"backgroundcolor\":\"#E5ECF6\",\"gridcolor\":\"white\",\"linecolor\":\"white\",\"showbackground\":true,\"ticks\":\"\",\"zerolinecolor\":\"white\",\"gridwidth\":2},\"yaxis\":{\"backgroundcolor\":\"#E5ECF6\",\"gridcolor\":\"white\",\"linecolor\":\"white\",\"showbackground\":true,\"ticks\":\"\",\"zerolinecolor\":\"white\",\"gridwidth\":2},\"zaxis\":{\"backgroundcolor\":\"#E5ECF6\",\"gridcolor\":\"white\",\"linecolor\":\"white\",\"showbackground\":true,\"ticks\":\"\",\"zerolinecolor\":\"white\",\"gridwidth\":2}},\"shapedefaults\":{\"line\":{\"color\":\"#2a3f5f\"}},\"annotationdefaults\":{\"arrowcolor\":\"#2a3f5f\",\"arrowhead\":0,\"arrowwidth\":1},\"geo\":{\"bgcolor\":\"white\",\"landcolor\":\"#E5ECF6\",\"subunitcolor\":\"white\",\"showland\":true,\"showlakes\":true,\"lakecolor\":\"white\"},\"title\":{\"x\":0.05},\"mapbox\":{\"style\":\"light\"}}},\"xaxis\":{\"anchor\":\"y\",\"domain\":[0.0,1.0],\"title\":{\"text\":\"Date\"}},\"yaxis\":{\"anchor\":\"x\",\"domain\":[0.0,1.0],\"title\":{\"text\":\"value\"}},\"legend\":{\"title\":{\"text\":\"variable\"},\"tracegroupgap\":0},\"title\":{\"text\":\"Interest rate(Demand) vs Total Spending(Supply)\"}},                        {\"responsive\": true}                    ).then(function(){\n",
              "                            \n",
              "var gd = document.getElementById('a6380efe-05ff-45a7-9786-17c54eba5603');\n",
              "var x = new MutationObserver(function (mutations, observer) {{\n",
              "        var display = window.getComputedStyle(gd).display;\n",
              "        if (!display || display === 'none') {{\n",
              "            console.log([gd, 'removed!']);\n",
              "            Plotly.purge(gd);\n",
              "            observer.disconnect();\n",
              "        }}\n",
              "}});\n",
              "\n",
              "// Listen for the removal of the full notebook cells\n",
              "var notebookContainer = gd.closest('#notebook-container');\n",
              "if (notebookContainer) {{\n",
              "    x.observe(notebookContainer, {childList: true});\n",
              "}}\n",
              "\n",
              "// Listen for the clearing of the current output cell\n",
              "var outputEl = gd.closest('.output');\n",
              "if (outputEl) {{\n",
              "    x.observe(outputEl, {childList: true});\n",
              "}}\n",
              "\n",
              "                        })                };                            </script>        </div>\n",
              "</body>\n",
              "</html>"
            ]
          },
          "metadata": {}
        }
      ]
    },
    {
      "cell_type": "code",
      "source": [
        "px.pie(merged_df,\n",
        "       values='MonthlySupply',\n",
        "       names='Month',\n",
        "       title = 'Monthly supplies wrt month showing the demand was more in Q3 and Q4')"
      ],
      "metadata": {
        "colab": {
          "base_uri": "https://localhost:8080/",
          "height": 542
        },
        "id": "bWFZ5q0brGMy",
        "outputId": "51c7b2f1-2dbe-4ad7-f571-fdfaa445b70b"
      },
      "execution_count": 236,
      "outputs": [
        {
          "output_type": "display_data",
          "data": {
            "text/html": [
              "<html>\n",
              "<head><meta charset=\"utf-8\" /></head>\n",
              "<body>\n",
              "    <div>            <script src=\"https://cdnjs.cloudflare.com/ajax/libs/mathjax/2.7.5/MathJax.js?config=TeX-AMS-MML_SVG\"></script><script type=\"text/javascript\">if (window.MathJax && window.MathJax.Hub && window.MathJax.Hub.Config) {window.MathJax.Hub.Config({SVG: {font: \"STIX-Web\"}});}</script>                <script type=\"text/javascript\">window.PlotlyConfig = {MathJaxConfig: 'local'};</script>\n",
              "        <script charset=\"utf-8\" src=\"https://cdn.plot.ly/plotly-2.20.0.min.js\"></script>                <div id=\"8f49d4e2-1baf-4ee6-8f55-6d9b3ca79e14\" class=\"plotly-graph-div\" style=\"height:525px; width:100%;\"></div>            <script type=\"text/javascript\">                                    window.PLOTLYENV=window.PLOTLYENV || {};                                    if (document.getElementById(\"8f49d4e2-1baf-4ee6-8f55-6d9b3ca79e14\")) {                    Plotly.newPlot(                        \"8f49d4e2-1baf-4ee6-8f55-6d9b3ca79e14\",                        [{\"domain\":{\"x\":[0.0,1.0],\"y\":[0.0,1.0]},\"hovertemplate\":\"Month=%{label}<br>MonthlySupply=%{value}<extra></extra>\",\"labels\":[1,4,7,10,1,4,7,10,1,4,7,10,1,4,7,10,1,4,7,10,1,4,7,10,1,4,7,10,1,4,7,10,1,4,7,10,1,4,7,10,1,4,7,10,1,4,7,10,1,4,7,10,1,4,7,10,1,4,7,10,1,4,7,10,1,4,7,10,1,4,7,10,1,4,7,10,1,4,7,10,1],\"legendgroup\":\"\",\"name\":\"\",\"showlegend\":true,\"values\":[4.2,3.833333333,3.633333333,3.966666667,3.7,3.9,4.3,4.1,4.266666667,4.266666667,4.466666667,4.8,5.766666667,6.266666667,6.9,6.8,7.666666667,7.8,8.9,9.166666667,9.833333333,10.56666667,10.9,11.4,11.23333333,9.5,7.733333333,7.666666667,7.833333333,7.933333333,8.433333333,7.8,7.533333333,6.633333333,6.5,5.666666667,5.0,4.8,4.566666667,4.666666667,4.1,4.366666667,5.466666667,5.033333333,5.333333333,5.533333333,5.666666667,5.366666667,4.8,5.1,5.366666667,5.4,5.533333333,5.133333333,4.9,5.266666667,5.233333333,5.266666667,5.733333333,5.3,5.566666667,5.6,6.433333333,7.066666667,6.366666667,5.833333333,5.6,5.533333333,5.9,5.3,3.4,3.866666667,4.333333333,5.3,6.2,6.233333333,6.233333333,8.7,9.566666667,9.2,null],\"type\":\"pie\"}],                        {\"template\":{\"data\":{\"histogram2dcontour\":[{\"type\":\"histogram2dcontour\",\"colorbar\":{\"outlinewidth\":0,\"ticks\":\"\"},\"colorscale\":[[0.0,\"#0d0887\"],[0.1111111111111111,\"#46039f\"],[0.2222222222222222,\"#7201a8\"],[0.3333333333333333,\"#9c179e\"],[0.4444444444444444,\"#bd3786\"],[0.5555555555555556,\"#d8576b\"],[0.6666666666666666,\"#ed7953\"],[0.7777777777777778,\"#fb9f3a\"],[0.8888888888888888,\"#fdca26\"],[1.0,\"#f0f921\"]]}],\"choropleth\":[{\"type\":\"choropleth\",\"colorbar\":{\"outlinewidth\":0,\"ticks\":\"\"}}],\"histogram2d\":[{\"type\":\"histogram2d\",\"colorbar\":{\"outlinewidth\":0,\"ticks\":\"\"},\"colorscale\":[[0.0,\"#0d0887\"],[0.1111111111111111,\"#46039f\"],[0.2222222222222222,\"#7201a8\"],[0.3333333333333333,\"#9c179e\"],[0.4444444444444444,\"#bd3786\"],[0.5555555555555556,\"#d8576b\"],[0.6666666666666666,\"#ed7953\"],[0.7777777777777778,\"#fb9f3a\"],[0.8888888888888888,\"#fdca26\"],[1.0,\"#f0f921\"]]}],\"heatmap\":[{\"type\":\"heatmap\",\"colorbar\":{\"outlinewidth\":0,\"ticks\":\"\"},\"colorscale\":[[0.0,\"#0d0887\"],[0.1111111111111111,\"#46039f\"],[0.2222222222222222,\"#7201a8\"],[0.3333333333333333,\"#9c179e\"],[0.4444444444444444,\"#bd3786\"],[0.5555555555555556,\"#d8576b\"],[0.6666666666666666,\"#ed7953\"],[0.7777777777777778,\"#fb9f3a\"],[0.8888888888888888,\"#fdca26\"],[1.0,\"#f0f921\"]]}],\"heatmapgl\":[{\"type\":\"heatmapgl\",\"colorbar\":{\"outlinewidth\":0,\"ticks\":\"\"},\"colorscale\":[[0.0,\"#0d0887\"],[0.1111111111111111,\"#46039f\"],[0.2222222222222222,\"#7201a8\"],[0.3333333333333333,\"#9c179e\"],[0.4444444444444444,\"#bd3786\"],[0.5555555555555556,\"#d8576b\"],[0.6666666666666666,\"#ed7953\"],[0.7777777777777778,\"#fb9f3a\"],[0.8888888888888888,\"#fdca26\"],[1.0,\"#f0f921\"]]}],\"contourcarpet\":[{\"type\":\"contourcarpet\",\"colorbar\":{\"outlinewidth\":0,\"ticks\":\"\"}}],\"contour\":[{\"type\":\"contour\",\"colorbar\":{\"outlinewidth\":0,\"ticks\":\"\"},\"colorscale\":[[0.0,\"#0d0887\"],[0.1111111111111111,\"#46039f\"],[0.2222222222222222,\"#7201a8\"],[0.3333333333333333,\"#9c179e\"],[0.4444444444444444,\"#bd3786\"],[0.5555555555555556,\"#d8576b\"],[0.6666666666666666,\"#ed7953\"],[0.7777777777777778,\"#fb9f3a\"],[0.8888888888888888,\"#fdca26\"],[1.0,\"#f0f921\"]]}],\"surface\":[{\"type\":\"surface\",\"colorbar\":{\"outlinewidth\":0,\"ticks\":\"\"},\"colorscale\":[[0.0,\"#0d0887\"],[0.1111111111111111,\"#46039f\"],[0.2222222222222222,\"#7201a8\"],[0.3333333333333333,\"#9c179e\"],[0.4444444444444444,\"#bd3786\"],[0.5555555555555556,\"#d8576b\"],[0.6666666666666666,\"#ed7953\"],[0.7777777777777778,\"#fb9f3a\"],[0.8888888888888888,\"#fdca26\"],[1.0,\"#f0f921\"]]}],\"mesh3d\":[{\"type\":\"mesh3d\",\"colorbar\":{\"outlinewidth\":0,\"ticks\":\"\"}}],\"scatter\":[{\"fillpattern\":{\"fillmode\":\"overlay\",\"size\":10,\"solidity\":0.2},\"type\":\"scatter\"}],\"parcoords\":[{\"type\":\"parcoords\",\"line\":{\"colorbar\":{\"outlinewidth\":0,\"ticks\":\"\"}}}],\"scatterpolargl\":[{\"type\":\"scatterpolargl\",\"marker\":{\"colorbar\":{\"outlinewidth\":0,\"ticks\":\"\"}}}],\"bar\":[{\"error_x\":{\"color\":\"#2a3f5f\"},\"error_y\":{\"color\":\"#2a3f5f\"},\"marker\":{\"line\":{\"color\":\"#E5ECF6\",\"width\":0.5},\"pattern\":{\"fillmode\":\"overlay\",\"size\":10,\"solidity\":0.2}},\"type\":\"bar\"}],\"scattergeo\":[{\"type\":\"scattergeo\",\"marker\":{\"colorbar\":{\"outlinewidth\":0,\"ticks\":\"\"}}}],\"scatterpolar\":[{\"type\":\"scatterpolar\",\"marker\":{\"colorbar\":{\"outlinewidth\":0,\"ticks\":\"\"}}}],\"histogram\":[{\"marker\":{\"pattern\":{\"fillmode\":\"overlay\",\"size\":10,\"solidity\":0.2}},\"type\":\"histogram\"}],\"scattergl\":[{\"type\":\"scattergl\",\"marker\":{\"colorbar\":{\"outlinewidth\":0,\"ticks\":\"\"}}}],\"scatter3d\":[{\"type\":\"scatter3d\",\"line\":{\"colorbar\":{\"outlinewidth\":0,\"ticks\":\"\"}},\"marker\":{\"colorbar\":{\"outlinewidth\":0,\"ticks\":\"\"}}}],\"scattermapbox\":[{\"type\":\"scattermapbox\",\"marker\":{\"colorbar\":{\"outlinewidth\":0,\"ticks\":\"\"}}}],\"scatterternary\":[{\"type\":\"scatterternary\",\"marker\":{\"colorbar\":{\"outlinewidth\":0,\"ticks\":\"\"}}}],\"scattercarpet\":[{\"type\":\"scattercarpet\",\"marker\":{\"colorbar\":{\"outlinewidth\":0,\"ticks\":\"\"}}}],\"carpet\":[{\"aaxis\":{\"endlinecolor\":\"#2a3f5f\",\"gridcolor\":\"white\",\"linecolor\":\"white\",\"minorgridcolor\":\"white\",\"startlinecolor\":\"#2a3f5f\"},\"baxis\":{\"endlinecolor\":\"#2a3f5f\",\"gridcolor\":\"white\",\"linecolor\":\"white\",\"minorgridcolor\":\"white\",\"startlinecolor\":\"#2a3f5f\"},\"type\":\"carpet\"}],\"table\":[{\"cells\":{\"fill\":{\"color\":\"#EBF0F8\"},\"line\":{\"color\":\"white\"}},\"header\":{\"fill\":{\"color\":\"#C8D4E3\"},\"line\":{\"color\":\"white\"}},\"type\":\"table\"}],\"barpolar\":[{\"marker\":{\"line\":{\"color\":\"#E5ECF6\",\"width\":0.5},\"pattern\":{\"fillmode\":\"overlay\",\"size\":10,\"solidity\":0.2}},\"type\":\"barpolar\"}],\"pie\":[{\"automargin\":true,\"type\":\"pie\"}]},\"layout\":{\"autotypenumbers\":\"strict\",\"colorway\":[\"#636efa\",\"#EF553B\",\"#00cc96\",\"#ab63fa\",\"#FFA15A\",\"#19d3f3\",\"#FF6692\",\"#B6E880\",\"#FF97FF\",\"#FECB52\"],\"font\":{\"color\":\"#2a3f5f\"},\"hovermode\":\"closest\",\"hoverlabel\":{\"align\":\"left\"},\"paper_bgcolor\":\"white\",\"plot_bgcolor\":\"#E5ECF6\",\"polar\":{\"bgcolor\":\"#E5ECF6\",\"angularaxis\":{\"gridcolor\":\"white\",\"linecolor\":\"white\",\"ticks\":\"\"},\"radialaxis\":{\"gridcolor\":\"white\",\"linecolor\":\"white\",\"ticks\":\"\"}},\"ternary\":{\"bgcolor\":\"#E5ECF6\",\"aaxis\":{\"gridcolor\":\"white\",\"linecolor\":\"white\",\"ticks\":\"\"},\"baxis\":{\"gridcolor\":\"white\",\"linecolor\":\"white\",\"ticks\":\"\"},\"caxis\":{\"gridcolor\":\"white\",\"linecolor\":\"white\",\"ticks\":\"\"}},\"coloraxis\":{\"colorbar\":{\"outlinewidth\":0,\"ticks\":\"\"}},\"colorscale\":{\"sequential\":[[0.0,\"#0d0887\"],[0.1111111111111111,\"#46039f\"],[0.2222222222222222,\"#7201a8\"],[0.3333333333333333,\"#9c179e\"],[0.4444444444444444,\"#bd3786\"],[0.5555555555555556,\"#d8576b\"],[0.6666666666666666,\"#ed7953\"],[0.7777777777777778,\"#fb9f3a\"],[0.8888888888888888,\"#fdca26\"],[1.0,\"#f0f921\"]],\"sequentialminus\":[[0.0,\"#0d0887\"],[0.1111111111111111,\"#46039f\"],[0.2222222222222222,\"#7201a8\"],[0.3333333333333333,\"#9c179e\"],[0.4444444444444444,\"#bd3786\"],[0.5555555555555556,\"#d8576b\"],[0.6666666666666666,\"#ed7953\"],[0.7777777777777778,\"#fb9f3a\"],[0.8888888888888888,\"#fdca26\"],[1.0,\"#f0f921\"]],\"diverging\":[[0,\"#8e0152\"],[0.1,\"#c51b7d\"],[0.2,\"#de77ae\"],[0.3,\"#f1b6da\"],[0.4,\"#fde0ef\"],[0.5,\"#f7f7f7\"],[0.6,\"#e6f5d0\"],[0.7,\"#b8e186\"],[0.8,\"#7fbc41\"],[0.9,\"#4d9221\"],[1,\"#276419\"]]},\"xaxis\":{\"gridcolor\":\"white\",\"linecolor\":\"white\",\"ticks\":\"\",\"title\":{\"standoff\":15},\"zerolinecolor\":\"white\",\"automargin\":true,\"zerolinewidth\":2},\"yaxis\":{\"gridcolor\":\"white\",\"linecolor\":\"white\",\"ticks\":\"\",\"title\":{\"standoff\":15},\"zerolinecolor\":\"white\",\"automargin\":true,\"zerolinewidth\":2},\"scene\":{\"xaxis\":{\"backgroundcolor\":\"#E5ECF6\",\"gridcolor\":\"white\",\"linecolor\":\"white\",\"showbackground\":true,\"ticks\":\"\",\"zerolinecolor\":\"white\",\"gridwidth\":2},\"yaxis\":{\"backgroundcolor\":\"#E5ECF6\",\"gridcolor\":\"white\",\"linecolor\":\"white\",\"showbackground\":true,\"ticks\":\"\",\"zerolinecolor\":\"white\",\"gridwidth\":2},\"zaxis\":{\"backgroundcolor\":\"#E5ECF6\",\"gridcolor\":\"white\",\"linecolor\":\"white\",\"showbackground\":true,\"ticks\":\"\",\"zerolinecolor\":\"white\",\"gridwidth\":2}},\"shapedefaults\":{\"line\":{\"color\":\"#2a3f5f\"}},\"annotationdefaults\":{\"arrowcolor\":\"#2a3f5f\",\"arrowhead\":0,\"arrowwidth\":1},\"geo\":{\"bgcolor\":\"white\",\"landcolor\":\"#E5ECF6\",\"subunitcolor\":\"white\",\"showland\":true,\"showlakes\":true,\"lakecolor\":\"white\"},\"title\":{\"x\":0.05},\"mapbox\":{\"style\":\"light\"}}},\"legend\":{\"tracegroupgap\":0},\"title\":{\"text\":\"Monthly supplies wrt month showing the demand was more in Q3 and Q4\"}},                        {\"responsive\": true}                    ).then(function(){\n",
              "                            \n",
              "var gd = document.getElementById('8f49d4e2-1baf-4ee6-8f55-6d9b3ca79e14');\n",
              "var x = new MutationObserver(function (mutations, observer) {{\n",
              "        var display = window.getComputedStyle(gd).display;\n",
              "        if (!display || display === 'none') {{\n",
              "            console.log([gd, 'removed!']);\n",
              "            Plotly.purge(gd);\n",
              "            observer.disconnect();\n",
              "        }}\n",
              "}});\n",
              "\n",
              "// Listen for the removal of the full notebook cells\n",
              "var notebookContainer = gd.closest('#notebook-container');\n",
              "if (notebookContainer) {{\n",
              "    x.observe(notebookContainer, {childList: true});\n",
              "}}\n",
              "\n",
              "// Listen for the clearing of the current output cell\n",
              "var outputEl = gd.closest('.output');\n",
              "if (outputEl) {{\n",
              "    x.observe(outputEl, {childList: true});\n",
              "}}\n",
              "\n",
              "                        })                };                            </script>        </div>\n",
              "</body>\n",
              "</html>"
            ]
          },
          "metadata": {}
        }
      ]
    },
    {
      "cell_type": "code",
      "source": [
        "px.line(merged_df,\n",
        "        x='Date',\n",
        "        y=['Inventory','CSUSHPISA','PERMIT','GDP'],\n",
        "        title='Cross Comparison of affects of permits issued, Inventory and Gdp')"
      ],
      "metadata": {
        "colab": {
          "base_uri": "https://localhost:8080/",
          "height": 542
        },
        "id": "e2-daFqovCwp",
        "outputId": "b4ac41b9-9782-4725-d346-bc3d8daf9ea2"
      },
      "execution_count": 237,
      "outputs": [
        {
          "output_type": "display_data",
          "data": {
            "text/html": [
              "<html>\n",
              "<head><meta charset=\"utf-8\" /></head>\n",
              "<body>\n",
              "    <div>            <script src=\"https://cdnjs.cloudflare.com/ajax/libs/mathjax/2.7.5/MathJax.js?config=TeX-AMS-MML_SVG\"></script><script type=\"text/javascript\">if (window.MathJax && window.MathJax.Hub && window.MathJax.Hub.Config) {window.MathJax.Hub.Config({SVG: {font: \"STIX-Web\"}});}</script>                <script type=\"text/javascript\">window.PlotlyConfig = {MathJaxConfig: 'local'};</script>\n",
              "        <script charset=\"utf-8\" src=\"https://cdn.plot.ly/plotly-2.20.0.min.js\"></script>                <div id=\"2942f5f8-061f-44f5-8dcb-889d824da063\" class=\"plotly-graph-div\" style=\"height:525px; width:100%;\"></div>            <script type=\"text/javascript\">                                    window.PLOTLYENV=window.PLOTLYENV || {};                                    if (document.getElementById(\"2942f5f8-061f-44f5-8dcb-889d824da063\")) {                    Plotly.newPlot(                        \"2942f5f8-061f-44f5-8dcb-889d824da063\",                        [{\"hovertemplate\":\"variable=Inventory<br>Date=%{x}<br>value=%{y}<extra></extra>\",\"legendgroup\":\"Inventory\",\"line\":{\"color\":\"#636efa\",\"dash\":\"solid\"},\"marker\":{\"symbol\":\"circle\"},\"mode\":\"lines\",\"name\":\"Inventory\",\"orientation\":\"v\",\"showlegend\":true,\"x\":[\"2003-01-01T00:00:00\",\"2003-04-01T00:00:00\",\"2003-07-01T00:00:00\",\"2003-10-01T00:00:00\",\"2004-01-01T00:00:00\",\"2004-04-01T00:00:00\",\"2004-07-01T00:00:00\",\"2004-10-01T00:00:00\",\"2005-01-01T00:00:00\",\"2005-04-01T00:00:00\",\"2005-07-01T00:00:00\",\"2005-10-01T00:00:00\",\"2006-01-01T00:00:00\",\"2006-04-01T00:00:00\",\"2006-07-01T00:00:00\",\"2006-10-01T00:00:00\",\"2007-01-01T00:00:00\",\"2007-04-01T00:00:00\",\"2007-07-01T00:00:00\",\"2007-10-01T00:00:00\",\"2008-01-01T00:00:00\",\"2008-04-01T00:00:00\",\"2008-07-01T00:00:00\",\"2008-10-01T00:00:00\",\"2009-01-01T00:00:00\",\"2009-04-01T00:00:00\",\"2009-07-01T00:00:00\",\"2009-10-01T00:00:00\",\"2010-01-01T00:00:00\",\"2010-04-01T00:00:00\",\"2010-07-01T00:00:00\",\"2010-10-01T00:00:00\",\"2011-01-01T00:00:00\",\"2011-04-01T00:00:00\",\"2011-07-01T00:00:00\",\"2011-10-01T00:00:00\",\"2012-01-01T00:00:00\",\"2012-04-01T00:00:00\",\"2012-07-01T00:00:00\",\"2012-10-01T00:00:00\",\"2013-01-01T00:00:00\",\"2013-04-01T00:00:00\",\"2013-07-01T00:00:00\",\"2013-10-01T00:00:00\",\"2014-01-01T00:00:00\",\"2014-04-01T00:00:00\",\"2014-07-01T00:00:00\",\"2014-10-01T00:00:00\",\"2015-01-01T00:00:00\",\"2015-04-01T00:00:00\",\"2015-07-01T00:00:00\",\"2015-10-01T00:00:00\",\"2016-01-01T00:00:00\",\"2016-04-01T00:00:00\",\"2016-07-01T00:00:00\",\"2016-10-01T00:00:00\",\"2017-01-01T00:00:00\",\"2017-04-01T00:00:00\",\"2017-07-01T00:00:00\",\"2017-10-01T00:00:00\",\"2018-01-01T00:00:00\",\"2018-04-01T00:00:00\",\"2018-07-01T00:00:00\",\"2018-10-01T00:00:00\",\"2019-01-01T00:00:00\",\"2019-04-01T00:00:00\",\"2019-07-01T00:00:00\",\"2019-10-01T00:00:00\",\"2020-01-01T00:00:00\",\"2020-04-01T00:00:00\",\"2020-07-01T00:00:00\",\"2020-10-01T00:00:00\",\"2021-01-01T00:00:00\",\"2021-04-01T00:00:00\",\"2021-07-01T00:00:00\",\"2021-10-01T00:00:00\",\"2022-01-01T00:00:00\",\"2022-04-01T00:00:00\",\"2022-07-01T00:00:00\",\"2022-10-01T00:00:00\",\"2023-01-01T00:00:00\"],\"xaxis\":\"x\",\"y\":[14908.0,15244.0,15614.0,15654.0,15895.0,16079.0,15656.0,15361.0,15748.0,16061.0,15883.0,15823.0,16234.0,16513.0,16769.0,16894.0,17724.0,17547.0,18049.0,17910.0,18642.0,18701.0,18651.0,18973.0,19137.0,18752.0,18996.0,19006.0,19126.0,19022.0,18933.0,18551.0,18998.0,18843.0,18803.0,18389.0,18476.0,18519.0,18149.0,17939.0,18459.0,18165.0,18177.0,18087.0,18453.0,18219.0,18170.0,16956.0,17502.0,17379.0,17510.0,17288.0,17758.0,17268.0,17160.0,17328.0,17384.0,17637.0,17684.0,16814.0,17258.0,17060.0,17221.0,16382.0,16814.0,17031.0,17038.0,16113.0,15967.0,13876.0,14249.0,15446.0,15602.0,15658.0,15206.0,14999.0,15166.0,15286.0,15306.0,14554.0,null],\"yaxis\":\"y\",\"type\":\"scatter\"},{\"hovertemplate\":\"variable=CSUSHPISA<br>Date=%{x}<br>value=%{y}<extra></extra>\",\"legendgroup\":\"CSUSHPISA\",\"line\":{\"color\":\"#EF553B\",\"dash\":\"solid\"},\"marker\":{\"symbol\":\"circle\"},\"mode\":\"lines\",\"name\":\"CSUSHPISA\",\"orientation\":\"v\",\"showlegend\":true,\"x\":[\"2003-01-01T00:00:00\",\"2003-04-01T00:00:00\",\"2003-07-01T00:00:00\",\"2003-10-01T00:00:00\",\"2004-01-01T00:00:00\",\"2004-04-01T00:00:00\",\"2004-07-01T00:00:00\",\"2004-10-01T00:00:00\",\"2005-01-01T00:00:00\",\"2005-04-01T00:00:00\",\"2005-07-01T00:00:00\",\"2005-10-01T00:00:00\",\"2006-01-01T00:00:00\",\"2006-04-01T00:00:00\",\"2006-07-01T00:00:00\",\"2006-10-01T00:00:00\",\"2007-01-01T00:00:00\",\"2007-04-01T00:00:00\",\"2007-07-01T00:00:00\",\"2007-10-01T00:00:00\",\"2008-01-01T00:00:00\",\"2008-04-01T00:00:00\",\"2008-07-01T00:00:00\",\"2008-10-01T00:00:00\",\"2009-01-01T00:00:00\",\"2009-04-01T00:00:00\",\"2009-07-01T00:00:00\",\"2009-10-01T00:00:00\",\"2010-01-01T00:00:00\",\"2010-04-01T00:00:00\",\"2010-07-01T00:00:00\",\"2010-10-01T00:00:00\",\"2011-01-01T00:00:00\",\"2011-04-01T00:00:00\",\"2011-07-01T00:00:00\",\"2011-10-01T00:00:00\",\"2012-01-01T00:00:00\",\"2012-04-01T00:00:00\",\"2012-07-01T00:00:00\",\"2012-10-01T00:00:00\",\"2013-01-01T00:00:00\",\"2013-04-01T00:00:00\",\"2013-07-01T00:00:00\",\"2013-10-01T00:00:00\",\"2014-01-01T00:00:00\",\"2014-04-01T00:00:00\",\"2014-07-01T00:00:00\",\"2014-10-01T00:00:00\",\"2015-01-01T00:00:00\",\"2015-04-01T00:00:00\",\"2015-07-01T00:00:00\",\"2015-10-01T00:00:00\",\"2016-01-01T00:00:00\",\"2016-04-01T00:00:00\",\"2016-07-01T00:00:00\",\"2016-10-01T00:00:00\",\"2017-01-01T00:00:00\",\"2017-04-01T00:00:00\",\"2017-07-01T00:00:00\",\"2017-10-01T00:00:00\",\"2018-01-01T00:00:00\",\"2018-04-01T00:00:00\",\"2018-07-01T00:00:00\",\"2018-10-01T00:00:00\",\"2019-01-01T00:00:00\",\"2019-04-01T00:00:00\",\"2019-07-01T00:00:00\",\"2019-10-01T00:00:00\",\"2020-01-01T00:00:00\",\"2020-04-01T00:00:00\",\"2020-07-01T00:00:00\",\"2020-10-01T00:00:00\",\"2021-01-01T00:00:00\",\"2021-04-01T00:00:00\",\"2021-07-01T00:00:00\",\"2021-10-01T00:00:00\",\"2022-01-01T00:00:00\",\"2022-04-01T00:00:00\",\"2022-07-01T00:00:00\",\"2022-10-01T00:00:00\",\"2023-01-01T00:00:00\"],\"xaxis\":\"x\",\"y\":[129.321,131.756,135.013,138.8356667,143.2986667,148.209,152.7166667,157.5353333,163.4813333,169.3473333,174.58,179.5393333,183.3243333,183.9973333,182.8193333,183.6493333,184.422,181.6213333,178.2613333,175.37,171.5756667,166.6723333,161.9543333,156.0286667,150.06,147.9113333,148.237,147.97,146.295,146.1713333,143.973,142.254,140.618,139.9243333,139.2346667,137.2596667,137.0143333,140.1133333,142.2863333,144.5626667,148.191,152.8543333,156.9313333,160.1023333,162.5143333,163.705,165.2326667,167.3446667,169.1906667,170.8803333,172.9643333,175.695,177.7003333,179.422,181.8356667,184.747,187.3716667,189.6213333,192.6373333,195.9763333,199.1546667,201.4513333,203.6866667,205.6396667,206.772,208.1416667,210.162,212.806,215.638,217.239,222.6413333,233.09,242.267,253.814,266.831,277.317,290.868,303.4226667,301.7263333,297.8966667,null],\"yaxis\":\"y\",\"type\":\"scatter\"},{\"hovertemplate\":\"variable=PERMIT<br>Date=%{x}<br>value=%{y}<extra></extra>\",\"legendgroup\":\"PERMIT\",\"line\":{\"color\":\"#00cc96\",\"dash\":\"solid\"},\"marker\":{\"symbol\":\"circle\"},\"mode\":\"lines\",\"name\":\"PERMIT\",\"orientation\":\"v\",\"showlegend\":true,\"x\":[\"2003-01-01T00:00:00\",\"2003-04-01T00:00:00\",\"2003-07-01T00:00:00\",\"2003-10-01T00:00:00\",\"2004-01-01T00:00:00\",\"2004-04-01T00:00:00\",\"2004-07-01T00:00:00\",\"2004-10-01T00:00:00\",\"2005-01-01T00:00:00\",\"2005-04-01T00:00:00\",\"2005-07-01T00:00:00\",\"2005-10-01T00:00:00\",\"2006-01-01T00:00:00\",\"2006-04-01T00:00:00\",\"2006-07-01T00:00:00\",\"2006-10-01T00:00:00\",\"2007-01-01T00:00:00\",\"2007-04-01T00:00:00\",\"2007-07-01T00:00:00\",\"2007-10-01T00:00:00\",\"2008-01-01T00:00:00\",\"2008-04-01T00:00:00\",\"2008-07-01T00:00:00\",\"2008-10-01T00:00:00\",\"2009-01-01T00:00:00\",\"2009-04-01T00:00:00\",\"2009-07-01T00:00:00\",\"2009-10-01T00:00:00\",\"2010-01-01T00:00:00\",\"2010-04-01T00:00:00\",\"2010-07-01T00:00:00\",\"2010-10-01T00:00:00\",\"2011-01-01T00:00:00\",\"2011-04-01T00:00:00\",\"2011-07-01T00:00:00\",\"2011-10-01T00:00:00\",\"2012-01-01T00:00:00\",\"2012-04-01T00:00:00\",\"2012-07-01T00:00:00\",\"2012-10-01T00:00:00\",\"2013-01-01T00:00:00\",\"2013-04-01T00:00:00\",\"2013-07-01T00:00:00\",\"2013-10-01T00:00:00\",\"2014-01-01T00:00:00\",\"2014-04-01T00:00:00\",\"2014-07-01T00:00:00\",\"2014-10-01T00:00:00\",\"2015-01-01T00:00:00\",\"2015-04-01T00:00:00\",\"2015-07-01T00:00:00\",\"2015-10-01T00:00:00\",\"2016-01-01T00:00:00\",\"2016-04-01T00:00:00\",\"2016-07-01T00:00:00\",\"2016-10-01T00:00:00\",\"2017-01-01T00:00:00\",\"2017-04-01T00:00:00\",\"2017-07-01T00:00:00\",\"2017-10-01T00:00:00\",\"2018-01-01T00:00:00\",\"2018-04-01T00:00:00\",\"2018-07-01T00:00:00\",\"2018-10-01T00:00:00\",\"2019-01-01T00:00:00\",\"2019-04-01T00:00:00\",\"2019-07-01T00:00:00\",\"2019-10-01T00:00:00\",\"2020-01-01T00:00:00\",\"2020-04-01T00:00:00\",\"2020-07-01T00:00:00\",\"2020-10-01T00:00:00\",\"2021-01-01T00:00:00\",\"2021-04-01T00:00:00\",\"2021-07-01T00:00:00\",\"2021-10-01T00:00:00\",\"2022-01-01T00:00:00\",\"2022-04-01T00:00:00\",\"2022-07-01T00:00:00\",\"2022-10-01T00:00:00\",\"2023-01-01T00:00:00\"],\"xaxis\":\"x\",\"y\":[1806.333333,1837.666667,1937.333333,1972.333333,1994.666667,2080.0,2069.666667,2086.0,2105.0,2137.666667,2228.333333,2169.333333,2157.0,1923.333333,1713.333333,1581.0,1606.666667,1456.666667,1314.333333,1188.333333,1025.0,1061.0,858.6666667,638.6666667,538.6666667,559.3333333,606.6666667,623.3333333,657.6666667,599.6666667,574.0,583.3333333,567.0,611.6666667,626.0,691.3333333,752.0,774.0,873.0,915.0,952.0,985.6666667,988.3333333,1026.0,1027.333333,1039.333333,1066.666667,1075.0,1082.666667,1272.333333,1149.666667,1205.0,1153.666667,1191.0,1234.0,1244.0,1268.666667,1265.666667,1289.0,1322.333333,1341.0,1344.666667,1315.333333,1311.333333,1282.333333,1312.333333,1455.333333,1507.0,1429.333333,1210.666667,1577.666667,1698.333333,1765.666667,1679.333333,1697.0,1816.666667,1864.0,1734.666667,1610.666667,1455.333333,null],\"yaxis\":\"y\",\"type\":\"scatter\"},{\"hovertemplate\":\"variable=GDP<br>Date=%{x}<br>value=%{y}<extra></extra>\",\"legendgroup\":\"GDP\",\"line\":{\"color\":\"#ab63fa\",\"dash\":\"solid\"},\"marker\":{\"symbol\":\"circle\"},\"mode\":\"lines\",\"name\":\"GDP\",\"orientation\":\"v\",\"showlegend\":true,\"x\":[\"2003-01-01T00:00:00\",\"2003-04-01T00:00:00\",\"2003-07-01T00:00:00\",\"2003-10-01T00:00:00\",\"2004-01-01T00:00:00\",\"2004-04-01T00:00:00\",\"2004-07-01T00:00:00\",\"2004-10-01T00:00:00\",\"2005-01-01T00:00:00\",\"2005-04-01T00:00:00\",\"2005-07-01T00:00:00\",\"2005-10-01T00:00:00\",\"2006-01-01T00:00:00\",\"2006-04-01T00:00:00\",\"2006-07-01T00:00:00\",\"2006-10-01T00:00:00\",\"2007-01-01T00:00:00\",\"2007-04-01T00:00:00\",\"2007-07-01T00:00:00\",\"2007-10-01T00:00:00\",\"2008-01-01T00:00:00\",\"2008-04-01T00:00:00\",\"2008-07-01T00:00:00\",\"2008-10-01T00:00:00\",\"2009-01-01T00:00:00\",\"2009-04-01T00:00:00\",\"2009-07-01T00:00:00\",\"2009-10-01T00:00:00\",\"2010-01-01T00:00:00\",\"2010-04-01T00:00:00\",\"2010-07-01T00:00:00\",\"2010-10-01T00:00:00\",\"2011-01-01T00:00:00\",\"2011-04-01T00:00:00\",\"2011-07-01T00:00:00\",\"2011-10-01T00:00:00\",\"2012-01-01T00:00:00\",\"2012-04-01T00:00:00\",\"2012-07-01T00:00:00\",\"2012-10-01T00:00:00\",\"2013-01-01T00:00:00\",\"2013-04-01T00:00:00\",\"2013-07-01T00:00:00\",\"2013-10-01T00:00:00\",\"2014-01-01T00:00:00\",\"2014-04-01T00:00:00\",\"2014-07-01T00:00:00\",\"2014-10-01T00:00:00\",\"2015-01-01T00:00:00\",\"2015-04-01T00:00:00\",\"2015-07-01T00:00:00\",\"2015-10-01T00:00:00\",\"2016-01-01T00:00:00\",\"2016-04-01T00:00:00\",\"2016-07-01T00:00:00\",\"2016-10-01T00:00:00\",\"2017-01-01T00:00:00\",\"2017-04-01T00:00:00\",\"2017-07-01T00:00:00\",\"2017-10-01T00:00:00\",\"2018-01-01T00:00:00\",\"2018-04-01T00:00:00\",\"2018-07-01T00:00:00\",\"2018-10-01T00:00:00\",\"2019-01-01T00:00:00\",\"2019-04-01T00:00:00\",\"2019-07-01T00:00:00\",\"2019-10-01T00:00:00\",\"2020-01-01T00:00:00\",\"2020-04-01T00:00:00\",\"2020-07-01T00:00:00\",\"2020-10-01T00:00:00\",\"2021-01-01T00:00:00\",\"2021-04-01T00:00:00\",\"2021-07-01T00:00:00\",\"2021-10-01T00:00:00\",\"2022-01-01T00:00:00\",\"2022-04-01T00:00:00\",\"2022-07-01T00:00:00\",\"2022-10-01T00:00:00\",\"2023-01-01T00:00:00\"],\"xaxis\":\"x\",\"y\":[11174.129,11312.766,11566.669,11772.234,11923.447,12112.815,12305.307,12527.214,12767.286,12922.656,13142.642,13324.204,13599.16,13753.424,13870.188,14039.56,14215.651,14402.082,14564.117,14715.058,14706.538,14865.701,14898.999,14608.208,14430.901,14381.236,14448.882,14651.248,14764.611,14980.193,15141.605,15309.471,15351.444,15557.535,15647.681,15842.267,16068.824,16207.13,16319.54,16420.386,16629.05,16699.551,16911.068,17133.114,17144.281,17462.703,17743.227,17852.54,17991.348,18193.707,18306.96,18332.079,18425.306,18611.617,18775.459,18968.041,19148.194,19304.506,19561.896,19894.75,20155.486,20470.197,20687.278,20819.269,21013.085,21272.448,21531.839,21706.532,21538.032,19636.731,21362.428,21704.706,22313.85,23046.934,23550.42,24349.121,24740.48,25248.476,25723.941,26137.992,26465.865],\"yaxis\":\"y\",\"type\":\"scatter\"}],                        {\"template\":{\"data\":{\"histogram2dcontour\":[{\"type\":\"histogram2dcontour\",\"colorbar\":{\"outlinewidth\":0,\"ticks\":\"\"},\"colorscale\":[[0.0,\"#0d0887\"],[0.1111111111111111,\"#46039f\"],[0.2222222222222222,\"#7201a8\"],[0.3333333333333333,\"#9c179e\"],[0.4444444444444444,\"#bd3786\"],[0.5555555555555556,\"#d8576b\"],[0.6666666666666666,\"#ed7953\"],[0.7777777777777778,\"#fb9f3a\"],[0.8888888888888888,\"#fdca26\"],[1.0,\"#f0f921\"]]}],\"choropleth\":[{\"type\":\"choropleth\",\"colorbar\":{\"outlinewidth\":0,\"ticks\":\"\"}}],\"histogram2d\":[{\"type\":\"histogram2d\",\"colorbar\":{\"outlinewidth\":0,\"ticks\":\"\"},\"colorscale\":[[0.0,\"#0d0887\"],[0.1111111111111111,\"#46039f\"],[0.2222222222222222,\"#7201a8\"],[0.3333333333333333,\"#9c179e\"],[0.4444444444444444,\"#bd3786\"],[0.5555555555555556,\"#d8576b\"],[0.6666666666666666,\"#ed7953\"],[0.7777777777777778,\"#fb9f3a\"],[0.8888888888888888,\"#fdca26\"],[1.0,\"#f0f921\"]]}],\"heatmap\":[{\"type\":\"heatmap\",\"colorbar\":{\"outlinewidth\":0,\"ticks\":\"\"},\"colorscale\":[[0.0,\"#0d0887\"],[0.1111111111111111,\"#46039f\"],[0.2222222222222222,\"#7201a8\"],[0.3333333333333333,\"#9c179e\"],[0.4444444444444444,\"#bd3786\"],[0.5555555555555556,\"#d8576b\"],[0.6666666666666666,\"#ed7953\"],[0.7777777777777778,\"#fb9f3a\"],[0.8888888888888888,\"#fdca26\"],[1.0,\"#f0f921\"]]}],\"heatmapgl\":[{\"type\":\"heatmapgl\",\"colorbar\":{\"outlinewidth\":0,\"ticks\":\"\"},\"colorscale\":[[0.0,\"#0d0887\"],[0.1111111111111111,\"#46039f\"],[0.2222222222222222,\"#7201a8\"],[0.3333333333333333,\"#9c179e\"],[0.4444444444444444,\"#bd3786\"],[0.5555555555555556,\"#d8576b\"],[0.6666666666666666,\"#ed7953\"],[0.7777777777777778,\"#fb9f3a\"],[0.8888888888888888,\"#fdca26\"],[1.0,\"#f0f921\"]]}],\"contourcarpet\":[{\"type\":\"contourcarpet\",\"colorbar\":{\"outlinewidth\":0,\"ticks\":\"\"}}],\"contour\":[{\"type\":\"contour\",\"colorbar\":{\"outlinewidth\":0,\"ticks\":\"\"},\"colorscale\":[[0.0,\"#0d0887\"],[0.1111111111111111,\"#46039f\"],[0.2222222222222222,\"#7201a8\"],[0.3333333333333333,\"#9c179e\"],[0.4444444444444444,\"#bd3786\"],[0.5555555555555556,\"#d8576b\"],[0.6666666666666666,\"#ed7953\"],[0.7777777777777778,\"#fb9f3a\"],[0.8888888888888888,\"#fdca26\"],[1.0,\"#f0f921\"]]}],\"surface\":[{\"type\":\"surface\",\"colorbar\":{\"outlinewidth\":0,\"ticks\":\"\"},\"colorscale\":[[0.0,\"#0d0887\"],[0.1111111111111111,\"#46039f\"],[0.2222222222222222,\"#7201a8\"],[0.3333333333333333,\"#9c179e\"],[0.4444444444444444,\"#bd3786\"],[0.5555555555555556,\"#d8576b\"],[0.6666666666666666,\"#ed7953\"],[0.7777777777777778,\"#fb9f3a\"],[0.8888888888888888,\"#fdca26\"],[1.0,\"#f0f921\"]]}],\"mesh3d\":[{\"type\":\"mesh3d\",\"colorbar\":{\"outlinewidth\":0,\"ticks\":\"\"}}],\"scatter\":[{\"fillpattern\":{\"fillmode\":\"overlay\",\"size\":10,\"solidity\":0.2},\"type\":\"scatter\"}],\"parcoords\":[{\"type\":\"parcoords\",\"line\":{\"colorbar\":{\"outlinewidth\":0,\"ticks\":\"\"}}}],\"scatterpolargl\":[{\"type\":\"scatterpolargl\",\"marker\":{\"colorbar\":{\"outlinewidth\":0,\"ticks\":\"\"}}}],\"bar\":[{\"error_x\":{\"color\":\"#2a3f5f\"},\"error_y\":{\"color\":\"#2a3f5f\"},\"marker\":{\"line\":{\"color\":\"#E5ECF6\",\"width\":0.5},\"pattern\":{\"fillmode\":\"overlay\",\"size\":10,\"solidity\":0.2}},\"type\":\"bar\"}],\"scattergeo\":[{\"type\":\"scattergeo\",\"marker\":{\"colorbar\":{\"outlinewidth\":0,\"ticks\":\"\"}}}],\"scatterpolar\":[{\"type\":\"scatterpolar\",\"marker\":{\"colorbar\":{\"outlinewidth\":0,\"ticks\":\"\"}}}],\"histogram\":[{\"marker\":{\"pattern\":{\"fillmode\":\"overlay\",\"size\":10,\"solidity\":0.2}},\"type\":\"histogram\"}],\"scattergl\":[{\"type\":\"scattergl\",\"marker\":{\"colorbar\":{\"outlinewidth\":0,\"ticks\":\"\"}}}],\"scatter3d\":[{\"type\":\"scatter3d\",\"line\":{\"colorbar\":{\"outlinewidth\":0,\"ticks\":\"\"}},\"marker\":{\"colorbar\":{\"outlinewidth\":0,\"ticks\":\"\"}}}],\"scattermapbox\":[{\"type\":\"scattermapbox\",\"marker\":{\"colorbar\":{\"outlinewidth\":0,\"ticks\":\"\"}}}],\"scatterternary\":[{\"type\":\"scatterternary\",\"marker\":{\"colorbar\":{\"outlinewidth\":0,\"ticks\":\"\"}}}],\"scattercarpet\":[{\"type\":\"scattercarpet\",\"marker\":{\"colorbar\":{\"outlinewidth\":0,\"ticks\":\"\"}}}],\"carpet\":[{\"aaxis\":{\"endlinecolor\":\"#2a3f5f\",\"gridcolor\":\"white\",\"linecolor\":\"white\",\"minorgridcolor\":\"white\",\"startlinecolor\":\"#2a3f5f\"},\"baxis\":{\"endlinecolor\":\"#2a3f5f\",\"gridcolor\":\"white\",\"linecolor\":\"white\",\"minorgridcolor\":\"white\",\"startlinecolor\":\"#2a3f5f\"},\"type\":\"carpet\"}],\"table\":[{\"cells\":{\"fill\":{\"color\":\"#EBF0F8\"},\"line\":{\"color\":\"white\"}},\"header\":{\"fill\":{\"color\":\"#C8D4E3\"},\"line\":{\"color\":\"white\"}},\"type\":\"table\"}],\"barpolar\":[{\"marker\":{\"line\":{\"color\":\"#E5ECF6\",\"width\":0.5},\"pattern\":{\"fillmode\":\"overlay\",\"size\":10,\"solidity\":0.2}},\"type\":\"barpolar\"}],\"pie\":[{\"automargin\":true,\"type\":\"pie\"}]},\"layout\":{\"autotypenumbers\":\"strict\",\"colorway\":[\"#636efa\",\"#EF553B\",\"#00cc96\",\"#ab63fa\",\"#FFA15A\",\"#19d3f3\",\"#FF6692\",\"#B6E880\",\"#FF97FF\",\"#FECB52\"],\"font\":{\"color\":\"#2a3f5f\"},\"hovermode\":\"closest\",\"hoverlabel\":{\"align\":\"left\"},\"paper_bgcolor\":\"white\",\"plot_bgcolor\":\"#E5ECF6\",\"polar\":{\"bgcolor\":\"#E5ECF6\",\"angularaxis\":{\"gridcolor\":\"white\",\"linecolor\":\"white\",\"ticks\":\"\"},\"radialaxis\":{\"gridcolor\":\"white\",\"linecolor\":\"white\",\"ticks\":\"\"}},\"ternary\":{\"bgcolor\":\"#E5ECF6\",\"aaxis\":{\"gridcolor\":\"white\",\"linecolor\":\"white\",\"ticks\":\"\"},\"baxis\":{\"gridcolor\":\"white\",\"linecolor\":\"white\",\"ticks\":\"\"},\"caxis\":{\"gridcolor\":\"white\",\"linecolor\":\"white\",\"ticks\":\"\"}},\"coloraxis\":{\"colorbar\":{\"outlinewidth\":0,\"ticks\":\"\"}},\"colorscale\":{\"sequential\":[[0.0,\"#0d0887\"],[0.1111111111111111,\"#46039f\"],[0.2222222222222222,\"#7201a8\"],[0.3333333333333333,\"#9c179e\"],[0.4444444444444444,\"#bd3786\"],[0.5555555555555556,\"#d8576b\"],[0.6666666666666666,\"#ed7953\"],[0.7777777777777778,\"#fb9f3a\"],[0.8888888888888888,\"#fdca26\"],[1.0,\"#f0f921\"]],\"sequentialminus\":[[0.0,\"#0d0887\"],[0.1111111111111111,\"#46039f\"],[0.2222222222222222,\"#7201a8\"],[0.3333333333333333,\"#9c179e\"],[0.4444444444444444,\"#bd3786\"],[0.5555555555555556,\"#d8576b\"],[0.6666666666666666,\"#ed7953\"],[0.7777777777777778,\"#fb9f3a\"],[0.8888888888888888,\"#fdca26\"],[1.0,\"#f0f921\"]],\"diverging\":[[0,\"#8e0152\"],[0.1,\"#c51b7d\"],[0.2,\"#de77ae\"],[0.3,\"#f1b6da\"],[0.4,\"#fde0ef\"],[0.5,\"#f7f7f7\"],[0.6,\"#e6f5d0\"],[0.7,\"#b8e186\"],[0.8,\"#7fbc41\"],[0.9,\"#4d9221\"],[1,\"#276419\"]]},\"xaxis\":{\"gridcolor\":\"white\",\"linecolor\":\"white\",\"ticks\":\"\",\"title\":{\"standoff\":15},\"zerolinecolor\":\"white\",\"automargin\":true,\"zerolinewidth\":2},\"yaxis\":{\"gridcolor\":\"white\",\"linecolor\":\"white\",\"ticks\":\"\",\"title\":{\"standoff\":15},\"zerolinecolor\":\"white\",\"automargin\":true,\"zerolinewidth\":2},\"scene\":{\"xaxis\":{\"backgroundcolor\":\"#E5ECF6\",\"gridcolor\":\"white\",\"linecolor\":\"white\",\"showbackground\":true,\"ticks\":\"\",\"zerolinecolor\":\"white\",\"gridwidth\":2},\"yaxis\":{\"backgroundcolor\":\"#E5ECF6\",\"gridcolor\":\"white\",\"linecolor\":\"white\",\"showbackground\":true,\"ticks\":\"\",\"zerolinecolor\":\"white\",\"gridwidth\":2},\"zaxis\":{\"backgroundcolor\":\"#E5ECF6\",\"gridcolor\":\"white\",\"linecolor\":\"white\",\"showbackground\":true,\"ticks\":\"\",\"zerolinecolor\":\"white\",\"gridwidth\":2}},\"shapedefaults\":{\"line\":{\"color\":\"#2a3f5f\"}},\"annotationdefaults\":{\"arrowcolor\":\"#2a3f5f\",\"arrowhead\":0,\"arrowwidth\":1},\"geo\":{\"bgcolor\":\"white\",\"landcolor\":\"#E5ECF6\",\"subunitcolor\":\"white\",\"showland\":true,\"showlakes\":true,\"lakecolor\":\"white\"},\"title\":{\"x\":0.05},\"mapbox\":{\"style\":\"light\"}}},\"xaxis\":{\"anchor\":\"y\",\"domain\":[0.0,1.0],\"title\":{\"text\":\"Date\"}},\"yaxis\":{\"anchor\":\"x\",\"domain\":[0.0,1.0],\"title\":{\"text\":\"value\"}},\"legend\":{\"title\":{\"text\":\"variable\"},\"tracegroupgap\":0},\"title\":{\"text\":\"Cross Comparison of affects of permits issued, Inventory and Gdp\"}},                        {\"responsive\": true}                    ).then(function(){\n",
              "                            \n",
              "var gd = document.getElementById('2942f5f8-061f-44f5-8dcb-889d824da063');\n",
              "var x = new MutationObserver(function (mutations, observer) {{\n",
              "        var display = window.getComputedStyle(gd).display;\n",
              "        if (!display || display === 'none') {{\n",
              "            console.log([gd, 'removed!']);\n",
              "            Plotly.purge(gd);\n",
              "            observer.disconnect();\n",
              "        }}\n",
              "}});\n",
              "\n",
              "// Listen for the removal of the full notebook cells\n",
              "var notebookContainer = gd.closest('#notebook-container');\n",
              "if (notebookContainer) {{\n",
              "    x.observe(notebookContainer, {childList: true});\n",
              "}}\n",
              "\n",
              "// Listen for the clearing of the current output cell\n",
              "var outputEl = gd.closest('.output');\n",
              "if (outputEl) {{\n",
              "    x.observe(outputEl, {childList: true});\n",
              "}}\n",
              "\n",
              "                        })                };                            </script>        </div>\n",
              "</body>\n",
              "</html>"
            ]
          },
          "metadata": {}
        }
      ]
    },
    {
      "cell_type": "code",
      "source": [
        "merged_df = merged_df.fillna(value=np.nan)"
      ],
      "metadata": {
        "id": "7IXaxzwC1DGa"
      },
      "execution_count": 238,
      "outputs": []
    },
    {
      "cell_type": "code",
      "source": [
        "new_correlation = merged_df.corr()"
      ],
      "metadata": {
        "colab": {
          "base_uri": "https://localhost:8080/"
        },
        "id": "GzzFmjvZ0Zn1",
        "outputId": "1cf27633-9b93-4cee-8d5f-9ed7b76696e8"
      },
      "execution_count": 239,
      "outputs": [
        {
          "output_type": "stream",
          "name": "stderr",
          "text": [
            "<ipython-input-239-d3c59c958a6e>:1: FutureWarning:\n",
            "\n",
            "The default value of numeric_only in DataFrame.corr is deprecated. In a future version, it will default to False. Select only valid columns or specify the value of numeric_only to silence this warning.\n",
            "\n"
          ]
        }
      ]
    },
    {
      "cell_type": "code",
      "source": [
        "sns.heatmap(new_correlation)"
      ],
      "metadata": {
        "colab": {
          "base_uri": "https://localhost:8080/",
          "height": 553
        },
        "id": "_mF_xSiW0cxd",
        "outputId": "0676425e-6a84-408d-f816-b1ec804d91a8"
      },
      "execution_count": 240,
      "outputs": [
        {
          "output_type": "execute_result",
          "data": {
            "text/plain": [
              "<Axes: >"
            ]
          },
          "metadata": {},
          "execution_count": 240
        },
        {
          "output_type": "display_data",
          "data": {
            "text/plain": [
              "<Figure size 640x480 with 2 Axes>"
            ],
            "image/png": "[encoded data removed]"
          },
          "metadata": {}
        }
      ]
    },
    {
      "cell_type": "code",
      "source": [
        "px.bar(merged_df,\n",
        "       x='Date',\n",
        "       y=['MedianSalePrice','GDP'])"
      ],
      "metadata": {
        "colab": {
          "base_uri": "https://localhost:8080/",
          "height": 542
        },
        "id": "csYLnY481PiV",
        "outputId": "7d7cbf6b-e3a4-440a-b8e5-0e0ec7c6366a"
      },
      "execution_count": 241,
      "outputs": [
        {
          "output_type": "display_data",
          "data": {
            "text/html": [
              "<html>\n",
              "<head><meta charset=\"utf-8\" /></head>\n",
              "<body>\n",
              "    <div>            <script src=\"https://cdnjs.cloudflare.com/ajax/libs/mathjax/2.7.5/MathJax.js?config=TeX-AMS-MML_SVG\"></script><script type=\"text/javascript\">if (window.MathJax && window.MathJax.Hub && window.MathJax.Hub.Config) {window.MathJax.Hub.Config({SVG: {font: \"STIX-Web\"}});}</script>                <script type=\"text/javascript\">window.PlotlyConfig = {MathJaxConfig: 'local'};</script>\n",
              "        <script charset=\"utf-8\" src=\"https://cdn.plot.ly/plotly-2.20.0.min.js\"></script>                <div id=\"f0feb83d-c87e-4706-b78c-244c4791e5cb\" class=\"plotly-graph-div\" style=\"height:525px; width:100%;\"></div>            <script type=\"text/javascript\">                                    window.PLOTLYENV=window.PLOTLYENV || {};                                    if (document.getElementById(\"f0feb83d-c87e-4706-b78c-244c4791e5cb\")) {                    Plotly.newPlot(                        \"f0feb83d-c87e-4706-b78c-244c4791e5cb\",                        [{\"alignmentgroup\":\"True\",\"hovertemplate\":\"variable=MedianSalePrice<br>Date=%{x}<br>value=%{y}<extra></extra>\",\"legendgroup\":\"MedianSalePrice\",\"marker\":{\"color\":\"#636efa\",\"pattern\":{\"shape\":\"\"}},\"name\":\"MedianSalePrice\",\"offsetgroup\":\"MedianSalePrice\",\"orientation\":\"v\",\"showlegend\":true,\"textposition\":\"auto\",\"x\":[\"2003-01-01T00:00:00\",\"2003-04-01T00:00:00\",\"2003-07-01T00:00:00\",\"2003-10-01T00:00:00\",\"2004-01-01T00:00:00\",\"2004-04-01T00:00:00\",\"2004-07-01T00:00:00\",\"2004-10-01T00:00:00\",\"2005-01-01T00:00:00\",\"2005-04-01T00:00:00\",\"2005-07-01T00:00:00\",\"2005-10-01T00:00:00\",\"2006-01-01T00:00:00\",\"2006-04-01T00:00:00\",\"2006-07-01T00:00:00\",\"2006-10-01T00:00:00\",\"2007-01-01T00:00:00\",\"2007-04-01T00:00:00\",\"2007-07-01T00:00:00\",\"2007-10-01T00:00:00\",\"2008-01-01T00:00:00\",\"2008-04-01T00:00:00\",\"2008-07-01T00:00:00\",\"2008-10-01T00:00:00\",\"2009-01-01T00:00:00\",\"2009-04-01T00:00:00\",\"2009-07-01T00:00:00\",\"2009-10-01T00:00:00\",\"2010-01-01T00:00:00\",\"2010-04-01T00:00:00\",\"2010-07-01T00:00:00\",\"2010-10-01T00:00:00\",\"2011-01-01T00:00:00\",\"2011-04-01T00:00:00\",\"2011-07-01T00:00:00\",\"2011-10-01T00:00:00\",\"2012-01-01T00:00:00\",\"2012-04-01T00:00:00\",\"2012-07-01T00:00:00\",\"2012-10-01T00:00:00\",\"2013-01-01T00:00:00\",\"2013-04-01T00:00:00\",\"2013-07-01T00:00:00\",\"2013-10-01T00:00:00\",\"2014-01-01T00:00:00\",\"2014-04-01T00:00:00\",\"2014-07-01T00:00:00\",\"2014-10-01T00:00:00\",\"2015-01-01T00:00:00\",\"2015-04-01T00:00:00\",\"2015-07-01T00:00:00\",\"2015-10-01T00:00:00\",\"2016-01-01T00:00:00\",\"2016-04-01T00:00:00\",\"2016-07-01T00:00:00\",\"2016-10-01T00:00:00\",\"2017-01-01T00:00:00\",\"2017-04-01T00:00:00\",\"2017-07-01T00:00:00\",\"2017-10-01T00:00:00\",\"2018-01-01T00:00:00\",\"2018-04-01T00:00:00\",\"2018-07-01T00:00:00\",\"2018-10-01T00:00:00\",\"2019-01-01T00:00:00\",\"2019-04-01T00:00:00\",\"2019-07-01T00:00:00\",\"2019-10-01T00:00:00\",\"2020-01-01T00:00:00\",\"2020-04-01T00:00:00\",\"2020-07-01T00:00:00\",\"2020-10-01T00:00:00\",\"2021-01-01T00:00:00\",\"2021-04-01T00:00:00\",\"2021-07-01T00:00:00\",\"2021-10-01T00:00:00\",\"2022-01-01T00:00:00\",\"2022-04-01T00:00:00\",\"2022-07-01T00:00:00\",\"2022-10-01T00:00:00\",\"2023-01-01T00:00:00\"],\"xaxis\":\"x\",\"y\":[186000.0,191800.0,191900.0,198800.0,212700.0,217600.0,213500.0,228800.0,232500.0,233700.0,236400.0,243600.0,247700.0,246300.0,235600.0,245400.0,257400.0,242200.0,241800.0,238400.0,233900.0,235300.0,226500.0,222500.0,208400.0,220900.0,214300.0,219000.0,222900.0,219500.0,224100.0,224300.0,226900.0,228100.0,223500.0,221100.0,238400.0,238700.0,248800.0,251700.0,258400.0,268100.0,264800.0,273600.0,275200.0,288000.0,281000.0,298900.0,289200.0,289100.0,295800.0,302500.0,299800.0,306000.0,303800.0,310900.0,313100.0,318200.0,320500.0,337900.0,331800.0,315600.0,330900.0,322800.0,313000.0,322500.0,318400.0,327100.0,329000.0,322600.0,337500.0,358700.0,369800.0,382600.0,411200.0,423600.0,433100.0,449300.0,468000.0,479500.0,436800.0],\"yaxis\":\"y\",\"type\":\"bar\"},{\"alignmentgroup\":\"True\",\"hovertemplate\":\"variable=GDP<br>Date=%{x}<br>value=%{y}<extra></extra>\",\"legendgroup\":\"GDP\",\"marker\":{\"color\":\"#EF553B\",\"pattern\":{\"shape\":\"\"}},\"name\":\"GDP\",\"offsetgroup\":\"GDP\",\"orientation\":\"v\",\"showlegend\":true,\"textposition\":\"auto\",\"x\":[\"2003-01-01T00:00:00\",\"2003-04-01T00:00:00\",\"2003-07-01T00:00:00\",\"2003-10-01T00:00:00\",\"2004-01-01T00:00:00\",\"2004-04-01T00:00:00\",\"2004-07-01T00:00:00\",\"2004-10-01T00:00:00\",\"2005-01-01T00:00:00\",\"2005-04-01T00:00:00\",\"2005-07-01T00:00:00\",\"2005-10-01T00:00:00\",\"2006-01-01T00:00:00\",\"2006-04-01T00:00:00\",\"2006-07-01T00:00:00\",\"2006-10-01T00:00:00\",\"2007-01-01T00:00:00\",\"2007-04-01T00:00:00\",\"2007-07-01T00:00:00\",\"2007-10-01T00:00:00\",\"2008-01-01T00:00:00\",\"2008-04-01T00:00:00\",\"2008-07-01T00:00:00\",\"2008-10-01T00:00:00\",\"2009-01-01T00:00:00\",\"2009-04-01T00:00:00\",\"2009-07-01T00:00:00\",\"2009-10-01T00:00:00\",\"2010-01-01T00:00:00\",\"2010-04-01T00:00:00\",\"2010-07-01T00:00:00\",\"2010-10-01T00:00:00\",\"2011-01-01T00:00:00\",\"2011-04-01T00:00:00\",\"2011-07-01T00:00:00\",\"2011-10-01T00:00:00\",\"2012-01-01T00:00:00\",\"2012-04-01T00:00:00\",\"2012-07-01T00:00:00\",\"2012-10-01T00:00:00\",\"2013-01-01T00:00:00\",\"2013-04-01T00:00:00\",\"2013-07-01T00:00:00\",\"2013-10-01T00:00:00\",\"2014-01-01T00:00:00\",\"2014-04-01T00:00:00\",\"2014-07-01T00:00:00\",\"2014-10-01T00:00:00\",\"2015-01-01T00:00:00\",\"2015-04-01T00:00:00\",\"2015-07-01T00:00:00\",\"2015-10-01T00:00:00\",\"2016-01-01T00:00:00\",\"2016-04-01T00:00:00\",\"2016-07-01T00:00:00\",\"2016-10-01T00:00:00\",\"2017-01-01T00:00:00\",\"2017-04-01T00:00:00\",\"2017-07-01T00:00:00\",\"2017-10-01T00:00:00\",\"2018-01-01T00:00:00\",\"2018-04-01T00:00:00\",\"2018-07-01T00:00:00\",\"2018-10-01T00:00:00\",\"2019-01-01T00:00:00\",\"2019-04-01T00:00:00\",\"2019-07-01T00:00:00\",\"2019-10-01T00:00:00\",\"2020-01-01T00:00:00\",\"2020-04-01T00:00:00\",\"2020-07-01T00:00:00\",\"2020-10-01T00:00:00\",\"2021-01-01T00:00:00\",\"2021-04-01T00:00:00\",\"2021-07-01T00:00:00\",\"2021-10-01T00:00:00\",\"2022-01-01T00:00:00\",\"2022-04-01T00:00:00\",\"2022-07-01T00:00:00\",\"2022-10-01T00:00:00\",\"2023-01-01T00:00:00\"],\"xaxis\":\"x\",\"y\":[11174.129,11312.766,11566.669,11772.234,11923.447,12112.815,12305.307,12527.214,12767.286,12922.656,13142.642,13324.204,13599.16,13753.424,13870.188,14039.56,14215.651,14402.082,14564.117,14715.058,14706.538,14865.701,14898.999,14608.208,14430.901,14381.236,14448.882,14651.248,14764.611,14980.193,15141.605,15309.471,15351.444,15557.535,15647.681,15842.267,16068.824,16207.13,16319.54,16420.386,16629.05,16699.551,16911.068,17133.114,17144.281,17462.703,17743.227,17852.54,17991.348,18193.707,18306.96,18332.079,18425.306,18611.617,18775.459,18968.041,19148.194,19304.506,19561.896,19894.75,20155.486,20470.197,20687.278,20819.269,21013.085,21272.448,21531.839,21706.532,21538.032,19636.731,21362.428,21704.706,22313.85,23046.934,23550.42,24349.121,24740.48,25248.476,25723.941,26137.992,26465.865],\"yaxis\":\"y\",\"type\":\"bar\"}],                        {\"template\":{\"data\":{\"histogram2dcontour\":[{\"type\":\"histogram2dcontour\",\"colorbar\":{\"outlinewidth\":0,\"ticks\":\"\"},\"colorscale\":[[0.0,\"#0d0887\"],[0.1111111111111111,\"#46039f\"],[0.2222222222222222,\"#7201a8\"],[0.3333333333333333,\"#9c179e\"],[0.4444444444444444,\"#bd3786\"],[0.5555555555555556,\"#d8576b\"],[0.6666666666666666,\"#ed7953\"],[0.7777777777777778,\"#fb9f3a\"],[0.8888888888888888,\"#fdca26\"],[1.0,\"#f0f921\"]]}],\"choropleth\":[{\"type\":\"choropleth\",\"colorbar\":{\"outlinewidth\":0,\"ticks\":\"\"}}],\"histogram2d\":[{\"type\":\"histogram2d\",\"colorbar\":{\"outlinewidth\":0,\"ticks\":\"\"},\"colorscale\":[[0.0,\"#0d0887\"],[0.1111111111111111,\"#46039f\"],[0.2222222222222222,\"#7201a8\"],[0.3333333333333333,\"#9c179e\"],[0.4444444444444444,\"#bd3786\"],[0.5555555555555556,\"#d8576b\"],[0.6666666666666666,\"#ed7953\"],[0.7777777777777778,\"#fb9f3a\"],[0.8888888888888888,\"#fdca26\"],[1.0,\"#f0f921\"]]}],\"heatmap\":[{\"type\":\"heatmap\",\"colorbar\":{\"outlinewidth\":0,\"ticks\":\"\"},\"colorscale\":[[0.0,\"#0d0887\"],[0.1111111111111111,\"#46039f\"],[0.2222222222222222,\"#7201a8\"],[0.3333333333333333,\"#9c179e\"],[0.4444444444444444,\"#bd3786\"],[0.5555555555555556,\"#d8576b\"],[0.6666666666666666,\"#ed7953\"],[0.7777777777777778,\"#fb9f3a\"],[0.8888888888888888,\"#fdca26\"],[1.0,\"#f0f921\"]]}],\"heatmapgl\":[{\"type\":\"heatmapgl\",\"colorbar\":{\"outlinewidth\":0,\"ticks\":\"\"},\"colorscale\":[[0.0,\"#0d0887\"],[0.1111111111111111,\"#46039f\"],[0.2222222222222222,\"#7201a8\"],[0.3333333333333333,\"#9c179e\"],[0.4444444444444444,\"#bd3786\"],[0.5555555555555556,\"#d8576b\"],[0.6666666666666666,\"#ed7953\"],[0.7777777777777778,\"#fb9f3a\"],[0.8888888888888888,\"#fdca26\"],[1.0,\"#f0f921\"]]}],\"contourcarpet\":[{\"type\":\"contourcarpet\",\"colorbar\":{\"outlinewidth\":0,\"ticks\":\"\"}}],\"contour\":[{\"type\":\"contour\",\"colorbar\":{\"outlinewidth\":0,\"ticks\":\"\"},\"colorscale\":[[0.0,\"#0d0887\"],[0.1111111111111111,\"#46039f\"],[0.2222222222222222,\"#7201a8\"],[0.3333333333333333,\"#9c179e\"],[0.4444444444444444,\"#bd3786\"],[0.5555555555555556,\"#d8576b\"],[0.6666666666666666,\"#ed7953\"],[0.7777777777777778,\"#fb9f3a\"],[0.8888888888888888,\"#fdca26\"],[1.0,\"#f0f921\"]]}],\"surface\":[{\"type\":\"surface\",\"colorbar\":{\"outlinewidth\":0,\"ticks\":\"\"},\"colorscale\":[[0.0,\"#0d0887\"],[0.1111111111111111,\"#46039f\"],[0.2222222222222222,\"#7201a8\"],[0.3333333333333333,\"#9c179e\"],[0.4444444444444444,\"#bd3786\"],[0.5555555555555556,\"#d8576b\"],[0.6666666666666666,\"#ed7953\"],[0.7777777777777778,\"#fb9f3a\"],[0.8888888888888888,\"#fdca26\"],[1.0,\"#f0f921\"]]}],\"mesh3d\":[{\"type\":\"mesh3d\",\"colorbar\":{\"outlinewidth\":0,\"ticks\":\"\"}}],\"scatter\":[{\"fillpattern\":{\"fillmode\":\"overlay\",\"size\":10,\"solidity\":0.2},\"type\":\"scatter\"}],\"parcoords\":[{\"type\":\"parcoords\",\"line\":{\"colorbar\":{\"outlinewidth\":0,\"ticks\":\"\"}}}],\"scatterpolargl\":[{\"type\":\"scatterpolargl\",\"marker\":{\"colorbar\":{\"outlinewidth\":0,\"ticks\":\"\"}}}],\"bar\":[{\"error_x\":{\"color\":\"#2a3f5f\"},\"error_y\":{\"color\":\"#2a3f5f\"},\"marker\":{\"line\":{\"color\":\"#E5ECF6\",\"width\":0.5},\"pattern\":{\"fillmode\":\"overlay\",\"size\":10,\"solidity\":0.2}},\"type\":\"bar\"}],\"scattergeo\":[{\"type\":\"scattergeo\",\"marker\":{\"colorbar\":{\"outlinewidth\":0,\"ticks\":\"\"}}}],\"scatterpolar\":[{\"type\":\"scatterpolar\",\"marker\":{\"colorbar\":{\"outlinewidth\":0,\"ticks\":\"\"}}}],\"histogram\":[{\"marker\":{\"pattern\":{\"fillmode\":\"overlay\",\"size\":10,\"solidity\":0.2}},\"type\":\"histogram\"}],\"scattergl\":[{\"type\":\"scattergl\",\"marker\":{\"colorbar\":{\"outlinewidth\":0,\"ticks\":\"\"}}}],\"scatter3d\":[{\"type\":\"scatter3d\",\"line\":{\"colorbar\":{\"outlinewidth\":0,\"ticks\":\"\"}},\"marker\":{\"colorbar\":{\"outlinewidth\":0,\"ticks\":\"\"}}}],\"scattermapbox\":[{\"type\":\"scattermapbox\",\"marker\":{\"colorbar\":{\"outlinewidth\":0,\"ticks\":\"\"}}}],\"scatterternary\":[{\"type\":\"scatterternary\",\"marker\":{\"colorbar\":{\"outlinewidth\":0,\"ticks\":\"\"}}}],\"scattercarpet\":[{\"type\":\"scattercarpet\",\"marker\":{\"colorbar\":{\"outlinewidth\":0,\"ticks\":\"\"}}}],\"carpet\":[{\"aaxis\":{\"endlinecolor\":\"#2a3f5f\",\"gridcolor\":\"white\",\"linecolor\":\"white\",\"minorgridcolor\":\"white\",\"startlinecolor\":\"#2a3f5f\"},\"baxis\":{\"endlinecolor\":\"#2a3f5f\",\"gridcolor\":\"white\",\"linecolor\":\"white\",\"minorgridcolor\":\"white\",\"startlinecolor\":\"#2a3f5f\"},\"type\":\"carpet\"}],\"table\":[{\"cells\":{\"fill\":{\"color\":\"#EBF0F8\"},\"line\":{\"color\":\"white\"}},\"header\":{\"fill\":{\"color\":\"#C8D4E3\"},\"line\":{\"color\":\"white\"}},\"type\":\"table\"}],\"barpolar\":[{\"marker\":{\"line\":{\"color\":\"#E5ECF6\",\"width\":0.5},\"pattern\":{\"fillmode\":\"overlay\",\"size\":10,\"solidity\":0.2}},\"type\":\"barpolar\"}],\"pie\":[{\"automargin\":true,\"type\":\"pie\"}]},\"layout\":{\"autotypenumbers\":\"strict\",\"colorway\":[\"#636efa\",\"#EF553B\",\"#00cc96\",\"#ab63fa\",\"#FFA15A\",\"#19d3f3\",\"#FF6692\",\"#B6E880\",\"#FF97FF\",\"#FECB52\"],\"font\":{\"color\":\"#2a3f5f\"},\"hovermode\":\"closest\",\"hoverlabel\":{\"align\":\"left\"},\"paper_bgcolor\":\"white\",\"plot_bgcolor\":\"#E5ECF6\",\"polar\":{\"bgcolor\":\"#E5ECF6\",\"angularaxis\":{\"gridcolor\":\"white\",\"linecolor\":\"white\",\"ticks\":\"\"},\"radialaxis\":{\"gridcolor\":\"white\",\"linecolor\":\"white\",\"ticks\":\"\"}},\"ternary\":{\"bgcolor\":\"#E5ECF6\",\"aaxis\":{\"gridcolor\":\"white\",\"linecolor\":\"white\",\"ticks\":\"\"},\"baxis\":{\"gridcolor\":\"white\",\"linecolor\":\"white\",\"ticks\":\"\"},\"caxis\":{\"gridcolor\":\"white\",\"linecolor\":\"white\",\"ticks\":\"\"}},\"coloraxis\":{\"colorbar\":{\"outlinewidth\":0,\"ticks\":\"\"}},\"colorscale\":{\"sequential\":[[0.0,\"#0d0887\"],[0.1111111111111111,\"#46039f\"],[0.2222222222222222,\"#7201a8\"],[0.3333333333333333,\"#9c179e\"],[0.4444444444444444,\"#bd3786\"],[0.5555555555555556,\"#d8576b\"],[0.6666666666666666,\"#ed7953\"],[0.7777777777777778,\"#fb9f3a\"],[0.8888888888888888,\"#fdca26\"],[1.0,\"#f0f921\"]],\"sequentialminus\":[[0.0,\"#0d0887\"],[0.1111111111111111,\"#46039f\"],[0.2222222222222222,\"#7201a8\"],[0.3333333333333333,\"#9c179e\"],[0.4444444444444444,\"#bd3786\"],[0.5555555555555556,\"#d8576b\"],[0.6666666666666666,\"#ed7953\"],[0.7777777777777778,\"#fb9f3a\"],[0.8888888888888888,\"#fdca26\"],[1.0,\"#f0f921\"]],\"diverging\":[[0,\"#8e0152\"],[0.1,\"#c51b7d\"],[0.2,\"#de77ae\"],[0.3,\"#f1b6da\"],[0.4,\"#fde0ef\"],[0.5,\"#f7f7f7\"],[0.6,\"#e6f5d0\"],[0.7,\"#b8e186\"],[0.8,\"#7fbc41\"],[0.9,\"#4d9221\"],[1,\"#276419\"]]},\"xaxis\":{\"gridcolor\":\"white\",\"linecolor\":\"white\",\"ticks\":\"\",\"title\":{\"standoff\":15},\"zerolinecolor\":\"white\",\"automargin\":true,\"zerolinewidth\":2},\"yaxis\":{\"gridcolor\":\"white\",\"linecolor\":\"white\",\"ticks\":\"\",\"title\":{\"standoff\":15},\"zerolinecolor\":\"white\",\"automargin\":true,\"zerolinewidth\":2},\"scene\":{\"xaxis\":{\"backgroundcolor\":\"#E5ECF6\",\"gridcolor\":\"white\",\"linecolor\":\"white\",\"showbackground\":true,\"ticks\":\"\",\"zerolinecolor\":\"white\",\"gridwidth\":2},\"yaxis\":{\"backgroundcolor\":\"#E5ECF6\",\"gridcolor\":\"white\",\"linecolor\":\"white\",\"showbackground\":true,\"ticks\":\"\",\"zerolinecolor\":\"white\",\"gridwidth\":2},\"zaxis\":{\"backgroundcolor\":\"#E5ECF6\",\"gridcolor\":\"white\",\"linecolor\":\"white\",\"showbackground\":true,\"ticks\":\"\",\"zerolinecolor\":\"white\",\"gridwidth\":2}},\"shapedefaults\":{\"line\":{\"color\":\"#2a3f5f\"}},\"annotationdefaults\":{\"arrowcolor\":\"#2a3f5f\",\"arrowhead\":0,\"arrowwidth\":1},\"geo\":{\"bgcolor\":\"white\",\"landcolor\":\"#E5ECF6\",\"subunitcolor\":\"white\",\"showland\":true,\"showlakes\":true,\"lakecolor\":\"white\"},\"title\":{\"x\":0.05},\"mapbox\":{\"style\":\"light\"}}},\"xaxis\":{\"anchor\":\"y\",\"domain\":[0.0,1.0],\"title\":{\"text\":\"Date\"}},\"yaxis\":{\"anchor\":\"x\",\"domain\":[0.0,1.0],\"title\":{\"text\":\"value\"}},\"legend\":{\"title\":{\"text\":\"variable\"},\"tracegroupgap\":0},\"margin\":{\"t\":60},\"barmode\":\"relative\"},                        {\"responsive\": true}                    ).then(function(){\n",
              "                            \n",
              "var gd = document.getElementById('f0feb83d-c87e-4706-b78c-244c4791e5cb');\n",
              "var x = new MutationObserver(function (mutations, observer) {{\n",
              "        var display = window.getComputedStyle(gd).display;\n",
              "        if (!display || display === 'none') {{\n",
              "            console.log([gd, 'removed!']);\n",
              "            Plotly.purge(gd);\n",
              "            observer.disconnect();\n",
              "        }}\n",
              "}});\n",
              "\n",
              "// Listen for the removal of the full notebook cells\n",
              "var notebookContainer = gd.closest('#notebook-container');\n",
              "if (notebookContainer) {{\n",
              "    x.observe(notebookContainer, {childList: true});\n",
              "}}\n",
              "\n",
              "// Listen for the clearing of the current output cell\n",
              "var outputEl = gd.closest('.output');\n",
              "if (outputEl) {{\n",
              "    x.observe(outputEl, {childList: true});\n",
              "}}\n",
              "\n",
              "                        })                };                            </script>        </div>\n",
              "</body>\n",
              "</html>"
            ]
          },
          "metadata": {}
        }
      ]
    },
    {
      "cell_type": "code",
      "source": [
        "px.histogram(merged_df,\n",
        "             x='Inventory',\n",
        "             y='MonthlySupply')"
      ],
      "metadata": {
        "colab": {
          "base_uri": "https://localhost:8080/",
          "height": 542
        },
        "id": "U9gBsPyj2_Cd",
        "outputId": "5584dc43-df10-49a9-94a4-d62e7484bf03"
      },
      "execution_count": 242,
      "outputs": [
        {
          "output_type": "display_data",
          "data": {
            "text/html": [
              "<html>\n",
              "<head><meta charset=\"utf-8\" /></head>\n",
              "<body>\n",
              "    <div>            <script src=\"https://cdnjs.cloudflare.com/ajax/libs/mathjax/2.7.5/MathJax.js?config=TeX-AMS-MML_SVG\"></script><script type=\"text/javascript\">if (window.MathJax && window.MathJax.Hub && window.MathJax.Hub.Config) {window.MathJax.Hub.Config({SVG: {font: \"STIX-Web\"}});}</script>                <script type=\"text/javascript\">window.PlotlyConfig = {MathJaxConfig: 'local'};</script>\n",
              "        <script charset=\"utf-8\" src=\"https://cdn.plot.ly/plotly-2.20.0.min.js\"></script>                <div id=\"ba454c13-4b1d-4329-aae1-576c2dae6ef1\" class=\"plotly-graph-div\" style=\"height:525px; width:100%;\"></div>            <script type=\"text/javascript\">                                    window.PLOTLYENV=window.PLOTLYENV || {};                                    if (document.getElementById(\"ba454c13-4b1d-4329-aae1-576c2dae6ef1\")) {                    Plotly.newPlot(                        \"ba454c13-4b1d-4329-aae1-576c2dae6ef1\",                        [{\"alignmentgroup\":\"True\",\"bingroup\":\"x\",\"histfunc\":\"sum\",\"hovertemplate\":\"Inventory=%{x}<br>sum of MonthlySupply=%{y}<extra></extra>\",\"legendgroup\":\"\",\"marker\":{\"color\":\"#636efa\",\"pattern\":{\"shape\":\"\"}},\"name\":\"\",\"offsetgroup\":\"\",\"orientation\":\"v\",\"showlegend\":false,\"x\":[14908.0,15244.0,15614.0,15654.0,15895.0,16079.0,15656.0,15361.0,15748.0,16061.0,15883.0,15823.0,16234.0,16513.0,16769.0,16894.0,17724.0,17547.0,18049.0,17910.0,18642.0,18701.0,18651.0,18973.0,19137.0,18752.0,18996.0,19006.0,19126.0,19022.0,18933.0,18551.0,18998.0,18843.0,18803.0,18389.0,18476.0,18519.0,18149.0,17939.0,18459.0,18165.0,18177.0,18087.0,18453.0,18219.0,18170.0,16956.0,17502.0,17379.0,17510.0,17288.0,17758.0,17268.0,17160.0,17328.0,17384.0,17637.0,17684.0,16814.0,17258.0,17060.0,17221.0,16382.0,16814.0,17031.0,17038.0,16113.0,15967.0,13876.0,14249.0,15446.0,15602.0,15658.0,15206.0,14999.0,15166.0,15286.0,15306.0,14554.0,null],\"xaxis\":\"x\",\"y\":[4.2,3.833333333,3.633333333,3.966666667,3.7,3.9,4.3,4.1,4.266666667,4.266666667,4.466666667,4.8,5.766666667,6.266666667,6.9,6.8,7.666666667,7.8,8.9,9.166666667,9.833333333,10.56666667,10.9,11.4,11.23333333,9.5,7.733333333,7.666666667,7.833333333,7.933333333,8.433333333,7.8,7.533333333,6.633333333,6.5,5.666666667,5.0,4.8,4.566666667,4.666666667,4.1,4.366666667,5.466666667,5.033333333,5.333333333,5.533333333,5.666666667,5.366666667,4.8,5.1,5.366666667,5.4,5.533333333,5.133333333,4.9,5.266666667,5.233333333,5.266666667,5.733333333,5.3,5.566666667,5.6,6.433333333,7.066666667,6.366666667,5.833333333,5.6,5.533333333,5.9,5.3,3.4,3.866666667,4.333333333,5.3,6.2,6.233333333,6.233333333,8.7,9.566666667,9.2,null],\"yaxis\":\"y\",\"type\":\"histogram\"}],                        {\"template\":{\"data\":{\"histogram2dcontour\":[{\"type\":\"histogram2dcontour\",\"colorbar\":{\"outlinewidth\":0,\"ticks\":\"\"},\"colorscale\":[[0.0,\"#0d0887\"],[0.1111111111111111,\"#46039f\"],[0.2222222222222222,\"#7201a8\"],[0.3333333333333333,\"#9c179e\"],[0.4444444444444444,\"#bd3786\"],[0.5555555555555556,\"#d8576b\"],[0.6666666666666666,\"#ed7953\"],[0.7777777777777778,\"#fb9f3a\"],[0.8888888888888888,\"#fdca26\"],[1.0,\"#f0f921\"]]}],\"choropleth\":[{\"type\":\"choropleth\",\"colorbar\":{\"outlinewidth\":0,\"ticks\":\"\"}}],\"histogram2d\":[{\"type\":\"histogram2d\",\"colorbar\":{\"outlinewidth\":0,\"ticks\":\"\"},\"colorscale\":[[0.0,\"#0d0887\"],[0.1111111111111111,\"#46039f\"],[0.2222222222222222,\"#7201a8\"],[0.3333333333333333,\"#9c179e\"],[0.4444444444444444,\"#bd3786\"],[0.5555555555555556,\"#d8576b\"],[0.6666666666666666,\"#ed7953\"],[0.7777777777777778,\"#fb9f3a\"],[0.8888888888888888,\"#fdca26\"],[1.0,\"#f0f921\"]]}],\"heatmap\":[{\"type\":\"heatmap\",\"colorbar\":{\"outlinewidth\":0,\"ticks\":\"\"},\"colorscale\":[[0.0,\"#0d0887\"],[0.1111111111111111,\"#46039f\"],[0.2222222222222222,\"#7201a8\"],[0.3333333333333333,\"#9c179e\"],[0.4444444444444444,\"#bd3786\"],[0.5555555555555556,\"#d8576b\"],[0.6666666666666666,\"#ed7953\"],[0.7777777777777778,\"#fb9f3a\"],[0.8888888888888888,\"#fdca26\"],[1.0,\"#f0f921\"]]}],\"heatmapgl\":[{\"type\":\"heatmapgl\",\"colorbar\":{\"outlinewidth\":0,\"ticks\":\"\"},\"colorscale\":[[0.0,\"#0d0887\"],[0.1111111111111111,\"#46039f\"],[0.2222222222222222,\"#7201a8\"],[0.3333333333333333,\"#9c179e\"],[0.4444444444444444,\"#bd3786\"],[0.5555555555555556,\"#d8576b\"],[0.6666666666666666,\"#ed7953\"],[0.7777777777777778,\"#fb9f3a\"],[0.8888888888888888,\"#fdca26\"],[1.0,\"#f0f921\"]]}],\"contourcarpet\":[{\"type\":\"contourcarpet\",\"colorbar\":{\"outlinewidth\":0,\"ticks\":\"\"}}],\"contour\":[{\"type\":\"contour\",\"colorbar\":{\"outlinewidth\":0,\"ticks\":\"\"},\"colorscale\":[[0.0,\"#0d0887\"],[0.1111111111111111,\"#46039f\"],[0.2222222222222222,\"#7201a8\"],[0.3333333333333333,\"#9c179e\"],[0.4444444444444444,\"#bd3786\"],[0.5555555555555556,\"#d8576b\"],[0.6666666666666666,\"#ed7953\"],[0.7777777777777778,\"#fb9f3a\"],[0.8888888888888888,\"#fdca26\"],[1.0,\"#f0f921\"]]}],\"surface\":[{\"type\":\"surface\",\"colorbar\":{\"outlinewidth\":0,\"ticks\":\"\"},\"colorscale\":[[0.0,\"#0d0887\"],[0.1111111111111111,\"#46039f\"],[0.2222222222222222,\"#7201a8\"],[0.3333333333333333,\"#9c179e\"],[0.4444444444444444,\"#bd3786\"],[0.5555555555555556,\"#d8576b\"],[0.6666666666666666,\"#ed7953\"],[0.7777777777777778,\"#fb9f3a\"],[0.8888888888888888,\"#fdca26\"],[1.0,\"#f0f921\"]]}],\"mesh3d\":[{\"type\":\"mesh3d\",\"colorbar\":{\"outlinewidth\":0,\"ticks\":\"\"}}],\"scatter\":[{\"fillpattern\":{\"fillmode\":\"overlay\",\"size\":10,\"solidity\":0.2},\"type\":\"scatter\"}],\"parcoords\":[{\"type\":\"parcoords\",\"line\":{\"colorbar\":{\"outlinewidth\":0,\"ticks\":\"\"}}}],\"scatterpolargl\":[{\"type\":\"scatterpolargl\",\"marker\":{\"colorbar\":{\"outlinewidth\":0,\"ticks\":\"\"}}}],\"bar\":[{\"error_x\":{\"color\":\"#2a3f5f\"},\"error_y\":{\"color\":\"#2a3f5f\"},\"marker\":{\"line\":{\"color\":\"#E5ECF6\",\"width\":0.5},\"pattern\":{\"fillmode\":\"overlay\",\"size\":10,\"solidity\":0.2}},\"type\":\"bar\"}],\"scattergeo\":[{\"type\":\"scattergeo\",\"marker\":{\"colorbar\":{\"outlinewidth\":0,\"ticks\":\"\"}}}],\"scatterpolar\":[{\"type\":\"scatterpolar\",\"marker\":{\"colorbar\":{\"outlinewidth\":0,\"ticks\":\"\"}}}],\"histogram\":[{\"marker\":{\"pattern\":{\"fillmode\":\"overlay\",\"size\":10,\"solidity\":0.2}},\"type\":\"histogram\"}],\"scattergl\":[{\"type\":\"scattergl\",\"marker\":{\"colorbar\":{\"outlinewidth\":0,\"ticks\":\"\"}}}],\"scatter3d\":[{\"type\":\"scatter3d\",\"line\":{\"colorbar\":{\"outlinewidth\":0,\"ticks\":\"\"}},\"marker\":{\"colorbar\":{\"outlinewidth\":0,\"ticks\":\"\"}}}],\"scattermapbox\":[{\"type\":\"scattermapbox\",\"marker\":{\"colorbar\":{\"outlinewidth\":0,\"ticks\":\"\"}}}],\"scatterternary\":[{\"type\":\"scatterternary\",\"marker\":{\"colorbar\":{\"outlinewidth\":0,\"ticks\":\"\"}}}],\"scattercarpet\":[{\"type\":\"scattercarpet\",\"marker\":{\"colorbar\":{\"outlinewidth\":0,\"ticks\":\"\"}}}],\"carpet\":[{\"aaxis\":{\"endlinecolor\":\"#2a3f5f\",\"gridcolor\":\"white\",\"linecolor\":\"white\",\"minorgridcolor\":\"white\",\"startlinecolor\":\"#2a3f5f\"},\"baxis\":{\"endlinecolor\":\"#2a3f5f\",\"gridcolor\":\"white\",\"linecolor\":\"white\",\"minorgridcolor\":\"white\",\"startlinecolor\":\"#2a3f5f\"},\"type\":\"carpet\"}],\"table\":[{\"cells\":{\"fill\":{\"color\":\"#EBF0F8\"},\"line\":{\"color\":\"white\"}},\"header\":{\"fill\":{\"color\":\"#C8D4E3\"},\"line\":{\"color\":\"white\"}},\"type\":\"table\"}],\"barpolar\":[{\"marker\":{\"line\":{\"color\":\"#E5ECF6\",\"width\":0.5},\"pattern\":{\"fillmode\":\"overlay\",\"size\":10,\"solidity\":0.2}},\"type\":\"barpolar\"}],\"pie\":[{\"automargin\":true,\"type\":\"pie\"}]},\"layout\":{\"autotypenumbers\":\"strict\",\"colorway\":[\"#636efa\",\"#EF553B\",\"#00cc96\",\"#ab63fa\",\"#FFA15A\",\"#19d3f3\",\"#FF6692\",\"#B6E880\",\"#FF97FF\",\"#FECB52\"],\"font\":{\"color\":\"#2a3f5f\"},\"hovermode\":\"closest\",\"hoverlabel\":{\"align\":\"left\"},\"paper_bgcolor\":\"white\",\"plot_bgcolor\":\"#E5ECF6\",\"polar\":{\"bgcolor\":\"#E5ECF6\",\"angularaxis\":{\"gridcolor\":\"white\",\"linecolor\":\"white\",\"ticks\":\"\"},\"radialaxis\":{\"gridcolor\":\"white\",\"linecolor\":\"white\",\"ticks\":\"\"}},\"ternary\":{\"bgcolor\":\"#E5ECF6\",\"aaxis\":{\"gridcolor\":\"white\",\"linecolor\":\"white\",\"ticks\":\"\"},\"baxis\":{\"gridcolor\":\"white\",\"linecolor\":\"white\",\"ticks\":\"\"},\"caxis\":{\"gridcolor\":\"white\",\"linecolor\":\"white\",\"ticks\":\"\"}},\"coloraxis\":{\"colorbar\":{\"outlinewidth\":0,\"ticks\":\"\"}},\"colorscale\":{\"sequential\":[[0.0,\"#0d0887\"],[0.1111111111111111,\"#46039f\"],[0.2222222222222222,\"#7201a8\"],[0.3333333333333333,\"#9c179e\"],[0.4444444444444444,\"#bd3786\"],[0.5555555555555556,\"#d8576b\"],[0.6666666666666666,\"#ed7953\"],[0.7777777777777778,\"#fb9f3a\"],[0.8888888888888888,\"#fdca26\"],[1.0,\"#f0f921\"]],\"sequentialminus\":[[0.0,\"#0d0887\"],[0.1111111111111111,\"#46039f\"],[0.2222222222222222,\"#7201a8\"],[0.3333333333333333,\"#9c179e\"],[0.4444444444444444,\"#bd3786\"],[0.5555555555555556,\"#d8576b\"],[0.6666666666666666,\"#ed7953\"],[0.7777777777777778,\"#fb9f3a\"],[0.8888888888888888,\"#fdca26\"],[1.0,\"#f0f921\"]],\"diverging\":[[0,\"#8e0152\"],[0.1,\"#c51b7d\"],[0.2,\"#de77ae\"],[0.3,\"#f1b6da\"],[0.4,\"#fde0ef\"],[0.5,\"#f7f7f7\"],[0.6,\"#e6f5d0\"],[0.7,\"#b8e186\"],[0.8,\"#7fbc41\"],[0.9,\"#4d9221\"],[1,\"#276419\"]]},\"xaxis\":{\"gridcolor\":\"white\",\"linecolor\":\"white\",\"ticks\":\"\",\"title\":{\"standoff\":15},\"zerolinecolor\":\"white\",\"automargin\":true,\"zerolinewidth\":2},\"yaxis\":{\"gridcolor\":\"white\",\"linecolor\":\"white\",\"ticks\":\"\",\"title\":{\"standoff\":15},\"zerolinecolor\":\"white\",\"automargin\":true,\"zerolinewidth\":2},\"scene\":{\"xaxis\":{\"backgroundcolor\":\"#E5ECF6\",\"gridcolor\":\"white\",\"linecolor\":\"white\",\"showbackground\":true,\"ticks\":\"\",\"zerolinecolor\":\"white\",\"gridwidth\":2},\"yaxis\":{\"backgroundcolor\":\"#E5ECF6\",\"gridcolor\":\"white\",\"linecolor\":\"white\",\"showbackground\":true,\"ticks\":\"\",\"zerolinecolor\":\"white\",\"gridwidth\":2},\"zaxis\":{\"backgroundcolor\":\"#E5ECF6\",\"gridcolor\":\"white\",\"linecolor\":\"white\",\"showbackground\":true,\"ticks\":\"\",\"zerolinecolor\":\"white\",\"gridwidth\":2}},\"shapedefaults\":{\"line\":{\"color\":\"#2a3f5f\"}},\"annotationdefaults\":{\"arrowcolor\":\"#2a3f5f\",\"arrowhead\":0,\"arrowwidth\":1},\"geo\":{\"bgcolor\":\"white\",\"landcolor\":\"#E5ECF6\",\"subunitcolor\":\"white\",\"showland\":true,\"showlakes\":true,\"lakecolor\":\"white\"},\"title\":{\"x\":0.05},\"mapbox\":{\"style\":\"light\"}}},\"xaxis\":{\"anchor\":\"y\",\"domain\":[0.0,1.0],\"title\":{\"text\":\"Inventory\"}},\"yaxis\":{\"anchor\":\"x\",\"domain\":[0.0,1.0],\"title\":{\"text\":\"sum of MonthlySupply\"}},\"legend\":{\"tracegroupgap\":0},\"margin\":{\"t\":60},\"barmode\":\"relative\"},                        {\"responsive\": true}                    ).then(function(){\n",
              "                            \n",
              "var gd = document.getElementById('ba454c13-4b1d-4329-aae1-576c2dae6ef1');\n",
              "var x = new MutationObserver(function (mutations, observer) {{\n",
              "        var display = window.getComputedStyle(gd).display;\n",
              "        if (!display || display === 'none') {{\n",
              "            console.log([gd, 'removed!']);\n",
              "            Plotly.purge(gd);\n",
              "            observer.disconnect();\n",
              "        }}\n",
              "}});\n",
              "\n",
              "// Listen for the removal of the full notebook cells\n",
              "var notebookContainer = gd.closest('#notebook-container');\n",
              "if (notebookContainer) {{\n",
              "    x.observe(notebookContainer, {childList: true});\n",
              "}}\n",
              "\n",
              "// Listen for the clearing of the current output cell\n",
              "var outputEl = gd.closest('.output');\n",
              "if (outputEl) {{\n",
              "    x.observe(outputEl, {childList: true});\n",
              "}}\n",
              "\n",
              "                        })                };                            </script>        </div>\n",
              "</body>\n",
              "</html>"
            ]
          },
          "metadata": {}
        }
      ]
    },
    {
      "cell_type": "code",
      "source": [
        "avg_price = np.mean(merged_df.MedianSalePrice)\n",
        "avg_price"
      ],
      "metadata": {
        "colab": {
          "base_uri": "https://localhost:8080/"
        },
        "id": "Cc5gnyw49XG0",
        "outputId": "108be37e-3092-4a69-a4e1-b0f38244b2ed"
      },
      "execution_count": 243,
      "outputs": [
        {
          "output_type": "execute_result",
          "data": {
            "text/plain": [
              "281104.93827160494"
            ]
          },
          "metadata": {},
          "execution_count": 243
        }
      ]
    },
    {
      "cell_type": "code",
      "source": [
        "avg_spending = np.mean(merged_df.TotalSpending)"
      ],
      "metadata": {
        "id": "85xTJruQCZO7"
      },
      "execution_count": 244,
      "outputs": []
    },
    {
      "cell_type": "code",
      "source": [
        "avg_spending"
      ],
      "metadata": {
        "colab": {
          "base_uri": "https://localhost:8080/"
        },
        "id": "mZJbT972C74c",
        "outputId": "9b64f7d4-cb4f-42d2-9871-f41cda5d8a19"
      },
      "execution_count": 245,
      "outputs": [
        {
          "output_type": "execute_result",
          "data": {
            "text/plain": [
              "490466.93333"
            ]
          },
          "metadata": {},
          "execution_count": 245
        }
      ]
    },
    {
      "cell_type": "code",
      "source": [
        "total_inventory = np.sum(merged_df.Inventory)"
      ],
      "metadata": {
        "id": "YKkV9SslC9ku"
      },
      "execution_count": 246,
      "outputs": []
    },
    {
      "cell_type": "code",
      "source": [
        "total_inventory"
      ],
      "metadata": {
        "colab": {
          "base_uri": "https://localhost:8080/"
        },
        "id": "EoZdXmupDYmv",
        "outputId": "77ea24d3-fd2b-4303-e58b-f66f2fa36822"
      },
      "execution_count": 247,
      "outputs": [
        {
          "output_type": "execute_result",
          "data": {
            "text/plain": [
              "1369802.0"
            ]
          },
          "metadata": {},
          "execution_count": 247
        }
      ]
    },
    {
      "cell_type": "code",
      "source": [
        "avg_mortgage_rate = np.mean(merged_df.MortgageRate)\n",
        "avg_mortgage_rate"
      ],
      "metadata": {
        "colab": {
          "base_uri": "https://localhost:8080/"
        },
        "id": "tdrpr75oDbKC",
        "outputId": "4171245b-0afd-4358-d3e3-42d59a641f6e"
      },
      "execution_count": 248,
      "outputs": [
        {
          "output_type": "execute_result",
          "data": {
            "text/plain": [
              "4.7054200017654315"
            ]
          },
          "metadata": {},
          "execution_count": 248
        }
      ]
    },
    {
      "cell_type": "code",
      "source": [
        "avg_interest_rate = np.mean(merged_df.InterestRates)\n",
        "avg_interest_rate"
      ],
      "metadata": {
        "colab": {
          "base_uri": "https://localhost:8080/"
        },
        "id": "4hvw3OY4DspY",
        "outputId": "def137e6-98cc-4351-d319-86ce3ae6c344"
      },
      "execution_count": 249,
      "outputs": [
        {
          "output_type": "execute_result",
          "data": {
            "text/plain": [
              "1.9617117116756755"
            ]
          },
          "metadata": {},
          "execution_count": 249
        }
      ]
    },
    {
      "cell_type": "code",
      "source": [],
      "metadata": {
        "id": "FIcwEirWEb_Y"
      },
      "execution_count": 249,
      "outputs": []
    }
  ]
}